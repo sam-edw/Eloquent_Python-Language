{
 "cells": [
  {
   "cell_type": "markdown",
   "id": "06a53251-baac-441c-9984-68448e898ae3",
   "metadata": {},
   "source": [
    "## 3. STRUKTUR DATA dan KINERJANYA"
   ]
  },
  {
   "cell_type": "markdown",
   "id": "c8eb7168-1418-445e-acce-f34614c50d50",
   "metadata": {},
   "source": [
    "Implementasi struktur data sertaan Python terdiri atas beberapa macam, fixed structured, array, doubly linked list, hashmap. Spesifikasi interface/class antara lain:  \n",
    "\n",
    "1. tuple, daftar beragam objek dengan urutan indeks, anggotanya tidak dapat diedit (immutable) \n",
    "2. list, daftar beragam objek dengan urutan indeks, anggota dapat diubah, ditambah, dikurangi\n",
    "3. dict, kumpulan pasangan kunci&nilai, kunci tidak dapat diedit, nilai dapat diedit, anggota dapat dibuang, ditambah\n",
    "4. set, kumpulan objek tanpa duplikat, tanpa urutan \n",
    "5. str, deretan karakter, dengan urutan indeks, tidak dapat diedit\n",
    "\n",
    "dan beberapa tambahan dari modul pustaka sertaan: \n",
    "\n",
    "6. array \n",
    "7. double end queue (deque)\n",
    "8. namedtuple"
   ]
  },
  {
   "cell_type": "markdown",
   "id": "a758fa0e-d5d9-4a45-889e-4b2dd0f1a37e",
   "metadata": {},
   "source": [
    "#### TUPLE"
   ]
  },
  {
   "cell_type": "markdown",
   "id": "010a2678-e3fd-4685-a1d9-2abafc5b0ca1",
   "metadata": {},
   "source": [
    "Struktur tuple dapat dibayangkan mirip dengan struktur records pada Pascal atau structs pada C, merupakan sekumpulan kecil data dari berbagai tipe yang dioperasikan sebagai suatu grup. Tuple terdiri atas deretan objek pointer (64-bit pada sistem standar masa kini) yang menunjuk ke berbagai objek di luar tuple itu sendiri, seperti terlihat dari alamat tuple dan alamat elemen-elemennya pada kode berikut.  \n",
    "Pada sistem 64-bit saya, ternyata ukuran bytes tuple selalu bertambah dengan kelipatan 8 bytes jika memiliki lebih banyak elemen, walaupun dari sembarang tipe, yang ukurannya jauh lebih besar dari 8 bytes."
   ]
  },
  {
   "cell_type": "code",
   "execution_count": 1,
   "id": "d6c02050-04bc-4466-8d55-23c0cc09c668",
   "metadata": {},
   "outputs": [
    {
     "name": "stdout",
     "output_type": "stream",
     "text": [
      "alamat tuple dibandingkan dengan alamat aggotanya\n",
      "0x7ff0e8f0a340 (65537, 'hello', 3.142857142857143, True, <method 'count' of 'tuple' objects>)\n",
      "0x7ff0e91d7130 65537\n",
      "0x7ff0e962ebb0 hello\n",
      "0x7ff0e8f7c210 3.142857142857143\n",
      "0x5635baede020 True\n",
      "0x7ff0ebe3f740 <method 'count' of 'tuple' objects>\n",
      "\n",
      "ukuran alokasi memori tuple dibanding ukuran anggotanya\n",
      "32 bytes (65537,)\n",
      "40 bytes (65537, 'hello')\n",
      "48 bytes (65537, 'hello', 3.142857142857143)\n",
      "56 bytes (65537, 'hello', 3.142857142857143, True)\n",
      "64 bytes (65537, 'hello', 3.142857142857143, True, <method 'count' of 'tuple' objects>)\n",
      "28 bytes 65537\n",
      "54 bytes hello\n",
      "24 bytes 3.142857142857143\n",
      "28 bytes True\n",
      "56 bytes <method 'count' of 'tuple' objects>\n"
     ]
    }
   ],
   "source": [
    "t1=(65537,)\n",
    "t2=(65537,'hello')\n",
    "t3=(65537,'hello',22/7)\n",
    "t4=(65537,'hello',22/7, True)\n",
    "t5=(65537,'hello',22/7, True, tuple.count)\n",
    "print(\"alamat tuple dibandingkan dengan alamat aggotanya\")\n",
    "for o in t5, *t5:\n",
    "    print(hex(id(o)),o)\n",
    "print(\"\\nukuran alokasi memori tuple dibanding ukuran anggotanya\")\n",
    "for o in t1,t2,t3,t4,t5, *t5:\n",
    "    print(o.__sizeof__(),'bytes', o)"
   ]
  },
  {
   "cell_type": "markdown",
   "id": "4590fc18-f90a-4a68-ae0b-0c0fd25cdc28",
   "metadata": {},
   "source": [
    "Ternyata bahwa alamat tuple terpisah jauh dengan alamat objek anggotanya. Besar alokasi memori yang digunakan tuple, tidak cocok dengan besar alokasi memori yang digunakan anggotanya. Alokasi memori yang digunakan tuple terdiri atas overhead 24 bytes ditambah 8 bytes untuk setiap anggotanya."
   ]
  },
  {
   "cell_type": "markdown",
   "id": "70a0fb4d-13fb-4f24-bb93-76da801a7134",
   "metadata": {},
   "source": [
    "Tuple adalah immutable, artinya strukturnya fixed, tidak dapat diinsert, didelete, diedit, sehingga proses akses *read only* ke item anggotanya sangat ringan, efisien. Kompleksitas waktunya konstan, O(1). Kinerja tinggi merupakan alasan untuk sebanyak mungkin menggunakan tuple."
   ]
  },
  {
   "cell_type": "code",
   "execution_count": 2,
   "id": "d71f887f-acb3-436b-8cd1-b4ac8c67cb87",
   "metadata": {},
   "outputs": [
    {
     "data": {
      "text/plain": [
       "((2021, 'lulus sekolah'), (2022, 'mulai kerja'))"
      ]
     },
     "execution_count": 2,
     "metadata": {},
     "output_type": "execute_result"
    }
   ],
   "source": [
    "t1 = ((2021, 'lulus sekolah'),)\n",
    "t1 = t1 + ((2022, 'mulai kerja'),)\n",
    "t1"
   ]
  },
  {
   "cell_type": "markdown",
   "id": "87eccf8a-74b8-49eb-8878-4dd806b6b555",
   "metadata": {},
   "source": [
    "Pada contoh di atas tuple t1 bukan di edit tetapi dibuatkan objek yang baru yaitu gabungan objek t1 yang sebelumnya dengan suatu ekspresi baru. Kita dapat memastikan dengan membandingkan identitas objeknya."
   ]
  },
  {
   "cell_type": "code",
   "execution_count": 3,
   "id": "1708ff56-4ab1-44c0-a2c2-c496723c154d",
   "metadata": {},
   "outputs": [
    {
     "data": {
      "text/plain": [
       "(140672677661904, 140672677927296)"
      ]
     },
     "execution_count": 3,
     "metadata": {},
     "output_type": "execute_result"
    }
   ],
   "source": [
    "t1 = ((2021, 'lulus sekolah'),)\n",
    "old_id = id(t1)\n",
    "t1 = t1 + ((2022, 'mulai kerja'),)\n",
    "new_id = id(t1)\n",
    "old_id, new_id"
   ]
  },
  {
   "cell_type": "markdown",
   "id": "68d64af6-9707-4acb-a0ce-da3020ca1476",
   "metadata": {
    "tags": []
   },
   "source": [
    "Kita perlu ingat bahwa operasi binding dalam Python hanya melibatkan *pointer* sedangkan objek aslinya sendiri tidak berpindah, tidak dicopy. Pada contoh berikut objek elemen pertama tetap digunakan pada tuple yang baru, terlihat dari identitas objeknya yang sama. "
   ]
  },
  {
   "cell_type": "code",
   "execution_count": 4,
   "id": "0776eb79-3f28-48db-a29c-1458dc1e431a",
   "metadata": {},
   "outputs": [
    {
     "data": {
      "text/plain": [
       "(140672677004096, 140672677004096)"
      ]
     },
     "execution_count": 4,
     "metadata": {},
     "output_type": "execute_result"
    }
   ],
   "source": [
    "t1 = ((2021, 'lulus sekolah'),)\n",
    "obj0 = id(t1[0])\n",
    "t1 = t1 + ((2022, 'mulai kerja'),)\n",
    "obj1 = id(t1[0])\n",
    "obj0, obj1"
   ]
  },
  {
   "cell_type": "code",
   "execution_count": 5,
   "id": "a9d1edb3-1457-4518-a19a-ddac9c08470e",
   "metadata": {},
   "outputs": [
    {
     "data": {
      "text/plain": [
       "True"
      ]
     },
     "execution_count": 5,
     "metadata": {},
     "output_type": "execute_result"
    }
   ],
   "source": [
    "t2 = t1[:] #tuple tidak mendukung cloning, selalu aliasing\n",
    "t1 is t2"
   ]
  },
  {
   "cell_type": "code",
   "execution_count": 6,
   "id": "1aa2eb26-463f-448c-8d66-405f1b07e97f",
   "metadata": {},
   "outputs": [
    {
     "data": {
      "text/plain": [
       "(True, False)"
      ]
     },
     "execution_count": 6,
     "metadata": {},
     "output_type": "execute_result"
    }
   ],
   "source": [
    "Lst1 = list([1,2,3,4])\n",
    "Lst2 = Lst1[:]  # list cloning\n",
    "Lst1 == Lst2, Lst1 is Lst2"
   ]
  },
  {
   "cell_type": "markdown",
   "id": "c3845532-36ed-4cfa-b368-803d3bb3f9fe",
   "metadata": {},
   "source": [
    "Jika diperhatikan **tuple tidak mendukung cloning**, karena sifatnya yang *immutable* maka tidak ada alasan untuk mendukung cloning, memboroskan memori, membuat objek baru dengan isi yang sama. Jadi walaupun kita menggunakan sintaks yang biasa untuk membuat cloning pada list, efeknya pada tuple adalah aliasing. (cloning adalah membuat objek berbeda berisikan elemen yang sama, sedangkan aliasing adalah memberi nama yang berbeda untuk objek yang sama)"
   ]
  },
  {
   "cell_type": "code",
   "execution_count": 7,
   "id": "69ab09b4-a432-4ddd-ac5f-7a177fec126a",
   "metadata": {},
   "outputs": [
    {
     "name": "stdout",
     "output_type": "stream",
     "text": [
      "<generator object <genexpr> at 0x7ff0e8fdcac0>\n",
      "count index \n",
      "\n",
      "<generator object <genexpr> at 0x7ff0e8fdca50>\n",
      "append clear copy count extend index insert pop remove reverse sort \n",
      "\n"
     ]
    }
   ],
   "source": [
    "'''\n",
    "tuple, kumpulan objek yang dapat diiterasi\n",
    "generator expressions, mirip list comprehension tapi menghasilkan objek generator\n",
    "unpacking operator asterisk * memiliki efek mengiterasi generator\n",
    "'''\n",
    "for klas in tuple, list:\n",
    "    metodas = (m for m in dir(klas) if '_' not in m)   # membentuk suatu generator\n",
    "    print(metodas)\n",
    "    print(*metodas,'\\n')   # asterisk * unpacking generator, mengeluarkan elemen elemennya.\n"
   ]
  },
  {
   "cell_type": "markdown",
   "id": "a6fbbf32-8893-44ba-9a1a-9730f93a8f54",
   "metadata": {},
   "source": [
    "Iterable ialah suatu objek yang mampu mengembalikan elemen anggotanya satu per satu. Contoh iterable antara lain semua tipe sekuens (seperti list, tuple, str), dan beberapa tipe non-sekuens seperti dict, objek file, dan juga objek dari klas yang memiliki metoda \\_\\_iter\\_\\_() atau \\_\\_getitem\\_\\_(), yang mengimplementasikan semantik sekuens.   \n",
    "   \n",
    "Iterable dapat digunakan bersama for loop atau bersama fungsi lain yang memerlukan sekuens seperti map(), zip().   \n",
    "  \n",
    "Generator ialah suatu fungsi yang mengeluarkan elemen di dalamnya satu per satu, dan cenderung lebih hemat memori daripada list yang dibentang isi elemennya. Generator dapat digunakan bersama for loop, atau fungsi next() yang hanya mengeluarkan satu elemen setiap kali dipanggil. (ekspresi bintang, asterisk * juga dapat digunakan dalam kasus tertentu)"
   ]
  },
  {
   "cell_type": "markdown",
   "id": "06563e2a-44be-443c-97e8-90ad590c4c36",
   "metadata": {},
   "source": [
    "#### LIST"
   ]
  },
  {
   "cell_type": "markdown",
   "id": "70ab558e-d5f6-410e-acea-ce7c0eeecb0a",
   "metadata": {},
   "source": [
    "List adalah suatu array yang ukurannya dapat berubah ubah. Implementasinya menempati satu lokasi memori yang utuh tidak terpecah, berisi pointer pointer objek yang diletakkan berdampingan, dan pada kepala list tercantum pointer ke lokasi ini, serta jumlah elemen atau panjang list.   \n",
    "Pada akhir dari lokasi array sudah dicadangkan tempat untuk pointer baru jika anggota array bertambah, dan jika cadangan ini habis maka akan dialokasikan tempat (bisa jadi dengan alamat baru) dengan cadangan yang lebih besar lagi, karena setiap alokasi tempat baru akan memakan ongkos waktu untuk menyalin semua pointer yang ada dari lokasi lama ke dalamnya.    \n",
    "Proses mencari anggota dalam list (pointer ke objek) dapat dilakukan langsung tanpa tergantung dari jumlah anggota list, karena alamatnya dapat diperoleh dengan perkalian indeks dan ukuran pointer ditambah offset awal dari lokasi, sama seperti mengakses RAM. Notasi kompleksitasnya adalah konstan O(1).\n",
    "Penambahan anggota di akhir list, dapat dianggap kecil juga karena ongkos tambahan penyalinan di-amortisasi, ditanggung bersama anggota-anggota yang ditambahkan langsung selama cadangan belum habis terpakai, lalu ukuran cadangan yang makin membesar setiap kali dibuat baru.   \n"
   ]
  },
  {
   "cell_type": "code",
   "execution_count": 8,
   "id": "1b62122d-2ce5-45cf-b91a-f0fdd0c55ac9",
   "metadata": {},
   "outputs": [
    {
     "name": "stdout",
     "output_type": "stream",
     "text": [
      "0x7ff0e45f74c0\n",
      "0x7ff0ebde0450\n",
      "0x7ff0ebde0610\n",
      "0x7ff0ebde20b0\n",
      "0x7ff0e8fea600\n",
      "40\n",
      "48\n",
      "56\n"
     ]
    }
   ],
   "source": [
    "list1 = list()\n",
    "list2 = [28]\n",
    "list3 = [28,42]\n",
    "list5 = [28,42,255,'list array of pointers']\n",
    "\n",
    "for obj in list5, *list5:\n",
    "    print(hex(id(obj)))\n",
    "for obj in list1,list2,list3:\n",
    "    print(obj.__sizeof__())\n"
   ]
  },
  {
   "cell_type": "markdown",
   "id": "e0cdaa90-3f39-4631-ac7a-001b528f34ab",
   "metadata": {},
   "source": [
    "#### ARRAY"
   ]
  },
  {
   "cell_type": "code",
   "execution_count": 36,
   "id": "f68f0ec0-3b18-4499-8545-5169df4b03ec",
   "metadata": {},
   "outputs": [
    {
     "name": "stdout",
     "output_type": "stream",
     "text": [
      "0x7ff0e45f7640\n",
      "0x7ff0e45f7640\n",
      "0x7ff0e45f7640\n",
      "0x7ff0e45f7640\n",
      "arr5.itemsize = 1 byte(s)\n",
      "65 bytes, untuk array('b', [1])\n",
      "66 bytes, untuk array('b', [1, 2])\n",
      "67 bytes, untuk array('b', [1, 2, 3])\n",
      "68 bytes, untuk array('b', [1, 2, 3, 4])\n",
      "69 bytes, untuk array('b', [1, 2, 3, 4, 5])\n",
      "dalam proses append ternyata ada tambahan reservasi memori\n",
      "73 bytes, untuk array('b', [1, 2, 3, 4, 5, 6])\n",
      "73 bytes, untuk array('b', [1, 2, 3, 4, 5, 6, 7])\n",
      "73 bytes, untuk array('b', [1, 2, 3, 4, 5, 6, 7, 8])\n",
      "73 bytes, untuk array('b', [1, 2, 3, 4, 5, 6, 7, 8, 9])\n",
      "81 bytes, untuk array('b', [1, 2, 3, 4, 5, 6, 7, 8, 9, 10])\n",
      "81 bytes, untuk array('b', [1, 2, 3, 4, 5, 6, 7, 8, 9, 10, 11])\n"
     ]
    }
   ],
   "source": [
    "from array import array\n",
    "arr1 = array('b',[1])\n",
    "arr2 = array('b',[1,2])\n",
    "arr3 = array('b',[1,2,3])\n",
    "arr4 = array('b',[1,2,3,4])\n",
    "arr5 = array('b',[1,2,3,4,5])\n",
    "for o in arr5, arr5[0], arr5[1],arr5[2]:\n",
    "    print(hex(id(obj)))\n",
    "print(f'{arr5.itemsize = } byte(s)')\n",
    "for o in arr1, arr2, arr3, arr4, arr5:\n",
    "    print(o.__sizeof__(), 'bytes, untuk', o)\n",
    "print('dalam proses append ternyata ada tambahan reservasi memori')\n",
    "for i in range(6,12):\n",
    "    arr5.append(i)\n",
    "    print(arr5.__sizeof__(), 'bytes, untuk',arr5)"
   ]
  },
  {
   "cell_type": "markdown",
   "id": "81dcbab9-b141-43e4-9691-f224987334b0",
   "metadata": {},
   "source": [
    "Implementasi array.array ini berupa deretan objek homogen statik, langsung, bukan pointer, terlihat dari alamat dan penambahan ukuran array seperti pada kode di atas. Alamat anggota array adalah sama dengan alamat kepala array ('serumah'). Deklarasi tipe  atau ukuran anggota, dalam contoh ini 'b' adalah untuk signed integer 1 byte minimum. Bahkan kita dapat melihat penambahan cadangan di akhir array, tambah 4, tambah 8, makin membesar. Kompleksitas waktu sama dengan list, kompleksitas ruang sama, tetapi pemakaian absolut memori lebih hemat, dapat diatur secara statik.\n"
   ]
  },
  {
   "cell_type": "markdown",
   "id": "ee386930-e2ec-4441-91e7-1ce69913724d",
   "metadata": {},
   "source": [
    "#### DEQUE"
   ]
  },
  {
   "cell_type": "markdown",
   "id": "ef89df5a-2f2d-4d53-a78a-975be8023440",
   "metadata": {},
   "source": [
    "Menurut seorang core developer Python, Raymond Hettinger, proses insert elemen di posisi awal pada suatu list menggunakan waktu yang tidak sedikit, O(n), sehingga jika suatu program besar banyak melakukan hal itu maka kinerja keseluruhan akan menurun. Hal ini disebabkan karena semua elemen harus digeser satu per satu untuk menyediakan tempat kosong di posisi awal. Itulah sebabnya dia menambahkan suatu struktur data doubly-linked list, double ended queue atau disingkat deque dengan metoda andalannya *appendleft, extendleft, popleft*, dalam modul pustaka collections.   \n",
    "Operasi append, pop pada posisi awal/akhir deque memiliki kompleksitas waktu konstan O(1).\n",
    "Tetapi kinerja deque melambat untuk akses elemen di posisi pertengahan, karena harus menelusuri linked list.    \n",
    "Contoh berikut menampilkan kontras perbandingan kinerja deque terhadap list pada proses insert di posisi awal."
   ]
  },
  {
   "cell_type": "code",
   "execution_count": 10,
   "id": "084a3e8d-794f-4b0a-8b3c-025fdeb973c3",
   "metadata": {},
   "outputs": [
    {
     "name": "stdout",
     "output_type": "stream",
     "text": [
      "deque appendleft(n) 1,000,000 elemen 0.18 detik\n",
      "mulai 1661066503.054439 ... please wait...\n",
      "selesai 1661066524.0881388\n",
      "list insert(0,n) 250,000 elemen 21.03 detik\n"
     ]
    }
   ],
   "source": [
    "from time import time\n",
    "from collections import deque\n",
    "\n",
    "deck = deque()\n",
    "start = time()\n",
    "for n in range(1_000_000):\n",
    "    deck.appendleft(n)\n",
    "stop = time()\n",
    "print(f'deque appendleft(n) {1+deck[0]:,} elemen {stop-start:.2f} detik')\n",
    "\n",
    "Lst = list()\n",
    "nmax = 250_000\n",
    "start = time()\n",
    "print(f'mulai {start} ... please wait...')\n",
    "for n in range(nmax):\n",
    "    Lst.insert(0,n)\n",
    "stop = time()\n",
    "print(f'selesai {stop}')\n",
    "print(f'list insert(0,n) {1+Lst[0]:,} elemen {stop-start:.2f} detik')\n"
   ]
  },
  {
   "cell_type": "markdown",
   "id": "d7921cbe-0344-4611-b10a-3b607cd47b73",
   "metadata": {},
   "source": [
    "#### DICT dan SET"
   ]
  },
  {
   "cell_type": "markdown",
   "id": "22ac6293-6a38-45fc-801f-dda07ed45b9b",
   "metadata": {},
   "source": [
    "Struktur dari dict/set adalah hashmap atau sebutan lainnya hashtable. Dict adalah kumpulan objek dengan tatanan berupa pasangan kunci dan nilai, Set adalah kumpulan objek tanpa duplikasi.  \n",
    "Kunci pada dictionary haruslah objek yang hashable karena strukturnya tidak memiliki indeks tetapi menggunakan fungsi hash pada key/kunci sebagai 'indeks' elemennya. Objek yang hashable antara lain integer, float, string, tuple yang beranggotakan hashable object. List termasuk objek yang unhashable, tidak dapat digunakan sebagai kunci.  \n",
    "Dalam hashmap/dict kompleksitas pencarian elemen adalah O(1) dan insertion/deletion juga O(1), artinya konstan tidak tergantung pada banyaknya elemen anggota yang terdaftar.  \n",
    "Jika terjadi *collision* atau fungsi hash atas dua atau beberapa key menghasilkan 'indeks hash' yang sama maka perlu suatu penanganan lagi, misalnya perbaikan fungsi hash, linear probing, quadratic probing, double hash layering, atau menggunakan chaining link list, dan ini akan mempengaruhi performa kompleksitas waktunya."
   ]
  },
  {
   "cell_type": "code",
   "execution_count": 33,
   "id": "447145d7-1594-4793-ae2b-d6f0d6d5608a",
   "metadata": {},
   "outputs": [
    {
     "name": "stdout",
     "output_type": "stream",
     "text": [
      "0888999xxxx\n",
      "{('sam', 'edw'): '0888999xxxx', ('budi', 'di amrik'): '(818) 785 xxxx'}\n"
     ]
    }
   ],
   "source": [
    "nomor_telp = dict()\n",
    "nomor_telp[('sam','edw')] = '0888999xxxx'\n",
    "nomor_telp[('budi','di amrik')] = '(818) 785 xxxx'\n",
    "print(nomor_telp[('sam','edw')])\n",
    "print(nomor_telp)"
   ]
  },
  {
   "cell_type": "markdown",
   "id": "586c710d-65e2-4a0d-881d-999c51b662c7",
   "metadata": {},
   "source": [
    "Salah satu penggunaan dict ialah untuk menghitung jumlah pemunculan huruf huruf. Berikut contoh kode tentang anagram, permainan kata, yaitu huruf huruf dalam suatu kata kata diacak menjadi kata kata yang berbeda, misalnya beras|sebar|besar, \"eleven plus two\" | \"twelve plus one\", \"drum piano asbak\"|\"opa bandar musik\". Kode kita hanya akan menghitung huruf dan menyimpulkan apakah dua ungkapan kata merupakan anagram atau tidak."
   ]
  },
  {
   "cell_type": "code",
   "execution_count": 12,
   "id": "f845ddec-d4cd-4ae4-94c5-46206c3b2886",
   "metadata": {},
   "outputs": [
    {
     "name": "stdout",
     "output_type": "stream",
     "text": [
      "['too many secrets', 'my Socrates note']\n",
      "['besar', 'sebar']\n"
     ]
    }
   ],
   "source": [
    "def anagram(word,words):\n",
    "    def cc(word):\n",
    "        d={}\n",
    "        for c in word.lower().replace(' ',''):\n",
    "            if c not in d:\n",
    "                d[c] = 0\n",
    "            d[c] = d[c] + 1\n",
    "        return d\n",
    "    ref = cc(word)\n",
    "    return [wrd for wrd in words if cc(wrd) == ref]\n",
    "    \n",
    "print(anagram(\"setec astronomy\", (\"too many secrets\", \"my Socrates note\")))\n",
    "print(anagram('beras',('besar','sebar', 'sabar','resah')))\n"
   ]
  },
  {
   "cell_type": "markdown",
   "id": "fc9ed614-b74e-4d12-a9ac-094567d19e19",
   "metadata": {},
   "source": [
    "Baris ke-7 pada contoh di atas menghitung kemunculan setiap huruf dalam dictionary dengan kunci berupa hurufnya dan nilainya diakumulasi. Baris ke-5,6,7 dapat diganti menjadi satu baris menggunakan metoda dict.get() sbb:"
   ]
  },
  {
   "cell_type": "code",
   "execution_count": 13,
   "id": "14e03d37-556b-425d-9c22-0a4479c674ec",
   "metadata": {},
   "outputs": [
    {
     "name": "stdout",
     "output_type": "stream",
     "text": [
      "['too many secrets', 'my Socrates note']\n",
      "['besar', 'sebar']\n"
     ]
    }
   ],
   "source": [
    "def anagram(word,words):\n",
    "    def cc(word):\n",
    "        d={}\n",
    "        for c in word.lower().replace(' ',''):\n",
    "            d[c] = d.get(c,0) + 1\n",
    "        return d\n",
    "    ref = cc(word)\n",
    "    return [wrd for wrd in words if cc(wrd) == ref]\n",
    "    \n",
    "print(anagram(\"setec astronomy\", (\"too many secrets\", \"my Socrates note\")))\n",
    "print(anagram('beras',('besar','sebar', 'sabar','resah')))\n"
   ]
  },
  {
   "cell_type": "markdown",
   "id": "ce546105-d838-477c-b021-9f7b3e9985da",
   "metadata": {},
   "source": [
    "Proses counting dengan dictionary sepertinya banyak dipakai sehingga 'seseorang' (bisa jadi Guido sendiri) membuat class khusus bernama Counter yang juga merupakan implementasi dari bentuk matematis **multiset**, dan disematkan dalam pustaka collections. Akhirnya, kode kita dapat dipadatkan menjadi:"
   ]
  },
  {
   "cell_type": "code",
   "execution_count": 32,
   "id": "384cc974-2e35-4a6b-8fe4-724257429b16",
   "metadata": {},
   "outputs": [
    {
     "name": "stdout",
     "output_type": "stream",
     "text": [
      "<class 'collections.Counter'>\n",
      "('setec astronomy', 'too many secrets', 'my Socrates note')\n",
      "('beras', 'besar', 'sebar')\n"
     ]
    }
   ],
   "source": [
    "from collections import Counter\n",
    "print(Counter)\n",
    "def anagram(word,words):\n",
    "    cc = lambda w: Counter(w.lower().replace(' ',''))\n",
    "    ref = cc(word)\n",
    "    return word, *(wrd for wrd in  words if cc(wrd) == ref)\n",
    "    \n",
    "print(anagram(\"setec astronomy\", (\"too many secrets\", \"my Socrates note\")))\n",
    "print(anagram('beras',('besar','sebar', 'beres','resap')))\n"
   ]
  },
  {
   "cell_type": "markdown",
   "id": "1de44d0a-5c03-44a4-b129-e08b3fed6293",
   "metadata": {},
   "source": [
    "Kita dapat melihat gaya penulisan fungsional ala Python seperti contoh berikut yang melakukan pengecekan apakah dua ungkapan merupakan anagram atau bukan."
   ]
  },
  {
   "cell_type": "code",
   "execution_count": 15,
   "id": "90213e9e-76a7-4b0e-bc2e-584bed050928",
   "metadata": {},
   "outputs": [
    {
     "name": "stdout",
     "output_type": "stream",
     "text": [
      "True\n"
     ]
    }
   ],
   "source": [
    "from collections import Counter\n",
    "cc = lambda w: Counter(w.lower().replace(' ',''))\n",
    "is_anagram = lambda w1,w2: cc(w1) == cc(w2)\n",
    "\n",
    "print(is_anagram('eleven plus two','twelve plus one'))"
   ]
  },
  {
   "cell_type": "markdown",
   "id": "cc1b8b1d-a6fb-4919-9222-bf24ba966ff1",
   "metadata": {
    "jupyter": {
     "outputs_hidden": true
    },
    "tags": []
   },
   "source": [
    "Pustaka Counter ditulis dengan Python sehingga kode sumbernya dapat dibaca sebagai berikut:     \n",
    "`from collections import Counter`    \n",
    "`import inspect`    \n",
    "`print(inspect.getsource(Counter))`    \n",
    "Pustaka yang ditulis dengan bahasa C, tidak bisa lagi dibaca kode sumbernya."
   ]
  },
  {
   "cell_type": "markdown",
   "id": "d202a32b-c6f3-4a49-9361-e401139e5ded",
   "metadata": {},
   "source": [
    "**----o0o----**"
   ]
  },
  {
   "cell_type": "markdown",
   "id": "d557e53b-6cca-44a7-b3b8-3a64d75004f2",
   "metadata": {},
   "source": [
    " "
   ]
  }
 ],
 "metadata": {
  "kernelspec": {
   "display_name": "Python 3 (ipykernel)",
   "language": "python",
   "name": "python3"
  },
  "language_info": {
   "codemirror_mode": {
    "name": "ipython",
    "version": 3
   },
   "file_extension": ".py",
   "mimetype": "text/x-python",
   "name": "python",
   "nbconvert_exporter": "python",
   "pygments_lexer": "ipython3",
   "version": "3.10.4"
  }
 },
 "nbformat": 4,
 "nbformat_minor": 5
}
