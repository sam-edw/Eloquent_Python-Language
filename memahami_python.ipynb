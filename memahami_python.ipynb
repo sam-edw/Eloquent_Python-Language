{
 "cells": [
  {
   "cell_type": "markdown",
   "id": "b684aa6a-a8a1-4cb1-8346-312e4b7acf28",
   "metadata": {},
   "source": [
    "## 1. MENINJAU PYTHON"
   ]
  },
  {
   "cell_type": "markdown",
   "id": "c602d8b2-1934-4c69-bba4-9c2057f40fc9",
   "metadata": {
    "tags": []
   },
   "source": [
    "_Tulisan ini berisi sekilas garis besar pemrograman Python, untuk mendorong kegiatan belajar secara mandiri.     \n",
    "Untuk topik topik yang sekiranya perlu tutorial, disarankan mempelajarinya dalam tulisan Dr. Charles R. Severance berjudul Python for Everybody atau publikasinya py4e di github, dan Think Python oleh Prof. Allen B. Downey_ \n",
    "   \n",
    "\n",
    "### PENGANTAR\n",
    "Saat ini, komputer telah menjadi peralatan yang lazim digunakan seperti halnya obeng dan tang. Komputer hebat dalam pekerjaan rutin tetapi payah untuk pekerjaan yang memerlukan kreativitas, sementara kita manusia kebalikannya, cepat bosan jika melakukan hal-hal sepele berulang-ulang. Fakta bahwa komputer cepat, hebat untuk melakukan perkejaan yang tidak kita sukai, merupakan alasan mengapa kita perlu belajar 'berkomunikasi' dengan komputer untuk membantu kita menyelesaikan suatu pekerjaan, melalui apa yang disebut bahasa pemrograman.    \n",
    "   \n",
    "Ada banyak bahasa pemrograman yang sudah dibuat/digunakan orang sejak ditemukannya komputer seperti Assembler, FORTRAN, BASIC, Pascal, LISP, Prolog, Perl, C/C++, Java, Javascript, PHP, Swift, Kotlin, Python, Scala, dan lainnya.   \n",
    "\n",
    "Lalu kenapa memilih Python? Karena:\n",
    "- bahasa dinamis lebih produktif\n",
    "- kode Python lebih mudah dibaca\n",
    "- kode Python lebih mudah perawatannya\n",
    "- Python memiliki tipe data bawaan tingkat tinggi\n",
    "- waktu pengembang lebih berharga dari waktu CPU\n",
    "\n",
    "Dari pengalaman guru guru besar seperti Prof. Allen B. Downey, ternyata Python cocok diajarkan sebagai bahasa pengantar karena sederhana, lebih mudah dicerna, lebih mudah diterima dibanding Java misalnya. Institut Teknologi Massachusetts, MIT Amerika, yang sekarang memilih mengajarkan Python sebagai mata kuliah pengantar untuk keilmuan Computer Science, CS.6.000, menggantikan bahasa Scheme yang diajarkan bertahun tahun sebelumnya, menandakan bahwa Python mudah untuk pemula, dan memadai untuk digunakan sebagai sarana pengembangan logika berpikir.   \n",
    "\n",
    "#### **Kosakata Kunci** \n",
    "Tidak seperti bahasa percakapan biasa, kosakata kunci Python ternyata sedikit saja. Kita menyebutnya juga 'reserved words', dan setiap kata tersebut memiliki arti yang tunggal, unik bagi Python. Python juga berkembang sehingga versi yang lebih baru mungkin memiliki lebih banyak kosakata, tetapi perbedaannya tidak banyak.\n",
    "<pre>\n",
    "False               class               from                or\n",
    "None                continue            global              pass\n",
    "True                def                 if                  raise\n",
    "and                 del                 import              return\n",
    "as                  elif                in                  try\n",
    "assert              else                is                  while\n",
    "async               except              lambda              with\n",
    "await               finally             nonlocal            yield\n",
    "break               for                 not\n",
    "</pre>   \n",
    "Sejak versi 3.10 Python memiliki tambahan kosakata *match* dan *case* yang tergolong kosakata kunci lunak, artinya dapat digunakan juga sebagai nama pengenal.\n",
    "\n",
    "Beberapa di antaranya adalah nama objek konstanta tunggal (_singleton_), tidak bisa di definisikan ulang, tidak dapat diubah. **False, True** adalah objek khusus bernilai 0 dan 1 dalam hampir semua evaluasi kecuali jika diprint maka akan menjadi string 'False' dan 'True'. **None** adalah objek khusus untuk menandai ketidak-adaan.     \n",
    "Selain dari reserved words, dan beberapa simbol operasi, bagian terbesar Python terdiri dari objek yang diunjuk dengan nama pengenal rujukan objek (identifiers)."
   ]
  },
  {
   "cell_type": "markdown",
   "id": "c4c6bce2-f97a-4f4b-82f0-dcb21bef0921",
   "metadata": {
    "tags": []
   },
   "source": [
    "#### **Interaksi awal**\n",
    "Sebelum mencoba berinteraksi dengan Python, Anda perlu melakukan instalasi Python di komputer Anda terlebih dulu. Jika operating system komputer Anda linux, maka kemungkinan besar python sudah terinstal, siap dipakai. Tetapi bila Anda menginginkan versi berbeda dari yang tersedia maka Anda perlu menginstal _pyenv_ lebih dahulu (tutorial instalasi/penggunaan _pyenv_ silahkan di-googling). Untuk instruksi instalasi di Windows, Anda dapat merujuk ke <a>www.py4e.com</a> atau situs python <a>https://www.python.org/ftp/python/3.10.1/python-3.10.1-amd64.exe</a>    \n",
    "Saya sarankan juga agar Anda menginstal pip, ipython dan jupyter-lab agar memudahkan Anda mencoba kode program Python dan menyertakan komentar, penjelasan sebagai pengingat.    \n",
    "Setelah menginstal python, silahkan Anda masuk ke terminal command line lalu ketikan perintah berikut:   \n",
    "<pre>\n",
    "curl https://bootstrap.pypa.io/get-pip.py -o get-pip.py\n",
    "python get-pip.py\n",
    "pip install ipython\n",
    "pip install jupyterlab\n",
    "</pre>\n",
    "\n",
    "Jika semua berjalan mulus, Anda dapat masuk ke web lokal jupyter lab melalui browser Anda dengan perintah berikut pada terminal command line:\n",
    "<pre>jupyter lab</pre>\n",
    "\n"
   ]
  },
  {
   "cell_type": "markdown",
   "id": "4e171e7d-89e9-44d0-b631-ceaefe5dbdcf",
   "metadata": {},
   "source": [
    "Berikut contoh penggunaan ekspresi literal numerik bilangan bulat, dan ekspresi literal string."
   ]
  },
  {
   "cell_type": "code",
   "execution_count": 1,
   "id": "466911ea-f340-4e31-b09a-fa520008844d",
   "metadata": {},
   "outputs": [
    {
     "data": {
      "text/plain": [
       "42"
      ]
     },
     "execution_count": 1,
     "metadata": {},
     "output_type": "execute_result"
    }
   ],
   "source": [
    "2 * 3 * 7"
   ]
  },
  {
   "cell_type": "markdown",
   "id": "77bf47d6-d366-4cf4-8609-b9a67cfdeccb",
   "metadata": {},
   "source": [
    "Shell Python dapat berfungsi sebagai kalkulator. Kalkulator bilangan bulat Python dapat menghitung angka sangat besar tanpa pembatasan, sampai tak berhingga jika memori komputer Anda dapat menampungnya. _Python menyimpan bilangan bulat dalam suatu struktur objek integer yang akomodatif._"
   ]
  },
  {
   "cell_type": "code",
   "execution_count": 2,
   "id": "8de7839d-1258-40cf-bc82-d07dd5e706cf",
   "metadata": {},
   "outputs": [
    {
     "data": {
      "text/plain": [
       "42"
      ]
     },
     "execution_count": 2,
     "metadata": {},
     "output_type": "execute_result"
    }
   ],
   "source": [
    "(-80538738812075974)**3 + 80435758145817515**3 + 12602123297335631**3"
   ]
  },
  {
   "cell_type": "markdown",
   "id": "ec211f6a-4e11-4a29-94ed-e368fd36d66e",
   "metadata": {},
   "source": [
    "_Tidak seperti struktur tipe data primitif yang hanya berisi nilai, struktur objek berisi tipe data, nilai data, dan disertai juga fungsi-fungsi yang diperuntukkan khusus tipe/kelas objeknya; fungsi demikian dinamakan metoda dan dieksekusi jika diperlukan saat mengevaluasi ekspresi.    \n",
    "Contoh operator penjumlahan **+** mengeksekusi metoda \\_\\_add\\_\\_ yang sesuai dan melekat pada objeknya sehingga **+** untuk bilangan bulat berbeda hasilnya dengan **+** pada kata-kata atau string.     \n",
    "Begitu juga operator perkalian __*__ dengan metoda \\_\\_mul\\_\\_ memiliki arti dan implementasi kode yang berbeda sesuai tipe objeknya._"
   ]
  },
  {
   "cell_type": "code",
   "execution_count": 3,
   "id": "3493de7b-529c-4c41-b743-e088f81fea3e",
   "metadata": {},
   "outputs": [
    {
     "data": {
      "text/plain": [
       "'Hello world'"
      ]
     },
     "execution_count": 3,
     "metadata": {},
     "output_type": "execute_result"
    }
   ],
   "source": [
    "'Hello' + ' world'"
   ]
  },
  {
   "cell_type": "code",
   "execution_count": 4,
   "id": "7da9c61e-77c4-492f-893b-732b623646d4",
   "metadata": {},
   "outputs": [
    {
     "data": {
      "text/plain": [
       "'~-~-~-~-~-~-~-~-~-~-~-~-~-~-~-~-~-~-~-~-~-~-~-~-~-~-~-~-~-~-~-~-~-~-~-~-~-~-~-~-~-~-'"
      ]
     },
     "execution_count": 4,
     "metadata": {},
     "output_type": "execute_result"
    }
   ],
   "source": [
    "'~-' * 42"
   ]
  },
  {
   "cell_type": "markdown",
   "id": "b986bb37-adb0-4331-bc84-533708ee82f8",
   "metadata": {},
   "source": [
    "Tulisan ini (teks dan kode program) menggunakan JupyterLab, tetapi Anda dapat juga menjalankan Python di command line, editor IDLE bawaan Python, atau IDE --integrated development environment-- PyCharms.  \n",
    "Dari konsol command line ketik python atau python3, untuk memasuki shell python.\n",
    "<pre>\n",
    ">python\n",
    "Python 3.10.1 (tags/v3.10.1:2cd268a, Dec  6 2021, 19:10:37) [MSC v.1929 64 bit (AMD64)] on win32\n",
    "Type \"help\", \"copyright\", \"credits\" or \"license\" for more information.\n",
    ">>> print('hello world!')\n",
    "hello world!\n",
    ">>> quit()\n",
    ">\n",
    "</pre>\n",
    "atau jika OS linux:\n",
    "<pre>\n",
    "~$ python3\n",
    "Python 3.10.4 (main, May 26 2022, 14:45:58) [GCC 9.4.0] on linux\n",
    "Type \"help\", \"copyright\", \"credits\" or \"license\" for more information.\n",
    ">>> print('hello')\n",
    "hello\n",
    ">>> quit()\n",
    "~$ </pre>"
   ]
  },
  {
   "cell_type": "markdown",
   "id": "46787658-3219-45c8-8df2-cfd5e572282b",
   "metadata": {},
   "source": [
    "Program kita biasanya disimpan dalam file terpisah dengan ekstensi .py misalnya hello.py   \n",
    "Walaupun dapat dieksekusi langsung, sebenarnya Python memiliki suatu format struktur program yang dianjurkan seperti ini:\n",
    "<pre>\n",
    "def main():\n",
    "    print('saya belajar python')\n",
    "    \n",
    "if __name__ == '__main__':\n",
    "    main()\n",
    "</pre>\n",
    "Kita save script di atas dalam file my_first_script.py lalu bisa kita jalankan dengan:\n",
    "<pre>\n",
    ">python my_first_script.py\n",
    "saya belajar python\n",
    "\n",
    ">\n",
    "</pre>"
   ]
  },
  {
   "cell_type": "markdown",
   "id": "a99f4aab-9f98-46d9-8e86-e79c7d145a4c",
   "metadata": {},
   "source": [
    "Aturan urutan penulisan script ialah bahwa definisi suatu fungsi harus didahukukan daripada pemanggilan/eksekusinya sehingga definisi yang diperlukan sudah lebih dahulu diketahui sebelum kode yang memanggilnya.\n",
    "<pre>\n",
    ">type wrong.py\n",
    "main()  # memanggil fungsi main\n",
    "\n",
    "def main():  # definisi fungsi main\n",
    "    print('is it okay?')\n",
    "\n",
    ">python wrong.py\n",
    "Traceback (most recent call last):\n",
    "  File \"C:\\Users\\emang\\wrong.py\", line 1, in <module>\n",
    "    main()\n",
    "NameError: name 'main' is not defined. Did you mean: 'min'?\n",
    "\n",
    ">\n",
    "</pre>"
   ]
  },
  {
   "cell_type": "markdown",
   "id": "afeb35aa-8c2d-486f-9509-f0c53efa028a",
   "metadata": {},
   "source": [
    "#### **Signature**"
   ]
  },
  {
   "cell_type": "markdown",
   "id": "55d58953-0a66-47ce-9b50-d656595820bc",
   "metadata": {},
   "source": [
    "Beberapa baris kode berikut menampilkan konsep dan pola yang merupakan signature bahasa Python."
   ]
  },
  {
   "cell_type": "code",
   "execution_count": 5,
   "id": "af915e29-fcda-44ea-bb3d-0c0116a94c0d",
   "metadata": {},
   "outputs": [
    {
     "data": {
      "text/plain": [
       "6"
      ]
     },
     "execution_count": 5,
     "metadata": {},
     "output_type": "execute_result"
    }
   ],
   "source": [
    "def ppb(a,b):\n",
    "    \"Pembagi Persekutuan terBesar dari dua bilangan, menggunakan algoritme Euklides\"\n",
    "    while b != 0:\n",
    "        a, b = b, a%b\n",
    "    return a\n",
    "\n",
    "ppb(24,42)"
   ]
  },
  {
   "cell_type": "markdown",
   "id": "6f84433f-0e73-42d1-b7b6-2fbbb38265a4",
   "metadata": {},
   "source": [
    "Ciri-ciri utama Python yang disampaikan Guido van Rossum, ialah: \n",
    "- tanpa deklarasi tipe fungsi ataupun tipe parameter/argumen:\n",
    "    + sebagai bahasa dinamis tidak perlu deklarasi statis untuk tipe parameter maupun return objek    \n",
    "    + anotasi dapat ditambahkan sebagai keterangan\n",
    "- blok/grup ditandai dengan indentasi dan titik dua    \n",
    "    + identasi membuat penulisan kode dapat distandarkan menjadi seragam\n",
    "- doc string dokumentasi merupakan bagian dari sintaks fungsi, dapat ditampilkan dengan:    \n",
    "    + mouse cursor hovering di atas nama fungsi pada IDE yang mendukung,    \n",
    "    + help(function) untuk fungsi yang diimpor misalnya\n",
    "      <pre>from collections import Counter\n",
    "      print(help(Counter))</pre>\n",
    "- fitur assignment paralel    \n",
    "   +  multi assignment dilakukan berbarengan, misalnya bertukar nama tanpa perantara a,b = b,a  \n"
   ]
  },
  {
   "cell_type": "markdown",
   "id": "16b0f26f-0ba4-4d7a-baf9-674dca89d745",
   "metadata": {},
   "source": [
    "Mari melihat konsep/pola C dan Java sebagai perbandingan.    \n",
    "    \n",
    "*helloworld.c*\n",
    "<pre>\n",
    "#include &lt;stdio.h>\n",
    "int main() {\n",
    "    printf(\"Hello, World!\");\n",
    "    return 0;\n",
    "}\n",
    "</pre>\n",
    "- **printf** adalah suatu fungsi yang akses ke librarynya melalui file header **stdio.h**    \n",
    "- **int** adalah tipe integer (biasanya 32-bit) untuk menampung return value sebagai nilai laporan error    \n",
    "- **main** adalah nama istimewa fungsi yang pertama-tama akan dieksekusi    \n",
    "- **;** titik koma adalah tanda akhir kalimat    \n",
    "- blok dibatasi dengan tanda kurawal buka dan kurawal tutup **{}**    \n",
    "- konsep C mengedepankan fungsi-fungsi terhadap variabel statik; fungsi didefinisikan pada level global;      \n",
    "\n",
    "*HelloWorld.java*\n",
    "<pre>\n",
    "public class HelloWorld {\n",
    "    public static void main(String[] args) {\n",
    "        System.out.println(\"Hello, World\");\n",
    "    }\n",
    "}\n",
    "</pre>\n",
    "- konsep Java adalah lebih baik memperbaiki error waktu compile dari pada mencari bug yang mengakibatkan run-time error; caranya adalah dengan membuat semuanya kaku, harus eksplisit dan dengan struktur kelas yang rapi menyeluruh.    \n",
    "- nama class utama harus sama dengan nama file kode sumber     \n",
    "- harus eksplisit kelas public atau private   \n",
    "- harus jelas tipe datanya yaitu kelompok primitif: byte, short, int, long, float, double, boolean, char, atau kelompok objek/kelas misalnya: String, Integer, BigInteger    \n",
    "- fungsi dapat didefinisikan di dalam kelas    \n",
    "- fungsi istimewa **public static void main(String[] args)** harus ada untuk memulai eksekusi    \n",
    "- memanggil fungsi/metoda harus menyebutkan nama kelas, field, metoda, contoh System.out.println(char[]) terdiri dari System kelas dari package java.lang.System, public static final PrintStream out sebagai field, berasal dari java.io.PrintStream, dan PrintStream.println(char[]), salah satu dari .println(java.lang.String), .println(int) dan lainnya karena objek masih bercampur dengan tipe primitif.    \n",
    "\n",
    "Guido van Rossum memperkenalkan konsep Python melalui yang tersurat, tersirat, atau yang 'hilang' dari program demo di atas. Mari kita analisa beberapa diantaranya.\n",
    "\n",
    "- _Bagaimana Python mengeksekusi kode program jika tidak memakai fungsi **main**?_    \n",
    "Python mengadopsi kode bergaya script yaitu eksekusi baris demi baris dari atas ke bawah, bukan mulai dari fungsi *main()*. Kalimat deklarasi suatu fungsi ketika dijalankan mempersiapkan dulu callable object beserta parameter-parameternya, menyimpan nama fungsi pada namespace dalam current scope, lalu binding nama dengan objeknya, tetapi belum menjalankan kode definisi fungsinya. Cara menjalankan kode definisi fungsi adalah  menggunakan format *nama_fungsi(arg1, arg2)*, sama seperti biasa. Tetapi d\n",
    "eklarasi dan definisi fungsi digabung jadi satu dalam bentuk definisi fungsi.\n",
    "    \n",
    "\n",
    "- _Mengapa tidak ada deklarasi tipe variabel, maupun return value?_    \n",
    "Semua entitas dalam Python, --termasuk fungsi-- diperlakukan sebagai objek. Sistem inferencenya menyimpulkan tipe data secara implisit dari format literal ketika dirun (on the fly). Informasi tipe data langsung disimpan dalam objek itu sendiri. Objek secara seragam diakses dengan pointer, dan tipe data telah disertakan dalam struktur masing masing objek, sehingga deklarasi tipe tidak lagi diperlukan.   \n",
    "\n",
    "- _Mengapa tidak ada kalimat untuk include pustaka standar?_    \n",
    "Pustaka standar di modul builtins secara automatis implisit diimpor ke dalam \\_\\_builtins\\_\\_ sebagai default namespace paling luar. Modul selain berbentuk file pustaka C-compiled, dapat juga berupa kode sumber file Python. Hierarki berupa package yang memiliki sub-package yang berisi modul.    \n",
    "Fungsi print sebelum memanggil rutin O/S, dalam rangka menyesuaikan format argumen dari tipe-tipe berbeda, --string, integer, float, boolean, dll-- memanggil dulu metoda \\_\\_str\\_\\_ yang melekat pada objek argumen masing-masing. Berbeda dengan teknik overloading dimana compiler mengarahkan ke salah satu dari beberapa fungsi dengan nama yang sama tetapi tipe argumen berbeda, yaitu fungsi yang tipe argumennya cocok .\n",
    "\n",
    "- _Bagaimana dengan arahan akses public, atau private?_     \n",
    "Akses suatu nama fungsi ditentukan oleh aturan scope yaitu dapat diakses dari scope yang sama atau yang berada di level lebih dalam sesuai urutan LEGB (local-enclosing-global-builtin); tidak ada arahan (directive. modifier) public atau private untuk pengecualian. Jadi untuk mendapatkan efek private terhadap suatu fungsi maka fungsi tersebut harus di-deklarasi/definisi-kan di dalam fungsi lain yang membungkusnya --enclosing-- dan hanya pemanggil dalam scope fungsi pembungkus yang dapat mengakses nama fungsi itu.      \n",
    "\n",
    "- _Tidak eksplisit memanggil fungsi print tapi bisa mengeluarkan output?_    \n",
    "Shell Python memiliki fitur REPL --read evaluate print loop-- seperti kalkulator mengeluarkan hasil evaluasi terakhir jika ada.    \n",
    "Tetapi jika ingin eksplisit, fungsi print() sebagai fungsi built-in dapat dipanggil dari scope mana saja, dapat juga menggunakan format modul.fungsi, dapat juga diimpor khusus dari modul ke dalam current namespace."
   ]
  },
  {
   "cell_type": "code",
   "execution_count": 6,
   "id": "7a0ae2dc-a914-46ee-a5e9-60ba8784df23",
   "metadata": {},
   "outputs": [
    {
     "name": "stdout",
     "output_type": "stream",
     "text": [
      "hello\n",
      "hello again\n",
      "says:\"current namespace has print now\"\n"
     ]
    }
   ],
   "source": [
    "print(\"hello\") #- fungsi print diambil automatis dari namespace __builtins__ \n",
    "\n",
    "import builtins\n",
    "builtins.print('hello again') #- modul.fungsi\n",
    "\n",
    "from builtins import print\n",
    "print('says:\"current namespace has print now\"')\n"
   ]
  },
  {
   "cell_type": "markdown",
   "id": "3d4af931-6275-42a3-a0a4-b190b61a0089",
   "metadata": {},
   "source": [
    "Laporan run-time error Python mudah dimengerti. Misalnya saja kita memanggil fungsi dengan tipe argumen yang tidak cocok,\n",
    "`ppb('hello','world')`    \n",
    "Error nya sebagai berikut   <pre>\n",
    "Input In [4], in ppb(a, b)\n",
    "      2 \"Pembagi Persekutuan terBesar dari dua bilangan, algoritme Euklides\"\n",
    "      3 while b != 0:\n",
    "----> 4     a, b = b, a%b\n",
    "      5 return a\n",
    "\n",
    "TypeError: not all arguments converted during string formatting\n",
    "</pre>"
   ]
  },
  {
   "cell_type": "markdown",
   "id": "2c4b4b09-fd33-4b49-9b90-12ccac6d8093",
   "metadata": {},
   "source": [
    "### FUNGSI"
   ]
  },
  {
   "cell_type": "markdown",
   "id": "728e9721-9346-4ba8-87a3-2ff3408045a0",
   "metadata": {
    "tags": []
   },
   "source": [
    "#### Fungsi murni dan fungsi efek samping\n",
    "Fungsi adalah suatu proses tindakan memanipulasi argumen input menjadi suatu output. Fungsi ada dua jenis yaitu pertama, fungsi murni (_fruitful function_) seperti definisi matematis, yang mengembalikan suatu objek output, dan kedua, fungsi dengan efek samping (_void function_) yang memberikan dampak pada lingkungan tetapi tidak mengembalikan output.    \n",
    "Fungsi murni contohnya, ppb(a,b) mengembalikan nilai PPB, dan pow(x,y) mengembalikan nilai perpangkatan.\n",
    "Suatu nama adalah fungsi jika `type(nama)`-nya menghasilkan class 'function' atau `str(nama)` mengembalikan string yang menyebutkan bahwa nama tsb adalah fungsi.    \n",
    "Contoh fungsi efek samping, print() menampilkan sesuatu pada console tetapi mengembalikan None.   "
   ]
  },
  {
   "cell_type": "code",
   "execution_count": 7,
   "id": "00fa62e2-870b-4876-8295-1708d9518518",
   "metadata": {},
   "outputs": [
    {
     "name": "stdout",
     "output_type": "stream",
     "text": [
      "<class 'builtin_function_or_method'>\n",
      "<built-in function pow>\n",
      "9\n",
      "<built-in function print>\n",
      "None\n"
     ]
    }
   ],
   "source": [
    "x = 3\n",
    "y = 2\n",
    "\n",
    "print(type(pow))\n",
    "print(str(pow))\n",
    "ans = pow(x,y)\n",
    "print(ans)\n",
    "ans = print(str(print))\n",
    "print(ans)"
   ]
  },
  {
   "cell_type": "markdown",
   "id": "bf9de3fd-d627-41f6-b756-1d337b212094",
   "metadata": {
    "tags": []
   },
   "source": [
    "#### None\n",
    "Fungsi _fruitful_ mengembalikan sesuatu objek sebagai output, dan fungsi _void_ tidak mengembalikan apa-apa atau sebenarnya mengembalikan objek 'bukan apa-apa'.   \n",
    "Python memiliki suatu objek 'bukan apa-apa' yang direpresenrasikan dengan suatu *reserved word* **None** yang merupakan *konstanta bawaan*. Huruf awal kapital membedakannya dari nama objek biasa.  "
   ]
  },
  {
   "cell_type": "code",
   "execution_count": 8,
   "id": "ba13ebad-2c34-4966-ac1f-4cabb475fa64",
   "metadata": {
    "tags": []
   },
   "outputs": [
    {
     "name": "stdout",
     "output_type": "stream",
     "text": [
      "x = None\n",
      "type(x) = <class 'NoneType'>\n",
      "~-~-~-~-~-~-~-~-~-~-~-~-~-~-~-\n",
      "y = None\n",
      "type(y) = <class 'NoneType'>\n"
     ]
    }
   ],
   "source": [
    "def f():\n",
    "    pass\n",
    "\n",
    "x = f()\n",
    "print(f'{x = }')\n",
    "print(f'{type(x) = }')\n",
    "\n",
    "y = print('~-' * 15)\n",
    "print(f'{y = }')\n",
    "print(f'{type(y) = }')\n"
   ]
  },
  {
   "cell_type": "markdown",
   "id": "5bead0a2-5b72-4a4a-abbf-f18eaf93b74a",
   "metadata": {},
   "source": [
    "Fungsi f() tidak memiliki kalimat return dalam definisinya, maka secara default Python akan mengembalikan objek None sebagai return valuenya.   \n",
    "Fungsi print()  mengembalikan objek None.   \n",
    "None adalah objek real, ada id/alamat-nya, tetapi hanya satu, *singleton* istilahnya, tidak ada copynya."
   ]
  },
  {
   "cell_type": "code",
   "execution_count": 9,
   "id": "5311c4da-5f1a-4d19-a1f7-ed2f787a2fd7",
   "metadata": {
    "tags": []
   },
   "outputs": [
    {
     "name": "stdout",
     "output_type": "stream",
     "text": [
      "94556507034272\n",
      "True True\n"
     ]
    }
   ],
   "source": [
    "print(id(None))\n",
    "print(x==y, x is y)  # x,y dari contoh sebelumnya None"
   ]
  },
  {
   "cell_type": "markdown",
   "id": "83e5b57a-7d41-4bca-a15f-98d58df44fa6",
   "metadata": {},
   "source": [
    "#### Fungsi buatan sendiri\n",
    "Selain menggunakan fungsi bawaan Python kita dapat menambahkan definisi fungsi buatan sendiri dengan tujuan:\n",
    "- agar dapat dipanggil berulang walau hanya menuliskan sekali saja\n",
    "- menyembunyikan detil implementasi, kita hanya perlu ingat abstraksinya\n",
    "- membuat program menjadi terstruktur sehingga lebih mudah dipahami \n"
   ]
  },
  {
   "cell_type": "markdown",
   "id": "47a5a1a5-7bf4-422f-8846-5ec0b30082d9",
   "metadata": {},
   "source": [
    "Fungsi diawali dengan deklarasinya yaitu oleh keyword **def**, nama fungsinya dan sepasang tanda kurung berisi parameter input, lalu diikuti dengan tanda titik-dua dan --menjorok kedalam dengan indentasi 4 spasi-- blok definisi fungsinya hingga kalimat return.    \n",
    "#### Fungsi rekursi\n",
    "Berikut contoh fungsi murni yang mengembalikan nilai factorial n! untuk suatu argumen n. Kita lihat bahwa definisi fungsi ini berupa definisi setengah jalan, yaitu mengembalikan sesuatu dalam kasus dasar, *base case*, tetapi memanggil kembali dirinya sendiri lagi dengan sedikit mengubah argumennya. Fungsi seperti ini yang dinamakan fungsi rekursi-ekor, menyimpan status dalam ekornya (argumen) dan meneruskan putaran rekursinya sampai tercapai kasus dasarnya, lalu tanpa harus *trace-back* langsung memberi hasil akhir dari ekornya..    \n",
    "Fungsi rekursi memiliki sifat deklaratif yaitu berupa penjelasan penyelesaian dengan sedikit langkah ke arah penyelesaiannya dan solusi kasus dasarnya.   \n"
   ]
  },
  {
   "cell_type": "code",
   "execution_count": 10,
   "id": "d4e8d599-aef6-4ee7-a88d-4dd0f6f7118a",
   "metadata": {},
   "outputs": [
    {
     "name": "stdout",
     "output_type": "stream",
     "text": [
      "<function factorial at 0x7f9f16e62320>\n"
     ]
    },
    {
     "data": {
      "text/plain": [
       "120"
      ]
     },
     "execution_count": 10,
     "metadata": {},
     "output_type": "execute_result"
    }
   ],
   "source": [
    "### recursion\n",
    "def factorial(n, ans=1):\n",
    "    if n == 1:\n",
    "        return ans\n",
    "    return factorial(n-1, n*ans)\n",
    "\n",
    "print(factorial)\n",
    "factorial(5)\n",
    "    "
   ]
  },
  {
   "cell_type": "markdown",
   "id": "5e11df7b-66a8-4660-aad3-ffa73753bed1",
   "metadata": {},
   "source": [
    "Bentuk fungsi factorial yang lain adalah bentuk imperatif atau prosedural. "
   ]
  },
  {
   "cell_type": "code",
   "execution_count": 11,
   "id": "c5e9a7a2-da15-481c-849e-e5e86be928e6",
   "metadata": {},
   "outputs": [
    {
     "data": {
      "text/plain": [
       "120"
      ]
     },
     "execution_count": 11,
     "metadata": {},
     "output_type": "execute_result"
    }
   ],
   "source": [
    "### iteration\n",
    "def factorial(n, ans=1):\n",
    "    for i in range(n):\n",
    "        ans = ans * (i+1)    \n",
    "    return ans\n",
    "\n",
    "factorial(5)"
   ]
  },
  {
   "cell_type": "markdown",
   "id": "f164e7a7-5e28-4b92-918d-4ae70ce77838",
   "metadata": {},
   "source": [
    "#### Fungsi anonim\n",
    "Fungsi murni dapat juga ditulis tanpa nama, hanya parameter, body dan argumen, dengan keyword lambda yang otomatis mengembalikan nilai ekspresi badan fungsi."
   ]
  },
  {
   "cell_type": "code",
   "execution_count": 12,
   "id": "30aba508-9197-4c82-843d-3428ec6196e2",
   "metadata": {},
   "outputs": [
    {
     "data": {
      "text/plain": [
       "9"
      ]
     },
     "execution_count": 12,
     "metadata": {},
     "output_type": "execute_result"
    }
   ],
   "source": [
    "(lambda x,y: x**y)(3,2)\n"
   ]
  },
  {
   "cell_type": "markdown",
   "id": "eb913e22-3c33-485a-bf76-87ee58191d43",
   "metadata": {},
   "source": [
    "#### Fungsi bertingkat (nested)\n",
    "Fungsi dapat didefinisikan secara bertingkat, berjalin, fungsi di dalam fungsi.    \n",
    "Contoh berikut memakai Counter, suatu objek turunan dictionary yang khusus menghitung pemunculan item masukan.     \n",
    "Counter yang diberikan asupan kata kata, secara otomatis menghitung berapa kali huruf per huruf muncul. Outputnya adalah pasangan kunci&nilai (dictionary) dimana kuncinya adalah huruf-huruf yang berbeda dan nilainya adalah jumlah kemunculan huruf dalam kata/ungkapan asupan.    \n",
    "Ketika kalimat deklarasi fungsi (kepala fungsi) dibaca, eksekusinya memutakhirkan namespace dan menyiapkan parameter fungsi tetapi melewatkan eksekusi definisi fungsi (kode dalam badan fungsi). Definisi fungsi baru dieksekusi ketika fungsi dipanggil."
   ]
  },
  {
   "cell_type": "code",
   "execution_count": 13,
   "id": "48614eb0-5fea-438b-9b4b-4b3ff58e6b5a",
   "metadata": {},
   "outputs": [
    {
     "name": "stdout",
     "output_type": "stream",
     "text": [
      "True\n"
     ]
    }
   ],
   "source": [
    "### anagram adalah permainan huruf membentuk kata berbeda\n",
    "### buat fungsi untuk menentukan apakah dua ungkapan masukan adalah anagram atau bukan\n",
    "from collections import Counter\n",
    "def anagram_kah(frasa1, frasa2):\n",
    "    def cc(frasa):\n",
    "        return Counter(frasa.lower().replace(' ',''))\n",
    "    return cc(frasa1) == cc(frasa2)\n",
    "\n",
    "print(anagram_kah(\"Eleven plus Two\",\"Twelve plus One\"))"
   ]
  },
  {
   "cell_type": "markdown",
   "id": "59f00344-dc04-4a53-b237-a8cbb14cffa8",
   "metadata": {},
   "source": [
    "#### Metoda"
   ]
  },
  {
   "cell_type": "code",
   "execution_count": 14,
   "id": "6d9c7b76-5e01-41aa-a519-d10f28e1d626",
   "metadata": {},
   "outputs": [
    {
     "name": "stdout",
     "output_type": "stream",
     "text": [
      "s = 'String itu immutable, TIDAK dapat diedit'\n",
      "s.lower() = 'string itu immutable, tidak dapat diedit'\n",
      "s.lower().replace(\" \",\"\") = 'stringituimmutable,tidakdapatdiedit'\n",
      "s = 'String itu immutable, TIDAK dapat diedit'\n"
     ]
    }
   ],
   "source": [
    "s = \"String itu immutable, TIDAK dapat diedit\"\n",
    "print(f'{s = }')\n",
    "print(f'{s.lower() = }')\n",
    "print(f'{s.lower().replace(\" \",\"\") = }')\n",
    "print(f'{s = }')  # s tidak berubah masih seperti aslinya"
   ]
  },
  {
   "cell_type": "markdown",
   "id": "6ee13a33-3b03-446b-8bef-755992b460d8",
   "metadata": {},
   "source": [
    "_Fungsi_ lower() adalah suatu fungsi yang khusus terkait dengan objek tipe string, sehingga kita menyebutnya ***metoda*** dari string, sama seperti metoda replace(). Inputnya bukan berada di dalam kurung tetapi di depannya. Artinya kita memanggil suatu atribut dari objek string s yang dapat dieksekusi (callable) yang dalam contoh di atas lower() dan replace().   \n",
    "Output dari metoda string adalah suatu objek baru sedangkan objek inputnya tidak berubah.\n",
    "\n",
    "Berikut metoda string yang selengkapnya."
   ]
  },
  {
   "cell_type": "code",
   "execution_count": 15,
   "id": "60f27130-a074-40bd-b398-8b99d82708e2",
   "metadata": {},
   "outputs": [
    {
     "name": "stdout",
     "output_type": "stream",
     "text": [
      "capitalize casefold center count encode endswith expandtabs find format index isalnum isalpha isascii isdecimal isdigit isidentifier islower isnumeric isprintable isspace istitle isupper join ljust lower lstrip maketrans partition removeprefix removesuffix replace rfind rindex rjust rpartition rsplit rstrip split splitlines startswith strip swapcase title translate upper zfill\n"
     ]
    }
   ],
   "source": [
    "atribut = [atr for atr in dir(str) if '_' not in atr ]\n",
    "print(*atribut)"
   ]
  },
  {
   "cell_type": "markdown",
   "id": "e5a84a1d-f9da-4c27-9503-d662e2edd22c",
   "metadata": {},
   "source": [
    "Kode di atas menggunakan fitur list comprehension yang menampilkan semua metoda dari string kecuali metoda-metoda khusus lainnya yang diapit dengan garis bawah. Bandingkan dengan eksekusi <pre>print(dir(str))</pre> yang menampilkan hasil lebih banyak.  \n",
    "Untuk fungsi built in kita dapat melihat daftarnya dalam <pre>print(dir(\\_\\_builtins\\_\\_))</pre>"
   ]
  },
  {
   "cell_type": "markdown",
   "id": "4138dcd2-def0-46d7-9560-a0496966763e",
   "metadata": {},
   "source": [
    "#### Namespace, Scope\n",
    "\n",
    "Nama identifier disimpan dalam suatu daftar atau environment yang disebut namespace. Namespace ini tidak hanya satu tetapi bisa ada beberapa namespace yang dibentuk. Ketika suatu blok fungsi dieksekusi maka dalam scope fungsi tersebut ada suatu namespace lokal yang dibentuk untuk mendaftarkan identifier lokal fungsi itu. Jadi ada beberapa namespace antara lain namespace built-in, global, lokal.\n"
   ]
  },
  {
   "cell_type": "markdown",
   "id": "6f7f36bb-f007-42b1-a35c-f3c73cbd44c2",
   "metadata": {},
   "source": [
    "Lingkup penamaan di luar fungsi kita sebut lingkup global (global scope), sedangkan di dalam fungsi lingkupnya lokal. Di luar lingkup global ada lingkup yang membungkusnya yaitu lingkup bawaan (built-in). Contoh, fungsi print(), nama fungsi print didaftarkan di lingkup bawaan.   \n",
    "Dalam lingkup lokal, kita dapat membaca objek lingkup global atau lingkup bawaan, tetapi tidak dapat mengubah nilainya. Ketika kita mencoba melakukan assignment maka otomatis Python akan membuatkan identifier lokal dengan nama itu dan menutup akses nama itu ke lingkup di atasnya."
   ]
  },
  {
   "cell_type": "code",
   "execution_count": 16,
   "id": "c0ef31bf-890e-40c6-93b2-578fcef83208",
   "metadata": {},
   "outputs": [
    {
     "name": "stdout",
     "output_type": "stream",
     "text": [
      "identifier global\n",
      "['namaku'] Bento\n",
      "['fungsi_sub', 'namaku', 'nilai_ujian'] Bejo 77\n",
      "mengubah identifier \"non-lokal\"\n",
      "['namaku', 'ujian_akhir'] Bejo Tinurut\n",
      "Bejo Tinurut 99\n"
     ]
    }
   ],
   "source": [
    "def fungsi_abc():\n",
    "    def fungsi_sub():\n",
    "        nonlocal namaku\n",
    "        namaku = 'Bejo Tinurut'\n",
    "        ujian_akhir = 99\n",
    "        print('mengubah identifier \"non-lokal\"')\n",
    "        print(dir(),namaku)\n",
    "        return ujian_akhir\n",
    "    namaku = 'Bejo'\n",
    "    nilai_ujian = 77\n",
    "    print(dir(), namaku, nilai_ujian)    \n",
    "    nilai_ujian = fungsi_sub()\n",
    "    print(namaku, nilai_ujian)\n",
    "\n",
    "def main():\n",
    "    namaku = 'Bento'\n",
    "    print(dir(), namaku)\n",
    "    fungsi_abc()\n",
    "\n",
    "namaku = 'identifier global'\n",
    "print(namaku)\n",
    "main()\n"
   ]
  },
  {
   "cell_type": "markdown",
   "id": "54dac087-3075-4205-a1f3-6eda24bf6f4b",
   "metadata": {},
   "source": [
    "Mendefinisikan identifier pada lingkup global tidak disarankan dan dianggap sebagai praktek berbahaya. Agar penamaan (namespace) terkendali sebaiknya semua identifier berada di dalam fungsi. Transfer objek ke dalam atau keluar fungsi yang disebut parameter passing dilakukan dengan binding argumen dan return value.   \n",
    "Dalam situasi dimana diperlukan aksi re-binding, maka dapat ditempuh strategi penempatan fungsi di dalam fungsi dan menyatakan bahwa identifier yang akan diakses itu berada di luar fungsi yang sebelah dalam menggunakan statement **nonlocal \\<nama\\>**.\n"
   ]
  },
  {
   "cell_type": "markdown",
   "id": "2fd44df4-02a1-4027-8379-f3f6b4463eaa",
   "metadata": {},
   "source": [
    "#### Closure"
   ]
  },
  {
   "cell_type": "code",
   "execution_count": 17,
   "id": "32c37a13-3ffd-483b-976d-31836f3af379",
   "metadata": {
    "tags": []
   },
   "outputs": [
    {
     "name": "stdout",
     "output_type": "stream",
     "text": [
      "b\n",
      "b\n"
     ]
    }
   ],
   "source": [
    "\"salah paham closurenya Python\"\n",
    "funs = []\n",
    "for i in \"a\", \"b\":\n",
    "    def afunction():\n",
    "        return i\n",
    "    funs.append(afunction)\n",
    "\n",
    "print(funs[0]())\n",
    "print(funs[1]())"
   ]
  },
  {
   "cell_type": "markdown",
   "id": "52c5948a-f327-409b-96ea-f18bf50e1045",
   "metadata": {
    "tags": []
   },
   "source": [
    "Kode di atas memperlihatkan kesalah-pahaman orang mengenai scope dan closure Python. Pertama, for-loop tidak merupakan blok dengan scope baru; for-loop tidak lebih dari kalimat datar yang diulang-ulang. Kedua, yang dipakai dalam fungsi adalah mutlak definisi nama i pada scope global seperti biasa, bukan free-variable dan closure. Berikut kode Python yang seharusnya jika ingin menampilkan efek closure."
   ]
  },
  {
   "cell_type": "code",
   "execution_count": 18,
   "id": "2bb6248f-d430-459f-8711-15f71960ac43",
   "metadata": {},
   "outputs": [
    {
     "name": "stdout",
     "output_type": "stream",
     "text": [
      "apel\n",
      "banana\n"
     ]
    }
   ],
   "source": [
    "funs = []\n",
    "for i in \"apel\", \"banana\":\n",
    "    def closure_maker(my_free_var):\n",
    "        def closure():\n",
    "            return my_free_var\n",
    "        return closure\n",
    "    funs.append(closure_maker(i))\n",
    "\n",
    "print(funs[0]())\n",
    "print(funs[1]())\n"
   ]
  },
  {
   "cell_type": "markdown",
   "id": "0e14ceae-d0b9-4435-9585-65ba17227d46",
   "metadata": {},
   "source": [
    "Parameter/argument passing dalam Python dilakukan secara binding, dalam contoh ini, my_free_var = i, my_free_var diasosiasikan dengan objek yang diunjuk i. Dengan demikian yang digunakan bukan lagi nama i dalam scope global, tetapi suatu free-var dalam scope enclosing. Closure adalah fungsi yang mempertahankan kondisi ketika dia dibuat, walaupun ketika dipanggil sudah berada di luar scope pembuatannya. Lalu bagaimana supaya free-variable tetap eksis? Python secara otomatis membuat properti dari fungsi closure yang memegang free-variable(s)."
   ]
  },
  {
   "cell_type": "code",
   "execution_count": 19,
   "id": "9e1f681a-fda3-4358-827d-5aebba71f28e",
   "metadata": {},
   "outputs": [
    {
     "name": "stdout",
     "output_type": "stream",
     "text": [
      "('my_free_var',)\n",
      "apel\n",
      "banana\n"
     ]
    }
   ],
   "source": [
    "print(funs[0].__code__.co_freevars)\n",
    "print(funs[0].__closure__[0].cell_contents)\n",
    "print(funs[1].__closure__[0].cell_contents)"
   ]
  },
  {
   "cell_type": "markdown",
   "id": "791fd652-f0c2-4770-aeb4-adcfcc8913f0",
   "metadata": {},
   "source": [
    "**---o0o---**"
   ]
  }
 ],
 "metadata": {
  "kernelspec": {
   "display_name": "Python 3 (ipykernel)",
   "language": "python",
   "name": "python3"
  },
  "language_info": {
   "codemirror_mode": {
    "name": "ipython",
    "version": 3
   },
   "file_extension": ".py",
   "mimetype": "text/x-python",
   "name": "python",
   "nbconvert_exporter": "python",
   "pygments_lexer": "ipython3",
   "version": "3.10.4"
  }
 },
 "nbformat": 4,
 "nbformat_minor": 5
}
