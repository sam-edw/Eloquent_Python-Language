{
 "cells": [
  {
   "cell_type": "markdown",
   "id": "b684aa6a-a8a1-4cb1-8346-312e4b7acf28",
   "metadata": {},
   "source": [
    "## MEMAHAMI PEMROGRAMAN DALAM BAHASA PYTHON"
   ]
  },
  {
   "cell_type": "markdown",
   "id": "c602d8b2-1934-4c69-bba4-9c2057f40fc9",
   "metadata": {},
   "source": [
    "_Tulisan ini dibuat untuk menambah pemahaman pemrograman Python, melengkapi tutorial dasar-dasar Python, dengan menyertakan contoh dan latihan 'coding', serta untuk mengajak Anda belajar lebih lanjut secara mandiri.   \n",
    "Tutorial yang disarankan ialah tulisan Dr. Charles R. Severance berjudul Python for Everybody atau publikasinya py4e di github, dan Think Python oleh Prof. Allen B. Downey_ \n",
    "   \n",
    "\n",
    "#### Mengapa belajar pemrograman dengan Python\n",
    "Saat ini, komputer telah menjadi peralatan yang lazim digunakan seperti halnya obeng dan tang. Komputer hebat dalam pekerjaan rutin tetapi payah untuk pekerjaan yang memerlukan kreativitas, sementara kita manusia kebalikannya, cepat bosan jika melakukan hal-hal sepele berulang-ulang. Fakta bahwa komputer cepat, hebat untuk melakukan perkejaan yang tidak kita sukai, merupakan alasan mengapa kita perlu belajar 'berkomunikasi' dengan komputer untuk membantu kita menyelesaikan suatu pekerjaan, melalui apa yang disebut bahasa pemrograman.    \n",
    "   \n",
    "Ada banyak bahasa pemrograman yang sudah dibuat/digunakan orang sejak ditemukannya komputer seperti Assembler, FORTRAN, BASIC, LISP, Prolog, Perl, C/C++, Pascal, Java, Javascript, PHP, Swift, Kotlin, Python, dan masih banyak lagi.   \n",
    "\n",
    "Lalu kenapa Python? Karena:\n",
    "- bahasa dinamis lebih produktif\n",
    "- kode Python lebih mudah dibaca\n",
    "- kode Python lebih mudah perawatannya\n",
    "- Python memiliki tipe data bawaan tingkat tinggi\n",
    "- waktu pengembang lebih berharga dari waktu CPU\n",
    "\n",
    "Dari pengalaman guru guru besar seperti Prof. Allen B. Downey, ternyata Python cocok diajarkan sebagai bahasa pengantar karena sederhana, lebih mudah dicerna, lebih mudah diterima dibanding Java misalnya. Institut Teknologi Massachusetts, MIT Amerika, yang sekarang memilih mengajarkan Python sebagai mata kuliah pengantar untuk keilmuan Computer Science, CS.6.000, menggantikan bahasa Scheme yang diajarkan bertahun tahun sebelumnya, menandakan bahwa Python mudah untuk pemula, dan memadai untuk digunakan sebagai sarana pengembangan logika berpikir.   \n",
    "\n",
    "#### Kosakata Kunci \n",
    "Tidak seperti bahasa percakapan biasa, kosakata kunci Python ternyata sedikit saja. Kita menyebutnya juga 'reserved words', dan setiap kata tersebut memiliki arti yang tunggal, unik bagi Python. Python juga berkembang sehingga versi yang lebih baru mungkin memiliki lebih banyak kosakata, tetapi perbedaannya tidak banyak.\n",
    "<pre>\n",
    "False               class               from                or\n",
    "None                continue            global              pass\n",
    "True                def                 if                  raise\n",
    "and                 del                 import              return\n",
    "as                  elif                in                  try\n",
    "assert              else                is                  while\n",
    "async               except              lambda              with\n",
    "await               finally             nonlocal            yield\n",
    "break               for                 not\n",
    "</pre>   \n",
    "Sejak Python versi 3.10 ada tambahan kosakata *match* dan *case* yang tergolong kosakata kunci lunak, artinya dapat digunakan juga sebagai nama pengenal.\n",
    "\n",
    "Beberapa di antaranya adalah nama objek konstanta tunggal (_singleton_), tidak bisa di definisikan ulang, tidak dapat diubah. **False, True** adalah objek khusus bernilai 0 dan 1 dalam hampir semua evaluasi kecuali jika diprint maka akan menjadi string 'False' dan 'True'. **None** adalah objek khusus untuk menandai ketidak-adaan.     \n",
    "Selain dari reserved words itu Python terdiri dari nama pengenal rujukan objek (identifiers) dan beberapa simbol."
   ]
  },
  {
   "cell_type": "markdown",
   "id": "c4c6bce2-f97a-4f4b-82f0-dcb21bef0921",
   "metadata": {
    "tags": []
   },
   "source": [
    "#### Interaksi awal dengan Python\n",
    "Sebelum mencoba berinteraksi dengan Python, Anda perlu melakukan instalasi Python di komputer Anda terlebih dulu. Jika operating system komputer Anda linux, maka kemungkinan besar python sudah terinstal, siap dipakai. Untuk instruksi instalasi di Windows, Anda dapat merujuk ke <a>www.py4e.com</a> atau situs python <a>https://www.python.org/ftp/python/3.10.1/python-3.10.1-amd64.exe</a>    \n",
    "Saya sarankan juga agar Anda menginstal pip, ipython dan jupyter-lab agar memudahkan Anda mencoba kode program Python dan menyertakan komentar, penjelasan sebagai pengingat.    \n",
    "Setelah menginstal python, silahkan Anda masuk ke terminal command line lalu ketikan perintah berikut:   \n",
    "<pre>\n",
    "curl https://bootstrap.pypa.io/get-pip.py -o get-pip.py\n",
    "python get-pip.py\n",
    "pip install ipython\n",
    "pip install jupyterlab\n",
    "</pre>\n",
    "\n",
    "Jika semua berjalan mulus, Anda dapat masuk ke web lokal jupyter lab melalui browser Anda dengan perintah berikut pada terminal command line:\n",
    "<pre>jupyter lab</pre>\n",
    "\n"
   ]
  },
  {
   "cell_type": "markdown",
   "id": "4e171e7d-89e9-44d0-b631-ceaefe5dbdcf",
   "metadata": {},
   "source": [
    "Berikut contoh penggunaan ekspresi literal numerik bilangan bulat, dan ekspresi literal string."
   ]
  },
  {
   "cell_type": "code",
   "execution_count": 1,
   "id": "466911ea-f340-4e31-b09a-fa520008844d",
   "metadata": {},
   "outputs": [
    {
     "data": {
      "text/plain": [
       "42"
      ]
     },
     "execution_count": 1,
     "metadata": {},
     "output_type": "execute_result"
    }
   ],
   "source": [
    "2 * 3 * 7"
   ]
  },
  {
   "cell_type": "markdown",
   "id": "77bf47d6-d366-4cf4-8609-b9a67cfdeccb",
   "metadata": {},
   "source": [
    "Shell Python dapat berfungsi sebagai kalkulator. Kalkulator bilangan bulat Python dapat menghitung angka sangat besar tanpa terjadi error overflow bahkan sampai tak berhingga jika memori komputer Anda dapat menampungnya."
   ]
  },
  {
   "cell_type": "code",
   "execution_count": 2,
   "id": "8de7839d-1258-40cf-bc82-d07dd5e706cf",
   "metadata": {},
   "outputs": [
    {
     "data": {
      "text/plain": [
       "42"
      ]
     },
     "execution_count": 2,
     "metadata": {},
     "output_type": "execute_result"
    }
   ],
   "source": [
    "(-80538738812075974)**3 + 80435758145817515**3 + 12602123297335631**3"
   ]
  },
  {
   "cell_type": "code",
   "execution_count": 3,
   "id": "3493de7b-529c-4c41-b743-e088f81fea3e",
   "metadata": {},
   "outputs": [
    {
     "data": {
      "text/plain": [
       "'Hello world'"
      ]
     },
     "execution_count": 3,
     "metadata": {},
     "output_type": "execute_result"
    }
   ],
   "source": [
    "'Hello' + ' world'"
   ]
  },
  {
   "cell_type": "code",
   "execution_count": 4,
   "id": "7da9c61e-77c4-492f-893b-732b623646d4",
   "metadata": {},
   "outputs": [
    {
     "data": {
      "text/plain": [
       "'~-~-~-~-~-~-~-~-~-~-~-~-~-~-~-~-~-~-~-~-~-~-~-~-~-~-~-~-~-~-~-~-~-~-~-~-~-~-~-~-~-~-'"
      ]
     },
     "execution_count": 4,
     "metadata": {},
     "output_type": "execute_result"
    }
   ],
   "source": [
    "'~-' * 42"
   ]
  },
  {
   "cell_type": "markdown",
   "id": "b986bb37-adb0-4331-bc84-533708ee82f8",
   "metadata": {},
   "source": [
    "Selain dalam Jupyter lab, Anda dapat menjalankan Python di command line, editor IDLE bawaan Python, atau integrated development environment PyCharms.  \n",
    "Dari command line ketik python atau python3,\n",
    "<pre>\n",
    ">python\n",
    "Python 3.10.1 (tags/v3.10.1:2cd268a, Dec  6 2021, 19:10:37) [MSC v.1929 64 bit (AMD64)] on win32\n",
    "Type \"help\", \"copyright\", \"credits\" or \"license\" for more information.\n",
    ">>> print('hello world!')\n",
    "hello world!\n",
    ">>> quit()\n",
    ">\n",
    "</pre>\n"
   ]
  },
  {
   "cell_type": "markdown",
   "id": "46787658-3219-45c8-8df2-cfd5e572282b",
   "metadata": {},
   "source": [
    "Program kita biasanya disimpan dalam file terpisah dengan ekstensi .py misalnya hello.py   \n",
    "Walaupun dapat dieksekusi langsung, sebenarnya Python memiliki suatu format struktur program yang dianjurkan seperti ini:\n",
    "<pre>\n",
    "def main():\n",
    "    print('saya belajar python')\n",
    "    \n",
    "if __name__ == '__main__':\n",
    "    main()\n",
    "</pre>\n",
    "Kita save script di atas dalam file my_first_script.py lalu bisa kita jalankan dengan:\n",
    "<pre>\n",
    ">python my_first_script.py\n",
    "saya belajar python\n",
    "\n",
    ">\n",
    "</pre>"
   ]
  },
  {
   "cell_type": "markdown",
   "id": "a99f4aab-9f98-46d9-8e86-e79c7d145a4c",
   "metadata": {},
   "source": [
    "Aturan urutan penulisan script ialah bahwa definisi suatu fungsi harus didahukukan daripada pemanggilan/eksekusinya sehingga definisi yang diperlukan sudah lebih dahulu diketahui sebelum kode yang memanggilnya.\n",
    "<pre>\n",
    ">type wrong.py\n",
    "main()  # memanggil fungsi main\n",
    "\n",
    "def main():  # definisi fungsi main\n",
    "    print('is it okay?')\n",
    "\n",
    ">python wrong.py\n",
    "Traceback (most recent call last):\n",
    "  File \"C:\\Users\\emang\\wrong.py\", line 1, in <module>\n",
    "    main()\n",
    "NameError: name 'main' is not defined. Did you mean: 'min'?\n",
    "\n",
    ">\n",
    "</pre>"
   ]
  },
  {
   "cell_type": "markdown",
   "id": "1822102d-fd7f-4eed-a879-42901bacdb89",
   "metadata": {
    "tags": []
   },
   "source": [
    "#### OBJECTS & IDENTIFIERS\n",
    "Ekspresi literal dievaluasi dan dibuat menjadi objek sementara sesuai tipenya dan memiliki nilai ekspresinya. Objek ini jika tidak ditangkap akan terhapus dengan sendirinya. Semua entitas dalam Python berupa objek dan setiap objek memiliki identitas.    \n",
    "Agar dapat memproses objek objek itu digunakan suatu nama pengenal rujukan yaitu identifier. Suatu identifier memiliki pointer yang diarahkan ke identitas objek dalam suatu kalimat assignment, kemudian identifier tersebut mewakili objek itu dalam ekspresi.     \n",
    "Format identifier adalah alfanumerik, tidak boleh berisi tanda baca kecuali garis bawah, tidak boleh dimulai dengan angka.\n",
    "Format suatu assigment statement, identifier di sisi kiri, tanda =, dan ekspresi literal atau kombinasi di sisi kanan.  __identifier = ekspresi__ misalnya \n",
    "<pre>umur = 21\n",
    "hobby = \"main komputer\"</pre>\n",
    "\n",
    "\n",
    "Assignment pada Python maksudnya adalah membuat nama pengenal rujukan agar menunjuk identitas suatu objek, entah itu struktur data, kode fungsi ataukah konstruksi kelas, tanpa perlu deklarasi, _identifier mah bebas_.\n",
    "\n"
   ]
  },
  {
   "cell_type": "code",
   "execution_count": 5,
   "id": "5ee0a532-0c63-41a0-aea9-4ad320ec4ba0",
   "metadata": {},
   "outputs": [
    {
     "name": "stdout",
     "output_type": "stream",
     "text": [
      "84\n",
      "hello\n",
      "sesuatu\n"
     ]
    }
   ],
   "source": [
    "ptrA = 42\n",
    "\n",
    "def fungsiku():     \n",
    "    print(\"hello\")\n",
    "ptrB = fungsiku\n",
    "\n",
    "class kelas_ku:\n",
    "    x='sesuatu'\n",
    "ptrC = kelas_ku\n",
    "\n",
    "for pointer in ptrA, ptrB, ptrC:\n",
    "    match str(type(pointer)):\n",
    "        case \"<class 'int'>\":\n",
    "            print(pointer*2)\n",
    "        case \"<class 'function'>\":\n",
    "            pointer()\n",
    "        case \"<class 'type'>\":\n",
    "            print(pointer.x)"
   ]
  },
  {
   "cell_type": "code",
   "execution_count": 6,
   "id": "88d53638-6da9-4d81-98d9-2f446969bf12",
   "metadata": {},
   "outputs": [
    {
     "name": "stdout",
     "output_type": "stream",
     "text": [
      "hello\n",
      "sesuatu\n",
      "84\n",
      "\n",
      "ptrA= <function fungsiku at 0x7f2d8ec555a0>; tipe <class 'function'> alamatnya: 0x7f2d8ec555a0 \n",
      "ptrB= <class '__main__.kelas_ku'>; tipe <class 'type'> alamatnya: 0x55c5f83e3c80 \n",
      "ptrC= 42; tipe <class 'int'> alamatnya: 0x7f2d91a64610 \n"
     ]
    }
   ],
   "source": [
    "ptrA, ptrB, ptrC = ptrB, ptrC, ptrA   # assignment ulang secara paralel\n",
    "\n",
    "for pointer in ptrA, ptrB, ptrC:\n",
    "    match str(type(pointer)):\n",
    "        case \"<class 'int'>\":\n",
    "            print(pointer*2)\n",
    "        case \"<class 'function'>\":\n",
    "            pointer()\n",
    "        case \"<class 'type'>\":\n",
    "            print(pointer.x)\n",
    "\n",
    "print()\n",
    "print(f'{ptrA= }; tipe {type(ptrA)} alamatnya: {hex(id(ptrA))} ')\n",
    "print(f'{ptrB= }; tipe {type(ptrB)} alamatnya: {hex(id(ptrB))} ')\n",
    "print(f'{ptrC= }; tipe {type(ptrC)} alamatnya: {hex(id(ptrC))} ')"
   ]
  },
  {
   "cell_type": "markdown",
   "id": "8c35654f-e914-4fc0-9f01-a99d65d4f0f9",
   "metadata": {},
   "source": [
    "Jadi, identifier merujuk objek melalui suatu pointer, tidak langsung identik dengan objek tersebut, sehingga bersifat **dinamis**, dan dapat diubah merujuk ke objek lain.    \n",
    "Karena struktur semua pointer sama yaitu 64-bit maka nilai pointer dapat secara dinamis digonta ganti. Perubahan tipe tidak menjadi masalah karena penyandingan pointer objek dengan nama identifier atau *binding* pada proses assignment ulang, tidak sampai melibatkan struktur objek."
   ]
  },
  {
   "cell_type": "code",
   "execution_count": 7,
   "id": "095fd32f-c535-4b46-807d-67bdba36f120",
   "metadata": {},
   "outputs": [
    {
     "name": "stdout",
     "output_type": "stream",
     "text": [
      "<class 'int'> 7\n",
      "<class 'str'> delapan tahun kurang seminggu lagi\n"
     ]
    }
   ],
   "source": [
    "umur = 7\n",
    "print(type(umur), umur)\n",
    "umur = \"delapan tahun kurang seminggu lagi\"\n",
    "print(type(umur), umur)"
   ]
  },
  {
   "cell_type": "markdown",
   "id": "9706ca88-aaf3-4028-bb46-26337d068b31",
   "metadata": {},
   "source": [
    "Identifier memegang identitas objek yang terkait tetapi kaitan tersebut bebas berubah bila dilakukan assignment baru lagi.\n",
    "Suatu objek tidak akan berubah, tempat atau nilainya sejak dibuat --hingga didaur ulang--. Perhatikan contoh berikut dimana ada dua identifier merujuk kepada objek yang sama kemudian ada assignment baru yang terjadi sehingga dibuatkan objek baru dengan nilai berbeda."
   ]
  },
  {
   "cell_type": "code",
   "execution_count": 8,
   "id": "3fb37d25-ab3e-44e2-adc7-2870bc12a908",
   "metadata": {},
   "outputs": [
    {
     "name": "stdout",
     "output_type": "stream",
     "text": [
      "umur_budi=7, umur_bambang=7\n",
      "umur_budi=8, umur_bambang=7\n",
      "identitas integer 7 ialah 0x7f2d91a641b0\n",
      "identitas integer 8 ialah 0x7f2d91a641d0\n"
     ]
    }
   ],
   "source": [
    "umur_budi = umur_bambang = 7\n",
    "print(f'{umur_budi=}, {umur_bambang=}')\n",
    "umur_budi = umur_budi + 1\n",
    "print(f'{umur_budi=}, {umur_bambang=}')\n",
    "print(f'identitas integer {umur_bambang} ialah {hex(id(umur_bambang))}')\n",
    "print(f'identitas integer {umur_budi} ialah {hex(id(umur_budi))}')"
   ]
  },
  {
   "cell_type": "markdown",
   "id": "5d6acf73-8b41-436c-9892-dc9c319e5020",
   "metadata": {},
   "source": [
    "Awalnya hanya ada satu objek instans integer bernilai 7 yang dipegang dua identifier, *umur_budi* dan *umur_bambang*. Saat assignment baru, maka ekspresi di sisi kanan tanda = dievaluasi lalu dibuatkan *objek baru* (instans integer bernilai 8). kemudian identitas/referensnya disandingkan ke identifier di sisi kiri tanda = dalam hal ini identifier umur_budi. Tidak terjadi perubahan apa-apa pada objek instans integer 7, tidak diedit.    \n",
    "Ini adalah caranya Python melakukan proses assignment dengan objek yang immutable.    \n",
    "    \n",
    "Kontras dengan cara lama yang dilakukan dalam bahasa C yang digunakan untuk mengimplementasi Python; 'identifier' disebut variabel yang merupakan alamat lokasi (keranjang) berisikan nilai data. Kedua variabel berbeda alamatnya, akan berisikan copy nilai yang sama, dan jika ada perubahan nilai maka perubahannya langsung diterapkan pada lokasi variabel bersangkutan. Nilainya boleh diedit (makanya disebut variabel), asalkan tipenya tetap sama (**statis**) karena tidak boleh terjadi perubahan struktur atau jumlah bytes keranjang penampungnya. "
   ]
  },
  {
   "cell_type": "markdown",
   "id": "15b08ce8-4944-4a73-980a-8e7bb73a9094",
   "metadata": {},
   "source": [
    "#### CIRI KHAS PYTHON"
   ]
  },
  {
   "cell_type": "code",
   "execution_count": 9,
   "id": "ec6dcba3-7f50-4a95-8be1-d99016a508e1",
   "metadata": {},
   "outputs": [
    {
     "data": {
      "text/plain": [
       "6"
      ]
     },
     "execution_count": 9,
     "metadata": {},
     "output_type": "execute_result"
    }
   ],
   "source": [
    "def ppb(a,b):\n",
    "    \"Pembagi Persekutuan terBesar dari dua bilangan, algoritme Euklides\"\n",
    "    while b != 0:\n",
    "        a, b = b, a%b\n",
    "    return a\n",
    "\n",
    "ppb(24,42)"
   ]
  },
  {
   "cell_type": "markdown",
   "id": "bf7406c4-b914-4b47-8dcb-670cfa647143",
   "metadata": {},
   "source": [
    "Ciri-ciri utama Python ialah: \n",
    "- tanpa deklarasi tipe fungsi ataupun tipe parameter/argumen\n",
    "- blok/grup dengan indentasi dan titik dua\n",
    "- doc string dokumentasi merupakan bagian dari sintaks fungsi\n",
    "- assignment paralel (contohnya, bertukar nama tanpa perantara a,b = b,a )   \n"
   ]
  },
  {
   "cell_type": "markdown",
   "id": "728e9721-9346-4ba8-87a3-2ff3408045a0",
   "metadata": {
    "tags": []
   },
   "source": [
    "#### Fungsi murni dan fungsi efek samping\n",
    "Istilah fungsi diambil dari istilah matematika, fungsi adalah suatu proses memanipulasi argumen input menjadi suatu output, dengan catatan dalam pemrograman komputer fungsi ada dua jenis yaitu pertama, fungsi murni (_fruitful function_) seperti definisi matematis, yang mengembalikan suatu objek output, dan kedua, fungsi dengan efek samping (_void function_) yang memberikan dampak pada lingkungan tetapi tidak mengembalikan output.    \n",
    "Fungsi murni contohnya, ppb(a,b) mengembalikan nilai PPB, dan pow(x,y) mengembalikan nilai perpangkatan.\n",
    "Tanda suatu nama adalah fungsi ialah `type(nama)`-nya menghasilkan class 'function' atau `str(nama)` mengembalikan string yang menyatakan nama tsb adalah fungsi.    \n",
    "Contoh fungsi efek samping, print() menampilkan sesuatu pada console tetapi mengembalikan None.   "
   ]
  },
  {
   "cell_type": "code",
   "execution_count": 10,
   "id": "00fa62e2-870b-4876-8295-1708d9518518",
   "metadata": {},
   "outputs": [
    {
     "name": "stdout",
     "output_type": "stream",
     "text": [
      "<class 'builtin_function_or_method'>\n",
      "<built-in function pow>\n"
     ]
    },
    {
     "data": {
      "text/plain": [
       "9"
      ]
     },
     "execution_count": 10,
     "metadata": {},
     "output_type": "execute_result"
    }
   ],
   "source": [
    "x = 3\n",
    "y = 2\n",
    "\n",
    "print(type(pow))\n",
    "print(str(pow))\n",
    "pow(x,y)"
   ]
  },
  {
   "cell_type": "markdown",
   "id": "83e5b57a-7d41-4bca-a15f-98d58df44fa6",
   "metadata": {},
   "source": [
    "#### Fungsi buatan sendiri\n",
    "Selain menggunakan fungsi bawaan Python kita dapat menambahkan definisi fungsi buatan sendiri dengan tujuan:\n",
    "- agar dapat dipanggil berulang walau hanya menuliskan sekali saja\n",
    "- menyembunyikan detil implementasi, kita hanya perlu ingat abstraksinya\n",
    "- membuat program menjadi terstruktur sehingga lebih mudah dipahami \n"
   ]
  },
  {
   "cell_type": "markdown",
   "id": "47a5a1a5-7bf4-422f-8846-5ec0b30082d9",
   "metadata": {},
   "source": [
    "Fungsi didefinisikan dengan keyword def, nama fungsinya dan sepasang tanda kurung berisi parameter input.    \n",
    "#### Fungsi rekursi\n",
    "Berikut contoh fungsi murni yang mengembalikan nilai factorial n! untuk suatu argumen n. Kita lihat bahwa definisi fungsi ini berupa definisi setengah jalan, yaitu mengembalikan sesuatu dalam kasus dasar, *base case*, tetapi memanggil kembali dirinya sendiri lagi dengan sedikit mengubah argumennya. Fungsi seperti ini yang dinamakan fungsi rekursi-ekor, menyimpan status dalam ekornya (argumen) dan meneruskan putaran rekursinya sampai tercapai kasus dasarnya, lalu tanpa harus *trace-back* langsung memberi hasil akhir dari ekornya..    \n",
    "Fungsi rekursi memiliki sifat deklaratif yaitu berupa penjelasan penyelesaian dengan sedikit langkah ke arah penyelesaiannya dan solusi kasus dasarnya.   \n"
   ]
  },
  {
   "cell_type": "code",
   "execution_count": 11,
   "id": "d4e8d599-aef6-4ee7-a88d-4dd0f6f7118a",
   "metadata": {},
   "outputs": [
    {
     "name": "stdout",
     "output_type": "stream",
     "text": [
      "<function factorial at 0x7f2d8ec569e0>\n"
     ]
    },
    {
     "data": {
      "text/plain": [
       "120"
      ]
     },
     "execution_count": 11,
     "metadata": {},
     "output_type": "execute_result"
    }
   ],
   "source": [
    "### recursion\n",
    "def factorial(n, ans=1):\n",
    "    if n == 1:\n",
    "        return ans\n",
    "    return factorial(n-1, n*ans)\n",
    "\n",
    "print(factorial)\n",
    "factorial(5)\n",
    "    "
   ]
  },
  {
   "cell_type": "markdown",
   "id": "5e11df7b-66a8-4660-aad3-ffa73753bed1",
   "metadata": {},
   "source": [
    "Bentuk fungsi factorial yang lain adalah bentuk imperatif atau tuntunan prosedur. "
   ]
  },
  {
   "cell_type": "code",
   "execution_count": 12,
   "id": "c5e9a7a2-da15-481c-849e-e5e86be928e6",
   "metadata": {},
   "outputs": [
    {
     "data": {
      "text/plain": [
       "120"
      ]
     },
     "execution_count": 12,
     "metadata": {},
     "output_type": "execute_result"
    }
   ],
   "source": [
    "### iteration\n",
    "def factorial(n, ans=1):\n",
    "    for i in range(n):\n",
    "        ans = ans * (i+1)    \n",
    "    return ans\n",
    "\n",
    "factorial(5)"
   ]
  },
  {
   "cell_type": "markdown",
   "id": "f164e7a7-5e28-4b92-918d-4ae70ce77838",
   "metadata": {},
   "source": [
    "#### Fungsi anonim\n",
    "Fungsi murni dapat juga ditulis tanpa nama, hanya parameter, body dan argumen, dengan keyword lambda yang otomatis mengembalikan nilai ekspresi badan fungsi."
   ]
  },
  {
   "cell_type": "code",
   "execution_count": 13,
   "id": "30aba508-9197-4c82-843d-3428ec6196e2",
   "metadata": {},
   "outputs": [
    {
     "data": {
      "text/plain": [
       "9"
      ]
     },
     "execution_count": 13,
     "metadata": {},
     "output_type": "execute_result"
    }
   ],
   "source": [
    "(lambda x,y: x**y)(3,2)\n"
   ]
  },
  {
   "cell_type": "markdown",
   "id": "eb913e22-3c33-485a-bf76-87ee58191d43",
   "metadata": {},
   "source": [
    "#### Fungsi bertingkat (nested)\n",
    "Fungsi dapat didefinisikan secara bertingkat, berjalin, fungsi di dalam fungsi.\n",
    "Counter adalah suatu objek turunan dictionary yang khusus menghitung pemunculan item masukan, dibuat berdasarkan model matematis **multiset**. Kita akan membahas class dictionary nanti. Dalam contoh berikut, Counter yang diberikan asupan kata kata, secara otomatis menghitung berapa kali huruf per huruf muncul. Outputnya adalah pasangan kunci&nilai (dictionary) dimana kuncinya adalah huruf-huruf yang berbeda dan nilainya adalah jumlah kemunculan huruf dalam kata/ungkapan asupan. "
   ]
  },
  {
   "cell_type": "code",
   "execution_count": 14,
   "id": "48614eb0-5fea-438b-9b4b-4b3ff58e6b5a",
   "metadata": {},
   "outputs": [
    {
     "name": "stdout",
     "output_type": "stream",
     "text": [
      "True\n"
     ]
    }
   ],
   "source": [
    "### anagram adalah permainan huruf membentuk kata berbeda\n",
    "### buat fungsi untuk menentukan apakah dua ungkapan masukan adalah anagram atau bukan\n",
    "from collections import Counter\n",
    "def anagram_kah(kata1, kata2):\n",
    "    def cc(k):\n",
    "        return Counter(k.lower().replace(' ',''))\n",
    "    return cc(kata1) == cc(kata2)\n",
    "\n",
    "print(anagram_kah(\"Eleven plus Two\",\"Twelve plus One\"))"
   ]
  },
  {
   "cell_type": "markdown",
   "id": "59f00344-dc04-4a53-b237-a8cbb14cffa8",
   "metadata": {},
   "source": [
    "#### Metoda"
   ]
  },
  {
   "cell_type": "code",
   "execution_count": 15,
   "id": "6d9c7b76-5e01-41aa-a519-d10f28e1d626",
   "metadata": {},
   "outputs": [
    {
     "name": "stdout",
     "output_type": "stream",
     "text": [
      "s = 'String itu immutable, TIDAK dapat diedit'\n",
      "s.lower() = 'string itu immutable, tidak dapat diedit'\n",
      "s.lower().replace(\" \",\"\") = 'stringituimmutable,tidakdapatdiedit'\n",
      "s = 'String itu immutable, TIDAK dapat diedit'\n"
     ]
    }
   ],
   "source": [
    "s = \"String itu immutable, TIDAK dapat diedit\"\n",
    "print(f'{s = }')\n",
    "print(f'{s.lower() = }')\n",
    "print(f'{s.lower().replace(\" \",\"\") = }')\n",
    "print(f'{s = }')  # s tidak berubah masih seperti aslinya"
   ]
  },
  {
   "cell_type": "markdown",
   "id": "6ee13a33-3b03-446b-8bef-755992b460d8",
   "metadata": {},
   "source": [
    "_Fungsi_ lower() adalah suatu fungsi yang khusus terkait dengan objek tipe string, sehingga kita menyebutnya ***metoda*** dari string, sama seperti metoda replace(). Inputnya bukan berada di dalam kurung tetapi di depannya. Artinya kita memanggil suatu atribut dari objek string s yang dapat dieksekusi (callable) yang dalam contoh di atas lower() dan replace().   \n",
    "Output dari metoda string adalah suatu objek baru sedangkan objek inputnya tidak berubah.\n",
    "\n",
    "Berikut metoda string yang selengkapnya."
   ]
  },
  {
   "cell_type": "code",
   "execution_count": 16,
   "id": "60f27130-a074-40bd-b398-8b99d82708e2",
   "metadata": {},
   "outputs": [
    {
     "name": "stdout",
     "output_type": "stream",
     "text": [
      "capitalize casefold center count encode endswith expandtabs find format index isalnum isalpha isascii isdecimal isdigit isidentifier islower isnumeric isprintable isspace istitle isupper join ljust lower lstrip maketrans partition removeprefix removesuffix replace rfind rindex rjust rpartition rsplit rstrip split splitlines startswith strip swapcase title translate upper zfill\n"
     ]
    }
   ],
   "source": [
    "atribut = [atr for atr in dir(str) if '_' not in atr ]\n",
    "print(*atribut)"
   ]
  },
  {
   "cell_type": "markdown",
   "id": "e5a84a1d-f9da-4c27-9503-d662e2edd22c",
   "metadata": {},
   "source": [
    "Kode di atas menggunakan fitur list comprehension yang menampilkan semua metoda dari string kecuali metoda-metoda khusus lainnya yang diapit dengan garis bawah. Bandingkan dengan eksekusi <pre>print(dir(str))</pre> yang menampilkan hasil lebih banyak.  \n",
    "Untuk fungsi built in kita dapat melihat daftarnya dalam <pre>print(dir(\\_\\_builtins\\_\\_))</pre>"
   ]
  },
  {
   "cell_type": "markdown",
   "id": "8316ff11-9662-4e1c-bf0b-96c098da2c45",
   "metadata": {},
   "source": [
    "#### NONE\n",
    "Kembali ke pembahasan fruitful function dan void function.  \n",
    "Fungsi _fruitful_ mengembalikan sesuatu objek sebagai output, dan fungsi _void_ tidak mengembalikan apa-apa atau dengan kata lain, mengembalikan 'bukan apa-apa'.   \n",
    "Python memiliki suatu objek 'bukan apa-apa' yang dinamakan None. Kita akan melihatnya dalam contoh berikut."
   ]
  },
  {
   "cell_type": "code",
   "execution_count": 17,
   "id": "ba13ebad-2c34-4966-ac1f-4cabb475fa64",
   "metadata": {},
   "outputs": [
    {
     "name": "stdout",
     "output_type": "stream",
     "text": [
      "x = None\n",
      "type(x) = <class 'NoneType'>\n",
      "~-~-~-~-~-~-~-~-~-~-~-~-~-~-~-\n",
      "y = None\n",
      "type(y) = <class 'NoneType'>\n"
     ]
    }
   ],
   "source": [
    "def f():\n",
    "    pass\n",
    "\n",
    "x = f()\n",
    "print(f'{x = }')\n",
    "print(f'{type(x) = }')\n",
    "\n",
    "y = print('~-' * 15)\n",
    "print(f'{y = }')\n",
    "print(f'{type(y) = }')\n"
   ]
  },
  {
   "cell_type": "markdown",
   "id": "eb1b9c87-e095-4a3b-a9e0-90fc0a833dcf",
   "metadata": {},
   "source": [
    "Fungsi f() tidak memiliki kalimat return dalam definisinya, maka secara default Python akan mengembalikan objek None sebagai return valuenya.   \n",
    "Fungsi print() tidak mengembalikan sesuatu objek sebagai return, maka Python mengembalikan objek None.   \n",
    "None adalah objek real, ada id/alamat-nya, tetapi hanya satu, *singleton* istilahnya, tidak ada copynya."
   ]
  },
  {
   "cell_type": "code",
   "execution_count": 18,
   "id": "5311c4da-5f1a-4d19-a1f7-ed2f787a2fd7",
   "metadata": {},
   "outputs": [
    {
     "name": "stdout",
     "output_type": "stream",
     "text": [
      "94308733932192\n",
      "True True\n"
     ]
    }
   ],
   "source": [
    "print(id(None))\n",
    "print(x==y, x is y)  # x,y dari contoh sebelumnya None"
   ]
  },
  {
   "cell_type": "markdown",
   "id": "4138dcd2-def0-46d7-9560-a0496966763e",
   "metadata": {},
   "source": [
    "#### Namespace, Scope\n",
    "\n",
    "Nama identifier disimpan dalam suatu daftar atau environment yang disebut namespace. Namespace ini tidak hanya satu tetapi bisa ada beberapa namespace yang dibentuk. Ketika suatu blok fungsi dieksekusi maka dalam scope fungsi tersebut ada suatu namespace lokal yang dibentuk untuk mendaftarkan identifier lokal fungsi itu. Jadi ada beberapa namespace antara lain namespace built-in, global, lokal.\n"
   ]
  },
  {
   "cell_type": "markdown",
   "id": "6f7f36bb-f007-42b1-a35c-f3c73cbd44c2",
   "metadata": {},
   "source": [
    "Lingkup penamaan di luar fungsi kita sebut lingkup global (global scope), sedangkan di dalam fungsi lingkupnya lokal. Di luar lingkup global ada lingkup yang membungkusnya yaitu lingkup bawaan (built-in). Contoh, fungsi print(), nama fungsi print didaftarkan di lingkup bawaan.   \n",
    "Dalam lingkup lokal, kita dapat membaca objek lingkup global atau lingkup bawaan, tetapi tidak dapat mengubah nilainya. Ketika kita mencoba melakukan assignment maka otomatis Python akan membuatkan identifier lokal dengan nama itu dan menutup akses nama itu ke lingkup di atasnya."
   ]
  },
  {
   "cell_type": "code",
   "execution_count": 19,
   "id": "c0ef31bf-890e-40c6-93b2-578fcef83208",
   "metadata": {},
   "outputs": [
    {
     "name": "stdout",
     "output_type": "stream",
     "text": [
      "identifier global\n",
      "['namaku'] Bento\n",
      "['fungsi_sub', 'namaku', 'nilai_ujian'] Bejo 77\n",
      "mengubah identifier \"non-lokal\"\n",
      "['namaku', 'ujian_akhir'] Bejo Tinurut\n",
      "Bejo Tinurut 99\n"
     ]
    }
   ],
   "source": [
    "def fungsi_abc():\n",
    "    def fungsi_sub():\n",
    "        nonlocal namaku\n",
    "        namaku = 'Bejo Tinurut'\n",
    "        ujian_akhir = 99\n",
    "        print('mengubah identifier \"non-lokal\"')\n",
    "        print(dir(),namaku)\n",
    "        return ujian_akhir\n",
    "    namaku = 'Bejo'\n",
    "    nilai_ujian = 77\n",
    "    print(dir(), namaku, nilai_ujian)    \n",
    "    nilai_ujian = fungsi_sub()\n",
    "    print(namaku, nilai_ujian)\n",
    "\n",
    "def main():\n",
    "    namaku = 'Bento'\n",
    "    print(dir(), namaku)\n",
    "    fungsi_abc()\n",
    "\n",
    "namaku = 'identifier global'\n",
    "print(namaku)\n",
    "main()\n"
   ]
  },
  {
   "cell_type": "markdown",
   "id": "54dac087-3075-4205-a1f3-6eda24bf6f4b",
   "metadata": {},
   "source": [
    "Mendefinisikan identifier pada lingkup global tidak disarankan dan dianggap sebagai praktek berbahaya. Agar penamaan (namespace) terkendali sebaiknya semua identifier berada di dalam fungsi. Transfer objek ke dalam atau keluar fungsi yang disebut parameter passing dilakukan dengan assignment argumen dan return value.   \n",
    "Dalam situasi dimana diperlukan akses read/write langsung, maka dapat ditempuh strategi penempatan fungsi di dalam fungsi dan menyatakan bahwa identifier yang akan diakses itu berada di luar fungsi yang sebelah dalam menggunakan statement **nonlocal \\<nama\\>**.\n"
   ]
  },
  {
   "cell_type": "markdown",
   "id": "b6521088-5894-41c1-8206-a71e59011147",
   "metadata": {},
   "source": [
    "### DESAIN ANTAR MUKA (INTERFACE)"
   ]
  },
  {
   "cell_type": "markdown",
   "id": "d605caee-00da-4c3f-bc8f-431fbee534c7",
   "metadata": {},
   "source": [
    "Pada bagian ini kita akan mempelajari proses mendesain fungsi supaya bekerja dengan baik. Disini kita akan menggunakan pustaka modul *turtle*, yang melaluinya kita dapat membuat beberapa grafik sebagai sarana praktek. Modul turtle sudah disertakan dalam instalasi Python dan kode latihan kita akan dijalankan dalam konsol shell Python.   \n",
    "_bagian ini mengambil materi dari Think Python, Allen B. Downey chapter 4_\n"
   ]
  },
  {
   "cell_type": "markdown",
   "id": "27ea3a1f-c853-47cc-a639-0c48ec62536f",
   "metadata": {},
   "source": [
    "#### Modul turtle   \n",
    "Kita dapat memeriksa apakah modul turtle tersedia dengan perintah di shell Python (setelah memanggil python dari command console) sebagai berikut:\n",
    "\n",
    "<pre>\n",
    ">>> import turtle\n",
    ">>> pena = turtle.Turtle()\n",
    "</pre>\n",
    "\n",
    "Jika sudah tersedia maka akan muncul window baru dengan tanda panah kecil di tengah. Tutup kembali windownya untuk saat ini.   \n",
    "Salin kode berikut ke dalam file bernama poligon.py\n",
    "<pre>\n",
    "import turtle\n",
    "pena = turtle.Turtle()  # membuat instans dari turtle\n",
    "print(f'{pena = }')\n",
    "pena.fd(100)\n",
    "pena.lt(90)\n",
    "pena.fd(100)\n",
    "turtle.mainloop()  # melepas kontrol ke window\n",
    "</pre>\n",
    "lalu jalankan dari command console dengan perintah <pre>> python poligon.py</pre>\n",
    "Dalam console akan ditampilkan bahwa pena adalah suatu objek tipe turtle yang selanjutnya akan kita gunakan dengan metoda-metoda yang terkait dengan objek tersebut.\n",
    "Metoda class turtle.mainloop() adalah metoda untuk menampilkan window grafik agar tidak tertutup langsung karena kode kita sudah mencapai baris terakhir, dan selanjutnya kita bisa menutup window dari elemen window itu sendiri (X).\n"
   ]
  },
  {
   "cell_type": "markdown",
   "id": "bd48c856-04e5-4ff0-b13d-6abe777c42d0",
   "metadata": {},
   "source": [
    "Penjelasan tentang kelas turtle dapat dipelajari dari dokumentasinya di https://docs.python.org/3.10/library/turtle.html atau \n",
    "dari shell python ketik \n",
    "<pre>\n",
    ">>> import turtle\n",
    ">>> dir(turtle)\n",
    ">>> help(turtle)\n",
    "</pre>"
   ]
  },
  {
   "cell_type": "markdown",
   "id": "f0a35242-bcd4-4ec7-a3c4-15308cc92873",
   "metadata": {},
   "source": [
    "Metoda yang akan kita gunakan dalam praktek kita adalah terutama maju/forward(fd), dan belok kiri/ left(lt). Metoda yang lain dapat dilihat dari perintah di atas.  \n"
   ]
  },
  {
   "cell_type": "markdown",
   "id": "838bc6ec-b429-4568-b7bf-b9bdea837deb",
   "metadata": {},
   "source": [
    "Perintah maju fd(jarak) akan menorehkan garis sepanjang nilai jarak. Nilai jarak dapat berupa bilangan bulat maupun pecahan. Perintah belok kiri lt(sudut) akan mengarahkan panah ke arah sudut yang diberikan. Contoh di atas, pena.fd(100); pena.lt(90); pena.fd(100) menggambar dua potong garis ke arah timur berbelok ke arah utara.   \n",
    "\n",
    "Edit poligon.py dengan memakai perintah fd(100) lt(90) sebanyak empat kali untuk membuat suatu bujur sangkar. Silahkan selesaikan latihan ini sebelum Anda meneruskan membaca."
   ]
  },
  {
   "cell_type": "markdown",
   "id": "13cf6f54-11f0-407a-bd93-315214e0807b",
   "metadata": {},
   "source": [
    "#### loop"
   ]
  },
  {
   "cell_type": "markdown",
   "id": "ae2e7f51-cca9-47e8-8991-f28281b5a598",
   "metadata": {},
   "source": [
    "Anda mungkin telah menuliskan perintah menggambar bujur sangkar seperti ini,\n",
    "<pre>\n",
    "pena.fd(100)\n",
    "pena.lt(90)\n",
    "\n",
    "pena.fd(100)\n",
    "pena.lt(90)\n",
    "\n",
    "pena.fd(100)\n",
    "pena.lt(90)\n",
    "\n",
    "pena.fd(100)\n",
    "</pre>\n",
    "Kita dapat menuliskan secara lebih ringkas dengan menggunakan perintah perulangan dalam suatu blok seperti ini,\n",
    "<pre>\n",
    "for i in range(4):\n",
    "    pena.fd(100)\n",
    "    pena.lt(90)\n",
    "</pre>\n",
    "Kalimat *for* disebut juga loop atau **for loop** karena mengulangi perintah dalam blok di bawahnya, 4 kali dalam contoh kita.\n"
   ]
  },
  {
   "cell_type": "markdown",
   "id": "2fd458e6-f1bc-41cd-8d2f-3b292e11f331",
   "metadata": {},
   "source": [
    "#### Latihan"
   ]
  },
  {
   "cell_type": "markdown",
   "id": "34ee1d6f-416c-4663-b103-c332b576479d",
   "metadata": {},
   "source": [
    "1. Buatkan suatu fungsi bernama bujursangkar dengan parameter masukan t sebagai objek turtle. Fungsi itu membuat gambar bujursangkar menggunakan turtle tersebut.   \n",
    "Buat pemanggil fungsi dengan argumen pena kepada fungsi bujursangkar itu.\n",
    "2. Tambahkan parameter lain bernama jarak ke dalam fungsi bujursangkar, dan ubah badan fungsi agar menggunakan parameter jarak untuk panjang sisi sisinya. Buat pemanggil fungsi dengan tambahan argumen jarak. Jalankan program beberapa kali dengan nilai jarak yang berbeda.\n",
    "3. Salin fungsi bujursangkar dan namai poligon lalu tambahkan parameter bernama n. Ubah badan fungsi sehingga menggambar poligon segi-n.   \n",
    "Petunjuk: sudut luar yang digunakan adalah 360/n derajat.\n",
    "4. Buatkan suatu fungsi bernama lingkaran dengan parameter masukan t turtle, r radius, yang menggambar lingkaran pendekatan dengan memanggil fungsi poligon dengan argumen jarak, dan segi-n yang sesuai. Periksa fungsi Anda dengan beberapa nilai radius.   \n",
    "Petunjuk: hitung keliling lingkaran dan pastikan jarak * n = keliling lingkaran.\n"
   ]
  },
  {
   "cell_type": "markdown",
   "id": "8cfb0e78-53f6-4078-aa8a-de959c2281ad",
   "metadata": {},
   "source": [
    "#### Jawaban\n",
    "Berikut adalah jawaban latihan di atas, tetapi sebaiknya Anda mencoba menyelesaikan sendiri latihan di atas sebelum membandingkannya dengan jawaban berikut ini.   \n"
   ]
  },
  {
   "cell_type": "markdown",
   "id": "b108a1e8-c6b5-4a73-b2c5-abd8c57f355f",
   "metadata": {},
   "source": [
    "##### 1. Enkapsulasi"
   ]
  },
  {
   "cell_type": "markdown",
   "id": "82a84a12-e32e-4304-bb0e-a2f08577830e",
   "metadata": {},
   "source": [
    "<pre>\n",
    "import turtle\n",
    "def bujursangkar(t):\n",
    "    for _ in range(4):\n",
    "        t.fd(100)\n",
    "        t.lt(90)\n",
    "        \n",
    "pena = turtle.Turtle()\n",
    "bujursangkar(pena)\n",
    "turtle.mainloop()\n",
    "</pre>"
   ]
  },
  {
   "cell_type": "markdown",
   "id": "083b4a91-6243-4c41-91ed-2a84204357ac",
   "metadata": {},
   "source": [
    "Membungkus sepotong kode ke dalam fungsi dinamakan **enkapsulasi**. Salah satu manfaat enkapsulasi ialah bahwa kode yang dibungkus sekarang dapat memiliki nama yang memberikan rangkuman apa yang dijalankan di dalamnya. Manfaat lain ialah bahwa fungsi tersebut dapat dipanggil ulang dengan argumen yang sama atau berbeda, yang lebih ringkas daripada harus menyalin seluruh badan fungsi berulang ulang.\n",
    "\n",
    "##### 2. Generalisasi\n",
    "Salin kode berikut ke file bujursangkar.py dan jalankan pada command console.\n",
    "<pre>\n",
    "import turtle\n",
    "\n",
    "def bujursangkar(t, jarak):\n",
    "    \"bujursangkar dengan turtle\"\n",
    "    for _ in range(4):\n",
    "        t.fd(jarak)\n",
    "        t.lt(90)\n",
    "\n",
    "pena = turtle.Turtle()  # membuat instans dari turtle\n",
    "for i in range(12):\n",
    "    bujursangkar(pena, 100+ i*i)\n",
    "    pena.lt(-30)\n",
    "    pena.fd(10)\n",
    "\n",
    "turtle.mainloop()  # melepas kontrol ke window\n",
    "</pre>\n",
    "\n",
    "Menambah parameter pada fungsi membuat fungsi tersebut dapat dipergunakan secara umum, disebut generalisasi. Jika pada contoh sebelumnya ukuran bujursangkar konstan ditentukan dari dalam fungsi, maka dengan tambahan parameter dapat diatur dari pemanggil fungsi."
   ]
  },
  {
   "cell_type": "markdown",
   "id": "778c1ba1-0ae6-4cbc-a082-c28567fcf123",
   "metadata": {},
   "source": [
    "##### 3. Generalisasi (lagi)\n",
    "Dalam fungsi bujursangkar, sudutnya sudah ditentukan dari dalam fungsi yaitu 90 derajat, artinya jumlah sisinya selalu konstan segi-4. Fungsi poligon menambah parameter jumlah segi/sisi sehingga dapat ditentukan dari pemanggil. Dengan bertambahnya agumen maka perlu digunakan nama supaya mudah diingat dan bebas letak urutan argumennya.\n",
    "<pre>\n",
    "import turtle\n",
    "\n",
    "def setposisi(t,x,y):\n",
    "    \"set posisi awal\"\n",
    "    t.penup()\n",
    "    t.setx(x)\n",
    "    t.sety(y)\n",
    "    t.pendown()\n",
    "\n",
    "def poligon(t, sisi, segi):\n",
    "    \"poligon segi-n\"\n",
    "    sudut = 360 / segi\n",
    "    for _ in range(segi):\n",
    "        t.forward(sisi)\n",
    "        t.left(sudut)\n",
    "\n",
    "pena = turtle.Turtle()  # membuat instans dari turtle\n",
    "setposisi(pena,-100,100)\n",
    "poligon(pena, 70, 4)\n",
    "\n",
    "setposisi(pena,50,50)\n",
    "poligon(pena, segi=5, sisi=100)  # keyword arguments\n",
    "\n",
    "setposisi(pena,-160,-130)\n",
    "poligon(pena,60, 9)\n",
    "\n",
    "turtle.mainloop()  # melepas kontrol ke window\n",
    "</pre>\n"
   ]
  },
  {
   "cell_type": "markdown",
   "id": "e341f1f0-4b1a-4431-af8b-d46856e9867a",
   "metadata": {},
   "source": [
    "##### 4. Desain antarmuka (interface)\n",
    "Untuk membuat lingkaran kita dapat menggunakan fungsi poligon dengan segi-n yang banyak, misalnya 50. Jika r adalah radius lingkaran, maka keliling lingkaran 2*pi*r adalah panjang sisi kali segi-n.\n",
    "Maka jika kita tetapkan segi n = 50, maka panjang sisi = keliling/50.\n",
    "<pre>\n",
    "def lingkaran(t,r):\n",
    "    pjg_sisi = 2*math.pi*r / 50\n",
    "    poligon(pena, segi=50, sisi=pjg_sisi)\n",
    "</pre>\n",
    "Membuat jumlah segi n = 50 secara konstan bisa bermasalah, mungkin kurang untuk radius yang besar dan terlalu boros untuk radius yang kecil, sehingga mungkin kita berpendapat bahwa sebaiknya n dijadikan parameter juga. Tetapi hal itu akan membuat interface menjadi kurang rapi. Fungsi lingkaran(t,radius,n) menjadi terasa kurang pas bukan? Solusinya agar interface tetap rapi nilai n harus kita buatkan sebanding dengan radius, makin besar radius makin banyak n.\n",
    "Jadi misalnya kita rumuskan, n = 3 + int(keliling/5), minimal 3 dan bilangan bulat. Faktor pembagi dapat diatur sesuai kualitas yang diinginkan tetapi kualitas tersebut akan terlihat sama untuk radius kecil atau radius besar.\n",
    "<pre>\n",
    "def lingkaran(t,radius):\n",
    "    keliling = 2 * math.pi * radius\n",
    "    segi = 3 + int(keliling/5)\n",
    "    pjg_sisi = keliling / segi\n",
    "    poligon(pena, segi=segi, sisi=pjg_sisi)\n",
    "   </pre>\n",
    "   "
   ]
  },
  {
   "cell_type": "markdown",
   "id": "0abf7f27-ea16-4e3b-8f2d-a391a6ee0e77",
   "metadata": {},
   "source": [
    "##### 5. Refactoring\n",
    "Berikut contoh kode yang diperbaiki struktur programnya, *refactoring* istilahnya. Salin dan jalankan dalam command console dan nikmati pergerakannya dalam slow motion, namanya juga turtle, kura-kura grafik."
   ]
  },
  {
   "cell_type": "code",
   "execution_count": 20,
   "id": "33f6f248-738d-4499-84c4-05a6a8ed78d9",
   "metadata": {},
   "outputs": [],
   "source": [
    "import turtle\n",
    "import math\n",
    "\n",
    "def polyline(t, n, length, angle):\n",
    "    for i in range(n):\n",
    "        t.fd(length)\n",
    "        t.lt(angle)\n",
    "\n",
    "def polygon(t, n, length):\n",
    "    angle = 360 / n \n",
    "    polyline(t, n, length, angle)\n",
    "\n",
    "def arc(t, r, angle):\n",
    "    arc_length = 2*math.pi*r *angle /360\n",
    "    n = 1 + int(arc_length/4)\n",
    "    step_length = arc_length /n \n",
    "    step_angle = float(angle)/n \n",
    "    polyline(t,n, step_length, step_angle)\n",
    "\n",
    "def circle(t,r):\n",
    "    arc(t,r,360)\n",
    "\n",
    "def setposisi(t,x,y):\n",
    "    \"set posisi awal\"\n",
    "    t.penup()\n",
    "    t.setx(x)\n",
    "    t.sety(y)\n",
    "    t.pendown()\n",
    "\n",
    "def bunga_A(t, k):\n",
    "    for _ in range(k):\n",
    "        arc(t, 100, 360/k)\n",
    "        t.lt(180 - 360/k)\n",
    "        arc(t, 100, 360/k)\n",
    "        t.lt(180)    \n",
    "\n",
    "def bunga_B(t,k):\n",
    "    for _ in range(k):\n",
    "        arc(t, 100, 4*360/k)\n",
    "        t.lt(180 - 2*360/k)\n",
    "\n",
    "def bunga_C(t,k):\n",
    "    for _ in range(k):\n",
    "        arc(t, 100, 8*360/k)\n",
    "        t.lt(180 - 4*360/k)\n",
    "\n",
    "def bunga_D(t,k):\n",
    "    for _ in range(k):\n",
    "        arc(t, 100, 3*360/k)\n",
    "        t.lt(180 - 1.5*360/k)\n",
    "\n",
    "\n",
    "pena = turtle.Turtle()  # membuat instans dari turtle\n",
    "\n",
    "setposisi(pena, 30, 80)\n",
    "bunga_A(pena,7)\n",
    "\n",
    "setposisi(pena,-55,-200)\n",
    "bunga_D(pena,7)\n",
    "\n",
    "setposisi(pena, 140, 0)\n",
    "bunga_B(pena,10)\n",
    "\n",
    "setposisi(pena,-300, 0)\n",
    "bunga_C(pena,18)\n",
    "\n",
    "turtle.mainloop()  # melepas kontrol ke window\n"
   ]
  },
  {
   "cell_type": "markdown",
   "id": "d52645d5-e084-4b60-9a23-33d5d8a4bc8d",
   "metadata": {},
   "source": [
    "Latihan dan contoh di atas dimaksudkan sebagai kegiatan pemrograman yang menyenangkan dan diharapkan Anda dapat memetik beberapa pelajaran dari padanya, tentang enkapsulasi, generalisasi, interfacing dan refactoring.    \n",
    "    -o0o-\n",
    "    "
   ]
  },
  {
   "cell_type": "code",
   "execution_count": null,
   "id": "bd84d08f-7028-4478-b2b2-1039970219df",
   "metadata": {},
   "outputs": [],
   "source": []
  }
 ],
 "metadata": {
  "kernelspec": {
   "display_name": "Python 3 (ipykernel)",
   "language": "python",
   "name": "python3"
  },
  "language_info": {
   "codemirror_mode": {
    "name": "ipython",
    "version": 3
   },
   "file_extension": ".py",
   "mimetype": "text/x-python",
   "name": "python",
   "nbconvert_exporter": "python",
   "pygments_lexer": "ipython3",
   "version": "3.10.4"
  }
 },
 "nbformat": 4,
 "nbformat_minor": 5
}
