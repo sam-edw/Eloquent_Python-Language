{
 "cells": [
  {
   "cell_type": "markdown",
   "id": "b684aa6a-a8a1-4cb1-8346-312e4b7acf28",
   "metadata": {},
   "source": [
    "## 1. BUNGA RAMPAI PYTHON"
   ]
  },
  {
   "cell_type": "markdown",
   "id": "c602d8b2-1934-4c69-bba4-9c2057f40fc9",
   "metadata": {
    "jp-MarkdownHeadingCollapsed": true,
    "tags": []
   },
   "source": [
    "_Tulisan ini berisi materi tambahan pemrograman Python, berupa bunga rampai pembahasan spesifikasi Python untuk mendorong kegiatan belajar secara mandiri. Pembaca diharapkan sudah mengenal dasar-dasar bahasa Python.    \n",
    "Untuk topik topik yang sekiranya perlu tutorial, disarankan mempelajarinya dalam tulisan Dr. Charles R. Severance berjudul Python for Everybody atau publikasinya py4e di github, dan Think Python oleh Prof. Allen B. Downey_ \n",
    "   \n",
    "\n",
    "#### PENGANTAR\n",
    "Saat ini, komputer telah menjadi peralatan yang lazim digunakan seperti halnya obeng dan tang. Komputer hebat dalam pekerjaan rutin tetapi payah untuk pekerjaan yang memerlukan kreativitas, sementara kita manusia kebalikannya, cepat bosan jika melakukan hal-hal sepele berulang-ulang. Fakta bahwa komputer cepat, hebat untuk melakukan perkejaan yang tidak kita sukai, merupakan alasan mengapa kita perlu belajar 'berkomunikasi' dengan komputer untuk membantu kita menyelesaikan suatu pekerjaan, melalui apa yang disebut bahasa pemrograman.    \n",
    "   \n",
    "Ada banyak bahasa pemrograman yang sudah dibuat/digunakan orang sejak ditemukannya komputer seperti Assembler, FORTRAN, BASIC, Pascal, LISP, Prolog, Perl, C/C++, Java, Javascript, PHP, Swift, Kotlin, Python, Scala, dan lainnya.   \n",
    "\n",
    "Lalu kenapa memilih Python? Karena:\n",
    "- bahasa dinamis lebih produktif\n",
    "- kode Python lebih mudah dibaca\n",
    "- kode Python lebih mudah perawatannya\n",
    "- Python memiliki tipe data bawaan tingkat tinggi\n",
    "- waktu pengembang lebih berharga dari waktu CPU\n",
    "\n",
    "Dari pengalaman guru guru besar seperti Prof. Allen B. Downey, ternyata Python cocok diajarkan sebagai bahasa pengantar karena sederhana, lebih mudah dicerna, lebih mudah diterima dibanding Java misalnya. Institut Teknologi Massachusetts, MIT Amerika, yang sekarang memilih mengajarkan Python sebagai mata kuliah pengantar untuk keilmuan Computer Science, CS.6.000, menggantikan bahasa Scheme yang diajarkan bertahun tahun sebelumnya, menandakan bahwa Python mudah untuk pemula, dan memadai untuk digunakan sebagai sarana pengembangan logika berpikir.   \n",
    "\n",
    "#### Kosakata Kunci \n",
    "Tidak seperti bahasa percakapan biasa, kosakata kunci Python ternyata sedikit saja. Kita menyebutnya juga 'reserved words', dan setiap kata tersebut memiliki arti yang tunggal, unik bagi Python. Python juga berkembang sehingga versi yang lebih baru mungkin memiliki lebih banyak kosakata, tetapi perbedaannya tidak banyak.\n",
    "<pre>\n",
    "False               class               from                or\n",
    "None                continue            global              pass\n",
    "True                def                 if                  raise\n",
    "and                 del                 import              return\n",
    "as                  elif                in                  try\n",
    "assert              else                is                  while\n",
    "async               except              lambda              with\n",
    "await               finally             nonlocal            yield\n",
    "break               for                 not\n",
    "</pre>   \n",
    "Sejak Python versi 3.10 ada tambahan kosakata *match* dan *case* yang tergolong kosakata kunci lunak, artinya dapat digunakan juga sebagai nama pengenal.\n",
    "\n",
    "Beberapa di antaranya adalah nama objek konstanta tunggal (_singleton_), tidak bisa di definisikan ulang, tidak dapat diubah. **False, True** adalah objek khusus bernilai 0 dan 1 dalam hampir semua evaluasi kecuali jika diprint maka akan menjadi string 'False' dan 'True'. **None** adalah objek khusus untuk menandai ketidak-adaan.     \n",
    "Selain dari reserved words, dan beberapa simbol operasi, bagian terbesar Python terdiri dari objek yang diunjuk dengan nama pengenal rujukan objek (identifiers)."
   ]
  },
  {
   "cell_type": "markdown",
   "id": "c4c6bce2-f97a-4f4b-82f0-dcb21bef0921",
   "metadata": {
    "tags": []
   },
   "source": [
    "#### Interaksi awal\n",
    "Sebelum mencoba berinteraksi dengan Python, Anda perlu melakukan instalasi Python di komputer Anda terlebih dulu. Jika operating system komputer Anda linux, maka kemungkinan besar python sudah terinstal, siap dipakai. Tetapi bila Anda menginginkan versi berbeda dari yang tersedia maka Anda perlu menginstal _pyenv_ lebih dahulu (tutorial instalasi/penggunaan _pyenv_ silahkan di-googling). Untuk instruksi instalasi di Windows, Anda dapat merujuk ke <a>www.py4e.com</a> atau situs python <a>https://www.python.org/ftp/python/3.10.1/python-3.10.1-amd64.exe</a>    \n",
    "Saya sarankan juga agar Anda menginstal pip, ipython dan jupyter-lab agar memudahkan Anda mencoba kode program Python dan menyertakan komentar, penjelasan sebagai pengingat.    \n",
    "Setelah menginstal python, silahkan Anda masuk ke terminal command line lalu ketikan perintah berikut:   \n",
    "<pre>\n",
    "curl https://bootstrap.pypa.io/get-pip.py -o get-pip.py\n",
    "python get-pip.py\n",
    "pip install ipython\n",
    "pip install jupyterlab\n",
    "</pre>\n",
    "\n",
    "Jika semua berjalan mulus, Anda dapat masuk ke web lokal jupyter lab melalui browser Anda dengan perintah berikut pada terminal command line:\n",
    "<pre>jupyter lab</pre>\n",
    "\n"
   ]
  },
  {
   "cell_type": "markdown",
   "id": "4e171e7d-89e9-44d0-b631-ceaefe5dbdcf",
   "metadata": {},
   "source": [
    "Berikut contoh penggunaan ekspresi literal numerik bilangan bulat, dan ekspresi literal string."
   ]
  },
  {
   "cell_type": "code",
   "execution_count": 1,
   "id": "466911ea-f340-4e31-b09a-fa520008844d",
   "metadata": {},
   "outputs": [
    {
     "data": {
      "text/plain": [
       "42"
      ]
     },
     "execution_count": 1,
     "metadata": {},
     "output_type": "execute_result"
    }
   ],
   "source": [
    "2 * 3 * 7"
   ]
  },
  {
   "cell_type": "markdown",
   "id": "77bf47d6-d366-4cf4-8609-b9a67cfdeccb",
   "metadata": {},
   "source": [
    "Shell Python dapat berfungsi sebagai kalkulator. Kalkulator bilangan bulat Python dapat menghitung angka sangat besar tanpa pembatasan, sampai tak berhingga jika memori komputer Anda dapat menampungnya. _Python menyimpan bilangan bulat dalam suatu struktur objek integer yang akomodatif._"
   ]
  },
  {
   "cell_type": "code",
   "execution_count": 2,
   "id": "8de7839d-1258-40cf-bc82-d07dd5e706cf",
   "metadata": {},
   "outputs": [
    {
     "data": {
      "text/plain": [
       "42"
      ]
     },
     "execution_count": 2,
     "metadata": {},
     "output_type": "execute_result"
    }
   ],
   "source": [
    "(-80538738812075974)**3 + 80435758145817515**3 + 12602123297335631**3"
   ]
  },
  {
   "cell_type": "markdown",
   "id": "ec211f6a-4e11-4a29-94ed-e368fd36d66e",
   "metadata": {},
   "source": [
    "_Tidak seperti struktur tipe data primitif yang hanya berisi nilai, struktur objek berisi tipe data, nilai data, dan disertai juga fungsi-fungsi yang diperuntukkan khusus tipe/kelas objeknya; fungsi demikian dinamakan metoda dan dieksekusi jika diperlukan saat mengevaluasi ekspresi.    \n",
    "Contoh operator penjumlahan **+** mengeksekusi metoda \\_\\_add\\_\\_ yang sesuai dan melekat pada objeknya sehingga **+** untuk bilangan bulat berbeda hasilnya dengan **+** pada kata-kata atau string.     \n",
    "Begitu juga operator perkalian __*__ dengan metoda \\_\\_mul\\_\\_ memiliki arti dan implementasi kode yang berbeda sesuai tipe objeknya._"
   ]
  },
  {
   "cell_type": "code",
   "execution_count": 3,
   "id": "3493de7b-529c-4c41-b743-e088f81fea3e",
   "metadata": {},
   "outputs": [
    {
     "data": {
      "text/plain": [
       "'Hello world'"
      ]
     },
     "execution_count": 3,
     "metadata": {},
     "output_type": "execute_result"
    }
   ],
   "source": [
    "'Hello' + ' world'"
   ]
  },
  {
   "cell_type": "code",
   "execution_count": 4,
   "id": "7da9c61e-77c4-492f-893b-732b623646d4",
   "metadata": {},
   "outputs": [
    {
     "data": {
      "text/plain": [
       "'~-~-~-~-~-~-~-~-~-~-~-~-~-~-~-~-~-~-~-~-~-~-~-~-~-~-~-~-~-~-~-~-~-~-~-~-~-~-~-~-~-~-'"
      ]
     },
     "execution_count": 4,
     "metadata": {},
     "output_type": "execute_result"
    }
   ],
   "source": [
    "'~-' * 42"
   ]
  },
  {
   "cell_type": "markdown",
   "id": "b986bb37-adb0-4331-bc84-533708ee82f8",
   "metadata": {},
   "source": [
    "Tulisan ini (teks dan kode program) menggunakan JupyterLab, tetapi Anda dapat juga menjalankan Python di command line, editor IDLE bawaan Python, atau IDE --integrated development environment-- PyCharms.  \n",
    "Dari konsol command line ketik python atau python3, untuk memasuki shell python.\n",
    "<pre>\n",
    ">python\n",
    "Python 3.10.1 (tags/v3.10.1:2cd268a, Dec  6 2021, 19:10:37) [MSC v.1929 64 bit (AMD64)] on win32\n",
    "Type \"help\", \"copyright\", \"credits\" or \"license\" for more information.\n",
    ">>> print('hello world!')\n",
    "hello world!\n",
    ">>> quit()\n",
    ">\n",
    "</pre>\n",
    "atau jika OS linux:\n",
    "<pre>\n",
    "~$ python3\n",
    "Python 3.10.4 (main, May 26 2022, 14:45:58) [GCC 9.4.0] on linux\n",
    "Type \"help\", \"copyright\", \"credits\" or \"license\" for more information.\n",
    ">>> print('hello')\n",
    "hello\n",
    ">>> quit()\n",
    "~$ </pre>"
   ]
  },
  {
   "cell_type": "markdown",
   "id": "46787658-3219-45c8-8df2-cfd5e572282b",
   "metadata": {},
   "source": [
    "Program kita biasanya disimpan dalam file terpisah dengan ekstensi .py misalnya hello.py   \n",
    "Walaupun dapat dieksekusi langsung, sebenarnya Python memiliki suatu format struktur program yang dianjurkan seperti ini:\n",
    "<pre>\n",
    "def main():\n",
    "    print('saya belajar python')\n",
    "    \n",
    "if __name__ == '__main__':\n",
    "    main()\n",
    "</pre>\n",
    "Kita save script di atas dalam file my_first_script.py lalu bisa kita jalankan dengan:\n",
    "<pre>\n",
    ">python my_first_script.py\n",
    "saya belajar python\n",
    "\n",
    ">\n",
    "</pre>"
   ]
  },
  {
   "cell_type": "markdown",
   "id": "a99f4aab-9f98-46d9-8e86-e79c7d145a4c",
   "metadata": {},
   "source": [
    "Aturan urutan penulisan script ialah bahwa definisi suatu fungsi harus didahukukan daripada pemanggilan/eksekusinya sehingga definisi yang diperlukan sudah lebih dahulu diketahui sebelum kode yang memanggilnya.\n",
    "<pre>\n",
    ">type wrong.py\n",
    "main()  # memanggil fungsi main\n",
    "\n",
    "def main():  # definisi fungsi main\n",
    "    print('is it okay?')\n",
    "\n",
    ">python wrong.py\n",
    "Traceback (most recent call last):\n",
    "  File \"C:\\Users\\emang\\wrong.py\", line 1, in <module>\n",
    "    main()\n",
    "NameError: name 'main' is not defined. Did you mean: 'min'?\n",
    "\n",
    ">\n",
    "</pre>"
   ]
  },
  {
   "cell_type": "markdown",
   "id": "afeb35aa-8c2d-486f-9509-f0c53efa028a",
   "metadata": {},
   "source": [
    "#### KONSEP DAN POLA PYTHON"
   ]
  },
  {
   "cell_type": "markdown",
   "id": "55d58953-0a66-47ce-9b50-d656595820bc",
   "metadata": {},
   "source": [
    "Beberapa baris kode berikut mengungkapkan konsep dan pola program Python."
   ]
  },
  {
   "cell_type": "code",
   "execution_count": 5,
   "id": "af915e29-fcda-44ea-bb3d-0c0116a94c0d",
   "metadata": {},
   "outputs": [
    {
     "data": {
      "text/plain": [
       "6"
      ]
     },
     "execution_count": 5,
     "metadata": {},
     "output_type": "execute_result"
    }
   ],
   "source": [
    "def ppb(a,b):\n",
    "    \"Pembagi Persekutuan terBesar dari dua bilangan, menggunakan algoritme Euklides\"\n",
    "    while b != 0:\n",
    "        a, b = b, a%b\n",
    "    return a\n",
    "\n",
    "ppb(24,42)"
   ]
  },
  {
   "cell_type": "markdown",
   "id": "6f84433f-0e73-42d1-b7b6-2fbbb38265a4",
   "metadata": {},
   "source": [
    "Ciri-ciri utama Python yang disampaikan Guido van Rossum, ialah: \n",
    "- tanpa deklarasi tipe fungsi ataupun tipe parameter/argumen:\n",
    "    + sebagai bahasa dinamis tidak perlu deklarasi statis untuk tipe parameter maupun return objek    \n",
    "    + anotasi dapat ditambahkan sebagai keterangan\n",
    "- blok/grup ditandai dengan indentasi dan titik dua    \n",
    "    + identasi membuat penulisan kode dapat distandarkan menjadi seragam\n",
    "- doc string dokumentasi merupakan bagian dari sintaks fungsi, dapat ditampilkan dengan:    \n",
    "    + mouse cursor hovering di atas nama fungsi pada IDE yang mendukung,    \n",
    "    + help(function) untuk fungsi yang diimpor misalnya\n",
    "      <pre>from collections import Counter\n",
    "      print(help(Counter))</pre>\n",
    "- fitur assignment paralel    \n",
    "   +  multi assignment dilakukan berbarengan, misalnya bertukar nama tanpa perantara a,b = b,a  \n"
   ]
  },
  {
   "cell_type": "markdown",
   "id": "16b0f26f-0ba4-4d7a-baf9-674dca89d745",
   "metadata": {},
   "source": [
    "Mari melihat konsep/pola C dan Java sebagai perbandingan.    \n",
    "    \n",
    "*helloworld.c*\n",
    "<pre>\n",
    "#include &lt;stdio.h>\n",
    "int main() {\n",
    "    printf(\"Hello, World!\");\n",
    "    return 0;\n",
    "}\n",
    "</pre>\n",
    "- **printf** adalah suatu fungsi yang akses ke librarynya melalui file header **stdio.h**    \n",
    "- **int** adalah tipe integer (biasanya 32-bit) untuk menampung return value sebagai nilai laporan error    \n",
    "- **main** adalah nama istimewa fungsi yang pertama-tama akan dieksekusi    \n",
    "- **;** titik koma adalah tanda akhir kalimat    \n",
    "- blok dibatasi dengan tanda kurawal buka dan kurawal tutup **{}**    \n",
    "- konsep C mengedepankan fungsi-fungsi terhadap variabel statik; fungsi didefinisikan pada level global;      \n",
    "\n",
    "*HelloWorld.java*\n",
    "<pre>\n",
    "public class HelloWorld {\n",
    "    public static void main(String[] args) {\n",
    "        System.out.println(\"Hello, World\");\n",
    "    }\n",
    "}\n",
    "</pre>\n",
    "- konsep Java adalah lebih baik memperbaiki error waktu compile dari pada mencari bug yang mengakibatkan run-time error; caranya adalah dengan membuat semuanya kaku, harus eksplisit dan dengan struktur kelas yang rapi menyeluruh.    \n",
    "- nama class utama harus sama dengan nama file kode sumber     \n",
    "- harus eksplisit kelas public atau private   \n",
    "- harus jelas tipe datanya yaitu kelompok primitif: byte, short, int, long, float, double, boolean, char, atau kelompok objek/kelas misalnya: String, Integer, BigInteger    \n",
    "- fungsi dapat didefinisikan di dalam kelas    \n",
    "- fungsi istimewa **public static void main(String[] args)** harus ada untuk memulai eksekusi    \n",
    "- memanggil fungsi/metoda harus menyebutkan nama kelas, field, metoda, contoh System.out.println(char[]) terdiri dari System kelas dari package java.lang.System, public static final PrintStream out sebagai field, berasal dari java.io.PrintStream, dan PrintStream.println(char[]), salah satu dari .println(java.lang.String), .println(int) dan lainnya karena objek masih bercampur dengan tipe primitif.    \n",
    "\n",
    "Guido van Rossum memperkenalkan konsep Python melalui yang tersurat, tersirat, atau yang 'hilang' dari program demo di atas. Mari kita analisa beberapa diantaranya.\n",
    "\n",
    "- _Bagaimana Python mengeksekusi kode program jika tidak memakai fungsi **main**?_    \n",
    "Python mengadopsi kode bergaya script yaitu eksekusi baris demi baris dari atas ke bawah, bukan mulai dari fungsi *main()*. Kalimat deklarasi suatu fungsi ketika dijalankan mempersiapkan dulu callable object beserta parameter-parameternya, menyimpan nama fungsi pada namespace dalam current scope, lalu binding nama dengan objeknya, tetapi belum menjalankan kode definisi fungsinya. Cara menjalankan kode definisi fungsi adalah  menggunakan format *nama_fungsi(arg1, arg2)*, sama seperti biasa. Tetapi d\n",
    "eklarasi dan definisi fungsi digabung jadi satu dalam bentuk definisi fungsi.\n",
    "    \n",
    "\n",
    "- _Mengapa tidak ada deklarasi tipe variabel, maupun return value?_    \n",
    "Semua entitas dalam Python, --termasuk fungsi-- diperlakukan sebagai objek. Sistem inferencenya menyimpulkan tipe data secara implisit dari format literal ketika dirun (on the fly). Informasi tipe data langsung disimpan dalam objek itu sendiri. Objek secara seragam diakses dengan pointer, dan tipe data telah disertakan dalam struktur masing masing objek, sehingga deklarasi tipe tidak lagi diperlukan.   \n",
    "\n",
    "- _Mengapa tidak ada kalimat untuk include pustaka standar, atau menyertakan --System.out.println-- sistematika kelas-field-metoda?_    \n",
    "Pustaka standar ada di modul builtins yang secara automatis implisit sudah diimpor ke dalam \\_\\_builtins\\_\\_ sebagai default namespace paling luar. Modul selain berbentuk file pustaka C-compiled, dapat juga berupa kode sumber file Python. Hierarki berupa package yang memiliki sub-package yang berisi modul.    \n",
    "Fungsi print hanya berurusan dengan O/S, sedangkan penyesuaian format dari string, integer, float, boolean, dll dilakukan oleh metoda \\_\\_str\\_\\_ yang melekat pada objek masing-masing, karena semua tipe data sudah berupa kelas/objek.\n",
    "\n",
    "- _Bagaimana dengan arahan akses public, atau private?_     \n",
    "Akses suatu nama fungsi ditentukan oleh aturan scope yaitu dapat diakses dari scope yang sama atau yang berada di level lebih dalam sesuai urutan LEGB (local-enclosing-global-builtin); tidak ada arahan (directive. modifier) public atau private untuk pengecualian. Jadi untuk mendapatkan efek private terhadap suatu fungsi maka fungsi tersebut harus di-deklarasi/definisi-kan di dalam fungsi lain yang membungkusnya --enclosing-- dan hanya pemanggil dalam scope fungsi pembungkus yang dapat mengakses nama fungsi itu.      \n",
    "\n",
    "- _Tidak ada fungsi print tapi bisa mengeluarkan output?_    \n",
    "Shell Python memiliki fitur REPL --read evaluate print loop-- seperti kalkulator mengeluarkan hasil evaluasi terakhir jika ada.    \n",
    "Tetapi print() adalah fungsi built-in yang dapat dipanggil dari scope mana saja, dapat menggunakan format modul.fungsi, dapat juga diimpor khusus dari modul ke dalam current namespace."
   ]
  },
  {
   "cell_type": "code",
   "execution_count": 6,
   "id": "7a0ae2dc-a914-46ee-a5e9-60ba8784df23",
   "metadata": {},
   "outputs": [
    {
     "name": "stdout",
     "output_type": "stream",
     "text": [
      "hello\n",
      "hello again\n",
      "says:\"current namespace has print now\"\n"
     ]
    }
   ],
   "source": [
    "print(\"hello\") #- fungsi print diambil automatis dari namespace __builtins__ \n",
    "\n",
    "import builtins\n",
    "builtins.print('hello again') #- modul.fungsi\n",
    "\n",
    "from builtins import print\n",
    "print('says:\"current namespace has print now\"')\n"
   ]
  },
  {
   "cell_type": "markdown",
   "id": "3d4af931-6275-42a3-a0a4-b190b61a0089",
   "metadata": {},
   "source": [
    "Laporan run-time error Python mudah dimengerti. Seandainya kita mengeksekusi    \n",
    "`ppb('hello','world')`    \n",
    "Error nya sebagai berikut   <pre>\n",
    "Input In [4], in ppb(a, b)\n",
    "      2 \"Pembagi Persekutuan terBesar dari dua bilangan, algoritme Euklides\"\n",
    "      3 while b != 0:\n",
    "----> 4     a, b = b, a%b\n",
    "      5 return a\n",
    "\n",
    "TypeError: not all arguments converted during string formatting\n",
    "</pre>"
   ]
  },
  {
   "cell_type": "markdown",
   "id": "728e9721-9346-4ba8-87a3-2ff3408045a0",
   "metadata": {
    "tags": []
   },
   "source": [
    "#### Fungsi murni dan fungsi efek samping\n",
    "Fungsi adalah suatu proses tindakan memanipulasi argumen input menjadi suatu output. Fungsi ada dua jenis yaitu pertama, fungsi murni (_fruitful function_) seperti definisi matematis, yang mengembalikan suatu objek output, dan kedua, fungsi dengan efek samping (_void function_) yang memberikan dampak pada lingkungan tetapi tidak mengembalikan output.    \n",
    "Fungsi murni contohnya, ppb(a,b) mengembalikan nilai PPB, dan pow(x,y) mengembalikan nilai perpangkatan.\n",
    "Suatu nama adalah fungsi jika `type(nama)`-nya menghasilkan class 'function' atau `str(nama)` mengembalikan string yang menyebutkan bahwa nama tsb adalah fungsi.    \n",
    "Contoh fungsi efek samping, print() menampilkan sesuatu pada console tetapi mengembalikan None.   "
   ]
  },
  {
   "cell_type": "code",
   "execution_count": 7,
   "id": "00fa62e2-870b-4876-8295-1708d9518518",
   "metadata": {},
   "outputs": [
    {
     "name": "stdout",
     "output_type": "stream",
     "text": [
      "<class 'builtin_function_or_method'>\n",
      "<built-in function pow>\n",
      "9\n",
      "<built-in function print>\n",
      "None\n"
     ]
    }
   ],
   "source": [
    "x = 3\n",
    "y = 2\n",
    "\n",
    "print(type(pow))\n",
    "print(str(pow))\n",
    "ans = pow(x,y)\n",
    "print(ans)\n",
    "ans = print(str(print))\n",
    "print(ans)"
   ]
  },
  {
   "cell_type": "markdown",
   "id": "83e5b57a-7d41-4bca-a15f-98d58df44fa6",
   "metadata": {},
   "source": [
    "#### Fungsi buatan sendiri\n",
    "Selain menggunakan fungsi bawaan Python kita dapat menambahkan definisi fungsi buatan sendiri dengan tujuan:\n",
    "- agar dapat dipanggil berulang walau hanya menuliskan sekali saja\n",
    "- menyembunyikan detil implementasi, kita hanya perlu ingat abstraksinya\n",
    "- membuat program menjadi terstruktur sehingga lebih mudah dipahami \n"
   ]
  },
  {
   "cell_type": "markdown",
   "id": "47a5a1a5-7bf4-422f-8846-5ec0b30082d9",
   "metadata": {},
   "source": [
    "Fungsi diawali dengan deklarasinya yaitu oleh keyword **def**, nama fungsinya dan sepasang tanda kurung berisi parameter input, lalu diikuti dengan tanda titik-dua dan --menjorok kedalam dengan indentasi 4 spasi-- blok definisi fungsinya hingga kalimat return.    \n",
    "#### Fungsi rekursi\n",
    "Berikut contoh fungsi murni yang mengembalikan nilai factorial n! untuk suatu argumen n. Kita lihat bahwa definisi fungsi ini berupa definisi setengah jalan, yaitu mengembalikan sesuatu dalam kasus dasar, *base case*, tetapi memanggil kembali dirinya sendiri lagi dengan sedikit mengubah argumennya. Fungsi seperti ini yang dinamakan fungsi rekursi-ekor, menyimpan status dalam ekornya (argumen) dan meneruskan putaran rekursinya sampai tercapai kasus dasarnya, lalu tanpa harus *trace-back* langsung memberi hasil akhir dari ekornya..    \n",
    "Fungsi rekursi memiliki sifat deklaratif yaitu berupa penjelasan penyelesaian dengan sedikit langkah ke arah penyelesaiannya dan solusi kasus dasarnya.   \n"
   ]
  },
  {
   "cell_type": "code",
   "execution_count": 8,
   "id": "d4e8d599-aef6-4ee7-a88d-4dd0f6f7118a",
   "metadata": {},
   "outputs": [
    {
     "name": "stdout",
     "output_type": "stream",
     "text": [
      "<function factorial at 0x7f8fcc181310>\n"
     ]
    },
    {
     "data": {
      "text/plain": [
       "120"
      ]
     },
     "execution_count": 8,
     "metadata": {},
     "output_type": "execute_result"
    }
   ],
   "source": [
    "### recursion\n",
    "def factorial(n, ans=1):\n",
    "    if n == 1:\n",
    "        return ans\n",
    "    return factorial(n-1, n*ans)\n",
    "\n",
    "print(factorial)\n",
    "factorial(5)\n",
    "    "
   ]
  },
  {
   "cell_type": "markdown",
   "id": "5e11df7b-66a8-4660-aad3-ffa73753bed1",
   "metadata": {},
   "source": [
    "Bentuk fungsi factorial yang lain adalah bentuk imperatif atau prosedural. "
   ]
  },
  {
   "cell_type": "code",
   "execution_count": 9,
   "id": "c5e9a7a2-da15-481c-849e-e5e86be928e6",
   "metadata": {},
   "outputs": [
    {
     "data": {
      "text/plain": [
       "120"
      ]
     },
     "execution_count": 9,
     "metadata": {},
     "output_type": "execute_result"
    }
   ],
   "source": [
    "### iteration\n",
    "def factorial(n, ans=1):\n",
    "    for i in range(n):\n",
    "        ans = ans * (i+1)    \n",
    "    return ans\n",
    "\n",
    "factorial(5)"
   ]
  },
  {
   "cell_type": "markdown",
   "id": "f164e7a7-5e28-4b92-918d-4ae70ce77838",
   "metadata": {},
   "source": [
    "#### Fungsi anonim\n",
    "Fungsi murni dapat juga ditulis tanpa nama, hanya parameter, body dan argumen, dengan keyword lambda yang otomatis mengembalikan nilai ekspresi badan fungsi."
   ]
  },
  {
   "cell_type": "code",
   "execution_count": 10,
   "id": "30aba508-9197-4c82-843d-3428ec6196e2",
   "metadata": {},
   "outputs": [
    {
     "data": {
      "text/plain": [
       "9"
      ]
     },
     "execution_count": 10,
     "metadata": {},
     "output_type": "execute_result"
    }
   ],
   "source": [
    "(lambda x,y: x**y)(3,2)\n"
   ]
  },
  {
   "cell_type": "markdown",
   "id": "eb913e22-3c33-485a-bf76-87ee58191d43",
   "metadata": {},
   "source": [
    "#### Fungsi bertingkat (nested)\n",
    "Fungsi dapat didefinisikan secara bertingkat, berjalin, fungsi di dalam fungsi.    \n",
    "Contoh berikut memakai Counter, suatu objek turunan dictionary yang khusus menghitung pemunculan item masukan.     \n",
    "Counter yang diberikan asupan kata kata, secara otomatis menghitung berapa kali huruf per huruf muncul. Outputnya adalah pasangan kunci&nilai (dictionary) dimana kuncinya adalah huruf-huruf yang berbeda dan nilainya adalah jumlah kemunculan huruf dalam kata/ungkapan asupan.    \n",
    "Ketika kalimat deklarasi fungsi (kepala fungsi) dibaca, eksekusinya memutakhirkan namespace dan menyiapkan parameter fungsi tetapi melewatkan eksekusi definisi fungsi (kode dalam badan fungsi). Definisi fungsi baru dieksekusi ketika fungsi dipanggil."
   ]
  },
  {
   "cell_type": "code",
   "execution_count": 11,
   "id": "48614eb0-5fea-438b-9b4b-4b3ff58e6b5a",
   "metadata": {},
   "outputs": [
    {
     "name": "stdout",
     "output_type": "stream",
     "text": [
      "True\n"
     ]
    }
   ],
   "source": [
    "### anagram adalah permainan huruf membentuk kata berbeda\n",
    "### buat fungsi untuk menentukan apakah dua ungkapan masukan adalah anagram atau bukan\n",
    "from collections import Counter\n",
    "def anagram_kah(frasa1, frasa2):\n",
    "    def cc(frasa):\n",
    "        return Counter(frasa.lower().replace(' ',''))\n",
    "    return cc(frasa1) == cc(frasa2)\n",
    "\n",
    "print(anagram_kah(\"Eleven plus Two\",\"Twelve plus One\"))"
   ]
  },
  {
   "cell_type": "markdown",
   "id": "59f00344-dc04-4a53-b237-a8cbb14cffa8",
   "metadata": {},
   "source": [
    "#### Metoda"
   ]
  },
  {
   "cell_type": "code",
   "execution_count": 12,
   "id": "6d9c7b76-5e01-41aa-a519-d10f28e1d626",
   "metadata": {},
   "outputs": [
    {
     "name": "stdout",
     "output_type": "stream",
     "text": [
      "s = 'String itu immutable, TIDAK dapat diedit'\n",
      "s.lower() = 'string itu immutable, tidak dapat diedit'\n",
      "s.lower().replace(\" \",\"\") = 'stringituimmutable,tidakdapatdiedit'\n",
      "s = 'String itu immutable, TIDAK dapat diedit'\n"
     ]
    }
   ],
   "source": [
    "s = \"String itu immutable, TIDAK dapat diedit\"\n",
    "print(f'{s = }')\n",
    "print(f'{s.lower() = }')\n",
    "print(f'{s.lower().replace(\" \",\"\") = }')\n",
    "print(f'{s = }')  # s tidak berubah masih seperti aslinya"
   ]
  },
  {
   "cell_type": "markdown",
   "id": "6ee13a33-3b03-446b-8bef-755992b460d8",
   "metadata": {},
   "source": [
    "_Fungsi_ lower() adalah suatu fungsi yang khusus terkait dengan objek tipe string, sehingga kita menyebutnya ***metoda*** dari string, sama seperti metoda replace(). Inputnya bukan berada di dalam kurung tetapi di depannya. Artinya kita memanggil suatu atribut dari objek string s yang dapat dieksekusi (callable) yang dalam contoh di atas lower() dan replace().   \n",
    "Output dari metoda string adalah suatu objek baru sedangkan objek inputnya tidak berubah.\n",
    "\n",
    "Berikut metoda string yang selengkapnya."
   ]
  },
  {
   "cell_type": "code",
   "execution_count": 13,
   "id": "60f27130-a074-40bd-b398-8b99d82708e2",
   "metadata": {},
   "outputs": [
    {
     "name": "stdout",
     "output_type": "stream",
     "text": [
      "capitalize casefold center count encode endswith expandtabs find format index isalnum isalpha isascii isdecimal isdigit isidentifier islower isnumeric isprintable isspace istitle isupper join ljust lower lstrip maketrans partition replace rfind rindex rjust rpartition rsplit rstrip split splitlines startswith strip swapcase title translate upper zfill\n"
     ]
    }
   ],
   "source": [
    "atribut = [atr for atr in dir(str) if '_' not in atr ]\n",
    "print(*atribut)"
   ]
  },
  {
   "cell_type": "markdown",
   "id": "e5a84a1d-f9da-4c27-9503-d662e2edd22c",
   "metadata": {},
   "source": [
    "Kode di atas menggunakan fitur list comprehension yang menampilkan semua metoda dari string kecuali metoda-metoda khusus lainnya yang diapit dengan garis bawah. Bandingkan dengan eksekusi <pre>print(dir(str))</pre> yang menampilkan hasil lebih banyak.  \n",
    "Untuk fungsi built in kita dapat melihat daftarnya dalam <pre>print(dir(\\_\\_builtins\\_\\_))</pre>"
   ]
  },
  {
   "cell_type": "markdown",
   "id": "8316ff11-9662-4e1c-bf0b-96c098da2c45",
   "metadata": {},
   "source": [
    "#### NONE\n",
    "Kembali ke pembahasan fruitful function dan void function.  \n",
    "Fungsi _fruitful_ mengembalikan sesuatu objek sebagai output, dan fungsi _void_ tidak mengembalikan apa-apa atau sebenarnya mengembalikan objek 'bukan apa-apa'.   \n",
    "Python memiliki suatu objek 'bukan apa-apa' yang didefinisikan sebagai None. Kita akan melihatnya dalam contoh berikut."
   ]
  },
  {
   "cell_type": "code",
   "execution_count": 14,
   "id": "ba13ebad-2c34-4966-ac1f-4cabb475fa64",
   "metadata": {},
   "outputs": [
    {
     "name": "stdout",
     "output_type": "stream",
     "text": [
      "x = None\n",
      "type(x) = <class 'NoneType'>\n",
      "~-~-~-~-~-~-~-~-~-~-~-~-~-~-~-\n",
      "y = None\n",
      "type(y) = <class 'NoneType'>\n"
     ]
    }
   ],
   "source": [
    "def f():\n",
    "    pass\n",
    "\n",
    "x = f()\n",
    "print(f'{x = }')\n",
    "print(f'{type(x) = }')\n",
    "\n",
    "y = print('~-' * 15)\n",
    "print(f'{y = }')\n",
    "print(f'{type(y) = }')\n"
   ]
  },
  {
   "cell_type": "markdown",
   "id": "eb1b9c87-e095-4a3b-a9e0-90fc0a833dcf",
   "metadata": {},
   "source": [
    "Fungsi f() tidak memiliki kalimat return dalam definisinya, maka secara default Python akan mengembalikan objek None sebagai return valuenya.   \n",
    "Fungsi print() tidak mengembalikan sesuatu objek sebagai return, maka Python mengembalikan objek None.   \n",
    "None adalah objek real, ada id/alamat-nya, tetapi hanya satu, *singleton* istilahnya, tidak ada copynya."
   ]
  },
  {
   "cell_type": "code",
   "execution_count": 15,
   "id": "5311c4da-5f1a-4d19-a1f7-ed2f787a2fd7",
   "metadata": {},
   "outputs": [
    {
     "name": "stdout",
     "output_type": "stream",
     "text": [
      "9497104\n",
      "True True\n"
     ]
    }
   ],
   "source": [
    "print(id(None))\n",
    "print(x==y, x is y)  # x,y dari contoh sebelumnya None"
   ]
  },
  {
   "cell_type": "markdown",
   "id": "4138dcd2-def0-46d7-9560-a0496966763e",
   "metadata": {},
   "source": [
    "#### Namespace, Scope\n",
    "\n",
    "Nama identifier disimpan dalam suatu daftar atau environment yang disebut namespace. Namespace ini tidak hanya satu tetapi bisa ada beberapa namespace yang dibentuk. Ketika suatu blok fungsi dieksekusi maka dalam scope fungsi tersebut ada suatu namespace lokal yang dibentuk untuk mendaftarkan identifier lokal fungsi itu. Jadi ada beberapa namespace antara lain namespace built-in, global, lokal.\n"
   ]
  },
  {
   "cell_type": "markdown",
   "id": "6f7f36bb-f007-42b1-a35c-f3c73cbd44c2",
   "metadata": {},
   "source": [
    "Lingkup penamaan di luar fungsi kita sebut lingkup global (global scope), sedangkan di dalam fungsi lingkupnya lokal. Di luar lingkup global ada lingkup yang membungkusnya yaitu lingkup bawaan (built-in). Contoh, fungsi print(), nama fungsi print didaftarkan di lingkup bawaan.   \n",
    "Dalam lingkup lokal, kita dapat membaca objek lingkup global atau lingkup bawaan, tetapi tidak dapat mengubah nilainya. Ketika kita mencoba melakukan assignment maka otomatis Python akan membuatkan identifier lokal dengan nama itu dan menutup akses nama itu ke lingkup di atasnya."
   ]
  },
  {
   "cell_type": "code",
   "execution_count": 16,
   "id": "c0ef31bf-890e-40c6-93b2-578fcef83208",
   "metadata": {},
   "outputs": [
    {
     "name": "stdout",
     "output_type": "stream",
     "text": [
      "identifier global\n",
      "['namaku'] Bento\n",
      "['fungsi_sub', 'namaku', 'nilai_ujian'] Bejo 77\n",
      "mengubah identifier \"non-lokal\"\n",
      "['namaku', 'ujian_akhir'] Bejo Tinurut\n",
      "Bejo Tinurut 99\n"
     ]
    }
   ],
   "source": [
    "def fungsi_abc():\n",
    "    def fungsi_sub():\n",
    "        nonlocal namaku\n",
    "        namaku = 'Bejo Tinurut'\n",
    "        ujian_akhir = 99\n",
    "        print('mengubah identifier \"non-lokal\"')\n",
    "        print(dir(),namaku)\n",
    "        return ujian_akhir\n",
    "    namaku = 'Bejo'\n",
    "    nilai_ujian = 77\n",
    "    print(dir(), namaku, nilai_ujian)    \n",
    "    nilai_ujian = fungsi_sub()\n",
    "    print(namaku, nilai_ujian)\n",
    "\n",
    "def main():\n",
    "    namaku = 'Bento'\n",
    "    print(dir(), namaku)\n",
    "    fungsi_abc()\n",
    "\n",
    "namaku = 'identifier global'\n",
    "print(namaku)\n",
    "main()\n"
   ]
  },
  {
   "cell_type": "markdown",
   "id": "54dac087-3075-4205-a1f3-6eda24bf6f4b",
   "metadata": {},
   "source": [
    "Mendefinisikan identifier pada lingkup global tidak disarankan dan dianggap sebagai praktek berbahaya. Agar penamaan (namespace) terkendali sebaiknya semua identifier berada di dalam fungsi. Transfer objek ke dalam atau keluar fungsi yang disebut parameter passing dilakukan dengan assignment argumen dan return value.   \n",
    "Dalam situasi dimana diperlukan akses read/write langsung, maka dapat ditempuh strategi penempatan fungsi di dalam fungsi dan menyatakan bahwa identifier yang akan diakses itu berada di luar fungsi yang sebelah dalam menggunakan statement **nonlocal \\<nama\\>**.\n"
   ]
  },
  {
   "cell_type": "code",
   "execution_count": 8,
   "id": "32c37a13-3ffd-483b-976d-31836f3af379",
   "metadata": {
    "tags": []
   },
   "outputs": [
    {
     "name": "stdout",
     "output_type": "stream",
     "text": [
      "b\n",
      "b\n"
     ]
    }
   ],
   "source": [
    "\"salah paham closurenya Python\"\n",
    "funs = []\n",
    "for i in \"a\", \"b\":\n",
    "    def afunction():\n",
    "        return i\n",
    "    funs.append(afunction)\n",
    "\n",
    "print(funs[0]())\n",
    "print(funs[1]())"
   ]
  },
  {
   "cell_type": "markdown",
   "id": "52c5948a-f327-409b-96ea-f18bf50e1045",
   "metadata": {
    "tags": []
   },
   "source": [
    "Kode di atas memperlihatkan kesalah-pahaman orang mengenai scope dan closure Python. Pertama, for-loop tidak merupakan blok dengan scope baru; for-loop tidak lebih dari kalimat datar yang diulang-ulang. Kedua, yang dipakai dalam fungsi adalah mutlak definisi nama i pada scope global seperti biasa, bukan free-variable dan closure. Berikut kode Python yang seharusnya jika ingin menampilkan efek closure."
   ]
  },
  {
   "cell_type": "code",
   "execution_count": 18,
   "id": "2bb6248f-d430-459f-8711-15f71960ac43",
   "metadata": {},
   "outputs": [
    {
     "name": "stdout",
     "output_type": "stream",
     "text": [
      "apel\n",
      "banana\n"
     ]
    }
   ],
   "source": [
    "funs = []\n",
    "for i in \"apel\", \"banana\":\n",
    "    def closure_maker(my_free_var):\n",
    "        def closure():\n",
    "            return my_free_var\n",
    "        return closure\n",
    "    funs.append(closure_maker(i))\n",
    "\n",
    "print(funs[0]())\n",
    "print(funs[1]())\n"
   ]
  },
  {
   "cell_type": "markdown",
   "id": "0e14ceae-d0b9-4435-9585-65ba17227d46",
   "metadata": {},
   "source": [
    "Parameter/argument passing dalam Python dilakukan secara assignment, dalam contoh ini, my_free_var = i, my_free_var diasosiasikan dengan objek yang diunjuk i. Dengan demikian yang digunakan bukan nama i scope global lagi, tetapi free-var dalam scope enclosing. Closure adalah fungsi yang mempertahankan kondisi ketika dia dibuat, walaupun ketika dipanggil sudah berada di luar scope pembuatannya. Lalu free=variable dipegang siapa supaya eksis? Python secara otomatis membuat properti dari fungsi closure yang memegang free-variable(s)."
   ]
  },
  {
   "cell_type": "code",
   "execution_count": 19,
   "id": "9e1f681a-fda3-4358-827d-5aebba71f28e",
   "metadata": {},
   "outputs": [
    {
     "name": "stdout",
     "output_type": "stream",
     "text": [
      "('my_free_var',)\n",
      "apel\n",
      "banana\n"
     ]
    }
   ],
   "source": [
    "print(funs[0].__code__.co_freevars)\n",
    "print(funs[0].__closure__[0].cell_contents)\n",
    "print(funs[1].__closure__[0].cell_contents)"
   ]
  },
  {
   "cell_type": "markdown",
   "id": "b6521088-5894-41c1-8206-a71e59011147",
   "metadata": {},
   "source": [
    "### DESAIN ANTAR MUKA (INTERFACE)"
   ]
  },
  {
   "cell_type": "markdown",
   "id": "d605caee-00da-4c3f-bc8f-431fbee534c7",
   "metadata": {},
   "source": [
    "Pada bagian ini kita akan mempelajari proses mendesain fungsi supaya bekerja dengan baik. Disini kita akan menggunakan pustaka modul *turtle*, yang melaluinya kita dapat membuat beberapa grafik sebagai sarana praktek. Modul turtle sudah disertakan dalam instalasi Python dan kode latihan kita akan dijalankan dalam konsol shell Python.   \n",
    "_bagian ini mengambil materi dari Think Python, Allen B. Downey chapter 4_\n"
   ]
  },
  {
   "cell_type": "markdown",
   "id": "27ea3a1f-c853-47cc-a639-0c48ec62536f",
   "metadata": {},
   "source": [
    "#### Modul turtle   \n",
    "Kita dapat memeriksa apakah modul turtle tersedia dengan perintah di shell Python (setelah memanggil python dari command console) sebagai berikut:\n",
    "\n",
    "<pre>\n",
    ">>> import turtle\n",
    ">>> pena = turtle.Turtle()\n",
    "</pre>\n",
    "\n",
    "Jika sudah tersedia maka akan muncul window baru dengan tanda panah kecil di tengah. Tutup kembali windownya untuk saat ini.   \n",
    "Salin kode berikut ke dalam file bernama poligon.py\n",
    "<pre>\n",
    "import turtle\n",
    "pena = turtle.Turtle()  # membuat instans dari turtle\n",
    "print(f'{pena = }')\n",
    "pena.fd(100)\n",
    "pena.lt(90)\n",
    "pena.fd(100)\n",
    "turtle.mainloop()  # melepas kontrol ke window\n",
    "</pre>\n",
    "lalu jalankan dari command console dengan perintah <pre>> python poligon.py</pre>\n",
    "Dalam console akan ditampilkan bahwa pena adalah suatu objek tipe turtle yang selanjutnya akan kita gunakan dengan metoda-metoda yang terkait dengan objek tersebut.\n",
    "Metoda class turtle.mainloop() adalah metoda untuk menampilkan window grafik agar tidak tertutup langsung karena kode kita sudah mencapai baris terakhir, dan selanjutnya kita bisa menutup window dari elemen window itu sendiri (X).\n"
   ]
  },
  {
   "cell_type": "markdown",
   "id": "bd48c856-04e5-4ff0-b13d-6abe777c42d0",
   "metadata": {},
   "source": [
    "Penjelasan tentang kelas turtle dapat dipelajari dari dokumentasinya di https://docs.python.org/3.10/library/turtle.html atau \n",
    "dari shell python ketik \n",
    "<pre>\n",
    ">>> import turtle\n",
    ">>> dir(turtle)\n",
    ">>> help(turtle)\n",
    "</pre>"
   ]
  },
  {
   "cell_type": "markdown",
   "id": "f0a35242-bcd4-4ec7-a3c4-15308cc92873",
   "metadata": {},
   "source": [
    "Metoda yang akan kita gunakan dalam praktek kita adalah terutama maju/forward(fd), dan belok kiri/ left(lt). Metoda yang lain dapat dilihat dari perintah di atas.  \n"
   ]
  },
  {
   "cell_type": "markdown",
   "id": "838bc6ec-b429-4568-b7bf-b9bdea837deb",
   "metadata": {},
   "source": [
    "Perintah maju fd(jarak) akan menorehkan garis sepanjang nilai jarak. Nilai jarak dapat berupa bilangan bulat maupun pecahan. Perintah belok kiri lt(sudut) akan mengarahkan panah ke arah sudut yang diberikan. Contoh di atas, pena.fd(100); pena.lt(90); pena.fd(100) menggambar dua potong garis ke arah timur berbelok ke arah utara.   \n",
    "\n",
    "Edit poligon.py dengan memakai perintah fd(100) lt(90) sebanyak empat kali untuk membuat suatu bujur sangkar. Silahkan selesaikan latihan ini sebelum Anda meneruskan membaca."
   ]
  },
  {
   "cell_type": "markdown",
   "id": "13cf6f54-11f0-407a-bd93-315214e0807b",
   "metadata": {},
   "source": [
    "#### loop"
   ]
  },
  {
   "cell_type": "markdown",
   "id": "ae2e7f51-cca9-47e8-8991-f28281b5a598",
   "metadata": {},
   "source": [
    "Anda mungkin telah menuliskan perintah menggambar bujur sangkar seperti ini,\n",
    "<pre>\n",
    "pena.fd(100)\n",
    "pena.lt(90)\n",
    "\n",
    "pena.fd(100)\n",
    "pena.lt(90)\n",
    "\n",
    "pena.fd(100)\n",
    "pena.lt(90)\n",
    "\n",
    "pena.fd(100)\n",
    "</pre>\n",
    "Kita dapat menuliskan secara lebih ringkas dengan menggunakan perintah perulangan dalam suatu blok seperti ini,\n",
    "<pre>\n",
    "for i in range(4):\n",
    "    pena.fd(100)\n",
    "    pena.lt(90)\n",
    "</pre>\n",
    "Kalimat *for* disebut juga loop atau **for loop** karena mengulangi perintah dalam blok di bawahnya, 4 kali dalam contoh kita.\n"
   ]
  },
  {
   "cell_type": "markdown",
   "id": "2fd458e6-f1bc-41cd-8d2f-3b292e11f331",
   "metadata": {},
   "source": [
    "#### Latihan"
   ]
  },
  {
   "cell_type": "markdown",
   "id": "34ee1d6f-416c-4663-b103-c332b576479d",
   "metadata": {},
   "source": [
    "1. Buatkan suatu fungsi bernama bujursangkar dengan parameter masukan t sebagai objek turtle. Fungsi itu membuat gambar bujursangkar menggunakan turtle tersebut.   \n",
    "Buat pemanggil fungsi dengan argumen pena kepada fungsi bujursangkar itu.\n",
    "2. Tambahkan parameter lain bernama jarak ke dalam fungsi bujursangkar, dan ubah badan fungsi agar menggunakan parameter jarak untuk panjang sisi sisinya. Buat pemanggil fungsi dengan tambahan argumen jarak. Jalankan program beberapa kali dengan nilai jarak yang berbeda.\n",
    "3. Salin fungsi bujursangkar dan namai poligon lalu tambahkan parameter bernama n. Ubah badan fungsi sehingga menggambar poligon segi-n.   \n",
    "Petunjuk: sudut luar yang digunakan adalah 360/n derajat.\n",
    "4. Buatkan suatu fungsi bernama lingkaran dengan parameter masukan t turtle, r radius, yang menggambar lingkaran pendekatan dengan memanggil fungsi poligon dengan argumen jarak, dan segi-n yang sesuai. Periksa fungsi Anda dengan beberapa nilai radius.   \n",
    "Petunjuk: hitung keliling lingkaran dan pastikan jarak * n = keliling lingkaran.\n"
   ]
  },
  {
   "cell_type": "markdown",
   "id": "8cfb0e78-53f6-4078-aa8a-de959c2281ad",
   "metadata": {},
   "source": [
    "#### Jawaban\n",
    "Berikut adalah jawaban latihan di atas, tetapi sebaiknya Anda mencoba menyelesaikan sendiri latihan di atas sebelum membandingkannya dengan jawaban berikut ini.   \n"
   ]
  },
  {
   "cell_type": "markdown",
   "id": "b108a1e8-c6b5-4a73-b2c5-abd8c57f355f",
   "metadata": {},
   "source": [
    "##### 1. Enkapsulasi"
   ]
  },
  {
   "cell_type": "markdown",
   "id": "82a84a12-e32e-4304-bb0e-a2f08577830e",
   "metadata": {},
   "source": [
    "<pre>\n",
    "import turtle\n",
    "def bujursangkar(t):\n",
    "    for _ in range(4):\n",
    "        t.fd(100)\n",
    "        t.lt(90)\n",
    "        \n",
    "pena = turtle.Turtle()\n",
    "bujursangkar(pena)\n",
    "turtle.mainloop()\n",
    "</pre>"
   ]
  },
  {
   "cell_type": "markdown",
   "id": "083b4a91-6243-4c41-91ed-2a84204357ac",
   "metadata": {},
   "source": [
    "Membungkus sepotong kode ke dalam fungsi dinamakan **enkapsulasi**. Salah satu manfaat enkapsulasi ialah bahwa kode yang dibungkus sekarang dapat memiliki nama yang memberikan rangkuman apa yang dijalankan di dalamnya. Manfaat lain ialah bahwa fungsi tersebut dapat dipanggil ulang dengan argumen yang sama atau berbeda, yang lebih ringkas daripada harus menyalin seluruh badan fungsi berulang ulang.\n",
    "\n",
    "##### 2. Generalisasi\n",
    "Salin kode berikut ke file bujursangkar.py dan jalankan pada command console.\n",
    "<pre>\n",
    "import turtle\n",
    "\n",
    "def bujursangkar(t, jarak):\n",
    "    \"bujursangkar dengan turtle\"\n",
    "    for _ in range(4):\n",
    "        t.fd(jarak)\n",
    "        t.lt(90)\n",
    "\n",
    "pena = turtle.Turtle()  # membuat instans dari turtle\n",
    "for i in range(12):\n",
    "    bujursangkar(pena, 100+ i*i)\n",
    "    pena.lt(-30)\n",
    "    pena.fd(10)\n",
    "\n",
    "turtle.mainloop()  # melepas kontrol ke window\n",
    "</pre>\n",
    "\n",
    "Menambah parameter pada fungsi membuat fungsi tersebut dapat dipergunakan secara umum, disebut generalisasi. Jika pada contoh sebelumnya ukuran bujursangkar konstan ditentukan dari dalam fungsi, maka dengan tambahan parameter dapat diatur dari pemanggil fungsi."
   ]
  },
  {
   "cell_type": "markdown",
   "id": "778c1ba1-0ae6-4cbc-a082-c28567fcf123",
   "metadata": {},
   "source": [
    "##### 3. Generalisasi (lagi)\n",
    "Dalam fungsi bujursangkar, sudutnya sudah ditentukan dari dalam fungsi yaitu 90 derajat, artinya jumlah sisinya selalu konstan segi-4. Fungsi poligon menambah parameter jumlah segi/sisi sehingga dapat ditentukan dari pemanggil. Dengan bertambahnya agumen maka perlu digunakan nama supaya mudah diingat dan bebas letak urutan argumennya.\n",
    "<pre>\n",
    "import turtle\n",
    "\n",
    "def setposisi(t,x,y):\n",
    "    \"set posisi awal\"\n",
    "    t.penup()\n",
    "    t.setx(x)\n",
    "    t.sety(y)\n",
    "    t.pendown()\n",
    "\n",
    "def poligon(t, sisi, segi):\n",
    "    \"poligon segi-n\"\n",
    "    sudut = 360 / segi\n",
    "    for _ in range(segi):\n",
    "        t.forward(sisi)\n",
    "        t.left(sudut)\n",
    "\n",
    "pena = turtle.Turtle()  # membuat instans dari turtle\n",
    "setposisi(pena,-100,100)\n",
    "poligon(pena, 70, 4)\n",
    "\n",
    "setposisi(pena,50,50)\n",
    "poligon(pena, segi=5, sisi=100)  # keyword arguments\n",
    "\n",
    "setposisi(pena,-160,-130)\n",
    "poligon(pena,60, 9)\n",
    "\n",
    "turtle.mainloop()  # melepas kontrol ke window\n",
    "</pre>\n"
   ]
  },
  {
   "cell_type": "markdown",
   "id": "e341f1f0-4b1a-4431-af8b-d46856e9867a",
   "metadata": {},
   "source": [
    "##### 4. Desain antarmuka (interface)\n",
    "Untuk membuat lingkaran kita dapat menggunakan fungsi poligon dengan segi-n yang banyak, misalnya 50. Jika r adalah radius lingkaran, maka keliling lingkaran 2*pi*r adalah panjang sisi kali segi-n.\n",
    "Maka jika kita tetapkan segi n = 50, maka panjang sisi = keliling/50.\n",
    "<pre>\n",
    "def lingkaran(t,r):\n",
    "    pjg_sisi = 2*math.pi*r / 50\n",
    "    poligon(pena, segi=50, sisi=pjg_sisi)\n",
    "</pre>\n",
    "Membuat jumlah segi n = 50 secara konstan bisa bermasalah, mungkin kurang untuk radius yang besar dan terlalu boros untuk radius yang kecil, sehingga mungkin kita berpendapat bahwa sebaiknya n dijadikan parameter juga. Tetapi hal itu akan membuat interface menjadi kurang rapi. Fungsi lingkaran(t,radius,n) menjadi terasa kurang pas bukan? Solusinya agar interface tetap rapi nilai n harus kita buatkan sebanding dengan radius, makin besar radius makin banyak n.\n",
    "Jadi misalnya kita rumuskan, n = 3 + int(keliling/5), minimal 3 dan bilangan bulat. Faktor pembagi dapat diatur sesuai kualitas yang diinginkan tetapi kualitas tersebut akan terlihat sama untuk radius kecil atau radius besar.\n",
    "<pre>\n",
    "def lingkaran(t,radius):\n",
    "    keliling = 2 * math.pi * radius\n",
    "    segi = 3 + int(keliling/5)\n",
    "    pjg_sisi = keliling / segi\n",
    "    poligon(pena, segi=segi, sisi=pjg_sisi)\n",
    "   </pre>\n",
    "   "
   ]
  },
  {
   "cell_type": "markdown",
   "id": "0abf7f27-ea16-4e3b-8f2d-a391a6ee0e77",
   "metadata": {},
   "source": [
    "##### 5. Refactoring\n",
    "Berikut contoh kode yang diperbaiki struktur programnya, *refactoring* istilahnya. Salin dan jalankan dalam command console dan nikmati pergerakannya dalam slow motion, namanya juga turtle, kura-kura grafik."
   ]
  },
  {
   "cell_type": "code",
   "execution_count": 17,
   "id": "33f6f248-738d-4499-84c4-05a6a8ed78d9",
   "metadata": {},
   "outputs": [],
   "source": [
    "import turtle\n",
    "import math\n",
    "\n",
    "def polyline(t, n, length, angle):\n",
    "    for i in range(n):\n",
    "        t.fd(length)\n",
    "        t.lt(angle)\n",
    "\n",
    "def polygon(t, n, length):\n",
    "    angle = 360 / n \n",
    "    polyline(t, n, length, angle)\n",
    "\n",
    "def arc(t, r, angle):\n",
    "    arc_length = 2*math.pi*r *angle /360\n",
    "    n = 1 + int(arc_length/4)\n",
    "    step_length = arc_length /n \n",
    "    step_angle = float(angle)/n \n",
    "    polyline(t,n, step_length, step_angle)\n",
    "\n",
    "def circle(t,r):\n",
    "    arc(t,r,360)\n",
    "\n",
    "def setposisi(t,x,y):\n",
    "    \"set posisi awal\"\n",
    "    t.penup()\n",
    "    t.setx(x)\n",
    "    t.sety(y)\n",
    "    t.pendown()\n",
    "\n",
    "def bunga_A(t, k):\n",
    "    for _ in range(k):\n",
    "        arc(t, 100, 360/k)\n",
    "        t.lt(180 - 360/k)\n",
    "        arc(t, 100, 360/k)\n",
    "        t.lt(180)    \n",
    "\n",
    "def bunga_B(t,k):\n",
    "    for _ in range(k):\n",
    "        arc(t, 100, 4*360/k)\n",
    "        t.lt(180 - 2*360/k)\n",
    "\n",
    "def bunga_C(t,k):\n",
    "    for _ in range(k):\n",
    "        arc(t, 100, 8*360/k)\n",
    "        t.lt(180 - 4*360/k)\n",
    "\n",
    "def bunga_D(t,k):\n",
    "    for _ in range(k):\n",
    "        arc(t, 100, 3*360/k)\n",
    "        t.lt(180 - 1.5*360/k)\n",
    "\n",
    "\n",
    "pena = turtle.Turtle()  # membuat instans dari turtle\n",
    "\n",
    "setposisi(pena, 30, 80)\n",
    "bunga_A(pena,7)\n",
    "\n",
    "setposisi(pena,-55,-200)\n",
    "bunga_D(pena,7)\n",
    "\n",
    "setposisi(pena, 140, 0)\n",
    "bunga_B(pena,10)\n",
    "\n",
    "setposisi(pena,-300, 0)\n",
    "bunga_C(pena,18)\n",
    "\n",
    "turtle.mainloop()  # melepas kontrol ke window\n"
   ]
  },
  {
   "cell_type": "markdown",
   "id": "d52645d5-e084-4b60-9a23-33d5d8a4bc8d",
   "metadata": {},
   "source": [
    "Latihan dan contoh di atas dimaksudkan sebagai kegiatan pemrograman yang menyenangkan dan diharapkan Anda dapat memetik beberapa pelajaran dari padanya, tentang enkapsulasi, generalisasi, interfacing dan refactoring.    \n",
    "    -o0o-\n",
    "    "
   ]
  },
  {
   "cell_type": "code",
   "execution_count": null,
   "id": "bd84d08f-7028-4478-b2b2-1039970219df",
   "metadata": {},
   "outputs": [],
   "source": []
  }
 ],
 "metadata": {
  "kernelspec": {
   "display_name": "Python 3 (ipykernel)",
   "language": "python",
   "name": "python3"
  },
  "language_info": {
   "codemirror_mode": {
    "name": "ipython",
    "version": 3
   },
   "file_extension": ".py",
   "mimetype": "text/x-python",
   "name": "python",
   "nbconvert_exporter": "python",
   "pygments_lexer": "ipython3",
   "version": "3.10.4"
  }
 },
 "nbformat": 4,
 "nbformat_minor": 5
}
