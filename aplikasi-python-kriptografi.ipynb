{
 "cells": [
  {
   "cell_type": "markdown",
   "id": "abc8e9ce-e9c8-471d-9262-36df683a4d25",
   "metadata": {},
   "source": [
    "### BELAJAR PYTHON dalam STUDI KASUS KRIPTOGRAFI KLASIK   \n",
    "#### Cipher Substitusi abjad tunggal"
   ]
  },
  {
   "cell_type": "markdown",
   "id": "b27d9693-0941-4820-88a1-3a200018287a",
   "metadata": {},
   "source": [
    "Suatu pesan dalam plainteks dapat disamarkan sedemikian rupe menjadi cipherteks yang tidak dapat dimengerti maknanya untuk menjaga keamanan pesan atau kerahasiaan terhadap orang yang tidak berhak. Misalnya bahasa percakapan yang disandikan dengan mengganti huruf konsonan, dengan algoritma cipher hanacaraka, seperti \"matamu\" menjadi \"dagadu\".  \n",
    "Penukaran dilakukan antar baris genap dan ganjil aksara Jawa, atau digeser 10 aksara dari 20 aksara Jawa, **ha na ca ra ka da ta sa wa la pa dha ja ya nya ma ga ba tha nga**, yaitu\n",
    "- ha na ca ra ka <--> pa dha ja ya nya\n",
    "- da ta sa wa la <--> ma ga ba tha nga\n",
    "\n",
    "Paniradya Kaistimewan, lembaga yang mengurusi program keistimewaan Yogyakarta, mengungkapkan hal tersebut di Twitter @PaniradyaJogja, Kamis (28/5/2020). Menurut keterangannya, Boso Walikan Jogja *\"sudah dipakai ketika masa penjajahan, pernah menjadi bahasa Gaul di era 1990an, merupakan bahasa terenkripsi dengan metode penukaran pada aksara jawa.\"*   \n",
    "(dikutip dari suarajogja.id) [boso walikan jogja](https://jogja.suara.com/read/2020/05/29/210014/ada-rumusnya-ini-asal-usul-kata-dagadu-hingga-dab-dalam-boso-walikan-jogja)   \n",
    "Secara matematis, enkripsi/dekripsi **Bosowalikan Cipher** dinyatakan dalam persamaan\n",
    "> *c = (p + 10) modulo 20*\n",
    ">\n",
    "> *p = (c + 10) modulo 20*   \n"
   ]
  },
  {
   "cell_type": "markdown",
   "id": "4dd33fa6-a896-45bb-9870-faa53cf82f16",
   "metadata": {},
   "source": [
    "![Boso walikan](https://media.suara.com/pictures/original/2020/05/29/90190-boso-walikan-jogja-twitteratpaniradyajogja.jpg)\n"
   ]
  },
  {
   "cell_type": "markdown",
   "id": "a6ae7e7d-55b1-48ae-bc63-ad8f02a160fd",
   "metadata": {},
   "source": [
    "Bosowalikan Cipher menggunakan aturan algoritma tanpa kunci yang keamanannya terletak pada kerahasiaan algoritmanya. Kriptografi telah berkembang dengan penggunaan kunci sehingga walaupun algoritmanya diketahui umum tetapi keamanannya tetap terjaga karena pada kerahasiaan kuncinya.\n",
    "\n",
    "Algoritma seperti Bosowalikan Cipher yang menggunakan substitusi abjad tunggal yang sederhana (*simple-substitution cipher*), fungsi satu-ke-satu yang statis, tidak aman, karena bisa dianalisa berdasarkan pola-pola dalam bahasa yang digunakan atau analisa frekuensi, apalagi jika hanya huruf konsonan yang diganti, huruf vokal tetap sama. "
   ]
  },
  {
   "cell_type": "markdown",
   "id": "5d975652-98a3-4951-94e8-dbcccb50d1b3",
   "metadata": {},
   "source": [
    "Struktur aksara Jawa berbeda dengan abjad Latin, sehingga kita melakukan penyesuaian awal dengan mengganti aksara dha, nya, tha, nga menjadi huruf f, q, v, x yang tidak digunakan. Dengan demikian daftar hurufnya ialah   \n",
    "> h n c r k d t s w l p f j y q m g b v x\n"
   ]
  },
  {
   "cell_type": "markdown",
   "id": "434142b9-3da4-4ca0-a7ba-8e33fc2f86dc",
   "metadata": {},
   "source": [
    "Adapun huruf-huruf vokal atau tanda baca, tetap tidak diganti."
   ]
  },
  {
   "cell_type": "markdown",
   "id": "e10fbe66-ec09-41a3-b77f-1ec3929bcf23",
   "metadata": {},
   "source": [
    "Algoritma cipher bosowalikan menjadi sbb:   \n",
    "> lakukan penyesuaian aksara khusus menjadi huruf yang tersisa   \n",
    "> loop untuk setiap huruf\n",
    "> > jika huruf vokal atau spasi maka output sama, continue ke berikutnya   \n",
    "> > substitusi dengan huruf pada indeks + 10 modulo 20   \n",
    "\n",
    "> kembalikan simbol huruf f,g,v,x ke aksara awal dh, ny. th. ng\n",
    "   \n",
    "Algoritma yang sama digunakan bolak balik balik untuk proses encipher maupun decipher."
   ]
  },
  {
   "cell_type": "code",
   "execution_count": 1,
   "id": "3657464e-8833-4d46-89f5-0cbe71bc89e0",
   "metadata": {},
   "outputs": [
    {
     "name": "stdout",
     "output_type": "stream",
     "text": [
      "Cipher Bosowalikan\n",
      "masukkan kalimat:mas, kowe arep nang ngendi? dhal dang fqvx\n",
      "dab, nyothe ayeh dhal ledhmi? nang mal fqvx\n"
     ]
    }
   ],
   "source": [
    "# PROGRAM (1) Cipher Bosowalikan Jogja \n",
    "# tabel huruf yang disubstitusi\n",
    "tabel_walik = 'hncrkdtswlpfjyqmgbvx'\n",
    "\n",
    "# pengkode, lihat PEP 378\n",
    "aksara2 = 'f','q','v','x','dh','ny','th','ng'\n",
    "hurufganti = '%@%','%#%','%$%','%^%','f','q','v','x'\n",
    "\n",
    "def encode(words):\n",
    "    for idx, hrf in enumerate(aksara2):\n",
    "        words = words.replace(hrf,hurufganti[idx])\n",
    "    return words\n",
    "\n",
    "def dekode(words):\n",
    "    for idx, hrf in enumerate(hurufganti[::-1]):\n",
    "        words = words.replace(hrf,(aksara2[::-1])[idx])\n",
    "    return words\n",
    "\n",
    "\n",
    "print('Cipher Bosowalikan')\n",
    "plainteks = input(\"masukkan kalimat:\")\n",
    "#print(plainteks)\n",
    "\n",
    "cipherteks = \"\"\n",
    "#print(encode(plainteks))\n",
    "\n",
    "for ch in encode(plainteks):\n",
    "    if ch not in tabel_walik:\n",
    "        cipherteks += ch\n",
    "        continue\n",
    "    idx = tabel_walik.find(ch)\n",
    "    idx = (idx + 10) % 20\n",
    "    cipherteks += tabel_walik[idx]\n",
    "\n",
    "#print(cipherteks)\n",
    "print(dekode(cipherteks))\n"
   ]
  },
  {
   "cell_type": "markdown",
   "id": "4b23a6e8-0c44-4c77-9aa6-479688d70e31",
   "metadata": {},
   "source": [
    "Implementasi penyamaran teks menggunakan metoda susbstitusi abjad tunggal sebenarnya sederhana, hanya mencari indeks setiap karakter dalam tabel, mengubah index, lalu menampilkan karakter pada indeks tersebut.\n",
    "Sedikit komplikasi karena terdapat aksara yang tampil sebagai huruf ganda yang perlu dikodekan tetapi perlu penanganan lebih lanjut apabila teks aslinya ternyata mengandung huruf-huruf Latin yang digunakan sebagai kode huruf ganda."
   ]
  },
  {
   "cell_type": "markdown",
   "id": "40d9d262-814d-41f5-94d2-b2694e0ef0c0",
   "metadata": {},
   "source": [
    "Cipher substitusi abjad tunggal jelek keamanannya, contohnya cipher buatan kaisar Romawi Julius Caesar, dan cipher buatan ratu Skotlandia Mary Stuart. Pola kata-kata terlihat jelas sehingga mudah ditebak/didekripsi oleh pemecah kode ulung menggunakan analisis frekuensi kemunculan huruf-huruf dalam suatu bahasa."
   ]
  },
  {
   "cell_type": "markdown",
   "id": "3115c225-7f4d-4183-8414-2d7a248c9f86",
   "metadata": {},
   "source": [
    "#### Cipher substitusi abjad banyak"
   ]
  },
  {
   "cell_type": "markdown",
   "id": "9855529b-f893-47e7-b601-78f8dac53559",
   "metadata": {},
   "source": [
    "Metoda pergeseran huruf pada substitusi abjad tunggal menggunakan rumus pergeseran yang konstan, misalnya **c = (p+10) mod 20** tetapi pada substitusi abjad ganda setiap hurufnya digeser secara berbeda menggunakan suatu pola kunci, misalnya kunci=10,11,12,13,4,5,6,7, maka pergeseran yang dilakukan sesuai kunci satu per satu lalu berulang setelah panjang kunci berakhir. Makin panjang kuncinya maka makin tinggi keamanannya. Kode Python berikut mengilustrasikan jenis cipher ini."
   ]
  },
  {
   "cell_type": "code",
   "execution_count": 2,
   "id": "6628277b-4f49-4252-924b-c20df33b8a41",
   "metadata": {},
   "outputs": [
    {
     "name": "stdout",
     "output_type": "stream",
     "text": [
      "28, 36, 6, 17, 10, 7, 16, 21, 26, 27, 18, 25, 29, 2, 2, 26, 11, 25, 7, 22, 12, 6, 8, 18, 26, 18, 30, 2, 21, 32, 4, 26, 10, 21, 11, 33, 16, 23, 21, 17, 0, 1, 15, 6, 6, 13, 21, 36, 4, 33, 5, 33, 1, 3, 12, 13, 0, 27, 2, 19, 9, 28, 20, 6, 29, 18, 3, 11, 8, 29, 34, 32, 27, 21, 34, 2, 25, 21, 13, 11, 35, 29, 35, 6, 25, 22, 14, 28, 26, 6, 20, 19, 32, 24, 35, 27, 1, 32, 17, "
     ]
    }
   ],
   "source": [
    "# mendefinisikan tabel kunci\n",
    "import random\n",
    "panjang = 99\n",
    "for i in range(panjang):\n",
    "    print(random.randint(101,999) % 37,end=', ')\n"
   ]
  },
  {
   "cell_type": "code",
   "execution_count": 4,
   "id": "540cab62-e883-47e6-bffb-c5c5d52ad8b4",
   "metadata": {},
   "outputs": [
    {
     "name": "stdout",
     "output_type": "stream",
     "text": [
      "masukan plainteks:besok pagi segera laksanakan perintah komandan\n",
      "sc mdggc ii  stbxk9qaai6llyt1qbqhkt9kuc5oodu1s\n",
      "besok pagi segera laksanakan perintah komandan\n"
     ]
    }
   ],
   "source": [
    "# PROGRAM (2) substitusi abjad banyak\n",
    "# definisi ruang abjad\n",
    "abjadnya ='1234567890 qwertyuiopasdfghjklzxcvbnm' # 37 simbol angka/huruf termasuk spasi\n",
    "# kunci random tidak dapat dibuat ulang, setiap di-run hasilnya berbeda, maka harus dicopas hardcoded\n",
    "kunci = 25, 19, 25, 17, 32, 15, 5, 11, 22, 0, 8, 25, 34, 34, 2, 20, 10, 18, 16, 27, 30, 36, \\\n",
    "34, 7, 8, 1, 32, 17, 27, 28, 21, 34, 8, 30, 0, 24, 2, 7, 4, 22, 20, 35, 25, 31, 16, 24, 36, \\\n",
    "18, 27, 15, 12, 15, 29, 27, 29, 36, 28, 34, 33, 27, 16, 0, 15, 31, 0, 31, 23, 27, 9, 22, 25, \\\n",
    "11, 1, 26, 12, 7, 32, 15, 33, 30, 18, 16, 32, 10, 16, 10, 5, 35, 16, 19, 30, 20, 22, 25, 28, \\\n",
    "20, 7, 0, 15,\n",
    "keylen = len(kunci)\n",
    "\n",
    "# \n",
    "plainteks = input('masukan plainteks:')\n",
    "ciphteks = ''\n",
    "\n",
    "for nmr, c in enumerate(plainteks):\n",
    "    if c not in abjadnya:\n",
    "        ciphteks += c\n",
    "        continue\n",
    "    idx = abjadnya.find(c)\n",
    "    idx = (idx + kunci[nmr % keylen]) %37\n",
    "    ciphteks += abjadnya[idx]\n",
    "\n",
    "print(ciphteks)\n",
    "\n",
    "tekshasil = ''\n",
    "for nmr, c in enumerate(ciphteks):\n",
    "    if c not in abjadnya:\n",
    "        tekshasil += c\n",
    "        continue\n",
    "    idx = abjadnya.find(c)\n",
    "    idx = (idx - kunci[nmr % keylen]) %37\n",
    "    tekshasil += abjadnya[idx]\n",
    "\n",
    "print(tekshasil)\n",
    "\n"
   ]
  },
  {
   "cell_type": "markdown",
   "id": "cbfba4c6-7f3c-433d-8993-a07d08fb7388",
   "metadata": {},
   "source": [
    "Pola kata-kata tidak terlihat lagi dalam penyamaran abjad banyak, karena rumus pergeserannya berubah-ubah setiap hurufnya. Cipher klasik sejenis ini lumayan kuat, hanya tidak boleh digunakan secara berulang-ulang dan pola kunci harus lebih panjang daripada teks aslinya.  \n",
    "Kunci yang panjang tentunya menyulitkan jika harus dikirim maka perlu ditambahkan suatu identifikasi kunci, dan kunci dapat dibangun dan digunakan sesuai identifikasinya. Identitas kunci ini dikirim dengan metoda cipher modern asimetris private/publik key; nanti kita bahas mengenai protokol pertukaran kunci Diffie-Hellman.    \n"
   ]
  },
  {
   "cell_type": "markdown",
   "id": "fabc527f-cee6-4915-969d-3f9c34359924",
   "metadata": {},
   "source": [
    "Cipher klasik berkembang dengan metoda pergeseran perkalian selain metoda pergeseran tambah-kurang.    \n",
    "> c = (Fp + A) mod n   \n",
    "> p = (F'(c - A) mod n\n",
    "\n",
    "Faktor F dan F' adalah pasangan yang jika dikalikan menghasilkan nilai 1 dalam medan n yaitu dengan perkalian modulo aritmetika. Dalam medan n, semua anggotanya bernilai dari 0 sampai n-1, dan baik penjumlahan maupun perkalian dalam konteks itu selalu menghasilkan nilai yang berada dalam medan n, tidak lompat keluar. Agar mudah kita akan menggunakan angka prima sebagai n sehingga semuanya relatif prima terhadap n, dan semuanya memiliki pasangan balikan modulo (modulo inverse) berbeda, kecuali nol tidak ada, satu dan n-1 (atau minus satu) hasilnya sama."
   ]
  },
  {
   "cell_type": "code",
   "execution_count": 5,
   "id": "1acb8344-1848-418f-b90c-0e351f6a99bf",
   "metadata": {},
   "outputs": [
    {
     "name": "stdout",
     "output_type": "stream",
     "text": [
      "[(2, 19), (3, 25), (4, 28), (5, 15), (6, 31), (7, 16), (8, 14), (9, 33), (10, 26), (11, 27), (12, 34), (13, 20), (14, 8), (15, 5), (16, 7), (17, 24), (18, 35), (19, 2), (20, 13), (21, 30), (22, 32), (23, 29), (24, 17), (25, 3), (26, 10), (27, 11), (28, 4), (29, 23), (30, 21), (31, 6), (32, 22), (33, 9), (34, 12), (35, 18)]\n"
     ]
    }
   ],
   "source": [
    "# PROGRAM (3) mencari modulo inverse\n",
    "# Cryptomath Module\n",
    "# https://www.nostarch.com/crackingcodes (BSD Licensed)\n",
    "\n",
    "\n",
    "def gcd(a, b):\n",
    "    # Return the Greatest Common Divisor of a and b using Euclid's Algorithm\n",
    "    while a != 0:\n",
    "        a, b = b % a, a\n",
    "    return b\n",
    "\n",
    "\n",
    "def findModInverse(a, m):\n",
    "    # Return the modular inverse of a % m, which is\n",
    "    # the number x such that a*x % m = 1\n",
    "\n",
    "    if gcd(a, m) != 1:\n",
    "        return None # No mod inverse exists if a & m aren't relatively prime.\n",
    "\n",
    "    # Calculate using the Extended Euclidean Algorithm:\n",
    "    u1, u2, u3 = 1, 0, a\n",
    "    v1, v2, v3 = 0, 1, m\n",
    "    while v3 != 0:\n",
    "        q = u3 // v3 # Note that // is the integer division operator\n",
    "        v1, v2, v3, u1, u2, u3 = (u1 - q * v1), (u2 - q * v2), (u3 - q * v3), v1, v2, v3\n",
    "    return u1 % m\n",
    "\n",
    "m = 37\n",
    "mkey_pairs = []\n",
    "for a in range(2,m-1):\n",
    "    ainv = findModInverse(a,m)\n",
    "    mkey_pairs.append((a,ainv))\n",
    "print(mkey_pairs)"
   ]
  },
  {
   "cell_type": "code",
   "execution_count": 6,
   "id": "483fa076-04c3-471b-a331-c156a2c72a63",
   "metadata": {},
   "outputs": [
    {
     "name": "stdout",
     "output_type": "stream",
     "text": [
      "Au vpcqCunf09m65irlikkexc4ypwo3o4 82j7p1l4d8gq7gn3ygxf13i4r,12196alslr4wngfdvuylaizbp3sdbprji75rx4h qpma8ix374ekjeiuzo1q1cvdjg9,wso54mo4 vpvl6tot2x51xprtovn149kkeg9c8q9v6i484ulnti,gn9dshhzlg7gkd8i8sc1xwtc4erfd2ze4szuo.\n",
      "\n",
      "Affine Cipher adalah jenis cipher substitusi monoalphabetic, di mana setiap huruf dalam alfabet dipetakan ke padanan numeriknya, dienkripsi menggunakan fungsi matematika sederhana, dan dikonversi kembali menjadi huruf.\n"
     ]
    }
   ],
   "source": [
    "# PROGRAM (4) Affine Cipher plus polyalphabetic\n",
    "add_keys = kunci # lihat tabel kunci yang didefinisikan di atas\n",
    "alen = len(add_keys)\n",
    "plainteks = \"Affine Cipher adalah jenis cipher substitusi monoalphabetic, \" \\\n",
    "\"di mana setiap huruf dalam alfabet dipetakan ke padanan numeriknya, \"\\\n",
    "\"dienkripsi menggunakan fungsi matematika sederhana, dan dikonversi kembali menjadi huruf.\"\n",
    "\n",
    "medan = 37\n",
    "mlen = len(mkey_pairs)\n",
    "# proses abjad banyak dilakukan dengan fungsi map dan enumerate\n",
    "# argumen yang dikirimkan berupa tuple berisi nomor urut, dan hurufnya\n",
    "def polyaffine_encrypt(t):\n",
    "    idx = t[0]\n",
    "    huruf = t[1]\n",
    "    p = abjadnya.find(huruf)\n",
    "    if (-1 == p): # jika tidak dalam termasuk abjadnya, \n",
    "        return huruf # kembalikan tanpa proses\n",
    "    c = ( mkey_pairs[idx % mlen][0] * p + add_keys[idx % alen] ) % medan\n",
    "    return abjadnya[c]\n",
    "\n",
    "def polyaffine_decrypt(t):\n",
    "    idx = t[0]\n",
    "    huruf = t[1]\n",
    "    c = abjadnya.find(huruf)\n",
    "    if (-1 == c): # jika tidak dalam termasuk abjadnya, \n",
    "        return huruf # kembalikan tanpa proses\n",
    "    p = ( mkey_pairs[idx % mlen][1] * (c - add_keys[idx % alen] )) % medan\n",
    "    return abjadnya[p]\n",
    "\n",
    "\n",
    "affpoly_teks = \"\".join(map(polyaffine_encrypt,enumerate(plainteks)))\n",
    "print(affpoly_teks)\n",
    "teks_aslinya = \"\".join(map(polyaffine_decrypt,enumerate(affpoly_teks)))\n",
    "print()\n",
    "print(teks_aslinya)"
   ]
  },
  {
   "cell_type": "markdown",
   "id": "aecf0836-7abd-4ef7-bab0-190507ee219b",
   "metadata": {},
   "source": [
    "Sudah cantik nampaknya metoda yang kita gunakan, tinggal perlu memperpanjang kunci multiplikatif dan kunci additifnya.    \n",
    "\n",
    "#### Memperpanjang kunci multiplikatif"
   ]
  },
  {
   "cell_type": "markdown",
   "id": "a92f2246-9a3e-44d1-9243-5188b196c466",
   "metadata": {},
   "source": [
    "Kunci yang kita gunakan ibarat roda yang diputar terus menerus, makin besar rodanya berarti makin panjang kuncinya sebelum berulang dari awal lagi. Jika kita gunakan dua roda yang tidak sama besarnya (tidak sama panjang) maka kuncinya menjadi kombinasi keduanya dan total panjangnya menjadi perkalian panjangnya dibagi PPB (**p**embagi **p**ersekutuan ter**b**esar).   \n",
    "Tetapi pertama-tama roda awalnya dibuat agak besar yaitu dengan memperbesar medan Galois yang digunakan supaya pasangan kuncinya lebih banyak. Nilai medan yang dipilih ialah angka prima 67 yang cukup untuk menampung abjad huruf kecil, kapital, angka, dan beberapa tanda baca."
   ]
  },
  {
   "cell_type": "code",
   "execution_count": 7,
   "id": "376329f6-07e7-4e48-808c-831dead77349",
   "metadata": {},
   "outputs": [
    {
     "name": "stdout",
     "output_type": "stream",
     "text": [
      "[(2, 34), (3, 45), (4, 17), (5, 27), (6, 56), (7, 48), (8, 42), (9, 15), (10, 47), (11, 61), (12, 28), (13, 31), (14, 24), (15, 9), (16, 21), (17, 4), (18, 41), (19, 60), (20, 57), (21, 16), (22, 64), (23, 35), (24, 14), (25, 59), (26, 49), (27, 5), (28, 12), (29, 37), (30, 38), (31, 13), (32, 44), (33, 65), (34, 2), (35, 23), (36, 54), (37, 29), (38, 30), (39, 55), (40, 62), (41, 18), (42, 8), (43, 53), (44, 32), (45, 3), (46, 51), (47, 10), (48, 7), (49, 26), (50, 63), (51, 46), (52, 58), (53, 43), (54, 36), (55, 39), (56, 6), (57, 20), (58, 52), (59, 25), (60, 19), (61, 11), (62, 40), (63, 50), (64, 22), (65, 33)]\n",
      "64\n"
     ]
    }
   ],
   "source": [
    "# PROGRAM (5) kunci_multiplikatif lebih panjang\n",
    "gf = 67\n",
    "abjadnya = 'abcdefghijklmnopqrstuvwxyz,QWERTYUIOPASDFGHJKLZXCVBNM.1234567890?! ' # 67 karakter\n",
    "mkey_pairs = []\n",
    "for a in range(2,gf-1):\n",
    "    ainv = findModInverse(a,gf)\n",
    "    mkey_pairs.append((a,ainv))\n",
    "print(mkey_pairs)\n",
    "print(len(mkey_pairs))"
   ]
  },
  {
   "cell_type": "code",
   "execution_count": 8,
   "id": "63d17505-00ee-4ab5-abaa-9cf6849bf1fb",
   "metadata": {},
   "outputs": [
    {
     "name": "stdout",
     "output_type": "stream",
     "text": [
      "len_satu=64, len_dua=63, len_tiga=61\n",
      "panjang total kunci kombinasi 245,952\n",
      "jika dibuat panjang tabel additif 1063\n",
      "dan gcd-nya 1 satu, maka grand total panjang perulangan enkripsi 261,446,976\n"
     ]
    }
   ],
   "source": [
    "# PROGRAM (6) kunci 3 roda\n",
    "len_satu = 64\n",
    "len_dua = 0\n",
    "len_tiga = 0\n",
    "for n in range(64,2,-1):\n",
    "    if gcd(n,len_satu) == 1:\n",
    "        if 0 == len_dua :\n",
    "            len_dua = n\n",
    "            continue\n",
    "        if 0 == len_tiga and 1 == gcd(n,len_dua) :\n",
    "            len_tiga = n\n",
    "            break\n",
    "print(f'{len_satu=}, {len_dua=}, {len_tiga=}')    \n",
    "len_keys = len_satu * len_dua * len_tiga \n",
    "\n",
    "print(f'panjang total kunci kombinasi {len_keys:,}')\n",
    "\n",
    "print('jika dibuat panjang tabel additif 1063')\n",
    "print(f'dan gcd-nya {gcd(1063, len_keys)} satu, maka grand total panjang perulangan enkripsi {1063*len_keys:,}')"
   ]
  },
  {
   "cell_type": "markdown",
   "id": "7a665f84-dca5-4158-b621-a0b85fbefbd9",
   "metadata": {},
   "source": [
    "Jadi roda satu atau rotor satu (meminjam istilah pada Enigma Cipher) berisi pasangan kunci yang lengkap, sedangkan rotor kedua dan ketiga tidak lengkap, lebih pendek. Kunci kombinasi adalah perkalian kunci pada ketiga rotor. Ketika rotor ketiga restart rotor kedua dan kesatu masih meneruskan putarannya, maka hasil perkaliannya akan memiliki pola (beberapa angka berturutan) yang berbeda dibandingkan ketika start bareng, dan seterusnya hingga akhirnya sampai pada key ke-245952, lalu pada key ke-245953 polanya kembali ke awal start bareng.   \n",
    "Implementasinya ialah dengan menggunakan aritmetika modulo pada indeks dari tabel kunci, yang berputar-putar dalam batasan medan yang digunakan."
   ]
  },
  {
   "cell_type": "code",
   "execution_count": 9,
   "id": "9995d19e-db80-49df-a7ab-72c3d6ee59eb",
   "metadata": {},
   "outputs": [
    {
     "name": "stdout",
     "output_type": "stream",
     "text": [
      "8  27  64  58  15  9  32  27  51  30  20  54  37  8  27  64  58  15  \n",
      "42  5  22  52  9  15  44  5  46  38  57  36  29  42  5  22  52  9  "
     ]
    }
   ],
   "source": [
    "# PROGRAM (7) mengakses key kombinasi\n",
    "idx = 0,1,2,3,4, 60,61,62,63,64, 61*63, 61*63+1, 61*63*64-1, 61*63*64, 61*63*64+1, 61*63*64+2, 61*63*64+3, 61*63*64+4\n",
    "keys = mkey_pairs\n",
    "for i in idx:\n",
    "    print((keys[i % len_satu][0] * keys[i % len_dua][0] * keys[i % len_tiga][0]) % gf, end='  ')\n",
    "print()\n",
    "for i in idx:    \n",
    "    print((keys[i % len_satu][1] * keys[i % len_dua][1] * keys[i % len_tiga][1]) % gf, end='  ')\n",
    "    "
   ]
  },
  {
   "cell_type": "markdown",
   "id": "2750f938-9f41-4e17-8111-8ce180036d5a",
   "metadata": {},
   "source": [
    "Prinsipnya ada dua patokan untuk pemakaian kunci multiplikatif yang bagus, yaitu kesatu kunci harus panjang sekali, dan kedua pola kunci yang sama jangan dipakai ulang. Prinsip kesatu sudah tercapai, jika masih kurang rotor masih bisa ditambah dengan mudah. Prinsip kedua, berarti kita harus memiliki metoda mengacak pola mkey_pairs lalu mengambil salah satunya secara konsisten dengan angka identifikasi saja. Mari tengok bagaimana kita dapat menggapai target multi mkeys yang diperlukan.   \n",
    "\n",
    "Masih dengan metoda penggunaan roda modulo, kita memerlukan 2 kali 64 buah roda yang masing-masing mempunyai jumlah gigi angka prima yang berbeda satu sama lainnya. Kita buat dulu roda-roda modulonya."
   ]
  },
  {
   "cell_type": "code",
   "execution_count": 10,
   "id": "83d57418-dd92-46f0-8297-1492283e1335",
   "metadata": {},
   "outputs": [
    {
     "name": "stdout",
     "output_type": "stream",
     "text": [
      "[31, 37, 41, 43, 47, 53, 59, 61, 67, 71, 73, 79, 83, 89, 97, 101, 103, 107, 109, 113, 127, 131, 137, 139, 149, 151, 157, 163, 167, 173, 179, 181, 191, 193, 197, 199, 211, 223, 227, 229, 233, 239, 241, 251, 257, 263, 269, 271, 277, 281, 283, 293, 307, 311, 313, 317, 331, 337, 347, 349, 353, 359, 367, 373]\n",
      "[1063, 1087, 1093, 1103, 1117, 1129, 1153, 1171, 1187, 1201, 1217, 1229, 1237, 1259, 1279, 1289, 1297, 1303, 1319, 1327, 1367, 1381, 1409, 1427, 1433, 1447, 1453, 1471, 1483, 1489, 1499, 1523, 1543, 1553, 1567, 1579, 1597, 1607, 1613, 1621, 1637, 1663, 1669, 1697, 1709, 1723, 1741, 1753, 1777, 1787, 1801, 1823, 1847, 1867, 1873, 1879, 1901, 1913, 1933, 1951, 1979, 1993, 1999, 2011]\n",
      "jumlah variasi = 2.5E+203\n",
      "tepatnya sebanyak 247,081,745,958,054,367,555,907,837,718,941,038,874,521,946,309,503,968,472,193,864,012,375,131,307,434,443,061,017,804,722,199,766,123,349,448,371,515,168,112,378,052,705,605,158,628,273,976,396,945,354,688,267,345,761,269,129,187,454,027,340,898,716,017,269,237,500,057\n"
     ]
    }
   ],
   "source": [
    "# PROGRAM (8)\n",
    "# tapis eratosthenes\n",
    "# membuat roda modulo\n",
    "from array import array\n",
    "\n",
    "def primes_sieve(limit: int) -> tuple:\n",
    "    # byte array allocation, 1 byte per item for boolean result each\n",
    "    sieve = array('b', [True] * limit)\n",
    "    sieve[0] = sieve[1] = False  # zero and one are not prime numbers.\n",
    "    for start in range(2, int(limit ** 0.5) + 1):\n",
    "        if not sieve[start]:\n",
    "            continue\n",
    "        idx = start ** 2\n",
    "        while idx < limit:\n",
    "            sieve[idx] = False\n",
    "            idx += start\n",
    "    return [i for i,p in enumerate(sieve) if p]\n",
    "\n",
    "primes = primes_sieve(2022)\n",
    "n = len(primes)\n",
    "aprimes = primes[10:74]\n",
    "bprimes = primes[n-128:n:2]\n",
    "\n",
    "print(aprimes)\n",
    "print(bprimes)\n",
    "total=1\n",
    "for n in bprimes:\n",
    "    total *= n\n",
    "print(f'jumlah variasi = {total:.1E}')\n",
    "print(f'tepatnya sebanyak {total:,}')\n",
    "\n"
   ]
  },
  {
   "cell_type": "markdown",
   "id": "de952897-f8e7-495d-8166-92bfbf773f6c",
   "metadata": {},
   "source": [
    "Kelompok roda pertama (aprimes) menentukan pengacakan dan kelompok roda kedua (bprimes) menentukan panjang perulangan. Tabel pengacak tersebut dirumuskan sebagai berikut   \n",
    "> Xkn = ((Ak * n) mod Bk) mod p    \n",
    "dimana   \n",
    "> > n = nomor variasi pengacak yang dipilih   \n",
    "> > k = 0 ~ 63   \n",
    "> > p = panjang mkey_pairs = 64   \n"
   ]
  },
  {
   "cell_type": "code",
   "execution_count": 11,
   "id": "5858b449-2ddc-4191-af94-6b3a261e30ab",
   "metadata": {},
   "outputs": [
    {
     "name": "stdout",
     "output_type": "stream",
     "text": [
      "masukan angka pilihan variasi tabel1234056780123456012345600492141\n",
      "[(43, 53), (3, 45), (42, 8), (65, 33), (12, 28), (15, 9), (44, 32), (17, 4), (34, 2), (12, 28), (36, 54), (12, 28), (42, 8), (57, 20), (36, 54), (58, 52), (57, 20), (50, 63), (61, 11), (35, 23), (42, 8), (9, 15), (38, 30), (58, 52), (9, 15), (38, 30), (4, 17), (30, 38), (49, 26), (27, 5), (39, 55), (29, 37), (38, 30), (30, 38), (6, 56), (37, 29), (62, 40), (43, 53), (35, 23), (32, 44), (56, 6), (19, 60), (50, 63), (21, 16), (21, 16), (7, 48), (60, 19), (61, 11), (61, 11), (46, 51), (60, 19), (56, 6), (62, 40), (16, 21), (5, 27), (22, 64), (60, 19), (55, 39), (62, 40), (16, 21), (34, 2), (10, 47), (53, 43), (25, 59)]\n"
     ]
    }
   ],
   "source": [
    "# PROGRAM (9)\n",
    "# membuat tabel pengacak dan tabel mkey yang baru\n",
    "variasi = input('masukan angka pilihan variasi tabel')\n",
    "variasi = int(variasi) % total # nomor variasi yang valid < total 2.47E+203\n",
    "p = 64\n",
    "new_mkey_pairs = []\n",
    "for k in range(p):\n",
    "    x = (( aprimes[k] * variasi ) % bprimes[k] ) % p \n",
    "    new_mkey_pairs.append(mkey_pairs[x])\n",
    "print(new_mkey_pairs)"
   ]
  },
  {
   "cell_type": "markdown",
   "id": "4a7e090b-bf9a-4799-8800-d6705de93b83",
   "metadata": {},
   "source": [
    "Selanjutnya, angka pilihan variasi ini diperlakukan sebagai kunci simetris yang rahasia, sedangkan metoda algoritma dan kunci multiplikatif, additif dianggap terbuka. Faktor keamanannya terhadap brute force ialah 1 banding 2.47E+203. Jika dianggap masih kurang memadai, maka bprimes dikalkulasi ulang dengan menambah nilai angka prima **primes = primes_sieve(10000)** pada PROGRAM (8), maka total variasi naik menjadi 2.0E+254  atau medan diubah dan menyesuaikan juga daftar abjad, misalnya menjadi 127, maka panjang bprimes akan bertambah dan total variasi naik drastis.    \n",
    "\n",
    "Untuk mendapatkan total variasi pengacak diatas 1.0E+1000, maka kita hanya perlu menerapkan metoda pengacak ke tabel kunci additif. Kunci additif misalnya dibuat sepanjang 1063, maka perkalian sebanyak 1063 angka prima bakal mencapai nilai yang sangat besar."
   ]
  },
  {
   "cell_type": "code",
   "execution_count": 12,
   "id": "cec8c82b-ba88-4651-ad7d-1ac89addea85",
   "metadata": {},
   "outputs": [
    {
     "name": "stdout",
     "output_type": "stream",
     "text": [
      "jumlah digit total variasi 3889\n"
     ]
    }
   ],
   "source": [
    "# PROGRAM (10)\n",
    "# Total variasi dengan penerapan roda modulo pada tabel additif\n",
    "primes = primes_sieve(10000)\n",
    "n = len(primes)\n",
    "bprimes = primes[-1063::]\n",
    "totalx=1\n",
    "for n in bprimes:\n",
    "    totalx *= n\n",
    "\n",
    "print(f'jumlah digit total variasi {len(str(totalx))}')"
   ]
  },
  {
   "cell_type": "code",
   "execution_count": 13,
   "id": "493785eb-439c-40b5-bf91-a68fd92bcac2",
   "metadata": {},
   "outputs": [
    {
     "name": "stdout",
     "output_type": "stream",
     "text": [
      "masukan angka rahasia:123456\n",
      "T3oYpO2epYjOZp6F5CA8umz60sNTkMz5 bro?fRldI-PrWiNX78ZYc.,I07H18MAEvi0aQjetx4QGYZfmVsxlR1taQWatWuh9UsZVyayFaMdr7KjPjrFxw50-ETOgtoj73neWPuUZpW78oTTJtXQb0ExkwSGB6681NcjMpVGOpSk3ugBj4ewWt?3Zihnk zhEGTQs0wo3Mk6Gkq4mmojIA82Ld.8qLcM8NM1Be3UUu0hCOXcpI1963sp g2DmHLw68bRCuQL.vRRx5Fro5Kd5mMr5QTNKlX69PXEU.em1-2vjxAGBG6OcsVT2,-wLdK0BsQvTCMOtqZxawI s6ZjxWJD7odaG2.YEbmB0PSIgoiuqh-GsbICna2HuFSJme?FM.MLaorXO6PNR GXoa8Sc6z,SNC9nLBTGlna5JMo3pxph7iW(yjUx)q\n",
      "\n",
      "Cipher poly-Affine buatan sendiri ini adalah jenis cipher substitusi polyalphabetic, di mana setiap huruf dalam alfabet dipetakan ke padanan numeriknya, dienkripsi menggunakan fungsi matematika sederhana, dan dikonversi kembali menjadi huruf. Tabel enkripsi faktor pengali dan tabel enkripsi penambah geser yang digunakan dapat dibuat khusus berdasarkan nilai kunci simetris, yang rentang jumlah digitnya mencapai tiga ribuan digit (3889).\n"
     ]
    }
   ],
   "source": [
    "# PROGRAM (11) Poly-Affine Lengkap\n",
    "# meningkatkan kemampuan cipher klasik\n",
    "\n",
    "# setelan konstanta dan inisialisasi tabel-tabel\n",
    "class Myvar:\n",
    "    GFIELD = 67 # harus angka prima\n",
    "    ABJADNYA = 'abcdefghijklmnopqrstuvwxyz,QWERTYUIOPASDFGHJKLZXCVBNM.1234567890?- ' # len(nya) = GFIELD\n",
    "    PLAINTEKS = \"Cipher poly-Affine buatan sendiri ini adalah jenis cipher substitusi polyalphabetic, \" \\\n",
    "    \"di mana setiap huruf dalam alfabet dipetakan ke padanan numeriknya, \"\\\n",
    "    \"dienkripsi menggunakan fungsi matematika sederhana, dan dikonversi kembali menjadi huruf. \"\\\n",
    "    \"Tabel enkripsi faktor pengali dan tabel enkripsi penambah geser yang digunakan dapat dibuat khusus \" \\\n",
    "    \"berdasarkan nilai kunci simetris, yang rentang jumlah digitnya mencapai tiga ribuan digit (3889).\"\n",
    "    \n",
    "    def __init__(self,secretnumber):\n",
    "        p = 1063\n",
    "        additive_factors = [(1+i)%Myvar.GFIELD for i in range(p)] # default urut, tidak rahasia; atau bisa juga copas dari CSPRNG\n",
    "        primes = primes_list(10000)\n",
    "        n = len(primes)\n",
    "        aprimes = primes[10:10+p]\n",
    "        bprimes = primes[-p:n]\n",
    "        secretrange=1\n",
    "        for n in bprimes:\n",
    "            secretrange *= n\n",
    "        secretnumber %= secretrange\n",
    "        \n",
    "        self.afactor_tbl = []\n",
    "        for k in range(p):\n",
    "            x = (( aprimes[k] * secretnumber ) % bprimes[k] ) % p \n",
    "            self.afactor_tbl.append(additive_factors[x]) # TABEL PENAMBAH berdasarkan secretnumber\n",
    "\n",
    "        mfactor_pairs = []\n",
    "        for a in range(2,Myvar.GFIELD-1):\n",
    "            ainv = findModInverse(a,Myvar.GFIELD)\n",
    "            mfactor_pairs.append((a,ainv))\n",
    "        self.m1st_len = len(mfactor_pairs)\n",
    "        self.m2nd_len, self.m3rd_len = add_rotors(self.m1st_len)\n",
    "        \n",
    "        primes = primes_list(2022)\n",
    "        n = len(primes)\n",
    "        aprimes = primes[10:10 + self.m1st_len]\n",
    "        bprimes = primes[n-self.m1st_len:n]\n",
    "\n",
    "        p = self.m1st_len\n",
    "        new_mkey_pairs = []\n",
    "        for k in range(p):\n",
    "            x = (( aprimes[k] * secretnumber ) % bprimes[k] ) % p \n",
    "            new_mkey_pairs.append(mfactor_pairs[x])\n",
    "        self.mfactor_table = new_mkey_pairs # TABEL FAKTOR PENGALI berdasarkan secretnumber\n",
    "        \n",
    "        \n",
    "def mainkan():\n",
    "    affpoly_teks = \"\".join(map(polyaffine_encrypt,enumerate(Myvar.PLAINTEKS)))\n",
    "    print(affpoly_teks)\n",
    "    teks_aslinya = \"\".join(map(polyaffine_decrypt,enumerate(affpoly_teks)))\n",
    "    print()\n",
    "    print(teks_aslinya)\n",
    "    \n",
    "def polyaffine_encrypt(t):\n",
    "    idx = t[0]\n",
    "    huruf = t[1]\n",
    "    p = Myvar.ABJADNYA.find(huruf)\n",
    "    if (-1 == p): # jika tidak dalam termasuk abjadnya, \n",
    "        return huruf # kembalikan tanpa proses\n",
    "    mfactor = myglob.mfactor_table[idx % myglob.m1st_len][0] * \\\n",
    "              myglob.mfactor_table[idx % myglob.m2nd_len][0] * \\\n",
    "              myglob.mfactor_table[idx % myglob.m3rd_len][0]\n",
    "    afactor = myglob.afactor_tbl[idx % len(myglob.afactor_tbl)]\n",
    "    c = ( mfactor * p + afactor ) % Myvar.GFIELD\n",
    "    return Myvar.ABJADNYA[c]\n",
    "\n",
    "def polyaffine_decrypt(t):\n",
    "    idx = t[0]\n",
    "    huruf = t[1]\n",
    "    c = Myvar.ABJADNYA.find(huruf)\n",
    "    if (-1 == c): # jika tidak dalam termasuk abjadnya, \n",
    "        return huruf # kembalikan tanpa proses\n",
    "    mfactor = myglob.mfactor_table[idx % myglob.m1st_len][1] * \\\n",
    "              myglob.mfactor_table[idx % myglob.m2nd_len][1] * \\\n",
    "              myglob.mfactor_table[idx % myglob.m3rd_len][1]\n",
    "    afactor = myglob.afactor_tbl[idx % len(myglob.afactor_tbl)]\n",
    "    p = ( mfactor * (c - afactor )) % Myvar.GFIELD\n",
    "    return Myvar.ABJADNYA[p]\n",
    "\n",
    "def gcd(a, b):\n",
    "    while a != 0:\n",
    "        a, b = b % a, a\n",
    "    return b\n",
    "\n",
    "def findModInverse(a, m):\n",
    "    if gcd(a, m) != 1:\n",
    "        return None # No mod inverse exists if a & m aren't relatively prime.\n",
    "    u1, u2, u3 = 1, 0, a\n",
    "    v1, v2, v3 = 0, 1, m\n",
    "    while v3 != 0:\n",
    "        q = u3 // v3 # Note that // is the integer division operator\n",
    "        v1, v2, v3, u1, u2, u3 = (u1 - q * v1), (u2 - q * v2), (u3 - q * v3), v1, v2, v3\n",
    "    return u1 % m\n",
    "\n",
    "def get_key_pairs(gf):\n",
    "    key_pairs = []\n",
    "    for a in range(2,gf-1):\n",
    "        ainv = findModInverse(a,gf)\n",
    "        key_pairs.append((a,ainv))\n",
    "    return (len(key_pairs), key_pairs)\n",
    "\n",
    "def add_rotors(len_satu):\n",
    "    len_dua = 0\n",
    "    len_tiga = 0\n",
    "    for n in range(len_satu,2,-1):\n",
    "        if gcd(n,len_satu) == 1:\n",
    "            if 0 == len_dua :\n",
    "                len_dua = n\n",
    "                continue\n",
    "            if 0 == len_tiga and 1 == gcd(n,len_dua) :\n",
    "                len_tiga = n\n",
    "                break\n",
    "    return (len_dua, len_tiga)\n",
    "\n",
    "from array import array\n",
    "def primes_list(limit: int) -> tuple:\n",
    "    # byte array allocation, 1 byte per item for boolean result each\n",
    "    sieve = array('b', [True] * limit)\n",
    "    sieve[0] = sieve[1] = False  # zero and one are not prime numbers.\n",
    "    for start in range(2, int(limit ** 0.5) + 1):\n",
    "        if not sieve[start]:\n",
    "            continue\n",
    "        idx = start ** 2\n",
    "        while idx < limit:\n",
    "            sieve[idx] = False\n",
    "            idx += start\n",
    "    return [i for i,p in enumerate(sieve) if p]\n",
    "\n",
    "secretnumber = 0\n",
    "while not secretnumber:\n",
    "    secretnumber = int(input(\"masukan angka rahasia:\")) \n",
    "myglob = Myvar(secretnumber)\n",
    "mainkan()\n"
   ]
  },
  {
   "cell_type": "markdown",
   "id": "8e5bafe2-a58c-45e8-a526-a1852590d0b7",
   "metadata": {},
   "source": [
    "Bahasan kita berikut akan menyangkut manajemen kunci simetris yaitu angka rahasia ribuan digit."
   ]
  },
  {
   "cell_type": "markdown",
   "id": "220cd592-8a12-4609-aeb2-3ce35649fa47",
   "metadata": {},
   "source": [
    "Agar memudahkan mengingat memasukkan pin rahasia yang panjang kita dapat mengubahnya menjadi password alfa numerik dan tanda baca."
   ]
  },
  {
   "cell_type": "code",
   "execution_count": 14,
   "id": "8307846a-85db-4254-8ea8-b7ca04efdb23",
   "metadata": {},
   "outputs": [
    {
     "name": "stdout",
     "output_type": "stream",
     "text": [
      "masukan passphrase:setec astronomy 818-785-0904 21-492141\n",
      "pin Anda 76 digit, yaitu 1255116603089028572395093321950492699676064860044082804947949332134741134967\n",
      "verifikasi balikan, passphrase : setec astronomy 818-785-0904 21-492141\n"
     ]
    }
   ],
   "source": [
    "# PROGRAM (12) Mengkodekan pin menjadi password atau passphrase\n",
    "class Code9x:\n",
    "    alnum_95 = \"\".join([chr(i) for i in range(32,127)])\n",
    "    alnum94 = alnum_95[1::]\n",
    "\n",
    "def enc95(number:int) -> str:\n",
    "    number =  int(number)\n",
    "    if number == 0:\n",
    "        return '0'\n",
    "    kode = []\n",
    "    while number != 0:\n",
    "        sisa = number %95\n",
    "        kode.append(Code9x.alnum_95[sisa])\n",
    "        number = number // 95\n",
    "    return (\"\".join(reversed(kode)))\n",
    "    \n",
    "def dec95(kode:str) -> int:\n",
    "    def digpow(t):\n",
    "        return Code9x.alnum_95.find(t[1]) * pow(95,t[0])\n",
    "    return sum(map(digpow,enumerate(kode[-1::-1])))\n",
    "\n",
    "def enc94(number:int) -> str:\n",
    "    number =  int(number)\n",
    "    if number == 0:\n",
    "        return '0'\n",
    "    kode = []\n",
    "    while number != 0:\n",
    "        sisa = number %94\n",
    "        kode.append(Code9x.alnum94[sisa])\n",
    "        number = number // 94\n",
    "    return (\"\".join(reversed(kode)))  # kode string output tidak pakai spasi.\n",
    "    \n",
    "def dec94(kode:str) -> int:  # kode input tanpa spasi\n",
    "    def digpow(t):\n",
    "        return Code9x.alnum94.find(t[1]) * pow(94,t[0])\n",
    "    return sum(map(digpow,enumerate(kode[-1::-1])))\n",
    "\n",
    "\n",
    "pwd = input(\"masukan passphrase:\")\n",
    "pin = dec95(pwd)\n",
    "print(f'pin Anda {len(str(pin))} digit, yaitu {pin}')\n",
    "print(f'verifikasi balikan, passphrase : {enc95(pin)}')\n",
    " \n"
   ]
  },
  {
   "cell_type": "code",
   "execution_count": 15,
   "id": "163f30a5-a01f-438b-8666-6c1b90b90904",
   "metadata": {},
   "outputs": [
    {
     "name": "stdout",
     "output_type": "stream",
     "text": [
      "masukan passphrase:setec astronomy\n",
      "pin Anda 2020 digit, yaitu 1441150431943883311311367918312854481032622273791767986175833424231090940211159952000402123719792118277655563417682964821373488403369974932646384787965894793898111477186546642793042236025733664115961412897267577563922288566252966300643323699589061461013936176613346085371143670949216240211180690577467613375400035658166805608955598612426584333144033484009220296495223909905197360455640560957596756803249258607835309361667500176847857154924251741959707911435802521678798839561653663717126306040752345622816240289276032740547453970424082859845116224253239608975153917068972924831363780395655016021814020969609779334525811957198558706320961602892748318288878606593166732566270108682157565797382486333920084357932793678220699167404930396082524297422451265396263882674207894112657363325329162790073016396177548761842865278797752516637931982137199300325875753112285649191972004703522819870660582251699572578663249139535723015322505931583194335846893255430265926263774248628513693392021540595214291812451467414126975013496327692944092403253171274789090498086526299971754010015858780248455919181418619128202752500644290905858445279344880673759835026543755199736889498944012703147854876737383598182595429668023029068904083208053931624786799674143010883630759963911658600291823167469156195643546851983639921716642191346063264547788267063913755428976383923579857507994322061187594494042959298806471435928425678874515766005194615307604895270113841586091522954873812387970016084831194413597556937832497361561235286108747148787209671810743673634760747902132395505269096505610931155854164410695101801303166215366780847409091816075169670994836476606620387374840008688204088738883696981468422826413111876413106413491273153009577715145683859317589113659663383128292385921544591896829138081111505810105729965969660828015291550340443643337132351072808946885923533225659058689354975618644091751107734607230392203242860564311453892225243444079783322905520616897347682422203278057611025897709227330247063255345158630079385245719901721188153414\n"
     ]
    }
   ],
   "source": [
    "# PRGRAM (13) Menggunakan fungsi hash untuk mendapatkan pin yang panjang dari passphrase yang singkat \n",
    "# hash function BLAKE2\n",
    "from hashlib import blake2b\n",
    "pwd = input(\"masukan passphrase:\")\n",
    "barry = bytearray(pwd,'utf-8')\n",
    "hdig = blake2b(barry).hexdigest()\n",
    "pin = dec94(hdig)\n",
    "pin = pin **8 + pin\n",
    "\n",
    "print(f'pin Anda {len(str(pin))} digit, yaitu {pin}')\n",
    "# jika ingin melihat passwordnya,\n",
    "# password tidak mengandung spasi karena kemungkinan luput dari copas jika spasi ada di akhir.\n",
    "# pword = enc94(pin)\n",
    "# print(f'kode password: {pword} \\nlength {len(pword)}')\n"
   ]
  },
  {
   "cell_type": "markdown",
   "id": "86c989dc-1751-4317-97f2-ff6a475e072f",
   "metadata": {},
   "source": [
    "Jika Anda memiliki jalur yang dipercaya aman maka passphrase rahasia dapat dikomunikasikan dengan mitra, lalu Anda dapat mengirim pesan yang terenkripsi lewat jalur internet/email yang publik. Masalahnya, setiap kali mengirim pesan, enkripsi harus berbeda tidak boleh mengulang pola yang sebelumnya karena ada resiko penyadap bisa menyimpan beberapa pesan lalu melakukan analisa pemecah kode. Artinya pin rahasia harus berubah unik setiap kali melakukan enkripsi/dekripsi.   \n",
    "\n",
    "Mari perhatikan bahwa dengan menambahkan header tanggal-jam kita dapat memodifikasi pin rahasia setiap kali mengirim pesan, tetapi passphrase rahasia hanya sekali saja dikomunikasikan lewat jalur yang aman. "
   ]
  },
  {
   "cell_type": "code",
   "execution_count": 18,
   "id": "fea6d9a3-e42f-420c-9e22-7cc4ffb22c5b",
   "metadata": {},
   "outputs": [
    {
     "name": "stdout",
     "output_type": "stream",
     "text": [
      "20220322212349s.EsbpNQ5bbKgT0f162OZodpt6QxfZEYPBAyhaK-LHFTNersUTtTLLjWpcixIG9S4T1oA1wcVKdMm38zdvzDN,ko?huQHk3BJgauOLBqgg5KEAOH.x1HudscZt5i0xU 0cc8KIJyosvkB5olt2iU7ZMdxtlQM17wbOtAZI.T9aaJI.2euoacX7ZGztRzubzEJuBF7dW?p5MmV4RQopQr?HyGyx6Kp0x3,LMfv.ZB2Y8Ca yDoriHVmq3Z75D9SobWnF2ZOs6XeaVmXp8GnKGhnkBdiz7BKPfsZdhu2gTEuCOG3CeInd?L3RY0i-jPWh97-q8,QzIsgMeO5b5FxfU5q749Gq9vCmE1IjYZxd.wL.BW4L,qjsAKRy0bfn07WSJz-ogmmP-Aky0SAbAnICtqzQxutJN5yo9T8zCOgXW4,-ukh3o(FbOn)G\n",
      "\n",
      "deskripsinya\n",
      "Cipher poly-Affine buatan sendiri ini adalah jenis cipher substitusi polyalphabetic, di mana setiap huruf dalam alfabet dipetakan ke padanan numeriknya, dienkripsi menggunakan fungsi matematika sederhana, dan dikonversi kembali menjadi huruf. Tabel enkripsi faktor pengali dan tabel enkripsi penambah geser yang digunakan dapat dibuat khusus berdasarkan nilai kunci simetris, yang rentang jumlah digitnya mencapai tiga ribuan digit (3889).\n",
      "\n",
      "SILAHKAN DIRUN BERKALI KALI DAN LIHAT PESAN YANG DIENKRIPSI BERUBAH UBAH (per detik) WALAUPUN PESAN ASLINYA SAMA\n"
     ]
    }
   ],
   "source": [
    "# PROGRAM (14) Mengedit pin rahasia dengan header date-time\n",
    "# sebagian definisi diambil dari Program (11)\n",
    "from hashlib import blake2b\n",
    "import datetime as dt\n",
    "def makepin(pass_string: str) -> int:\n",
    "    barry = bytearray(pass_string,'utf-8')\n",
    "    hdig = blake2b(barry).hexdigest()\n",
    "    pin = dec94(hdig)\n",
    "    return pin **8 + pin\n",
    "def dt_now():\n",
    "    x = dt.datetime.now()\n",
    "    return x.strftime(\"%Y%m%d%H%M%S\")\n",
    "\n",
    "plainteks = Myvar.PLAINTEKS #input('input pesan yang akan di-enkripsi:')\n",
    "pwd = \"too many secrets\" # input(\"passphrase yg sudah disepakati lewat jalur aman:\")\n",
    "header = dt_now()\n",
    "secretnumber = makepin(header+pwd)\n",
    "myglob = Myvar(secretnumber) # pastikan Program (11) sudah di-run, dan masih ada di memori \n",
    "affpoly_teks = \"\".join(map(polyaffine_encrypt,enumerate(plainteks)))\n",
    "print(header+affpoly_teks)\n",
    "\n",
    "print()\n",
    "print('deskripsinya')\n",
    "teks_diterima = header+affpoly_teks\n",
    "header = teks_diterima[0:14]\n",
    "ciphered = teks_diterima[14::]\n",
    "# pwd = input(\"passphrase yg sudah disepakati lewat jalur aman:\")\n",
    "secretnumber = makepin(header+pwd) #pwd kesepakatan sama\n",
    "\n",
    "teks_aslinya = \"\".join(map(polyaffine_decrypt,enumerate(ciphered)))\n",
    "print(teks_aslinya)\n",
    "print()\n",
    "print(\"SILAHKAN DIRUN BERKALI KALI DAN LIHAT PESAN YANG DIENKRIPSI BERUBAH UBAH (per detik) WALAUPUN PESAN ASLINYA SAMA\")"
   ]
  },
  {
   "cell_type": "markdown",
   "id": "96463a57-8e6d-467c-8a0f-1cd8a8be9bdf",
   "metadata": {},
   "source": [
    "Guys, sampai disini dulu contoh program Python dalam kasus kriptografi khususnya modifikasi Affine cipher. Enjoy!   \n",
    "\n",
    "Mungkin lain kali kita diberi kesempatan membahas protokol Diffie-Hellman untuk komunikasi lewat jalur publik yang tidak aman, sehingga bahkan untuk kesepakatan kunci simetris sekali saja, terpaksa digunakan metoda kunci asimetris. Sinau mas.\n"
   ]
  }
 ],
 "metadata": {
  "kernelspec": {
   "display_name": "Python 3 (ipykernel)",
   "language": "python",
   "name": "python3"
  },
  "language_info": {
   "codemirror_mode": {
    "name": "ipython",
    "version": 3
   },
   "file_extension": ".py",
   "mimetype": "text/x-python",
   "name": "python",
   "nbconvert_exporter": "python",
   "pygments_lexer": "ipython3",
   "version": "3.8.10"
  }
 },
 "nbformat": 4,
 "nbformat_minor": 5
}
