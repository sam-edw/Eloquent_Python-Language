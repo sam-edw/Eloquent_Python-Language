{
 "cells": [
  {
   "cell_type": "markdown",
   "id": "11361773",
   "metadata": {},
   "source": [
    "Linked list adalah beberapa node data yang memiliki kaitan satu dengan lainnya. Beberapa jenis linked list yaitu single Linked list, double linked list, circular linked list."
   ]
  },
  {
   "cell_type": "markdown",
   "id": "d224edf6-45ad-4bcc-a770-71d9f9835023",
   "metadata": {},
   "source": [
    "### Single Linked List ###   \n",
    "sumber bacaan realpyton.com"
   ]
  },
  {
   "cell_type": "code",
   "execution_count": 3,
   "id": "091f3ed8",
   "metadata": {},
   "outputs": [],
   "source": [
    "class Node:\n",
    "    def __init__(self, data):\n",
    "        self.data = data\n",
    "        self.next = None\n",
    "\n",
    "    def __repr__(self):\n",
    "        return self.data\n",
    "\n",
    "class LinkedList:\n",
    "    def __init__(self):\n",
    "        self.head = None\n",
    "\n",
    "    def __repr__(self):\n",
    "        node = self.head\n",
    "        nodes = []\n",
    "        while node is not None:\n",
    "            nodes.append(node.data)\n",
    "            node = node.next\n",
    "        nodes.append(\"None\")\n",
    "        return \" -> \".join(nodes)\n",
    "    \n",
    "        "
   ]
  },
  {
   "cell_type": "code",
   "execution_count": 4,
   "id": "83f0cb77",
   "metadata": {},
   "outputs": [
    {
     "name": "stdout",
     "output_type": "stream",
     "text": [
      "a -> None\n",
      "a -> b -> c -> None\n"
     ]
    }
   ],
   "source": [
    "linglis = LinkedList()\n",
    "linglis\n",
    "\n",
    "node1 = Node('a')\n",
    "node2 = Node('b')\n",
    "node3 = Node('c')\n",
    "\n",
    "linglis.head = node1\n",
    "print(linglis)\n",
    "\n",
    "node1.next = node2\n",
    "node2.next = node3\n",
    "\n",
    "print(linglis)"
   ]
  },
  {
   "cell_type": "markdown",
   "id": "54616c2c",
   "metadata": {},
   "source": [
    "Membuat linked list dari suatu list data untuk mempercepat inisialisasi. Prosedur untuk menambah elemen di paling belakang, memerlukan traverse, iterasi elemen satu persatu karena kita tidak tahu mana elemen yang paling akhir sebelumnya.\n",
    "Menambah elemen di awal gampang dan langsung saja yaitu nodebaru.next diambil dari head lalu head linked list menunjuk ke nodebaru. Kompleksitas waktu selalu konstan O(1) baik untuk menambah atau menghapus node di awal linked list. \n",
    "Karenanya linked list paling efektif jika digunakan untuk implementasi stack Last-In/First-Out (LIFO) karena selalu mengakses elemen/node yang pertama.  \n"
   ]
  },
  {
   "cell_type": "code",
   "execution_count": 12,
   "id": "7004b595",
   "metadata": {},
   "outputs": [],
   "source": [
    "class LinkedList:\n",
    "    def __init__(self):\n",
    "        self.head = None\n",
    "\n",
    "    def __init__(self, nodes=None):\n",
    "        \"modifikasi metoda init di atas\"\n",
    "        self.head = None\n",
    "        if nodes is not None:\n",
    "            node = Node(data=nodes.pop(0))\n",
    "            self.head = node\n",
    "            for elem in nodes:\n",
    "                node.next = Node(data=elem)\n",
    "                node = node.next\n",
    "\n",
    "    def __repr__(self):\n",
    "        \"membuat representasi dari objek\"\n",
    "        node = self.head\n",
    "        nodes = []\n",
    "        while node is not None:\n",
    "            nodes.append(node.data)\n",
    "            node = node.next\n",
    "        nodes.append(\"None\")\n",
    "        return \" -> \".join(nodes)\n",
    "    \n",
    "    def __iter__(self):\n",
    "        \"membuat linkedlist bisa di-iterasi\"\n",
    "        node = self.head\n",
    "        while node is not None:\n",
    "            yield node\n",
    "            node = node.next\n",
    "\n",
    "    def add_last(self, node):\n",
    "        if self.head is None:\n",
    "            self.head = node\n",
    "            return\n",
    "        for current_node in self: # iterasi \n",
    "            pass\n",
    "        current_node.next = node\n",
    "\n",
    "    def add_first(self, node):\n",
    "        node.next = self.head\n",
    "        self.head = node\n",
    "\n",
    "    def pop_first(self):\n",
    "        node = self.head\n",
    "        self.head = node.next\n",
    "        node.next = None\n",
    "        return node\n",
    "    \n"
   ]
  },
  {
   "cell_type": "code",
   "execution_count": 11,
   "id": "efce4a75",
   "metadata": {},
   "outputs": [
    {
     "name": "stdout",
     "output_type": "stream",
     "text": [
      "b -> c -> None\n",
      "A -> b -> c -> None\n",
      "A -> b -> c -> D -> None\n",
      "A\n",
      "b -> c -> D -> None\n"
     ]
    }
   ],
   "source": [
    "linglis = LinkedList(['b','c'])\n",
    "print(linglis)\n",
    "\n",
    "linglis.add_first(Node('A'))\n",
    "print(linglis)\n",
    "\n",
    "linglis.add_last(Node('D'))\n",
    "\n",
    "print(linglis)\n",
    "\n",
    "print(linglis.pop_first())\n",
    "print(linglis)\n",
    "\n",
    "\n",
    "\n"
   ]
  }
 ],
 "metadata": {
  "kernelspec": {
   "display_name": "Python 3 (ipykernel)",
   "language": "python",
   "name": "python3"
  },
  "language_info": {
   "codemirror_mode": {
    "name": "ipython",
    "version": 3
   },
   "file_extension": ".py",
   "mimetype": "text/x-python",
   "name": "python",
   "nbconvert_exporter": "python",
   "pygments_lexer": "ipython3",
   "version": "3.11.2"
  }
 },
 "nbformat": 4,
 "nbformat_minor": 5
}
