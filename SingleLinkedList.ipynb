{
 "cells": [
  {
   "cell_type": "markdown",
   "id": "d224edf6-45ad-4bcc-a770-71d9f9835023",
   "metadata": {},
   "source": [
    "### Single Linked List  ###   \n",
    "\n",
    "Linked list adalah beberapa node data yang memiliki kaitan satu dengan lainnya. Beberapa jenis linked list yaitu single Linked list, double linked list, circular linked list.\n",
    "\n",
    "Linked list terdiri dari objek head yang menunjuk ke suatu objek node yang berisi penunjuk ke node berikut. Setiap node disertai juga pointer ke objek data. Node terakhir dalam rangkaian linked list menunjuk ke objek None. "
   ]
  },
  {
   "cell_type": "code",
   "execution_count": 1,
   "id": "c747c75d",
   "metadata": {},
   "outputs": [
    {
     "name": "stdout",
     "output_type": "stream",
     "text": [
      "{'head': <__main__.Node object at 0x7b863727f810>}\n",
      "{'next': <__main__.Node object at 0x7b863727e4d0>, 'data': 101}\n",
      "{'next': <__main__.Node object at 0x7b863727fbd0>, 'data': 42}\n",
      "{'next': None, 'data': 'here is node three'}\n"
     ]
    }
   ],
   "source": [
    "class LinkedList:\n",
    "    def __init__(self, head = None):\n",
    "        self.head = head\n",
    "\n",
    "class Node:\n",
    "    def __init__(self, data):\n",
    "        self.next = None\n",
    "        self.data = data\n",
    "\n",
    "node1 = Node(101)\n",
    "node2 = Node(42)\n",
    "node3 = Node('here is node three')\n",
    "\n",
    "node1.next = node2\n",
    "node2.next = node3\n",
    "\n",
    "linlis = LinkedList(head = node1)\n",
    "\n",
    "print(vars(linlis))\n",
    "print(vars(node1))\n",
    "print(vars(node2))\n",
    "print(vars(node3))"
   ]
  },
  {
   "cell_type": "code",
   "execution_count": 2,
   "id": "091f3ed8",
   "metadata": {},
   "outputs": [
    {
     "name": "stdout",
     "output_type": "stream",
     "text": [
      "'a' 42\n",
      "{'next': None, 'data': 'a'}\n",
      "{'next': None, 'data': 42}\n"
     ]
    }
   ],
   "source": [
    "def stringify(some):\n",
    "    if 'str' in str(type(some)):\n",
    "        strdat = f\"'{some}'\"\n",
    "    else:\n",
    "        strdat = f\"{some}\"\n",
    "    return strdat\n",
    "\n",
    "class Node:\n",
    "    def __init__(self, data):\n",
    "        self.next = None\n",
    "        self.data = data\n",
    "    \n",
    "    def __repr__(self):\n",
    "        return f'{stringify(self.data)}'  # format int to string\n",
    "\n",
    "class LinkedList:\n",
    "    def __init__(self, head=None):\n",
    "        self.head = head\n",
    "\n",
    "    def __repr__(self):\n",
    "        node = self.head\n",
    "        nodes = []\n",
    "        while node is not None:\n",
    "            nodes.append(stringify(node.data))\n",
    "            node = node.next\n",
    "        nodes.append(\"None\")\n",
    "        return \" -> \".join(nodes)\n",
    "    \n",
    "node1 = Node('a')\n",
    "node2 = Node(42)\n",
    "print(node1, node2)    \n",
    "\n",
    "print(vars(node1))\n",
    "print(vars(node2))"
   ]
  },
  {
   "cell_type": "markdown",
   "id": "2cc92349",
   "metadata": {},
   "source": [
    "Display repr menampilkan error jika datanya int bukan string. Solusinya menggunakan interpolasi format F-Strings, lalu kita bedakan string dari int dengan menambahkan tanda kutip '' untuk string."
   ]
  },
  {
   "cell_type": "code",
   "execution_count": 3,
   "id": "83f0cb77",
   "metadata": {},
   "outputs": [
    {
     "name": "stdout",
     "output_type": "stream",
     "text": [
      "None\n",
      "42\n",
      "42 -> None\n",
      "42 -> 'b' -> 'c' -> None\n"
     ]
    }
   ],
   "source": [
    "linglis = LinkedList()\n",
    "print(linglis) # None\n",
    "\n",
    "node1 = Node(42)\n",
    "node2 = Node('b')\n",
    "node3 = Node('c')\n",
    "\n",
    "print(node1) # 42\n",
    "\n",
    "linglis.head = node1\n",
    "print(linglis) # 42 -> None\n",
    "\n",
    "node1.next = node2\n",
    "node2.next = node3\n",
    "print(linglis) # 42 -> 'b' -> 'c' -> None"
   ]
  },
  {
   "cell_type": "markdown",
   "id": "54616c2c",
   "metadata": {},
   "source": [
    "Membuat linked list dari suatu list data untuk mempercepat inisialisasi.   \n",
    "\n",
    "Prosedur untuk menambah elemen di paling belakang, memerlukan iterasi traversal, karena awalnya kita tidak tahu mana elemen yang paling akhir, sampai satu per satu dicek dan ketemu bahwa next elemen = None.   \n",
    "\n",
    "Menambah elemen di awal gampang dan langsung saja yaitu nodebaru.next diambil dari head lalu head linked list menunjuk ke nodebaru. Kompleksitas waktu selalu konstan O(1) baik untuk menambah atau menghapus node di awal linked list. \n",
    "Karenanya linked list paling efektif jika digunakan untuk implementasi stack Last-In/First-Out (LIFO) karena selalu mengakses elemen/node yang pertama.  \n"
   ]
  },
  {
   "cell_type": "code",
   "execution_count": 4,
   "id": "7004b595",
   "metadata": {},
   "outputs": [],
   "source": [
    "class Node:\n",
    "    def __init__(self, data):\n",
    "        self.data = data\n",
    "        self.next = None\n",
    "\n",
    "    def __repr__(self):\n",
    "        return f'{stringify(self.data)}'  # format int to string\n",
    "\n",
    "class LinkedList:\n",
    "    # def __init__(self):\n",
    "    #   self.head = None\n",
    "\n",
    "    def __init__(self, nodes=None):\n",
    "        \"modifikasi metoda init di atas\"\n",
    "        #self.head = None\n",
    "        if nodes is not None:\n",
    "            node = Node(data=nodes.pop(0))\n",
    "            self.head = node\n",
    "            for elem in nodes:\n",
    "                node.next = Node(data=elem)\n",
    "                node = node.next\n",
    "        else:\n",
    "            self.head = None\n",
    "\n",
    "    def __repr__(self):\n",
    "        \"membuat representasi dari objek\"\n",
    "        node = self.head\n",
    "        nodes = []\n",
    "        while node is not None:\n",
    "            data = stringify(node.data)\n",
    "            nodes.append(data)\n",
    "            node = node.next\n",
    "        nodes.append(\"None\")\n",
    "        return \" -> \".join(nodes)\n",
    "    \n",
    "    def __iter__(self):\n",
    "        \"membuat linkedlist bisa di-iterasi\"\n",
    "        node = self.head\n",
    "        while node is not None:\n",
    "            yield node\n",
    "            node = node.next\n",
    "\n",
    "    def add_last(self, node):\n",
    "        if self.head is None:\n",
    "            self.head = node\n",
    "            return\n",
    "        else:\n",
    "            current_node = self.head\n",
    "            for current_node in self: # iterasi \n",
    "                pass\n",
    "            current_node.next = node\n",
    "\n",
    "    def add_first(self, node):\n",
    "        node.next = self.head\n",
    "        self.head = node\n",
    "\n",
    "    def pop_first(self):\n",
    "        if self.head is not None:\n",
    "            node = self.head\n",
    "            self.head = node.next\n",
    "            node.next = None\n",
    "            return node\n",
    "        return None\n",
    "    \n"
   ]
  },
  {
   "cell_type": "code",
   "execution_count": 5,
   "id": "efce4a75",
   "metadata": {},
   "outputs": [
    {
     "name": "stdout",
     "output_type": "stream",
     "text": [
      "1 'b' -> 'c' -> None\n",
      "2 42 -> 'b' -> 'c' -> None\n",
      "3 42 -> 'b' -> 'c' -> 'D' -> None\n",
      "4 42\n",
      "5 'b' -> 'c' -> 'D' -> None\n"
     ]
    }
   ],
   "source": [
    "linglis = LinkedList(['b','c'])\n",
    "print(1,linglis)\n",
    "\n",
    "linglis.add_first(Node(42))\n",
    "print(2, linglis)\n",
    "\n",
    "linglis.add_last(Node('D'))\n",
    "\n",
    "print(3, linglis)\n",
    "\n",
    "print(4, linglis.pop_first())\n",
    "print(5, linglis)"
   ]
  }
 ],
 "metadata": {
  "kernelspec": {
   "display_name": "Python 3 (ipykernel)",
   "language": "python",
   "name": "python3"
  },
  "language_info": {
   "codemirror_mode": {
    "name": "ipython",
    "version": 3
   },
   "file_extension": ".py",
   "mimetype": "text/x-python",
   "name": "python",
   "nbconvert_exporter": "python",
   "pygments_lexer": "ipython3",
   "version": "3.11.2"
  }
 },
 "nbformat": 4,
 "nbformat_minor": 5
}
