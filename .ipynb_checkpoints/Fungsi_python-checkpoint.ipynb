{
 "cells": [
  {
   "cell_type": "markdown",
   "id": "41a9e324-9eb0-41ba-8329-bd662d38cc9d",
   "metadata": {},
   "source": [
    "### FUNGSI dalam Python"
   ]
  },
  {
   "cell_type": "markdown",
   "id": "2b6934f4-8be2-4d1d-9e84-b064a3962037",
   "metadata": {},
   "source": [
    "#### Pengertian dan sintak"
   ]
  },
  {
   "cell_type": "markdown",
   "id": "41e7652f-0234-4f7e-9be6-a4b7e991e4a9",
   "metadata": {},
   "source": [
    "Dalam penulisan kode program kita dapat memisahkan bagian yang merupakan garis besar dari bagian yang merupakan detil implementasi. Pemisahan seperti ini menghasilkan struktur yang lebih jelas yaitu dengan dekomposisi, membagi kode menjadi modul-modul, beberapa sub-rutin. Modul-modul tersebut diberi nama dan dipisahkan dari garis besar kode sehingga detilnya tersembunyi atau terabstraksi.\n",
    "Modul-modul itu dapat dituangkan dalam bentuk fungsi atau kelas. Kali ini pembahasan kita adalah mengenai fungsi.   \n",
    "Sintak fungsi ialah  \n",
    "    \n",
    "**def** _nama_fungsi_ **(parameter,parameter):**    \n",
    "- *badan fungsi dengan identasi (default: 4 spasi)*    \n",
    "**return**\n",
    "\n",
    "Ketika interpreter membaca definisi fungsi, maka disiapkan (setup) variabel parameter-parameter, lalu ketika dipanggil maka argumen dari pemanggil dioperkan ke dalam fungsi.    \n",
    "\n",
    "Ciri-ciri fungsi dalam Python yaitu:\n",
    "   - tidak diperlukan deklarasi tipe output fungsi seperti _void, int, string_\n",
    "   - tidak diperlukan deklarasi tipe parameter/argumen input seperti _int, string_\n",
    "   - blok/grup badan fungsi ditandai dengan indentasi dan diawali titik dua pada akhir kalimat definisi, *bukan dengan { }*\n",
    "   - doc string dokumentasi merupakan bagian dari sintaks fungsi, yang dapat ditampilkan juga dengan help()"
   ]
  },
  {
   "cell_type": "code",
   "execution_count": 1,
   "id": "2c9db83e-2e2c-4d03-9eae-a001bb77e31e",
   "metadata": {},
   "outputs": [
    {
     "name": "stdout",
     "output_type": "stream",
     "text": [
      "<class 'function'>\n"
     ]
    }
   ],
   "source": [
    "def f():\n",
    "    pass\n",
    "\n",
    "print(type(f))"
   ]
  },
  {
   "cell_type": "code",
   "execution_count": 2,
   "id": "ec50d1ef-fa41-418f-aea3-9eb59aad52fa",
   "metadata": {},
   "outputs": [
    {
     "name": "stdout",
     "output_type": "stream",
     "text": [
      "'Aa I' tidak sesuai karena ['terlalu singkat']\n",
      "'Anakku_sayang' tidak sesuai karena ['minimal 2 kata']\n",
      "'Raden-3' tidak sesuai karena ['minimal 2 kata', 'dilarang menggunakan angka']\n",
      "'Joko Wiseso Suseno Pradjaningrat Kusumabangsa' sudah sesuai aturan\n"
     ]
    }
   ],
   "source": [
    "def nama_sesuai_aturan(nama):\n",
    "    \"\"\" Memeriksa apakah argumen nama telah memenuhi beberapa aturan yang baru. \n",
    "    input berupa string\n",
    "    output berupa tuple (boolean dan list keterangan)\n",
    "    \"\"\"\n",
    "    cek = True\n",
    "    keterangan =[]\n",
    "    if len(nama)> 60:\n",
    "        cek = False\n",
    "        ketereangan.append(\"terlalu panjang\")\n",
    "    if len(nama)<5:\n",
    "        cek = False\n",
    "        keterangan.append(\"terlalu singkat\")\n",
    "    if len(nama.split(\" \"))<2:\n",
    "        cek = False\n",
    "        keterangan.append(\"minimal 2 kata\")\n",
    "    if any(c.isdigit() for c in nama):\n",
    "        cek = False\n",
    "        keterangan.append(\"dilarang menggunakan angka\")\n",
    "    return cek, keterangan\n",
    "\n",
    "def main():\n",
    "    \"\"\" Program utama \"\"\"\n",
    "    nama_nama = \"Aa I\", \"Anakku_sayang\", \"Raden-3\", \"Joko Wiseso Suseno Pradjaningrat Kusumabangsa\"\n",
    "    for nama in nama_nama:\n",
    "        cek, ket = nama_sesuai_aturan(nama)\n",
    "        if cek:\n",
    "            print(f\"'{nama}' sudah sesuai aturan\")\n",
    "        else:\n",
    "            print(f\"'{nama}' tidak sesuai karena {ket}\")\n",
    "\n",
    "if __name__ == '__main__':\n",
    "    main()"
   ]
  },
  {
   "cell_type": "markdown",
   "id": "8cc2e5fa-1ed1-414d-9dfd-ce2195beb332",
   "metadata": {},
   "source": [
    "Modul fungsi biasanya terdiri atas beberapa kalimat kode, sehingga memberikan efek abstraksi jika digantikan dengan kalimat panggilan fungsi.   \n",
    "Di dalam definisi fungsi dapat didefinisikan atau memanggil fungsi lain yang lebih spesifik/detil.\n",
    "Urutan penulisan kode program harus 'terbalik' yakni kalimat definisi fungsi harus mendahului kalimat pemanggilannya karena interpreter Python yang membaca baris per baris dari atas akan segera menampilkan tampilan kesalahan jika tidak/belum menemukan definisi fungsi yang dipanggil.  \n"
   ]
  },
  {
   "cell_type": "code",
   "execution_count": 3,
   "id": "f71118d7-1707-4f5f-88fd-677c5a345ba7",
   "metadata": {},
   "outputs": [
    {
     "name": "stdout",
     "output_type": "stream",
     "text": [
      "Help on function nama_sesuai_aturan in module __main__:\n",
      "\n",
      "nama_sesuai_aturan(nama)\n",
      "    Memeriksa apakah argumen nama telah memenuhi beberapa aturan yang baru. \n",
      "    input berupa string\n",
      "    output berupa tuple (boolean dan list keterangan)\n",
      "\n",
      "type(nama_sesuai_aturan)= <class 'function'>\n",
      "callable(nama_sesuai_aturan)= True\n"
     ]
    }
   ],
   "source": [
    "help(nama_sesuai_aturan)\n",
    "print(f'{type(nama_sesuai_aturan)= }')\n",
    "print(f'{callable(nama_sesuai_aturan)= }')"
   ]
  },
  {
   "cell_type": "markdown",
   "id": "cd1e82b8-d248-4aa5-8368-ed60f117e606",
   "metadata": {},
   "source": [
    "#### Fungsi Bawaan (built-in)    \n",
    "Pustaka Python bawaan yang terintegrasi memiliki fungsi fungsi sebagai berikut"
   ]
  },
  {
   "cell_type": "code",
   "execution_count": 4,
   "id": "b175beba-3abc-402c-ab74-1ae53bd734cb",
   "metadata": {},
   "outputs": [
    {
     "name": "stdout",
     "output_type": "stream",
     "text": [
      "['abs', 'aiter', 'all', 'anext', 'any', 'ascii', 'bin', 'breakpoint', 'callable', 'chr', 'compile', 'delattr', 'dir', 'divmod', 'eval', 'exec', 'format', 'getattr', 'globals', 'hasattr', 'hash', 'hex', 'id', 'isinstance', 'issubclass', 'iter', 'len', 'locals', 'max', 'min', 'next', 'oct', 'open', 'ord', 'pow', 'print', 'repr', 'round', 'setattr', 'sorted', 'sum', 'vars']\n"
     ]
    }
   ],
   "source": [
    "# memilih fungsi bawaan dari dir(__builtins__)\n",
    "bf = [fx for fx in dir(__builtins__) if '_' not in fx and 'builtin_function' in str(type(eval(fx)))]\n",
    "print(bf)"
   ]
  },
  {
   "cell_type": "markdown",
   "id": "27f93917-2424-4a0e-8fd4-29f88f69667e",
   "metadata": {},
   "source": [
    "#### Argumen"
   ]
  },
  {
   "cell_type": "markdown",
   "id": "306e9f3b-dfb1-4ba8-b91f-b61871a7aa8d",
   "metadata": {},
   "source": [
    "Data informasi dapat dioper ke dalam fungsi berupa argumen kepada variabel parameter yang tertera dalam kurung setelah nama identifier fungsi, seperti variabel nama pada contoh di atas.    \n",
    "Jumlah argumen yang akan dioper harus sama dengan jumlah parameter yang tertera, bahkan urutannya pun harus sesuai.    \n",
    "Tetapi jika diperlukan maka aturan jumlah dapat diganti dengan aturan arbitrary arguments atau argumen sembarang jumlahnya dengan menggunakan simbol satu asterisk \\*args. Demikian juga aturan urutan dapat digantikan dengan aturan penggunaan keyword arguments sebanyak diperlukan atau sembarang jumlahnya menggunakan dua asterisk \\*\\*kwargs. "
   ]
  },
  {
   "cell_type": "code",
   "execution_count": 5,
   "id": "45e92765-598e-4535-b51b-204a1a5ff14f",
   "metadata": {},
   "outputs": [
    {
     "name": "stdout",
     "output_type": "stream",
     "text": [
      "No.1 Laptop\n",
      "No.2 Lampu Meja\n",
      "No.3 Hape\n"
     ]
    }
   ],
   "source": [
    "# jumlah argument harus cocok dengan parameter penampungnya\n",
    "def daftar(nomor, barang):\n",
    "    print(f'No.{nomor} {barang.title()}')\n",
    "\n",
    "punyaku=('laptop','lampu meja', 'hape')\n",
    "for x,y in enumerate(punyaku,1):\n",
    "    daftar(x,y)"
   ]
  },
  {
   "cell_type": "code",
   "execution_count": 6,
   "id": "07474f98-5189-4a55-b134-509c434f1efc",
   "metadata": {},
   "outputs": [
    {
     "name": "stdout",
     "output_type": "stream",
     "text": [
      "Januar\n",
      "Maulana\n",
      "Jasmine\n",
      "yang bungsu ialah Jasmine\n"
     ]
    }
   ],
   "source": [
    "# argumen sembarang jumlahnya menggunakan *args\n",
    "def nama2cu2(*args_nama):\n",
    "    for name in args_nama:\n",
    "        print(name)\n",
    "    print(f'yang bungsu ialah {args_nama[-1]}')\n",
    "    \n",
    "nama2cu2('Januar','Maulana','Jasmine')\n",
    "    "
   ]
  },
  {
   "cell_type": "code",
   "execution_count": 7,
   "id": "1d4e1179-5dff-4e83-bdd0-9d3652b2e125",
   "metadata": {},
   "outputs": [
    {
     "name": "stdout",
     "output_type": "stream",
     "text": [
      "bunga anggrek warna putih\n",
      "bunga anggrek warna ungu\n",
      "berdaun hijau bergelombang\n",
      "bunga bulan desember berwarna pink {'harga': '200K', 'stock': 5}\n"
     ]
    }
   ],
   "source": [
    "# argumen pakai nama, urutan bebas, argumen opsional dengan default, **kwargs\n",
    "def bunga(nama, warna='menarik', **lainnya):\n",
    "    match nama:\n",
    "        case 'anggrek':\n",
    "            print(f'bunga anggrek warna {warna}')\n",
    "        case 'gelombang cinta':\n",
    "            print(f'berdaun hijau bergelombang')\n",
    "        case _:\n",
    "            print(f'{nama} berwarna {warna} {lainnya}')\n",
    "            \n",
    "bunga('anggrek','putih')\n",
    "bunga(warna='ungu', nama='anggrek')\n",
    "bunga('gelombang cinta')\n",
    "bunga(warna='pink', nama='bunga bulan desember', harga='200K', stock=5)"
   ]
  },
  {
   "cell_type": "markdown",
   "id": "08833ee0-d19a-4cc4-b261-6661ec524862",
   "metadata": {},
   "source": [
    "#### Parameter opsional serta nilai default - kasus rekursi deret Fibonacci"
   ]
  },
  {
   "cell_type": "markdown",
   "id": "078c98d9-ccd6-4e4c-bd03-3749bca43158",
   "metadata": {},
   "source": [
    "Pada contoh di atas parameter warna dapat menerima argumen atau menggunakan nilai default seperti tertera jika tidak mendapat operan argumen ketika fungsi dipanggil. Artinya dalam kasus default tidak perlu menyertakan argumen.     \n",
    "Saat interpreter membaca statement definisi fungsi, maka parameter yang tertera disetup agar siap menerima argumen. Untuk parameter opsional disiapkan prosedur tambahan yaitu jika tidak menerima argumen (berdasarkan posisi urutan atau nama parameter), maka nilainya diambilkan dari suatu lokasi yang ditentukan yang berisi nilai default yang tertera pada kalimat definisi. Ketika fungsi dipanggil, proses setup atau inisialisasi ini tidak diulang lagi.    \n",
    "Kita bahas fitur ini karena biasa digunakan sebagai memo untuk mengingat sesuatu hasil dalam fungsi rekursi agar kinerjanya tinggi."
   ]
  },
  {
   "cell_type": "code",
   "execution_count": 8,
   "id": "99ee1448-512c-4f21-b920-77452f3c1f21",
   "metadata": {},
   "outputs": [
    {
     "name": "stdout",
     "output_type": "stream",
     "text": [
      "('awal',)\n",
      "berikutnya\n",
      "berikutnya\n",
      "berikutnya\n"
     ]
    }
   ],
   "source": [
    "# default parameter and local variable\n",
    "def f(memo='awal'):\n",
    "    if 'awal' == memo:\n",
    "        memo = 'berikutnya'\n",
    "    print(memo)\n",
    "\n",
    "print(f.__defaults__)   # parameter fungsi sudah selesai disetup, ini lokasi untuk nilai default\n",
    "f()\n",
    "f()\n",
    "f()"
   ]
  },
  {
   "cell_type": "code",
   "execution_count": 9,
   "id": "43af7fe7-e7be-4bea-86cd-750a461ed969",
   "metadata": {},
   "outputs": [
    {
     "name": "stdout",
     "output_type": "stream",
     "text": [
      "([],)\n",
      "memo = ['*']\n",
      "memo = ['*', '*']\n",
      "memo = ['*', '*', '*']\n"
     ]
    }
   ],
   "source": [
    "# default parameter and mutable parameter\n",
    "def f(memo=[]):\n",
    "    memo.append(\"*\")    # anggota list memo ditambah\n",
    "    print(f'{memo = }')\n",
    "\n",
    "print(f.__defaults__)   # parameter fungsi sudah selesai disetup, ini lokasi untuk nilai default\n",
    "f()\n",
    "f()\n",
    "f()"
   ]
  },
  {
   "cell_type": "code",
   "execution_count": 10,
   "id": "4551b8ed-ec38-4427-aab1-0db905cc2db1",
   "metadata": {},
   "outputs": [
    {
     "name": "stdout",
     "output_type": "stream",
     "text": [
      "(['*', '*', '*'],)\n",
      "memo = ['*', '*', '*', '*']\n",
      "([],)\n",
      "memo = ['*']\n"
     ]
    }
   ],
   "source": [
    "# memo tersimpan bersama scope f karena merupakan atribut dari fungsi f\n",
    "print(f.__defaults__)\n",
    "f()\n",
    "f.__defaults__[0].clear()\n",
    "print(f.__defaults__)\n",
    "f()"
   ]
  },
  {
   "cell_type": "markdown",
   "id": "2c45f8bb-c14c-443c-a28a-babfffcd2df1",
   "metadata": {},
   "source": [
    "Dalam contoh fungsi rekursi menggunakan memo akan terlihat manfaat penggunaan cara ini.def fib(n):\n",
    "if n in (0, 1):\n",
    "return n\n",
    "return fib(n - 2) + fib(n - 1)"
   ]
  },
  {
   "cell_type": "code",
   "execution_count": 11,
   "id": "4fd558f4-807e-48ee-a24b-517d26a58c4c",
   "metadata": {},
   "outputs": [
    {
     "name": "stdout",
     "output_type": "stream",
     "text": [
      "144\n"
     ]
    }
   ],
   "source": [
    "# rekursi naif untuk deret Fibonacci\n",
    "def fib(n):\n",
    "    if n in (0, 1):\n",
    "        return n\n",
    "    return fib(n - 1) + fib(n - 2)\n",
    "print(fib(12))"
   ]
  },
  {
   "cell_type": "code",
   "execution_count": 12,
   "id": "57371d18-5285-4f3f-95ba-5be41076b9d4",
   "metadata": {},
   "outputs": [
    {
     "name": "stdout",
     "output_type": "stream",
     "text": [
      "12 11 10 9 8 7 6 5 4 3 2 . . . 2 . . 3 2 . . . 4 3 2 . . . 2 . . 5 4 3 2 . . . 2 . . 3 2 . . . 6 5 4 3 2 . . . 2 . . 3 2 . . . 4 3 2 . . . 2 . . 7 6 5 4 3 2 . . . 2 . . 3 2 . . . 4 3 2 . . . 2 . . 5 4 3 2 . . . 2 . . 3 2 . . . 8 7 6 5 4 3 2 . . . 2 . . 3 2 . . . 4 3 2 . . . 2 . . 5 4 3 2 . . . 2 . . 3 2 . . . 6 5 4 3 2 . . . 2 . . 3 2 . . . 4 3 2 . . . 2 . . 9 8 7 6 5 4 3 2 . . . 2 . . 3 2 . . . 4 3 2 . . . 2 . . 5 4 3 2 . . . 2 . . 3 2 . . . 6 5 4 3 2 . . . 2 . . 3 2 . . . 4 3 2 . . . 2 . . 7 6 5 4 3 2 . . . 2 . . 3 2 . . . 4 3 2 . . . 2 . . 5 4 3 2 . . . 2 . . 3 2 . . . 10 9 8 7 6 5 4 3 2 . . . 2 . . 3 2 . . . 4 3 2 . . . 2 . . 5 4 3 2 . . . 2 . . 3 2 . . . 6 5 4 3 2 . . . 2 . . 3 2 . . . 4 3 2 . . . 2 . . 7 6 5 4 3 2 . . . 2 . . 3 2 . . . 4 3 2 . . . 2 . . 5 4 3 2 . . . 2 . . 3 2 . . . 8 7 6 5 4 3 2 . . . 2 . . 3 2 . . . 4 3 2 . . . 2 . . 5 4 3 2 . . . 2 . . 3 2 . . . 6 5 4 3 2 . . . 2 . . 3 2 . . . 4 3 2 . . . 2 . . "
     ]
    },
    {
     "data": {
      "text/plain": [
       "144"
      ]
     },
     "execution_count": 12,
     "metadata": {},
     "output_type": "execute_result"
    }
   ],
   "source": [
    "def fib_debug(n: int) -> int:\n",
    "    if n in (0, 1):\n",
    "        print('.', end=\" \")\n",
    "        return n\n",
    "    print(n, end=' ')\n",
    "    return fib_debug(n - 1) + fib_debug(n - 2)\n",
    "fib_debug(12)"
   ]
  },
  {
   "cell_type": "markdown",
   "id": "42fcafdf-965c-48dc-9a63-b37250606a2f",
   "metadata": {},
   "source": [
    "Contoh di atas memperlihatkan parahnya evaluasi berulang-ulang untuk argumen yang sama. Jika dihitung maka untuk menghasilkan hasil fib(12) digunakan iterasi sebanyak fib(13)-1 kali, bodoh sekali. Makanya pada argumen yang lebih besar, fib(34) yang menghasilkan angka 5.702.887 akan dilakukan iterasi evaluasi sebanyak 9.227.464 kali. Untuk angka lebih besar dari 34, komputer Anda akan mulai terasa macet."
   ]
  },
  {
   "cell_type": "code",
   "execution_count": 13,
   "id": "5b7f5f63-1510-492f-bc34-42f5f75d0964",
   "metadata": {},
   "outputs": [
    {
     "name": "stdout",
     "output_type": "stream",
     "text": [
      "fibonacci tanpa kalkulasi ulang sama sekali\n",
      "30,29,28,27,26,25,24,23,22,21,20,19,18,17,16,15,14,13,12,11,10,9,8,7,6,5,4,3,2, -> fibonacci(30) = 832,040\n",
      "40,39,38,37,36,35,34,33,32,31, -> fibonacci(40) = 102,334,155\n",
      "41, -> fibonacci(41) = 165,580,141\n",
      "42, -> fibonacci(42) = 267,914,296\n"
     ]
    }
   ],
   "source": [
    "# cached fibonacci \"store results in default argument\"\n",
    "def fast_fib(n, memo = {0: 0, 1: 1}):\n",
    "    if n in memo:\n",
    "        return memo[n]  # get element values from default argument object\n",
    "    print(n, end=',') \n",
    "    memo[n] = fast_fib(n-1) + fast_fib(n-2)  # iterate & save to container’s element\n",
    "    return memo[n]\n",
    "\n",
    "\n",
    "print('fibonacci tanpa kalkulasi ulang sama sekali')\n",
    "numbers = 30,40, 41, 42\n",
    "for num in numbers:\n",
    "    print(f' -> fibonacci({num}) = {fast_fib(num):,}')\n",
    "\n",
    "\n",
    "# fast_fib.__defaults__ = ({0:0, 1:1},) # inisialisasi ulang memo jika diperlukan"
   ]
  },
  {
   "cell_type": "markdown",
   "id": "14c2472c-f798-4b5c-a0b0-2df66f3f3ae1",
   "metadata": {},
   "source": [
    "Jika inisialisasi ulang memo ditutup, seperti pada cell di atas, maka hasil run seperti pada cell berikut, tanpa run definisi fungsi lagi, akan menghasilkan nilai output tanpa perhitungan sama sekali, karena semua hasilnya diambilkan dari memo"
   ]
  },
  {
   "cell_type": "code",
   "execution_count": 14,
   "id": "7d731155-f529-426c-89a3-757884d7db79",
   "metadata": {},
   "outputs": [
    {
     "name": "stdout",
     "output_type": "stream",
     "text": [
      "fibonacci tanpa menghitung sama sekali, sudah ada dalam memo\n",
      "fibonacci(30) = 832,040\n",
      "fibonacci(40) = 102,334,155\n",
      "fibonacci(41) = 165,580,141\n",
      "fibonacci(42) = 267,914,296\n",
      "\n",
      "memo:\n",
      " {0: 0, 1: 1, 2: 1, 3: 2, 4: 3, 5: 5, 6: 8, 7: 13, 8: 21, 9: 34, 10: 55, 11: 89, 12: 144, 13: 233, 14: 377, 15: 610, 16: 987, 17: 1597, 18: 2584, 19: 4181, 20: 6765, 21: 10946, 22: 17711, 23: 28657, 24: 46368, 25: 75025, 26: 121393, 27: 196418, 28: 317811, 29: 514229, 30: 832040, 31: 1346269, 32: 2178309, 33: 3524578, 34: 5702887, 35: 9227465, 36: 14930352, 37: 24157817, 38: 39088169, 39: 63245986, 40: 102334155, 41: 165580141, 42: 267914296}\n"
     ]
    }
   ],
   "source": [
    "print('fibonacci tanpa menghitung sama sekali, sudah ada dalam memo')\n",
    "numbers = 30,40, 41, 42\n",
    "for num in numbers:\n",
    "    print(f'fibonacci({num}) = {fast_fib(num):,}')\n",
    "print(\"\\nmemo:\\n\",fast_fib.__defaults__[0])"
   ]
  },
  {
   "cell_type": "markdown",
   "id": "ca142514-d97a-493d-85d6-e7584abb4bba",
   "metadata": {},
   "source": [
    "#### Pustaka functools"
   ]
  },
  {
   "cell_type": "markdown",
   "id": "ab056f31-b74b-4b24-9a0a-36ffc9d66065",
   "metadata": {},
   "source": [
    "Setelah memahami persoalan efisiensi dan solusi memoize pada fungsi rekursi, maka kita dapat mengapresiasi pustaka *perkakas-fungsi* **functools** dengan dekorator cache yang memungkinkan tercapainya abstraksi dan keringkasan maksimal seperti pada contoh berikut."
   ]
  },
  {
   "cell_type": "code",
   "execution_count": 15,
   "id": "44c69b7f-6373-41ab-a6e1-86e899986973",
   "metadata": {},
   "outputs": [
    {
     "name": "stdout",
     "output_type": "stream",
     "text": [
      "fibonacci(35) = 9227465\n"
     ]
    }
   ],
   "source": [
    "# rekursi menggunakan dekorator cache sebagai memoize\n",
    "from functools import cache\n",
    "\n",
    "@cache\n",
    "def fibonacci(n):\n",
    "    return fibonacci(n-1) + fibonacci(n-2) if n>1 else n\n",
    "\n",
    "print(f'{fibonacci(35) = }')\n"
   ]
  },
  {
   "cell_type": "markdown",
   "id": "bf235ca0-5bdb-46be-932f-748cd99da3c5",
   "metadata": {},
   "source": [
    "Contoh kode program di atas dapat dijelaskan dengan closure dan decorator sebagai berikut:"
   ]
  },
  {
   "cell_type": "code",
   "execution_count": 16,
   "id": "f303d115-8fc1-4d3e-ade1-0e15d25c9c0c",
   "metadata": {},
   "outputs": [
    {
     "name": "stdout",
     "output_type": "stream",
     "text": [
      "fib(35) = 9227465\n",
      "memo\n",
      "{1: 1, 0: 0, 2: 1, 3: 2, 4: 3, 5: 5, 6: 8, 7: 13, 8: 21, 9: 34, 10: 55, 11: 89, 12: 144, 13: 233, 14: 377, 15: 610, 16: 987, 17: 1597, 18: 2584, 19: 4181, 20: 6765, 21: 10946, 22: 17711, 23: 28657, 24: 46368, 25: 75025, 26: 121393, 27: 196418, 28: 317811, 29: 514229, 30: 832040, 31: 1346269, 32: 2178309, 33: 3524578, 34: 5702887, 35: 9227465}\n",
      "=-=-=-=-=-=-=-=-=-=-=-=-=-=-=-=-=-=-=-=-=-=-=-=-=-=-=-=-=-=-=-=-=-=-=-=-=-=-=-=-=-=-=-=-=-=-=-=-=-=- \n",
      "\n"
     ]
    }
   ],
   "source": [
    "# memoize \n",
    "def memoize(f):\n",
    "    memo = {}        # ini yang disebut free-variable\n",
    "\n",
    "    def closure(n):  # ini yang disebut closure\n",
    "        if n not in memo:\n",
    "            memo[n] = f(n)\n",
    "        return memo[n]\n",
    "\n",
    "    return closure\n",
    "\n",
    "@memoize  # decorator: syntatic sugar for fib = memoize(fib)\n",
    "def fib(n):\n",
    "    return fib(n - 1) + fib(n - 2) if n>1 else n\n",
    "## fib = memoize(fib)  # decorator dalam bentuk aslinya diletakkan disini setelah definisi\n",
    "\n",
    "print(f'{fib(35) = }') \n",
    "\n",
    "print(fib.__code__.co_freevars[1])\n",
    "print(fib.__closure__[1].cell_contents)\n",
    "print('=-'*50,'\\n')"
   ]
  },
  {
   "cell_type": "markdown",
   "id": "13167f51-d4e8-4b67-a656-352f714b62f0",
   "metadata": {},
   "source": [
    "#### Fungsi Rekursi Ekor (Tail Recursion)"
   ]
  },
  {
   "cell_type": "markdown",
   "id": "6c8014de-e188-4bc8-a688-db1120a6b7c7",
   "metadata": {},
   "source": [
    "Rekursi ekor ialah rekursi yang menyimpan perhitungan hasil sementara dalam parameternya, sehingga saat mencapai titik balik (base case) langsung dapat mengeluarkan hasilnya tidak perlu mundur kembali lagi untuk menghitung formula yang tertunda. Perhatikan bedanya pada cell berikut."
   ]
  },
  {
   "cell_type": "code",
   "execution_count": 17,
   "id": "0f60ae14-bbc9-4516-9835-dc9cfa278ba7",
   "metadata": {},
   "outputs": [
    {
     "name": "stdout",
     "output_type": "stream",
     "text": [
      "factorial(5)=120\n"
     ]
    }
   ],
   "source": [
    "# rekursi kepala\n",
    "def factorial(n):\n",
    "    return 1 if n==1 else n* factorial(n-1)\n",
    "\n",
    "# rekursi ekor\n",
    "def factorial(n, ans=1):\n",
    "    return ans if n==1 else factorial(n-1, n*ans)\n",
    "\n",
    "print(f'{factorial(5)=}') "
   ]
  },
  {
   "cell_type": "markdown",
   "id": "21c176e7-391f-47c8-a62d-16b1a8a3df7c",
   "metadata": {},
   "source": [
    "Gambaran proses eksekusi rekursi kepala dan rekursi ekor.\n",
    "<pre>Rekursi kepala factorial(5) sebagai berikut:\n",
    "  5 * factorial(4)\n",
    "      4 * factorial(3)\n",
    "          3 * factorial(2)\n",
    "              2 * factorial(1)\n",
    "                  1\n",
    "                  mundur ke stack sebelumnya\n",
    "              2 * 1 = 2\n",
    "          3 * 2 = 6\n",
    "      4 * 6 = 24\n",
    "  5 * 24 = 120\n",
    "  return 120\n",
    "   \n",
    "Rekursi ekor factorial(5) sebagai berikut:<pre>\n",
    "  factorial(5, 1) = \n",
    "     factorial(4, 5*1=5) =\n",
    "        factorial(3, 4*5=20) =\n",
    "           factorial(2, 3*20=60) =\n",
    "              factorial(1, 2*60=120) =\n",
    "              120\n",
    "  return 120\n",
    "</pre>\n"
   ]
  },
  {
   "cell_type": "markdown",
   "id": "687fa74f-bc67-447f-971f-1633acc2bbf3",
   "metadata": {},
   "source": [
    "#### Perencanaan Dinamis (Dynamic programming)"
   ]
  }
 ],
 "metadata": {
  "kernelspec": {
   "display_name": "Python 3 (ipykernel)",
   "language": "python",
   "name": "python3"
  },
  "language_info": {
   "codemirror_mode": {
    "name": "ipython",
    "version": 3
   },
   "file_extension": ".py",
   "mimetype": "text/x-python",
   "name": "python",
   "nbconvert_exporter": "python",
   "pygments_lexer": "ipython3",
   "version": "3.10.4"
  }
 },
 "nbformat": 4,
 "nbformat_minor": 5
}
