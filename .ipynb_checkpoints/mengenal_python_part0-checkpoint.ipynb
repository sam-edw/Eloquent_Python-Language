{
 "cells": [
  {
   "cell_type": "markdown",
   "id": "b684aa6a-a8a1-4cb1-8346-312e4b7acf28",
   "metadata": {},
   "source": [
    "## BELAJAR PEMROGRAMAN DALAM BAHASA PYTHON"
   ]
  },
  {
   "cell_type": "markdown",
   "id": "c602d8b2-1934-4c69-bba4-9c2057f40fc9",
   "metadata": {},
   "source": [
    "_Tulisan ini dibuat untuk memperkenalkan pemrograman Python, dengan menyertakan contoh dan latihan 'coding', serta untuk mengajak Anda belajar lebih lanjut secara mandiri.   \n",
    "Referensi yang digunakan ialah tulisan Dr. Charles R. Severance berjudul Python for Everybody atau publikasinya py4e di github, dan Think Python oleh Prof. Allen B. Downey_ \n",
    "   \n",
    "\n",
    "#### Mengapa belajar pemrograman dengan Python\n",
    "Saat ini, komputer telah menjadi peralatan yang lazim digunakan seperti halnya obeng dan tang. Komputer hebat dalam pekerjaan rutin tetapi payah untuk pekerjaan yang memerlukan kreativitas, sementara kita manusia kebalikannya, cepat bosan jika melakukan hal-hal sepele berulang-ulang. Fakta bahwa komputer cepat, hebat untuk melakukan perkejaan yang tidak kita sukai, merupakan alasan mengapa kita perlu belajar 'berkomunikasi' dengan komputer untuk membantu kita menyelesaikan suatu pekerjaan, melalui apa yang disebut bahasa pemrograman.    \n",
    "   \n",
    "Ada banyak bahasa pemrograman yang sudah dibuat/digunakan orang sejak ditemukannya komputer seperti Assembler, FORTRAN, BASIC, LISP, Prolog, Perl, C/C++, Pascal, Java, Javascript, PHP, Swift, Kotlin, Python, dan masih banyak lagi.   \n",
    "\n",
    "Lalu kenapa Python? Karena:\n",
    "- bahasa dinamis lebih produktif\n",
    "- kode Python lebih mudah dibaca\n",
    "- kode Python lebih mudah perawatannya\n",
    "- Python memiliki tipe data bawaan tingkat tinggi\n",
    "- waktu pengembang lebih berharga dari waktu CPU\n",
    "\n",
    "Dari pengalaman guru guru besar seperti Prof. Allen B. Downey, ternyata Python cocok diajarkan sebagai bahasa pengantar karena sederhana, lebih mudah dicerna, lebih mudah diterima dibanding Java misalnya. Institut Teknologi Massachusetts, MIT Amerika, yang sekarang memilih mengajarkan Python sebagai mata kuliah pengantar untuk keilmuan Computer Science, CS.6.000, menggantikan bahasa Scheme yang diajarkan bertahun tahun sebelumnya, menandakan bahwa Python mudah untuk pemula, dan memadai untuk digunakan sebagai sarana pengembangan logika berpikir.   \n",
    "\n",
    "#### Kosakata \n",
    "Tidak seperti bahasa percakapan biasa, kosakata Python ternyata sedikit saja. Kita menyebutnya 'reserved words', dan setiap kata tersebut memiliki arti yang tunggal, unik bagi Python. Python juga berkembang sehingga versi yang lebih baru mungkin memiliki lebih banyak kosakata, tetapi perbedaannya tidak banyak.\n",
    "<pre>\n",
    "False               class               from                or\n",
    "None                continue            global              pass\n",
    "True                def                 if                  raise\n",
    "and                 del                 import              return\n",
    "as                  elif                in                  try\n",
    "assert              else                is                  while\n",
    "async               except              lambda              with\n",
    "await               finally             nonlocal            yield\n",
    "break               for                 not\n",
    "</pre>   \n",
    "Untuk Python versi 3.10 ada tambahan kosakata *match* dan *case* yang sampai saat penulisan ini, belum tercantum dalam daftar kosakata pada perintah help()|keywords.\n",
    "\n"
   ]
  },
  {
   "cell_type": "markdown",
   "id": "c4c6bce2-f97a-4f4b-82f0-dcb21bef0921",
   "metadata": {
    "tags": []
   },
   "source": [
    "#### Interaksi dengan Python\n",
    "Sebelum mencoba berinteraksi dengan Python, Anda perlu melakukan instalasi Python di komputer Anda terlebih dulu. Jika operating system komputer Anda linux, maka kemungkinan besar python sudah terinstal, siap dipakai. Untuk instruksi instalasi di Windows, Anda dapat merujuk ke <a>www.py4e.com</a> atau situs python <a>https://www.python.org/ftp/python/3.10.1/python-3.10.1-amd64.exe</a>    \n",
    "Saya sarankan juga agar Anda menginstal pip, ipython dan jupyter-lab agar memudahkan Anda mencoba kode program Python dan menyertakan komentar, penjelasan sebagai pengingat.    \n",
    "Setelah menginstal python, silahkan Anda masuk ke terminal command line lalu ketikan perintah berikut:   \n",
    "<pre>\n",
    "curl https://bootstrap.pypa.io/get-pip.py -o get-pip.py\n",
    "python get-pip.py\n",
    "pip install ipython\n",
    "pip install jupyterlab\n",
    "</pre>\n",
    "\n",
    "Jika semua berjalan mulus, Anda dapat masuk ke web lokal jupyter lab melalui browser Anda dengan perintah berikut pada terminal command line:\n",
    "<pre>jupyter lab</pre>\n",
    "\n"
   ]
  },
  {
   "cell_type": "code",
   "execution_count": 1,
   "id": "1256b210-8470-4a46-9305-70511fef302a",
   "metadata": {},
   "outputs": [
    {
     "name": "stdout",
     "output_type": "stream",
     "text": [
      "halo teman\n"
     ]
    }
   ],
   "source": [
    "print('halo teman')"
   ]
  },
  {
   "cell_type": "code",
   "execution_count": 2,
   "id": "466911ea-f340-4e31-b09a-fa520008844d",
   "metadata": {},
   "outputs": [
    {
     "data": {
      "text/plain": [
       "42"
      ]
     },
     "execution_count": 2,
     "metadata": {},
     "output_type": "execute_result"
    }
   ],
   "source": [
    "2 * 3 * 7"
   ]
  },
  {
   "cell_type": "markdown",
   "id": "77bf47d6-d366-4cf4-8609-b9a67cfdeccb",
   "metadata": {},
   "source": [
    "Selain mengeksekusi deretan kalimat kode/program, shell Python dapat juga berfungsi sebagai kalkulator. Kalkulator bilangan bulat Python dapat menghitung angka sangat besar tanpa terjadi error overflow bahkan sampai tak berhingga jika memori komputer Anda dapat menampungnya."
   ]
  },
  {
   "cell_type": "code",
   "execution_count": 3,
   "id": "8de7839d-1258-40cf-bc82-d07dd5e706cf",
   "metadata": {},
   "outputs": [
    {
     "data": {
      "text/plain": [
       "42"
      ]
     },
     "execution_count": 3,
     "metadata": {},
     "output_type": "execute_result"
    }
   ],
   "source": [
    "(-80538738812075974)**3 + 80435758145817515**3 + 12602123297335631**3"
   ]
  },
  {
   "cell_type": "markdown",
   "id": "b986bb37-adb0-4331-bc84-533708ee82f8",
   "metadata": {},
   "source": [
    "Selain dalam Jupyter lab, Anda dapat menjalankan Python di command line, editor IDLE bawaan Python, atau integrated development environment PyCharms.  \n",
    "Dari command line ketik python atau python3,\n",
    "<pre>\n",
    ">python\n",
    "Python 3.10.1 (tags/v3.10.1:2cd268a, Dec  6 2021, 19:10:37) [MSC v.1929 64 bit (AMD64)] on win32\n",
    "Type \"help\", \"copyright\", \"credits\" or \"license\" for more information.\n",
    ">>> print('hello world!')\n",
    "hello world!\n",
    ">>> quit()\n",
    ">\n",
    "</pre>\n"
   ]
  },
  {
   "cell_type": "markdown",
   "id": "46787658-3219-45c8-8df2-cfd5e572282b",
   "metadata": {},
   "source": [
    "Program kita biasanya disimpan dalam file terpisah dengan ekstensi .py misalnya hello.py   \n",
    "Walaupun dapat dieksekusi langsung, sebenarnya Python memiliki suatu format struktur program yang dianjurkan seperti ini:\n",
    "<pre>\n",
    "def main():\n",
    "    print('saya belajar python')\n",
    "    \n",
    "if __name__ == '__main__':\n",
    "    main()\n",
    "</pre>\n",
    "Kita save script di atas dalam file my_first_script.py lalu bisa kita jalankan dengan:\n",
    "<pre>\n",
    ">python my_first_script.py\n",
    "saya belajar python\n",
    "\n",
    ">\n",
    "</pre>"
   ]
  },
  {
   "cell_type": "markdown",
   "id": "a99f4aab-9f98-46d9-8e86-e79c7d145a4c",
   "metadata": {},
   "source": [
    "Penulisan script mengikuti aturan bahwa definisi fungsi yang dipanggil didahulukan penulisannya daripada statement/fungsi yang memanggilnya sehingga ketika Python membaca file, maka definisi yang diperlukan sudah lebih dahulu diketahui sebelum kode yang memanggilnya.\n",
    "<pre>\n",
    ">type wrong.py\n",
    "main()  # memanggil fungsi main\n",
    "\n",
    "def main():  # definisi fungsi main\n",
    "    print('is it okay?')\n",
    "\n",
    ">python wrong.py\n",
    "Traceback (most recent call last):\n",
    "  File \"C:\\Users\\emang\\wrong.py\", line 1, in <module>\n",
    "    main()\n",
    "NameError: name 'main' is not defined. Did you mean: 'min'?\n",
    "\n",
    ">\n",
    "</pre>"
   ]
  },
  {
   "cell_type": "markdown",
   "id": "7de665da-7a55-40e6-9e4f-d08ffbb4c909",
   "metadata": {},
   "source": [
    "Aturan urutan penulisan demikian tidak dapat ditawar karena Python tidak memiliki mekanisme deklarasi seperti pada C/C++ dengan headernya, dan interpreter Python membaca baris demi baris berurut dari atas ke bawah. Demikian sehingga bila terjadi error seperti di atas, Anda dapat mengerti sebabnya dan dengan mudah dapat mengatasinya."
   ]
  },
  {
   "cell_type": "markdown",
   "id": "1822102d-fd7f-4eed-a879-42901bacdb89",
   "metadata": {
    "tags": []
   },
   "source": [
    "#### VARIABLES, IDENTIFIERS, POINTERS, OBJECTS\n",
    "Di atas kita sudah menggunakan deretan huruf yang disebut string dan nilai angka angka. Untuk dapat menggunakan ulang nilai atau string yang sudah kita tuliskan (secara literal) maka digunakan variabel. Variabel adalah nama yang digunakan untuk menunjuk suatu nilai/string atau secara umum suatu objek. Objek adalah suatu struktur pada lokasi memori tertentu yang mengandung nilai atau string, tipe objek dan beberapa hal penting lainnya.   \n",
    "Untuk mengasosiasikan nama variabel kepada sebuah objek kita menggunakan assigment statement __sebuah_nama = suatu_objek__ seperti misalnya <pre>\n",
    "umur = 7\n",
    "hobby = \"main game online\"\n",
    "</pre>\n",
    "Dalam Python **variabel bukanlah nama suatu alokasi memori** yang berisi nilai, melainkan **nama pointer atau referens ke suatu objek**. Variabel disandingkan dengan pointer sehingga sifatnya dinamis, tidak menjadi soal bila dipakai ulang untuk objek lain dengan tipe dan ukuran yang berbeda, karena semua pointer sama saja jenis dan ukurannya yaitu 64-bit (atau 32-bit pada komputer yang lama).   \n",
    "Konsep variabel pada Python berbeda dengan pada bahasa lain, seperti C, Java, atau Kotlin.\n",
    "<pre>fun main() {\n",
    "    println(\"Hello, world!!!\")\n",
    "    val peubah\n",
    "    println(peubah)\n",
    "    \n",
    "This variable must either have a type annotation or be initialized\n",
    "</pre>    \n",
    "Kode Kotlin di atas akan memunculkan error bahwa Variable 'peubah' harus diinisialisasi sehingga bisa disimpulkankan dan ditetapkan tipe dan nilainya.   \n",
    "Jika sudah diinisialisasi misalnya:\n",
    "<pre>\n",
    "    var peubah =42\n",
    "    peubah=\"empat dua\"\n",
    "\n",
    "Type mismatch: inferred type is String but Int was expected\n",
    "</pre>\n",
    "Artinya pada Kotlin saat suatu variable dideklarasikan langsung terikat dengan alamat dan besar alokasi memorinya sesuai tipenya. Dalam bahasa mana saja sebenarnya sama konsepnya, suatu alokasi struktur data tidak bisa secara dinamis digonta ganti.    \n",
    "\n",
    "Pada dokumentasi Python, referensi bahasa, digunakan istilah **Identifiers (also referred to as names)** \n",
    "dan pada bagian Pengantar Informal digunakan istilah variabel secara selintas bukan menjelaskan definisinya.\n",
    "\n",
    "If a variable is not “defined” (assigned a value), trying to use it will give you an error:   \n",
    "Jika variabel tidak \"didefinisikan\" (diberi nilai), mencoba menggunakannya akan menghasilkan kesalahan:    \n",
    "Terjemahan \"diberi nilai\" saya pikir terlalu lepas, perlu dipertajam.\n",
    "\n",
    "<pre>\n",
    ">>> peubah\n",
    "Traceback (most recent call last):\n",
    "  File \"stdin\", line 1, in module\n",
    "NameError: name 'peubah' is not defined\n",
    ">>> \n",
    "</pre>\n",
    "\n",
    "Kesalahan NameError di atas mengingatkan bahwa identifier/nama yang disebut belum didefiniskian.\n",
    "Nama ini bisa digunakan sebagai nama variabel, nama fungsi, nama kelas, perlu kalimat assignment.\n",
    "Assignment pada Python maksudnya adalah menempelkan label nama identifier pada pointer yang menunjuk suatu objek, entah itu struktur data, kode fungsi ataukah konstruksi kelas.\n",
    "<pre>\n",
    "    nama = objek_struktur_data # variabel data\n",
    "    def nama_fungsi():         # nama fungsi\n",
    "    class nama_kelas:          # nama kelas\n",
    "</pre>\n"
   ]
  },
  {
   "cell_type": "code",
   "execution_count": 49,
   "id": "5ee0a532-0c63-41a0-aea9-4ad320ec4ba0",
   "metadata": {},
   "outputs": [
    {
     "name": "stdout",
     "output_type": "stream",
     "text": [
      "84\n",
      "hello\n",
      "sesuatu\n"
     ]
    }
   ],
   "source": [
    "# identifiers, pointers, objects\n",
    "namaA = 42 # suatu struktur data integer bernilai 42 ditunjuk pointer bernama namaA\n",
    "def namaB():    # satu kode fungsi ditunjuk pointer bernama namaB\n",
    "    print(\"hello\")\n",
    "class NamaC:    # pointer bernama NamaC menunjuk suatu kelas dengan properti x\n",
    "    x='sesuatu'\n",
    "\n",
    "for nama in namaA, namaB, NamaC:\n",
    "    match str(type(nama)):\n",
    "        case \"<class 'int'>\":\n",
    "            print(nama*2)\n",
    "        case \"<class 'function'>\":\n",
    "            nama()\n",
    "        case \"<class 'type'>\":\n",
    "            print(nama.x)"
   ]
  },
  {
   "cell_type": "code",
   "execution_count": 50,
   "id": "88d53638-6da9-4d81-98d9-2f446969bf12",
   "metadata": {},
   "outputs": [
    {
     "name": "stdout",
     "output_type": "stream",
     "text": [
      "hello\n",
      "sesuatu\n",
      "84\n",
      "\n",
      "namaA= <function namaB at 0x7ff7cb3f3e20>; tipe <class 'function'> alamatnya: 0x7ff7cb3f3e20 \n",
      "namaB= <class '__main__.NamaC'>; tipe <class 'type'> alamatnya: 0x56168b54ac30 \n",
      "NamaC= 42; tipe <class 'int'> alamatnya: 0x7ff7f0dcc610 \n"
     ]
    }
   ],
   "source": [
    "\"identifiers dikocok:\"\n",
    "namaA, namaB, NamaC = namaB, NamaC, namaA   # pointer identifiers di revisi\n",
    "\n",
    "for nama in namaA, namaB, NamaC:\n",
    "    match str(type(nama)):\n",
    "        case \"<class 'int'>\":\n",
    "            print(nama*2)\n",
    "        case \"<class 'function'>\":\n",
    "            nama()\n",
    "        case \"<class 'type'>\":\n",
    "            print(nama.x)\n",
    "\n",
    "print()\n",
    "print(f'{namaA= }; tipe {type(namaA)} alamatnya: {hex(id(namaA))} ')\n",
    "print(f'{namaB= }; tipe {type(namaB)} alamatnya: {hex(id(namaB))} ')\n",
    "print(f'{NamaC= }; tipe {type(NamaC)} alamatnya: {hex(id(NamaC))} ')"
   ]
  },
  {
   "cell_type": "markdown",
   "id": "8c35654f-e914-4fc0-9f01-a99d65d4f0f9",
   "metadata": {},
   "source": [
    "Kesimpulannya, identifier tidak terikat langsung dengan objek, tetapi via pointer.\n",
    "Karena struktur pointer sama semua 64-bit maka dapat secara dinamis digonta ganti. Perubahan tipe variabel tidak diperbolehkan dalam C apalagi Java, karena akan merusak struktur data, tetapi efek ini menjadi **tidak relevan bagi Python** karena penerapan konsep penyandingan pointer objek dengan nama identifier atau *binding* pada proses pertukaran assignment, tidak sampai melibatkan struktur objek."
   ]
  },
  {
   "cell_type": "markdown",
   "id": "9bfd716f-bbdf-41a7-a50f-ca3ddf277e5f",
   "metadata": {},
   "source": [
    "Contoh berikut menunjukkan bahwa proses assignment ialah proses pemberian keranjang baru, bukannya mengedit keranjang yang sama.    \n",
    "Proses seperti itu hanya bisa dijelaskan dengan gamblang apabila identifier/nama 'variabel' hanyalah label pointer, yaitu terkait dengan objek secara tidak langsung, bukan terikat dengan alamat keranjang berisi objek yang secara sim-salabim, bisa dinamis, berubah, bukan begitu!"
   ]
  },
  {
   "cell_type": "code",
   "execution_count": 5,
   "id": "aef54f1c-67a1-468d-a4a2-1908eb18fd7e",
   "metadata": {},
   "outputs": [
    {
     "name": "stdout",
     "output_type": "stream",
     "text": [
      "alamat:  0x2a685b30430 dan 0x2a6812c0610\n",
      "alokasi bytes:  61 dan 28\n"
     ]
    }
   ],
   "source": [
    "variabel = \"objek string\"\n",
    "lokasi_objek_str = hex(id(variabel))\n",
    "alokasi_1 = variabel.__sizeof__()\n",
    "\n",
    "variabel = 42\n",
    "lokasi_instans_42 = hex(id(variabel))\n",
    "alokasi_2 = variabel.__sizeof__()\n",
    "# hasil print berikut akan menunjukkan apakah variabel adalah nama suatu alamat lokasi memori\n",
    "print(\"alamat: \",lokasi_objek_str, \"dan\", lokasi_instans_42)\n",
    "# hasil print berikut menunjukkan apakah ukuran alokasi variabel adalah statis atau tidak\n",
    "print(\"alokasi bytes: \", alokasi_1, \"dan\",alokasi_2)"
   ]
  },
  {
   "cell_type": "markdown",
   "id": "613c4e9a-6070-4e50-b618-83a31e904dd5",
   "metadata": {},
   "source": [
    "Nampaknya identifier hanya mewakili objek secara sementara, karena baik alamat maupun ukuran alokasi walaupun diakses dengan nama variabel yang sama, ternyata tidak permanen, berubah secara dinamis seiring dengan assignment yang baru."
   ]
  },
  {
   "cell_type": "code",
   "execution_count": 4,
   "id": "095fd32f-c535-4b46-807d-67bdba36f120",
   "metadata": {},
   "outputs": [
    {
     "name": "stdout",
     "output_type": "stream",
     "text": [
      "7 <class 'int'>\n",
      "delapan tahun kurang seminggu lagi <class 'str'>\n"
     ]
    }
   ],
   "source": [
    "umur = 7\n",
    "print(umur,type(umur))\n",
    "umur = \"delapan tahun kurang seminggu lagi\"\n",
    "print(umur,type(umur))"
   ]
  },
  {
   "cell_type": "markdown",
   "id": "9706ca88-aaf3-4028-bb46-26337d068b31",
   "metadata": {},
   "source": [
    "Identifier memegang status objek yang terkait tetapi kaitan tersebut bisa berubah bila ada assignment baru.\n",
    "Suatu objek tidak akan berubah, tempat atau nilainya sejak dibuat, hingga waktunya proses daur ulang. Perhatikan contoh berikut dimana ada dua variabel merujuk kepada objek yang sama kemudian ada assignment baru yang terjadi."
   ]
  },
  {
   "cell_type": "code",
   "execution_count": 25,
   "id": "3fb37d25-ab3e-44e2-adc7-2870bc12a908",
   "metadata": {},
   "outputs": [
    {
     "name": "stdout",
     "output_type": "stream",
     "text": [
      "umur_budi=7, umur_bambang=7\n",
      "umur_budi=8, umur_bambang=7\n"
     ]
    }
   ],
   "source": [
    "umur_budi = umur_bambang = 7\n",
    "print(f'{umur_budi=}, {umur_bambang=}')\n",
    "umur_budi = 8\n",
    "print(f'{umur_budi=}, {umur_bambang=}')"
   ]
  },
  {
   "cell_type": "markdown",
   "id": "5d6acf73-8b41-436c-9892-dc9c319e5020",
   "metadata": {},
   "source": [
    "Awalnya ada satu objek instans integer bernilai 7 yang dirujuk dua identifier, *umur_budi* dan *umur_bambang*. Saat assignment baru, maka ekspresi sisi kanan tanda = merupakan suatu permintaan pembuatan objek baru (instans integer bernilai 8) kepada memory manager. Lalu setelah dibuatkan objeknya, maka referensnya, pointer, disandingkan ulang ke identifier di sisi kiri tanda = dalam hal ini identifier umur_budi. Tidak terjadi perubahan apa-apa pada objek instans integer 7.\n",
    "Beginilah prinsip kerja Python dengan objek, pointer objek dan identifier assignment.   \n",
    "Dalam bahasa lain yang statik, misalnya C, kedua variabel akan berisikan copy nilai yang sama, dan jika ada perubahan nilai maka perubahannya langsung diterapkan pada lokasi variabel bersangkutan. Nilainya diedit, dimutasi, tetapi harus tetap tipe yang sama karena tidak boleh terjadi perubahan struktur atau jumlah bytesnya. "
   ]
  },
  {
   "cell_type": "code",
   "execution_count": 11,
   "id": "ec6dcba3-7f50-4a95-8be1-d99016a508e1",
   "metadata": {},
   "outputs": [
    {
     "name": "stdout",
     "output_type": "stream",
     "text": [
      "6\n"
     ]
    }
   ],
   "source": [
    "def ppb(a,b):\n",
    "    \"Pembagi Persekutuan terBesar dari dua bilangan, algoritme Euklides\"\n",
    "    while b != 0:\n",
    "        a, b = b, a%b\n",
    "    return a\n",
    "print(ppb(24,42))"
   ]
  },
  {
   "cell_type": "markdown",
   "id": "bf7406c4-b914-4b47-8dcb-670cfa647143",
   "metadata": {},
   "source": [
    "Contoh di atas yang menampilkan _'iklan'_ Python (seperti hello worldnya C), dipresentasikan oleh Guido van Rossum (sang pembuat bahasa Python) pada tahun 2003, sebagai ciri-ciri Python yaitu:\n",
    "- tanpa deklarasi fungsi ataupun variabel\n",
    "- blok/grup dengan indentasi dan titik dua\n",
    "- doc string dokumentasi merupakan bagian dari sintaks fungsi\n",
    "- assignment paralel (contohnya, bertukar nama tanpa perantara a,b = b,a )   \n"
   ]
  },
  {
   "cell_type": "markdown",
   "id": "139b056c-c1c7-4e05-8bf6-61de1ca763ee",
   "metadata": {},
   "source": [
    "Dalam Python semua entitas adalah objek, semua struktur data, sederhana atau kompleks, semua fungsi, buatan pengguna atau bawaan adalah objek.    \n",
    "**Nama objek disebut identifier, termasuk nama fungsi, nama 'variabel'/struktur data dan lain-lainnya dimana terdapat keseragaman implementasi yaitu terdiri atas identifier, pointer objek dan objek itu sendiri.**   \n",
    "Salah satu konsekuensi keseragaman ini kita dapat memperlakukan fungsi sebagaimana memperlakukan variabel data seperti contoh berikut."
   ]
  },
  {
   "cell_type": "code",
   "execution_count": 16,
   "id": "1684ee0e-a1ca-4068-aad8-906f68abd517",
   "metadata": {},
   "outputs": [
    {
     "name": "stdout",
     "output_type": "stream",
     "text": [
      "callable(gcd)=True\n",
      "jawaban=6\n",
      "gcd=7\n",
      "callable(gcd)=False\n"
     ]
    }
   ],
   "source": [
    "# fungsi dapat diperlakukan sebagai variabel\n",
    "gcd = ppb # ppb adalah identifier fungsi pada contoh diatas\n",
    "print(f'{callable(gcd)=}')\n",
    "#memanggil fungsi dengan identifier baru\n",
    "jawaban = gcd(24,42)\n",
    "print(f'{jawaban=}')\n",
    "gcd = 7 # 'gcd' didefinisikan ulang sebagai identifier struktur data integer\n",
    "print(f'{gcd=}')\n",
    "print(f'{callable(gcd)=}')\n"
   ]
  },
  {
   "cell_type": "markdown",
   "id": "728e9721-9346-4ba8-87a3-2ff3408045a0",
   "metadata": {
    "tags": []
   },
   "source": [
    "#### FUNGSI dan Metoda\n",
    "Istilah fungsi diambil dari istilah matematika, fungsi adalah suatu proses memanipulasi argumen input menjadi suatu output, dengan catatan dalam pemrograman komputer fungsi ada dua jenis yaitu pertama, fungsi murni (_fruitful function_) seperti definisi matematis, yang mengembalikan suatu objek output, dan kedua, fungsi dengan efek samping (_void function_) yang memberikan dampak pada lingkungan tetapi tidak mengembalikan output. Pada contoh di atas, fungsi efek samping, print() menampilkan sesuatu pada console tetapi mengembalikan None.   \n",
    "Fungsi murni contohnya, ppb(a,b) mengembalikan nilai PPB, dan pow(x,y) mengembalikan nilai perpangkatan.\n",
    "Ciri suatu fungsi dalam skrip Python ialah apabila namanya dijadikan argumen callable(nama) menghasilkan True, atau type(nama)-nya menghasilkan class 'function'"
   ]
  },
  {
   "cell_type": "code",
   "execution_count": 1,
   "id": "00fa62e2-870b-4876-8295-1708d9518518",
   "metadata": {},
   "outputs": [
    {
     "name": "stdout",
     "output_type": "stream",
     "text": [
      "z=9\n"
     ]
    }
   ],
   "source": [
    "x = 3\n",
    "y = 2\n",
    "z = pow(x,y)\n",
    "print(f'{z=}')"
   ]
  },
  {
   "cell_type": "markdown",
   "id": "47a5a1a5-7bf4-422f-8846-5ec0b30082d9",
   "metadata": {},
   "source": [
    "Sebagai tambahan fungsi bawaan, kita dapat mendefinisikan suatu fungsi sendiri sesuai kebutuhan kita. Fungsi didefinisikan dengan keyword def, nama fungsinya dan sepasang tanda kurung berisi parameter input.    \n",
    "Berikut contoh fungsi murni yang mengembalikan nilai factorial n! untuk suatu argumen n. Kita lihat bahwa definisi fungsi ini berupa definisi setengah jalan, yaitu mengembalikan sesuatu dalam kasus dasar, *base case*, tetapi memanggil kembali dirinya sendiri lagi dengan sedikit mengubah argumennya. Fungsi seperti ini yang dinamakan fungsi rekursi-ekor, menyimpan status dalam ekornya (argumen) dan meneruskan putaran rekursinya sampai tercapai kasus dasarnya, lalu tanpa harus *trace-back* langsung memberi hasil akhir dari ekornya..    \n",
    "Fungsi rekursi memiliki sifat deklaratif yaitu berupa penjelasan penyelesaian dengan sedikit langkah ke arah penyelesaiannya dan solusi kasus dasarnya.   \n"
   ]
  },
  {
   "cell_type": "code",
   "execution_count": 1,
   "id": "d4e8d599-aef6-4ee7-a88d-4dd0f6f7118a",
   "metadata": {},
   "outputs": [
    {
     "name": "stdout",
     "output_type": "stream",
     "text": [
      "120\n"
     ]
    }
   ],
   "source": [
    "### recursion\n",
    "def factorial(n, ans=1):\n",
    "    if n == 1:\n",
    "        return ans\n",
    "    return factorial(n-1, n*ans)\n",
    "\n",
    "print(factorial(5))\n",
    "    "
   ]
  },
  {
   "cell_type": "markdown",
   "id": "5e11df7b-66a8-4660-aad3-ffa73753bed1",
   "metadata": {},
   "source": [
    "Bentuk fungsi yang lebih sederhana adalah bentuk imperatif atau prosedural seperti langkah-langkah resep."
   ]
  },
  {
   "cell_type": "code",
   "execution_count": 2,
   "id": "c5e9a7a2-da15-481c-849e-e5e86be928e6",
   "metadata": {},
   "outputs": [
    {
     "name": "stdout",
     "output_type": "stream",
     "text": [
      "120\n"
     ]
    }
   ],
   "source": [
    "### iteration\n",
    "def factorial(n, ans=1):\n",
    "    for i in range(n):\n",
    "        ans = ans * (i+1)\n",
    "    return ans\n",
    "\n",
    "print(factorial(5))"
   ]
  },
  {
   "cell_type": "markdown",
   "id": "db48b2d8-6789-4201-be83-7717fb269572",
   "metadata": {},
   "source": [
    "Tetapi dalam kasus-kasus tertentu dimana fungsi imperatif menjadi kompleks biasanya digunakan fungsi rekursi yang cenderung lebih ringkas kodenya."
   ]
  },
  {
   "cell_type": "code",
   "execution_count": 10,
   "id": "60904c78-761a-4bc3-bb38-f6a76e87a217",
   "metadata": {},
   "outputs": [
    {
     "name": "stdout",
     "output_type": "stream",
     "text": [
      "Pindahkan keping 1 dari tiang A ke tiang C\n",
      "Pindahkan keping 2 dari tiang A ke tiang B\n",
      "Pindahkan keping 1 dari tiang C ke tiang B\n",
      "Pindahkan keping 3 dari tiang A ke tiang C\n",
      "Pindahkan keping 1 dari tiang B ke tiang A\n",
      "Pindahkan keping 2 dari tiang B ke tiang C\n",
      "Pindahkan keping 1 dari tiang A ke tiang C\n"
     ]
    }
   ],
   "source": [
    "def TowerOfHanoi(n , source, dest, aux):           \n",
    "    if n == 1:\n",
    "        print(\"Pindahkan keping 1 dari tiang\",source,\"ke tiang\",dest)\n",
    "        return\n",
    "    TowerOfHanoi(n-1, source, aux, dest)\n",
    "    print(\"Pindahkan keping\",n,\"dari tiang\",source,\"ke tiang\",dest)\n",
    "    TowerOfHanoi(n-1, aux, dest, source)\n",
    " \n",
    "n = 3\n",
    "TowerOfHanoi(n, 'A', 'C', 'B')"
   ]
  },
  {
   "cell_type": "markdown",
   "id": "f164e7a7-5e28-4b92-918d-4ae70ce77838",
   "metadata": {},
   "source": [
    "Fungsi murni dapat juga didefinisikan tanpa nama, hanya parameter, body dan argumen, dengan keyword lambda yang otomatis mengembalikan nilai ekspresi badan fungsi."
   ]
  },
  {
   "cell_type": "code",
   "execution_count": 4,
   "id": "30aba508-9197-4c82-843d-3428ec6196e2",
   "metadata": {},
   "outputs": [
    {
     "data": {
      "text/plain": [
       "9"
      ]
     },
     "execution_count": 4,
     "metadata": {},
     "output_type": "execute_result"
    }
   ],
   "source": [
    "(lambda x,y: x**y)(3,2)\n"
   ]
  },
  {
   "cell_type": "markdown",
   "id": "eb913e22-3c33-485a-bf76-87ee58191d43",
   "metadata": {},
   "source": [
    "Fungsi dapat didefinisikan secara bertingkat, berjalin, fungsi di dalam fungsi.\n",
    "Counter adalah suatu objek turunan dictionary yang khusus menghitung pemunculan item masukan, dibuat berdasarkan model matematis **multiset**. Kita akan membahas class dictionary nanti. Dalam contoh berikut, Counter yang diberikan asupan kata kata, secara otomatis menghitung berapa kali huruf per huruf muncul. Outputnya adalah pasangan kunci&nilai (dictionary) dimana kuncinya adalah huruf-huruf yang berbeda dan nilainya adalah jumlah kemunculan huruf dalam kata/ungkapan asupan. "
   ]
  },
  {
   "cell_type": "code",
   "execution_count": 10,
   "id": "48614eb0-5fea-438b-9b4b-4b3ff58e6b5a",
   "metadata": {},
   "outputs": [
    {
     "name": "stdout",
     "output_type": "stream",
     "text": [
      "True\n"
     ]
    }
   ],
   "source": [
    "### anagram adalah permainan huruf membentuk kata berbeda\n",
    "### buat fungsi untuk menentukan apakah dua ungkapan masukan adalah anagram atau bukan\n",
    "from collections import Counter\n",
    "def anagram_kah(kata1, kata2):\n",
    "    def cc(k):\n",
    "        return Counter(k.lower().replace(' ',''))\n",
    "    return cc(kata1) == cc(kata2)\n",
    "\n",
    "print(anagram_kah(\"Eleven plus Two\",\"Twelve plus One\"))"
   ]
  },
  {
   "cell_type": "code",
   "execution_count": 25,
   "id": "6d9c7b76-5e01-41aa-a519-d10f28e1d626",
   "metadata": {},
   "outputs": [
    {
     "name": "stdout",
     "output_type": "stream",
     "text": [
      "string itu immutable, tidak dapat diedit\n",
      "stringituimmutable,tidakdapatdiedit\n",
      "String itu immutable, TIDAK dapat diedit\n"
     ]
    }
   ],
   "source": [
    "s = \"String itu immutable, TIDAK dapat diedit\"\n",
    "print(s.lower())\n",
    "print(s.lower().replace(' ',''))\n",
    "print(s)  # s tidak berubah masih seperti aslinya"
   ]
  },
  {
   "cell_type": "markdown",
   "id": "6ee13a33-3b03-446b-8bef-755992b460d8",
   "metadata": {},
   "source": [
    "_Fungsi_ lower() adalah suatu fungsi yang khusus terkait dengan objek tipe string, sehingga kita menyebutnya ***metoda*** dari string, sama seperti metoda replace(). Inputnya bukan berada di dalam kurung tetapi di depannya. Artinya kita memanggil suatu atribut dari objek string s yang dapat dieksekusi (callable) yang dalam contoh di atas lower() dan replace().   \n",
    "Output dari metoda string adalah suatu objek baru sedangkan objek inputnya tidak berubah.\n",
    "\n",
    "Berikut metoda string yang selengkapnya."
   ]
  },
  {
   "cell_type": "code",
   "execution_count": 26,
   "id": "60f27130-a074-40bd-b398-8b99d82708e2",
   "metadata": {},
   "outputs": [
    {
     "name": "stdout",
     "output_type": "stream",
     "text": [
      "['capitalize', 'casefold', 'center', 'count', 'encode', 'endswith', 'expandtabs', 'find', 'format', 'index', 'isalnum', 'isalpha', 'isascii', 'isdecimal', 'isdigit', 'isidentifier', 'islower', 'isnumeric', 'isprintable', 'isspace', 'istitle', 'isupper', 'join', 'ljust', 'lower', 'lstrip', 'maketrans', 'partition', 'removeprefix', 'removesuffix', 'replace', 'rfind', 'rindex', 'rjust', 'rpartition', 'rsplit', 'rstrip', 'split', 'splitlines', 'startswith', 'strip', 'swapcase', 'title', 'translate', 'upper', 'zfill']\n"
     ]
    }
   ],
   "source": [
    "print([atr for atr in dir(str) if '_' not in atr ])"
   ]
  },
  {
   "cell_type": "markdown",
   "id": "e5a84a1d-f9da-4c27-9503-d662e2edd22c",
   "metadata": {},
   "source": [
    "Tidak mengapa bila bila Anda belum memahami command di atas, maksudnya hanya menampilkan semua metoda dari string kecuali metoda-metoda khusus lainnya yang diapit dengan garis bawah. Bandingkan dengan eksekusi <pre>print(dir(str))</pre> yang menampilkan hasil lebih banyak.  \n",
    "Untuk fungsi built in kita dapat melihat daftarnya dalam <pre>print(dir(\\_\\_builtins\\_\\_))</pre>"
   ]
  },
  {
   "cell_type": "markdown",
   "id": "540f4ba7-211e-44dd-ae0f-1cc3a8629247",
   "metadata": {},
   "source": [
    "Selain menggunakan fungsi bawaan Python kita mendefinisikan fungsi buatan sendiri dengan tujuan:\n",
    "- agar dapat dipanggil berulang walau hanya menuliskan sekali saja\n",
    "- menyembunyikan detil implementasi, kita hanya perlu ingat abstraksinya\n",
    "- membuat program menjadi terstruktur sehingga lebih mudah dipahami \n"
   ]
  },
  {
   "cell_type": "markdown",
   "id": "8316ff11-9662-4e1c-bf0b-96c098da2c45",
   "metadata": {},
   "source": [
    "#### NONE\n",
    "Kembali ke pembahasan fruitful function dan void function.  \n",
    "Fungsi _fruitful_ mengembalikan sesuatu objek sebagai output, dan fungsi _void_ tidak mengembalikan apa-apa atau dengan kata lain, mengembalikan 'bukan apa-apa'.   \n",
    "Python memiliki suatu objek 'bukan apa-apa' yang dinamakan None. Kita akan melihatnya dalam contoh berikut."
   ]
  },
  {
   "cell_type": "code",
   "execution_count": 2,
   "id": "ba13ebad-2c34-4966-ac1f-4cabb475fa64",
   "metadata": {},
   "outputs": [
    {
     "name": "stdout",
     "output_type": "stream",
     "text": [
      "x = None\n",
      "type(x) = <class 'NoneType'>\n",
      "..bukan apa-apa, None..\n",
      "y = None\n",
      "type(y) = <class 'NoneType'>\n"
     ]
    }
   ],
   "source": [
    "def f():\n",
    "    pass\n",
    "\n",
    "x = f()\n",
    "print(f'{x = }')\n",
    "print(f'{type(x) = }')\n",
    "\n",
    "y = print('..bukan apa-apa, None..')\n",
    "print(f'{y = }')\n",
    "print(f'{type(y) = }')\n"
   ]
  },
  {
   "cell_type": "markdown",
   "id": "eb1b9c87-e095-4a3b-a9e0-90fc0a833dcf",
   "metadata": {},
   "source": [
    "Fungsi f() tidak memiliki kalimat return dalam definisinya, maka secara default Python akan mengembalikan objek None sebagai return valuenya.   \n",
    "Fungsi print() tidak mengembalikan sesuatu objek sebagai return, maka Python mengembalikan objek None.   \n",
    "None adalah objek real, ada id/alamat-nya, tetapi hanya satu, *singleton* istilahnya, tidak ada copynya."
   ]
  },
  {
   "cell_type": "code",
   "execution_count": 3,
   "id": "5311c4da-5f1a-4d19-a1f7-ed2f787a2fd7",
   "metadata": {},
   "outputs": [
    {
     "name": "stdout",
     "output_type": "stream",
     "text": [
      "140734242154488\n",
      "True True\n"
     ]
    }
   ],
   "source": [
    "print(id(None))\n",
    "print(x==y, x is y)  # x,y dari contoh sebelumnya None"
   ]
  },
  {
   "cell_type": "markdown",
   "id": "4138dcd2-def0-46d7-9560-a0496966763e",
   "metadata": {},
   "source": [
    "#### Namespace, Scope\n",
    "\n",
    "Nama variabel disimpan dalam suatu daftar atau environment yang disebut namespace. Namespace ini tidak hanya satu tetapi bisa ada beberapa namespace yang dibentuk. Ketika suatu blok fungsi dieksekusi maka dalam scope fungsi tersebut ada suatu namespace lokal yang dibentuk untuk mendaftarkan variabel lokal fungsi itu. Jadi ada beberapa namespace antara lain namespace built-in, global, lokal.\n"
   ]
  },
  {
   "cell_type": "markdown",
   "id": "6f7f36bb-f007-42b1-a35c-f3c73cbd44c2",
   "metadata": {},
   "source": [
    "Lingkup penamaan di luar fungsi kita sebut lingkup global (global variable's scope), sedangkan di dalam fungsi lingkupnya lokal. Di luar lingkup global ada lingkup yang membungkusnya yaitu lingkup bawaan (built-in). Contoh, fungsi print(), nama fungsi print didaftarkan di lingkup bawaan.   \n",
    "Dalam lingkup lokal, kita dapat membaca objek lingkup global atau lingkup bawaan, tetapi tidak dapat mengubah nilainya. Ketika kita mencoba melakukan assignment maka otomatis Python akan membuatkan variabel lokal dengan nama itu dan menutup akses ke lingkup di atasnya."
   ]
  },
  {
   "cell_type": "code",
   "execution_count": 55,
   "id": "c0ef31bf-890e-40c6-93b2-578fcef83208",
   "metadata": {},
   "outputs": [
    {
     "name": "stdout",
     "output_type": "stream",
     "text": [
      "variabel global\n",
      "['namaku'] Bento\n",
      "['fungsi_sub', 'namaku', 'nilai_ujian'] Bejo 85\n",
      "mengubah variabel \"non-lokal\"\n",
      "['namaku', 'ujian_akhir'] Bejo Tinurut\n",
      "Bejo Tinurut 90\n"
     ]
    }
   ],
   "source": [
    "def fungsi_abc():\n",
    "    def fungsi_sub():\n",
    "        nonlocal namaku\n",
    "        namaku = 'Bejo Tinurut'\n",
    "        ujian_akhir = 90\n",
    "        print('mengubah variabel \"non-lokal\"')\n",
    "        print(dir(),namaku)\n",
    "        return ujian_akhir\n",
    "    namaku = 'Bejo'\n",
    "    nilai_ujian = 85\n",
    "    print(dir(), namaku, nilai_ujian)    \n",
    "    nilai_ujian = fungsi_sub()\n",
    "    print(namaku, nilai_ujian)\n",
    "\n",
    "def main():\n",
    "    namaku = 'Bento'\n",
    "    print(dir(), namaku)\n",
    "    fungsi_abc()\n",
    "\n",
    "namaku = 'variabel global'\n",
    "print(namaku)\n",
    "main()\n"
   ]
  },
  {
   "cell_type": "markdown",
   "id": "54dac087-3075-4205-a1f3-6eda24bf6f4b",
   "metadata": {},
   "source": [
    "Mendefinisikan variabel pada lingkup global tidak disarankan dan dianggap sebagai praktek berbahaya. Agar penamaan (namespace) terkendali sebaiknya semua variabel berada di dalam fungsi. Transfer variabel antar fungsi yang disebut passing parameter dilakukan dengan argumen dan return value.   \n",
    "Dalam situasi dimana diperlukan akses read/write langsung, maka dapat ditempuh strategi penempatan fungsi di dalam fungsi lalu untuk menyatakan bahwa variabel yang akan diakses itu berada di luar fungsi sebelah dalam digunakan statement **nonlocal \\<namavar\\>**.\n"
   ]
  },
  {
   "cell_type": "markdown",
   "id": "b6521088-5894-41c1-8206-a71e59011147",
   "metadata": {},
   "source": [
    "### DESAIN ANTAR MUKA (INTERFACE)"
   ]
  },
  {
   "cell_type": "markdown",
   "id": "d605caee-00da-4c3f-bc8f-431fbee534c7",
   "metadata": {},
   "source": [
    "Pada bagian ini kita akan mempelajari proses mendesain fungsi supaya bekerja dengan baik. Disini kita akan menggunakan pustaka modul *turtle*, yang melaluinya kita dapat membuat beberapa grafik sebagai sarana praktek. Modul turtle sudah disertakan dalam instalasi Python dan kode latihan kita akan dijalankan dalam konsol shell Python.   \n",
    "_bagian ini mengambil materi dari Think Python, Allen B. Downey chapter 4_\n"
   ]
  },
  {
   "cell_type": "markdown",
   "id": "27ea3a1f-c853-47cc-a639-0c48ec62536f",
   "metadata": {},
   "source": [
    "#### Modul turtle   \n",
    "Kita dapat memeriksa apakah modul turtle tersedia dengan perintah di shell Python (setelah memanggil python dari command console) sebagai berikut:\n",
    "\n",
    "<pre>\n",
    ">>> import turtle\n",
    ">>> pena = turtle.Turtle()\n",
    "</pre>\n",
    "\n",
    "Jika sudah tersedia maka akan muncul window baru dengan tanda panah kecil di tengah. Tutup kembali windownya untuk saat ini.   \n",
    "Salin kode berikut ke dalam file bernama poligon.py\n",
    "<pre>\n",
    "import turtle\n",
    "pena = turtle.Turtle()  # membuat instans dari turtle\n",
    "print(f'{pena = }')\n",
    "pena.fd(100)\n",
    "pena.lt(90)\n",
    "pena.fd(100)\n",
    "turtle.mainloop()  # melepas kontrol ke window\n",
    "</pre>\n",
    "lalu jalankan dari command console dengan perintah <pre>> python poligon.py</pre>\n",
    "Dalam console akan ditampilkan bahwa pena adalah suatu objek tipe turtle yang selanjutnya akan kita gunakan dengan metoda-metoda yang terkait dengan objek tersebut.\n",
    "Metoda class turtle.mainloop() adalah metoda untuk menampilkan window grafik agar tidak tertutup langsung karena kode kita sudah mencapai baris terakhir, dan selanjutnya kita bisa menutup window dari elemen window itu sendiri (X).\n"
   ]
  },
  {
   "cell_type": "markdown",
   "id": "bd48c856-04e5-4ff0-b13d-6abe777c42d0",
   "metadata": {},
   "source": [
    "Penjelasan tentang kelas turtle dapat dipelajari dari dokumentasinya di https://docs.python.org/3.10/library/turtle.html atau \n",
    "dari shell python ketik \n",
    "<pre>\n",
    ">>> import turtle\n",
    ">>> dir(turtle)\n",
    ">>> help(turtle)\n",
    "</pre>"
   ]
  },
  {
   "cell_type": "markdown",
   "id": "f0a35242-bcd4-4ec7-a3c4-15308cc92873",
   "metadata": {},
   "source": [
    "Metoda yang akan kita gunakan dalam praktek kita adalah terutama maju/forward(fd), dan belok kiri/ left(lt). Metoda yang lain dapat dilihat dari perintah di atas.  \n"
   ]
  },
  {
   "cell_type": "markdown",
   "id": "838bc6ec-b429-4568-b7bf-b9bdea837deb",
   "metadata": {},
   "source": [
    "Perintah maju fd(jarak) akan menorehkan garis sepanjang nilai jarak. Nilai jarak dapat berupa bilangan bulat maupun pecahan. Perintah belok kiri lt(sudut) akan mengarahkan panah ke arah sudut yang diberikan. Contoh di atas, pena.fd(100); pena.lt(90); pena.fd(100) menggambar dua potong garis ke arah timur berbelok ke arah utara.   \n",
    "\n",
    "Edit poligon.py dengan memakai perintah fd(100) lt(90) sebanyak empat kali untuk membuat suatu bujur sangkar. Silahkan selesaikan latihan ini sebelum Anda meneruskan membaca."
   ]
  },
  {
   "cell_type": "markdown",
   "id": "13cf6f54-11f0-407a-bd93-315214e0807b",
   "metadata": {},
   "source": [
    "#### loop"
   ]
  },
  {
   "cell_type": "markdown",
   "id": "ae2e7f51-cca9-47e8-8991-f28281b5a598",
   "metadata": {},
   "source": [
    "Anda mungkin telah menuliskan perintah menggambar bujur sangkar seperti ini,\n",
    "<pre>\n",
    "pena.fd(100)\n",
    "pena.lt(90)\n",
    "\n",
    "pena.fd(100)\n",
    "pena.lt(90)\n",
    "\n",
    "pena.fd(100)\n",
    "pena.lt(90)\n",
    "\n",
    "pena.fd(100)\n",
    "</pre>\n",
    "Kita dapat menuliskan secara lebih ringkas dengan menggunakan perintah perulangan dalam suatu blok seperti ini,\n",
    "<pre>\n",
    "for i in range(4):\n",
    "    pena.fd(100)\n",
    "    pena.lt(90)\n",
    "</pre>\n",
    "Kalimat *for* disebut juga loop atau **for loop** karena mengulangi perintah dalam blok di bawahnya, 4 kali dalam contoh kita.\n"
   ]
  },
  {
   "cell_type": "markdown",
   "id": "2fd458e6-f1bc-41cd-8d2f-3b292e11f331",
   "metadata": {},
   "source": [
    "#### Latihan"
   ]
  },
  {
   "cell_type": "markdown",
   "id": "34ee1d6f-416c-4663-b103-c332b576479d",
   "metadata": {},
   "source": [
    "1. Buatkan suatu fungsi bernama bujursangkar dengan parameter masukan t sebagai objek turtle. Fungsi itu membuat gambar bujursangkar menggunakan turtle tersebut.   \n",
    "Buat pemanggil fungsi dengan argumen pena kepada fungsi bujursangkar itu.\n",
    "2. Tambahkan parameter lain bernama jarak ke dalam fungsi bujursangkar, dan ubah badan fungsi agar menggunakan parameter jarak untuk panjang sisi sisinya. Buat pemanggil fungsi dengan tambahan argumen jarak. Jalankan program beberapa kali dengan nilai jarak yang berbeda.\n",
    "3. Salin fungsi bujursangkar dan namai poligon lalu tambahkan parameter bernama n. Ubah badan fungsi sehingga menggambar poligon segi-n.   \n",
    "Petunjuk: sudut luar yang digunakan adalah 360/n derajat.\n",
    "4. Buatkan suatu fungsi bernama lingkaran dengan parameter masukan t turtle, r radius, yang menggambar lingkaran pendekatan dengan memanggil fungsi poligon dengan argumen jarak, dan segi-n yang sesuai. Periksa fungsi Anda dengan beberapa nilai radius.   \n",
    "Petunjuk: hitung keliling lingkaran dan pastikan jarak * n = keliling lingkaran.\n"
   ]
  },
  {
   "cell_type": "markdown",
   "id": "8cfb0e78-53f6-4078-aa8a-de959c2281ad",
   "metadata": {},
   "source": [
    "#### Jawaban\n",
    "Berikut adalah jawaban latihan di atas, tetapi sebaiknya Anda mencoba menyelesaikan sendiri latihan di atas sebelum membandingkannya dengan jawaban berikut ini.   \n"
   ]
  },
  {
   "cell_type": "markdown",
   "id": "b108a1e8-c6b5-4a73-b2c5-abd8c57f355f",
   "metadata": {},
   "source": [
    "##### 1. Enkapsulasi"
   ]
  },
  {
   "cell_type": "markdown",
   "id": "82a84a12-e32e-4304-bb0e-a2f08577830e",
   "metadata": {},
   "source": [
    "<pre>\n",
    "import turtle\n",
    "def bujursangkar(t):\n",
    "    for _ in range(4):\n",
    "        t.fd(100)\n",
    "        t.lt(90)\n",
    "        \n",
    "pena = turtle.Turtle()\n",
    "bujursangkar(pena)\n",
    "turtle.mainloop()\n",
    "</pre>"
   ]
  },
  {
   "cell_type": "markdown",
   "id": "083b4a91-6243-4c41-91ed-2a84204357ac",
   "metadata": {},
   "source": [
    "Membungkus sepotong kode ke dalam fungsi dinamakan **enkapsulasi**. Salah satu manfaat enkapsulasi ialah bahwa kode yang dibungkus sekarang dapat memiliki nama yang memberikan rangkuman apa yang dijalankan di dalamnya. Manfaat lain ialah bahwa fungsi tersebut dapat dipanggil ulang dengan argumen yang sama atau berbeda, yang lebih ringkas daripada harus menyalin seluruh badan fungsi berulang ulang.\n",
    "\n",
    "##### 2. Generalisasi\n",
    "Salin kode berikut ke file bujursangkar.py dan jalankan pada command console.\n",
    "<pre>\n",
    "import turtle\n",
    "\n",
    "def bujursangkar(t, jarak):\n",
    "    \"bujursangkar dengan turtle\"\n",
    "    for _ in range(4):\n",
    "        t.fd(jarak)\n",
    "        t.lt(90)\n",
    "\n",
    "pena = turtle.Turtle()  # membuat instans dari turtle\n",
    "for i in range(12):\n",
    "    bujursangkar(pena, 100+ i*i)\n",
    "    pena.lt(-30)\n",
    "    pena.fd(10)\n",
    "\n",
    "turtle.mainloop()  # melepas kontrol ke window\n",
    "</pre>\n",
    "\n",
    "Menambah parameter pada fungsi membuat fungsi tersebut dapat dipergunakan secara umum, disebut generalisasi. Jika pada contoh sebelumnya ukuran bujursangkar konstan ditentukan dari dalam fungsi, maka dengan tambahan parameter dapat diatur dari pemanggil fungsi."
   ]
  },
  {
   "cell_type": "markdown",
   "id": "778c1ba1-0ae6-4cbc-a082-c28567fcf123",
   "metadata": {},
   "source": [
    "##### 3. Generalisasi (lagi)\n",
    "Dalam fungsi bujursangkar, sudutnya sudah ditentukan dari dalam fungsi yaitu 90 derajat, artinya jumlah sisinya selalu konstan segi-4. Fungsi poligon menambah parameter jumlah segi/sisi sehingga dapat ditentukan dari pemanggil. Dengan bertambahnya agumen maka perlu digunakan nama supaya mudah diingat dan bebas letak urutan argumennya.\n",
    "<pre>\n",
    "import turtle\n",
    "\n",
    "def setposisi(t,x,y):\n",
    "    \"set posisi awal\"\n",
    "    t.penup()\n",
    "    t.setx(x)\n",
    "    t.sety(y)\n",
    "    t.pendown()\n",
    "\n",
    "def poligon(t, sisi, segi):\n",
    "    \"poligon segi-n\"\n",
    "    sudut = 360 / segi\n",
    "    for _ in range(segi):\n",
    "        t.forward(sisi)\n",
    "        t.left(sudut)\n",
    "\n",
    "pena = turtle.Turtle()  # membuat instans dari turtle\n",
    "setposisi(pena,-100,100)\n",
    "poligon(pena, 70, 4)\n",
    "\n",
    "setposisi(pena,50,50)\n",
    "poligon(pena, segi=5, sisi=100)  # keyword arguments\n",
    "\n",
    "setposisi(pena,-160,-130)\n",
    "poligon(pena,60, 9)\n",
    "\n",
    "turtle.mainloop()  # melepas kontrol ke window\n",
    "</pre>\n"
   ]
  },
  {
   "cell_type": "markdown",
   "id": "e341f1f0-4b1a-4431-af8b-d46856e9867a",
   "metadata": {},
   "source": [
    "##### 4. Desain antarmuka (interface)\n",
    "Untuk membuat lingkaran kita dapat menggunakan fungsi poligon dengan segi-n yang banyak, misalnya 50. Jika r adalah radius lingkaran, maka keliling lingkaran 2*pi*r adalah panjang sisi kali segi-n.\n",
    "Maka jika kita tetapkan segi n = 50, maka panjang sisi = keliling/50.\n",
    "<pre>\n",
    "def lingkaran(t,r):\n",
    "    pjg_sisi = 2*math.pi*r / 50\n",
    "    poligon(pena, segi=50, sisi=pjg_sisi)\n",
    "</pre>\n",
    "Membuat jumlah segi n = 50 secara konstan bisa bermasalah, mungkin kurang untuk radius yang besar dan terlalu boros untuk radius yang kecil, sehingga mungkin kita berpendapat bahwa sebaiknya n dijadikan parameter juga. Tetapi hal itu akan membuat interface menjadi kurang rapi. Fungsi lingkaran(t,radius,n) menjadi terasa kurang pas bukan? Solusinya agar interface tetap rapi nilai n harus kita buatkan sebanding dengan radius, makin besar radius makin banyak n.\n",
    "Jadi misalnya kita rumuskan, n = 3 + int(keliling/5), minimal 3 dan bilangan bulat. Faktor pembagi dapat diatur sesuai kualitas yang diinginkan tetapi kualitas tersebut akan terlihat sama untuk radius kecil atau radius besar.\n",
    "<pre>\n",
    "def lingkaran(t,radius):\n",
    "    keliling = 2 * math.pi * radius\n",
    "    segi = 3 + int(keliling/5)\n",
    "    pjg_sisi = keliling / segi\n",
    "    poligon(pena, segi=segi, sisi=pjg_sisi)\n",
    "   </pre>\n",
    "   "
   ]
  },
  {
   "cell_type": "markdown",
   "id": "0abf7f27-ea16-4e3b-8f2d-a391a6ee0e77",
   "metadata": {},
   "source": [
    "##### 5. Refactoring\n",
    "Berikut contoh kode yang diperbaiki struktur programnya, *refactoring* istilahnya. Salin dan jalankan dalam command console dan nikmati pergerakannya dalam slow motion, namanya juga turtle, kura-kura grafik."
   ]
  },
  {
   "cell_type": "code",
   "execution_count": null,
   "id": "33f6f248-738d-4499-84c4-05a6a8ed78d9",
   "metadata": {},
   "outputs": [],
   "source": [
    "import turtle\n",
    "import math\n",
    "\n",
    "def polyline(t, n, length, angle):\n",
    "    for i in range(n):\n",
    "        t.fd(length)\n",
    "        t.lt(angle)\n",
    "\n",
    "def polygon(t, n, length):\n",
    "    angle = 360 / n \n",
    "    polyline(t, n, length, angle)\n",
    "\n",
    "def arc(t, r, angle):\n",
    "    arc_length = 2*math.pi*r *angle /360\n",
    "    n = 1 + int(arc_length/4)\n",
    "    step_length = arc_length /n \n",
    "    step_angle = float(angle)/n \n",
    "    polyline(t,n, step_length, step_angle)\n",
    "\n",
    "def circle(t,r):\n",
    "    arc(t,r,360)\n",
    "\n",
    "def setposisi(t,x,y):\n",
    "    \"set posisi awal\"\n",
    "    t.penup()\n",
    "    t.setx(x)\n",
    "    t.sety(y)\n",
    "    t.pendown()\n",
    "\n",
    "def bunga_A(t, k):\n",
    "    for _ in range(k):\n",
    "        arc(t, 100, 360/k)\n",
    "        t.lt(180 - 360/k)\n",
    "        arc(t, 100, 360/k)\n",
    "        t.lt(180)    \n",
    "\n",
    "def bunga_B(t,k):\n",
    "    for _ in range(k):\n",
    "        arc(t, 100, 4*360/k)\n",
    "        t.lt(180 - 2*360/k)\n",
    "\n",
    "def bunga_C(t,k):\n",
    "    for _ in range(k):\n",
    "        arc(t, 100, 8*360/k)\n",
    "        t.lt(180 - 4*360/k)\n",
    "\n",
    "def bunga_D(t,k):\n",
    "    for _ in range(k):\n",
    "        arc(t, 100, 3*360/k)\n",
    "        t.lt(180 - 1.5*360/k)\n",
    "\n",
    "\n",
    "pena = turtle.Turtle()  # membuat instans dari turtle\n",
    "\n",
    "setposisi(pena, 30, 80)\n",
    "bunga_A(pena,7)\n",
    "\n",
    "setposisi(pena,-55,-200)\n",
    "bunga_D(pena,7)\n",
    "\n",
    "setposisi(pena, 140, 0)\n",
    "bunga_B(pena,10)\n",
    "\n",
    "setposisi(pena,-300, 0)\n",
    "bunga_C(pena,18)\n",
    "\n",
    "turtle.mainloop()  # melepas kontrol ke window\n"
   ]
  },
  {
   "cell_type": "markdown",
   "id": "d52645d5-e084-4b60-9a23-33d5d8a4bc8d",
   "metadata": {},
   "source": [
    "Latihan dan contoh di atas dimaksudkan sebagai kegiatan pemrograman yang menyenangkan dan diharapkan Anda dapat memetik beberapa pelajaran dari padanya, tentang enkapsulasi, generalisasi, interfacing dan refactoring. "
   ]
  },
  {
   "cell_type": "code",
   "execution_count": null,
   "id": "3c7b1c25-31e0-4990-8b53-a34450c1a043",
   "metadata": {},
   "outputs": [],
   "source": []
  }
 ],
 "metadata": {
  "kernelspec": {
   "display_name": "Python 3 (ipykernel)",
   "language": "python",
   "name": "python3"
  },
  "language_info": {
   "codemirror_mode": {
    "name": "ipython",
    "version": 3
   },
   "file_extension": ".py",
   "mimetype": "text/x-python",
   "name": "python",
   "nbconvert_exporter": "python",
   "pygments_lexer": "ipython3",
   "version": "3.10.4"
  }
 },
 "nbformat": 4,
 "nbformat_minor": 5
}
