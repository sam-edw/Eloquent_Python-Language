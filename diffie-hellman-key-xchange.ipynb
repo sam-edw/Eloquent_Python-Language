{
 "cells": [
  {
   "cell_type": "markdown",
   "id": "50df96d7-3c07-4016-81d5-73a681174da8",
   "metadata": {},
   "source": [
    "### PERTUKARAN KUNCI DIFFIE HELLMAN"
   ]
  },
  {
   "cell_type": "markdown",
   "id": "b39060b7-87ca-4a6a-8861-5f988e872673",
   "metadata": {},
   "source": [
    "Kalau dua pihak saling berbagi kunci publik masing-masing, maka dengan metoda DH ini dapat dihasilkan suatu kunci rahasia yang dapat digunakan dalam enkripsi simetris untuk mengirim pesan rahasia selanjutnya.    \n",
    "Enkripsi asimetris melibatkan dua kuci yaitu kunci pribadi yang dirahasiakan dan kunci publik yang diumumkan atau dikirimkan secara terbuka, dan menggunakan perhitungan matematis yang berat dibandingkan perhitungan enkripsi simetris yang menggunakan satu kunci rahasia bersama (simetris).    \n",
    "Makanya enkripsi asimetris biasanya digunakan untuk 'berbagi' kunci simetris lalu pesan-pesan selanjutnya dienkripsi secara simetris dengan kunci bersama itu.    \n",
    "\n",
    "Metoda pertukaran kunci metoda Diffie Hellman (1976) dapat dijelaskan secara sederhana menggunakan prinsip bahwa\n",
    "> (g<sup>a</sup>)<sup>b</sup> = (g<sup>b</sup>)<sup>a</sup> = g<sup>ab</sup>\n",
    "\n",
    "Si Ani merahasiakan pin a tetapi membagi nilai g<sup>a</sup>   \n",
    "Si Budi merahasiakan pin b tetapi membagi nilai g<sup>b</sup>   \n",
    "Penyadap yang mengetahui g<sup>a</sup> dan g<sup>b</sup> tidak bisa menghitung g<sup>ab</sup>; mengalikan keduanya hanya menghasilkan g<sup>a+b</sup>   \n",
    "Generator g tidak dirahasiakan nilainya biasanya 2 atau 3 atau bilangan prima kecil. Lengkapnya ada tambahan sedikit untuk menyulitkan penyadap dengan masalah logaritme diskrit yaitu perpangkatan modulus dengan nilai modp. Bilangan modp adalah angka prima yang besar misalnya 2048 bit, atau 8192 bit, dan semua operasi itu tadi berada dalam medan modulo modp. Bilangan modp tidak rahasia, dapat dilihat dari usulan RFC3526 di internet.   \n",
    "Jadi Ani menyimpan nilai a dan menghitung (g<sup>a</sup>)modulo p, menerima nilai (g<sup>b</sup>)modulo p dari Budi, lalu menghitung\n",
    "(g<sup>b</sup>)<sup>a</sup> modulo p = g<sup>ab</sup> modulo p   \n",
    "Demikian juga Budi menghitung (g<sup>a</sup>)<sup>b</sup> modulo p = g<sup>ab</sup> modulo p yang digunakan sebagai kunci rahasia bersama, kunci simetris.\n"
   ]
  },
  {
   "cell_type": "code",
   "execution_count": 1,
   "id": "0041b597-37f4-4392-8654-1769e4ff9b33",
   "metadata": {},
   "outputs": [
    {
     "name": "stdout",
     "output_type": "stream",
     "text": [
      "length of Alice' public key 2466 digits\n",
      "length of Bob' public key 2465 digits\n",
      "both parties calculate the simetric key\n",
      "are they the same? simkey_b == simkey_a = True\n",
      "\n",
      "simetric secretkey 2466 digits :\n",
      "470005951707455628987984370962562128099318456419865530953722672317112464586907687081966098127101024389743262211880115357159976681237373684655973199013947375647121900032974494825069134333588543883522312835941725103173200945182723433402902798394117578249484051102507460292250346358828305252115505840427493985891513990865078078808187951046266369085560297448116655877900437907905270962492133057902257446606459378298237035946907856342376073772309273786349805608856215609104841106870761135709159503485812089934198150607785383319463779877918389318562736849369390717728092897820368528367738540355229504069061906422628463697198046604259586094247644381654487864060294867063919906282515342561829145196133169225673677754295890347667102971611721564405106873210619810962497299356736882928902458151029436798851131125131857497467261438748613871375441110842790504885684396452849235775122661597104806940841661479006837028553746514853154556771033068217540668764410502375148542094342631733674108503554519381773473205355342126767501211755878874557202203875203218021142645764247278770859135358014251873051777939849262833355696450037826083351053816130340127083170911403423043890436361801933868588128089499959366311313278711793471827877066604307258811477572554588845709862704647485704590260444057578101727195499082728055939194749229384410318166150010319631358432319656617951602741648705904476769639878130834711359630955995225952689626624518818382142592336402105941412279923363411798251469154373240056338930817280455238673582458442634375915181176889295783080065688502266746267163009111759013196768603978865329745434714279777293120959574760352858392053358866655326808519763948842874469653403296824529909203460746926399009791432104935647419925654067680408042816942323467229829035937419950665069302047799676554246740555113904860279426480405234189327058437141253454483360088230521384495202308167581702928778959818644063042722742728603687379011543544554049357632257846897370414159842807179564875248801568896481960224158827687900930471725498147370149171792328321497913774188011302566036475414943739355602439894795080614385201112948354232072712061095499302205424765245467708966607336714817518264714570324641231845083620116823507208467541920598660188961590893262808677921758748749036981474554872617639677885200399521425886367568147910626732282083092961899290875208266487388046346887772295308370518201506014445661864552205922887322363024574725223733728190834479078528692600128817513940742245239576690\n"
     ]
    }
   ],
   "source": [
    "# dh8192.py\n",
    "import random\n",
    "\n",
    "# modp 8192-bit RFC3526\n",
    "p8192_str = \\\n",
    "'FFFFFFFFFFFFFFFFC90FDAA22168C234C4C6628B80DC1CD1'\\\n",
    "'29024E088A67CC74020BBEA63B139B22514A08798E3404DD'\\\n",
    "'EF9519B3CD3A431B302B0A6DF25F14374FE1356D6D51C245'\\\n",
    "'E485B576625E7EC6F44C42E9A637ED6B0BFF5CB6F406B7ED'\\\n",
    "'EE386BFB5A899FA5AE9F24117C4B1FE649286651ECE45B3D'\\\n",
    "'C2007CB8A163BF0598DA48361C55D39A69163FA8FD24CF5F'\\\n",
    "'83655D23DCA3AD961C62F356208552BB9ED529077096966D'\\\n",
    "'670C354E4ABC9804F1746C08CA18217C32905E462E36CE3B'\\\n",
    "'E39E772C180E86039B2783A2EC07A28FB5C55DF06F4C52C9'\\\n",
    "'DE2BCBF6955817183995497CEA956AE515D2261898FA0510'\\\n",
    "'15728E5A8AAAC42DAD33170D04507A33A85521ABDF1CBA64'\\\n",
    "'ECFB850458DBEF0A8AEA71575D060C7DB3970F85A6E1E4C7'\\\n",
    "'ABF5AE8CDB0933D71E8C94E04A25619DCEE3D2261AD2EE6B'\\\n",
    "'F12FFA06D98A0864D87602733EC86A64521F2B18177B200C'\\\n",
    "'BBE117577A615D6C770988C0BAD946E208E24FA074E5AB31'\\\n",
    "'43DB5BFCE0FD108E4B82D120A92108011A723C12A787E6D7'\\\n",
    "'88719A10BDBA5B2699C327186AF4E23C1A946834B6150BDA'\\\n",
    "'2583E9CA2AD44CE8DBBBC2DB04DE8EF92E8EFC141FBECAA6'\\\n",
    "'287C59474E6BC05D99B2964FA090C3A2233BA186515BE7ED'\\\n",
    "'1F612970CEE2D7AFB81BDD762170481CD0069127D5B05AA9'\\\n",
    "'93B4EA988D8FDDC186FFB7DC90A6C08F4DF435C934028492'\\\n",
    "'36C3FAB4D27C7026C1D4DCB2602646DEC9751E763DBA37BD'\\\n",
    "'F8FF9406AD9E530EE5DB382F413001AEB06A53ED9027D831'\\\n",
    "'179727B0865A8918DA3EDBEBCF9B14ED44CE6CBACED4BB1B'\\\n",
    "'DB7F1447E6CC254B332051512BD7AF426FB8F401378CD2BF'\\\n",
    "'5983CA01C64B92ECF032EA15D1721D03F482D7CE6E74FEF6'\\\n",
    "'D55E702F46980C82B5A84031900B1C9E59E7C97FBEC7E8F3'\\\n",
    "'23A97A7E36CC88BE0F1D45B7FF585AC54BD407B22B4154AA'\\\n",
    "'CC8F6D7EBF48E1D814CC5ED20F8037E0A79715EEF29BE328'\\\n",
    "'06A1D58BB7C5DA76F550AA3D8A1FBFF0EB19CCB1A313D55C'\\\n",
    "'DA56C9EC2EF29632387FE8D76E3C0468043E8F663F4860EE'\\\n",
    "'12BF2D5B0B7474D6E694F91E6DBE115974A3926F12FEE5E4'\\\n",
    "'38777CB6A932DF8CD8BEC4D073B931BA3BC832B68D9DD300'\\\n",
    "'741FA7BF8AFC47ED2576F6936BA424663AAB639C5AE4F568'\\\n",
    "'3423B4742BF1C978238F16CBE39D652DE3FDB8BEFC848AD9'\\\n",
    "'22222E04A4037C0713EB57A81A23F0C73473FC646CEA306B'\\\n",
    "'4BCBC8862F8385DDFA9D4B7FA2C087E879683303ED5BDD3A'\\\n",
    "'062B3CF5B3A278A66D2A13F83F44F82DDF310EE074AB6A36'\\\n",
    "'4597E899A0255DC164F31CC50846851DF9AB48195DED7EA1'\\\n",
    "'B1D510BD7EE74D73FAF36BC31ECFA268359046F4EB879F92'\\\n",
    "'4009438B481C6CD7889A002ED5EE382BC9190DA6FC026E47'\\\n",
    "'9558E4475677E9AA9E3050E2765694DFC81F56E880B96E71'\\\n",
    "'60C980DD98EDD3DFFFFFFFFFFFFFFFFF'\n",
    "modp = int(p8192_str,16)\n",
    "#print(len(str(modp)))\n",
    "g = 2\n",
    "\n",
    "# alice's part\n",
    "private_a = 1234567890122333444455555\n",
    "public_a = pow(g,private_a,modp)  # fungsi pow() jauh lebih cepat daripada polosan (g**a)%p\n",
    "print(f'length of Alice\\' public key {len(str(public_a))} digits')\n",
    "\n",
    "# bob's part\n",
    "private_b = random.randint(65537,99999)\n",
    "public_b = pow(g, private_b, modp)\n",
    "print(f'length of Bob\\' public key {len(str(public_b))} digits')\n",
    "\n",
    "# exchange public keys\n",
    "# each part then generate the same symetric key\n",
    "print('both parties calculate the simetric key')\n",
    "simkey_a = pow(public_b, private_a, modp)\n",
    "simkey_b = pow(public_a, private_b, modp)\n",
    "print(f'are they the same? {simkey_b == simkey_a = }\\n')\n",
    "print(f'simetric secretkey {len(str(simkey_a))} digits :\\n{simkey_b}')"
   ]
  },
  {
   "cell_type": "markdown",
   "id": "b9c5de93-f334-48b7-a038-72a07e3f696d",
   "metadata": {},
   "source": [
    "Untuk mengkomunikasikan kunci publik secara lebih ringkas dapat kita gunakan pengkodean dari angka menjadi string alfanumerik."
   ]
  },
  {
   "cell_type": "code",
   "execution_count": 2,
   "id": "6e44b289-f9cb-43ce-b160-6d461edeb719",
   "metadata": {},
   "outputs": [
    {
     "name": "stdout",
     "output_type": "stream",
     "text": [
      "kode publik Ani 1250 karakter:\n",
      "CF-Gm#y-PSvgl>*JxIn\\/.+jO,*k|dwNb5)*a~tAms&a^}[T(i#K2L2yK%-u&D9GYIgEu;5hbB17qk3e:j$BuG]F8+o.C*2PZvAE~31\"?\\{2pPrDbInP2a?vz'Qx3[=T+dLA|j%f;*vLRnZd-N`km'k*O/pV+(7eiD{)v9TWM.h,\".I=CQCkG\"o_0G8reJ5>/4,QsIi?40L&jE;`mAMkN$30~!&|/&j~4{vPqGd$14y*5tP_UXa3t2|eO?tisO\\{|hm<Y{YNrN)Ep~:L<vf$orGQ:7TA-a#],%@/&/Kd=<$j~_g)8ka+{*^@eEFgjCIX8a:>BA]g9d.nLX\\:)%Ar}hAc3HyWvA2#)bM;=rL:!tJ4J&b!5@er;jck7rLi-[eq8@jlb=H$n=ApGS[zMi5Gv\"!>+<s6%I#~O1q,}2}^nRJd*LnFcxR+fO'IKD_4|d]~[C`(Y:n,$\"a0[97c#|4fHwd(RwMjtyeLc*RzX60fG^VJ\\)+ZxF/+y=XNw1PmAcgD+;GjcO:o!3\\ij/a$mji]U/g>mnF?H;3OU5+'`&4Xkp{YEd|?V@/O;)_.[}@Yh~-2)&E@5#H1$g[=g/S_;u$%H$?;1a*TK1f)?HXJuJDw\"p<#%O2&/mP+:Yn>{7},5d/IQC^>EaW]-CDjORq6*A'vuNbUnrvn$&x7ay\"F,JkmH\"'c*Da<4KGS~`kj>g.T$KVt>}SHm)$\\-s5;o3lx]6\"|wQynx\\s0;v8F.oE~fU@9cP>,Hsv~-,#Yfv|v!q015mN%T2,K\"ucw!EF\\WuHTOoF,2<b$cu{3D\"zeb\\/S(u5bX!$';iHYdhJ~EthGLisDAhK28gOjZ1Or6Gh0IP<gF)R}-:|9=XeKpO2,'m*>@)nuw'n5]YECu*jrRNI&Hbr>u0<Ohd,bc-%b@iAlWB#{mXbO@0.-mD8V]O.)<d5vBImo<\"tK[9o6gSo=*LUG~phRkJCj\"p`M;iUZp9O]6X~`|ZGY\\HO!~e0m1is4z+n`K_KfHJ-l~E8pP+Q}F/tlMSt;#u{SX?k{m>_A6,x$cD?j4?\\sk9+n%wH}y)ifHUZxczjVbN5uB/4my#pH#%+bO:HXbe3!5&*r6XF3GH@CC2//PUGdMQq[+*Lf$#E@('v!(1Aa_KOd/C7`Y\\Qlv5P[.kuiP.<UY__)y%IJp`,v]1,*)I4]t!>g|ypyy-G[oxe*oO-lDiyy*qA@qy\"5`@_j3LAGQY>_Xa\"s#,TcK$Edm;67+2D&H&Jfqv9-21)A=W\n",
      "\n",
      "kode publik Budi 1250 karakter:\n",
      "#;)]<)7zLY;@~Zg8,5@gG4^mbW\\~94K;\\,-<y,C=[QHS08c<K3gdMt'P2KVLnk=/9ve^~Q>rQxY@>:t4n'\"PM'qg|BAw9WELOkAnIO82`z,p*{Fm-iNnJwE1#,_yNwzAzpm\"$m)QpZkw}We9o(hnrt2WEJ:~,d-]Xx*|?SYy@Lq>liS~bp\\b':P<o4)mA^&S!EBqG{bEeWy-|NY#<X1RWC2a1x]VY}.+Zk;'SHRcGo3.u}hhA+G|uIq4x`$L_2Ddl%mu6=osii*I[SV^np@)[i'_y!?SdY4/&$T{D!TqA5`B#p.![DU#o~sd`NV<aq)4ikEp/8@9dU~j}Xddno&GDEfJ6rgX=>L}V*O3_',jv{T*;w\\QaQ&&5<x4&u`#Rm47yf0@q'6d8W/u|M3j&.sZ;u)&!==_WI}WHm]TCv:$A\\yrN*^`d?Le@Qg>x%\"Kh5@th.uwm,azd4T]!]v4P-Bu[`JOf1'sH!8fGTrIOsuipTCy2SssL\"5w(>6:Y;nt41eDE$on1\"C5FjSJ0)KHWz1@|eP}@.4:8MOI!;)qa26i[b6%4.4S5=elL!D.-7rInfv){_9REchMPIg/&%9S2(.vTVi#kQzr|;n`l/H^w~C#f_kW6lM+k9jAtR~!+,5%VkfpDl}6-bhYNK<JQn7Z+/iAl4GLAk&1~i<R?mU)}dPt<l*;uXW?i%cK4`NL3t~nI\\Zncqu&E\\iRZ#P\\eD/QS`84sh:z</g&]FMvJ$`~*3iP}d*[D\\H!$:lkTFAmzy?gGzx|M4m/G.N=aicaaTdf[!q8z~/Z<#b`=sZx-]geOo,kI`z36#IQwk/#+Df6V3YC:ka%Da!`)bf`>WR71./.+sldC'~m\"1PRt&(aAN|t@n!_8!6`ag)xS\\i]-(|buKsTcjbkbz}A'y=aoXGWllk@J]T^TIr]Hv/kCZ'()tNiN/M.lshDP>'npg$E]L7Z=82R^K=39O@TGWeL^Y*Fd<=mi`2WCi?t0_B\\RPpb%RWnbmZbuzw}U$s%^;%Pw{xTkT9x[fb.0m4f}'0H},=jAc5WQ;OWz`@1#Kb&M&U|\";fZ5_0Yyi?ir-SCu}zLpzyg$_p%4r&7xwb^6Kh%uqrfdwPWd25!MUtP=lO#M`NS/sMc~+c)~:8d\"pEgDE<X`l\\Q6J)AfZ:J^q({+YN8~ph;^*WgcYR`?2GdH3{^2[9mSn(U\\gkzjn]z3HnKp$),v$QL-#3T=1f1.2EqjJzNVpNe^HXyP!?%RIJ_<yKnWM4nL^\n"
     ]
    }
   ],
   "source": [
    "# Mengkodekan pin menjadi password\n",
    "alnum94 = \"\".join([chr(i) for i in range(33,127)])\n",
    "\n",
    "def enc94(number:int) -> str:\n",
    "    number =  int(number)\n",
    "    if number == 0:\n",
    "        return '0'\n",
    "    kode = []\n",
    "    while number != 0:\n",
    "        sisa = number %94\n",
    "        kode.append(alnum94[sisa])\n",
    "        number = number // 94\n",
    "    return (\"\".join(reversed(kode)))  # kode string output tidak pakai spasi.\n",
    "    \n",
    "def dec94(kode:str) -> int:  # kode input tanpa spasi\n",
    "    def digpow(t):\n",
    "        return alnum94.find(t[1]) * pow(94,t[0])\n",
    "    return sum(map(digpow,enumerate(kode[-1::-1])))\n",
    "\n",
    "kode_public_Ani = enc94(public_a)\n",
    "kode_public_Budi = enc94(public_b)\n",
    "print(f'kode publik Ani {len(kode_public_Ani)} karakter:\\n{kode_public_Ani}')\n",
    "print()\n",
    "print(f'kode publik Budi {len(kode_public_Budi)} karakter:\\n{kode_public_Budi}')"
   ]
  },
  {
   "cell_type": "markdown",
   "id": "c98c567e-a717-4423-8329-66f1700dfb22",
   "metadata": {},
   "source": [
    "Demikian guys pembahasan mengenai pertukaran kunci Diffie Hellman dengan catatan bahwa kunci pribadi/privat harus cukup lumayan panjang (setidaknya 600 angka) supaya lama jika dicoba-coba (brute force). Sebaiknya juga menggunakan kode password atau passphrase yang kemudian didekode menjadi deretan angka, atau juga menggunakan **formula tertentu yang dirahasiakan** seperti pada pembahasan yang lalu dengan menggunakan hash blake2b."
   ]
  }
 ],
 "metadata": {
  "kernelspec": {
   "display_name": "Python 3 (ipykernel)",
   "language": "python",
   "name": "python3"
  },
  "language_info": {
   "codemirror_mode": {
    "name": "ipython",
    "version": 3
   },
   "file_extension": ".py",
   "mimetype": "text/x-python",
   "name": "python",
   "nbconvert_exporter": "python",
   "pygments_lexer": "ipython3",
   "version": "3.8.10"
  }
 },
 "nbformat": 4,
 "nbformat_minor": 5
}
