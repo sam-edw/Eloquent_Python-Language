{
 "cells": [
  {
   "cell_type": "markdown",
   "id": "53b8be9d-72a2-4a38-b736-2db69ff1b53d",
   "metadata": {},
   "source": [
    "## 2. SEPUTAR OBJEK PYTHON"
   ]
  },
  {
   "cell_type": "markdown",
   "id": "5a50239b-c6f5-4cc9-89d1-566cbd61edeb",
   "metadata": {},
   "source": [
    "Semua entitas dalam Python adalah objek; semua struktur data adalah objek atau instans dari kelas tipe tertentu. Bahkan fungsi, metoda disetarakan sebagai objek."
   ]
  },
  {
   "cell_type": "markdown",
   "id": "6b12d2fb-9289-4fa2-9a3a-c8a1c8a081ce",
   "metadata": {},
   "source": [
    "Hirarki tipe/kelas standar pada Python 3:\n",
    "- `None` : class **NoneType**\n",
    "- `Numbers`\n",
    "    * Integral: `Integer`: class **int**, `Booleans`: class **bool**\n",
    "    * Real: class **float**\n",
    "    * Complex: class **complex**\n",
    "- `Sequences`\n",
    "    * Immutable: `Strings`: class **str**, `Tuples`: class **tuple**, `Bytes`: class **bytes**\n",
    "    * Mutable: `Lists`: class **list**, `Byte Arrays`: class **bytearray**\n",
    "- `Set types` : `Sets`: class **set**, `Frozen sets`: class **frozenset**\n",
    "-  `Mappings` : `Dictionaries`: class **dict**\n",
    "-  `Callable`: **Functions, Methods, Classes**\n",
    "-  `Modules` : see *Documentation > Python Module Index*"
   ]
  },
  {
   "cell_type": "markdown",
   "id": "34fa2ff0-0a32-48fe-8711-d6c77019b09e",
   "metadata": {
    "tags": []
   },
   "source": [
    "Objek dibuat otomatis saat diperlukan, dan dihapus otomatis saat tidak dipergunakan lagi, atau tidak dapat diakses lagi. Objek literal tanpa nama tidak lekang, akan terhapus otomatis.    \n",
    "Kode berikut memperlihatkan objek fungsi print dan objek literal string tanpa nama."
   ]
  },
  {
   "cell_type": "code",
   "execution_count": 1,
   "id": "7ed68fdd-83f3-478d-8acc-838d5c557ac6",
   "metadata": {
    "tags": []
   },
   "outputs": [
    {
     "name": "stdout",
     "output_type": "stream",
     "text": [
      "print(\"hola mundo\") terdiri dari:\n",
      "    print = <built-in function print>\n",
      "    \"hola mundo\" adalah objek yang dibuat dari pola <class 'str'>\n",
      "hola mundo\n"
     ]
    }
   ],
   "source": [
    "print('print(\"hola mundo\") terdiri dari:')\n",
    "\n",
    "print(f'    {print = }')\n",
    "print(f'    \"{\"hola mundo\"}\" adalah objek yang dibuat dari pola {type(\"hola mudo\")}')\n",
    "print('hola mundo')"
   ]
  },
  {
   "cell_type": "markdown",
   "id": "d82cd426-2822-41c9-b923-4b7acd8fd62d",
   "metadata": {},
   "source": [
    "Kata '*print*' adalah suatu identifier, nama yang diasosiasikan dengan suatu objek fungsi bawaan yang menampilkan sesuatu; kata 'print' itu bukanlah nama khusus suatu perintah bawaan. Tanpa kurung, print adalah referensi objek fungsi; dengan kurung print() berarti menjalankan fungsi itu.    \n",
    "Asosiasi objek dengan suatu nama (identifier) disebut **_binding_**.    \n",
    "Suatu nama didefinisikan dengan menggunakan tanda binding **=** dan menyertakan objek yang akan diasosiasikan.     \n",
    "Misalnya, `salam = 'hola mundo'`, objek literal string diasosiasikan dengan nama *salam*.     \n",
    "Semua definisi nama didaftarkan dalam **_namespace_** yang berlaku pada scopenya. Nama dapat diputus dari objek yang terasosiasi, karena didefinisikan ulang, diasosiasikan dengan objek lain. Nama juga dapat dihapus, dihilangkan dari _namespace_ melalui perintah **_del_** nama."
   ]
  },
  {
   "cell_type": "code",
   "execution_count": 2,
   "id": "e94d4ea7-b5e4-4dc8-8d1a-c8bc4e5fe681",
   "metadata": {},
   "outputs": [
    {
     "data": {
      "text/plain": [
       "'hola mundo'"
      ]
     },
     "execution_count": 2,
     "metadata": {},
     "output_type": "execute_result"
    }
   ],
   "source": [
    "salam = 'hola mundo'\n",
    "salam"
   ]
  },
  {
   "cell_type": "code",
   "execution_count": 3,
   "id": "51172271-d58c-4189-a209-f69ca2bbcdec",
   "metadata": {},
   "outputs": [
    {
     "data": {
      "text/plain": [
       "'oh..ouw!'"
      ]
     },
     "execution_count": 3,
     "metadata": {},
     "output_type": "execute_result"
    }
   ],
   "source": [
    "\"membuktikan bahwa print bukan perintah baku, melainkan hanya sebuah nama\"\n",
    "print = 'oh..ouw!'\n",
    "print"
   ]
  },
  {
   "cell_type": "markdown",
   "id": "75e33fce-55e9-4fd9-9fb0-8b4574ba06eb",
   "metadata": {},
   "source": [
    "#### NAME BINDING"
   ]
  },
  {
   "cell_type": "markdown",
   "id": "ca31fc5c-d198-4b05-b5eb-28503a307ffe",
   "metadata": {},
   "source": [
    "Name binding adalah proses mengasosiasikan suatu nama dengan objek secara dinamis, tanpa memandang tipe objeknya. Binding dilakukan dengan tanda **=** . Artinya asosiasi ini dibuat antara suatu nama baru atau yang sudah ada, dengan objek yang sudah selesai dibuat sebelumnya. Ketika Python mengevaluasi ekspresi di sebelah kanan tanda = maka hasilnya berupa objek yang sesuai tipe/nilai ekspresinya. Objek ini menempati suatu alokasi memori sebelum dilakukan asosiasi dengan nama. Jika sudah ada objek yang sama tipe dan nilainya, maka objek itu dipakai tanpa membuat yang baru lagi."
   ]
  },
  {
   "cell_type": "code",
   "execution_count": 4,
   "id": "bc595674-0256-475d-9af8-e14300f9e74f",
   "metadata": {
    "tags": []
   },
   "outputs": [
    {
     "name": "stdout",
     "output_type": "stream",
     "text": [
      "oh..bisa ya!\n",
      "nama print dipulihkan dengan binding aslinya\n",
      "print = <built-in function print>\n"
     ]
    }
   ],
   "source": [
    "print = 'oh..bisa ya!'\n",
    "__builtins__.print(print)\n",
    "\n",
    "\"namespace akan ditimpa definisi asli nama print\"\n",
    "from builtins import print\n",
    "print(\"nama print dipulihkan dengan binding aslinya\")\n",
    "print(f'{print = }')"
   ]
  },
  {
   "cell_type": "markdown",
   "id": "322c9a89-5517-4508-951a-0917ba2d3711",
   "metadata": {},
   "source": [
    "BTW, pastikan Python yang digunakan adalah versi terbaru atau minimal 3.10. Versi yang lebih lama belum mengimplementasikan `match case` yang akan digunakan pada contoh kode berikut."
   ]
  },
  {
   "cell_type": "code",
   "execution_count": 5,
   "id": "1a84d849-4e4c-4881-9485-488a38f029e0",
   "metadata": {},
   "outputs": [
    {
     "name": "stdout",
     "output_type": "stream",
     "text": [
      "3.10.4\n",
      "good, `match - case` is supported\n"
     ]
    }
   ],
   "source": [
    "import sys\n",
    "print(sys.version.split()[0])\n",
    "\n",
    "ver = sys.version_info\n",
    "if ver.major >= 3 and ver.minor >= 10:\n",
    "    print('good, `match - case` is supported')\n",
    "else:\n",
    "    print('please update with pyenv and activate virtual environment before calling jupyter')"
   ]
  },
  {
   "cell_type": "markdown",
   "id": "fde31a25-67d5-4bc8-92f1-e5c8ec2a4f74",
   "metadata": {},
   "source": [
    "Contoh berikut menampilkan binding beberapa objek berbeda tipe ke nama yang sama secara bergantian, yaitu `objek` di dalam kalimat `for`."
   ]
  },
  {
   "cell_type": "code",
   "execution_count": 6,
   "id": "c6eb155e-3e20-4fba-aa49-f9b0ce971a14",
   "metadata": {},
   "outputs": [
    {
     "name": "stdout",
     "output_type": "stream",
     "text": [
      "<class 'int'>: 84\n",
      "<class 'function'>: hello\n",
      "<class 'type'>: sesuatu\n"
     ]
    }
   ],
   "source": [
    "angka = 42\n",
    "\n",
    "def fungsiku():     \n",
    "    print(\"hello\")\n",
    "\n",
    "class kelas_ku:\n",
    "    x='sesuatu'\n",
    "\n",
    "for objek in angka, fungsiku, kelas_ku:\n",
    "    print(type(objek), end=\": \")\n",
    "    match str(type(objek)):\n",
    "        case \"<class 'int'>\":\n",
    "            print(objek*2)\n",
    "        case \"<class 'function'>\":\n",
    "            objek()\n",
    "        case \"<class 'type'>\":\n",
    "            print(objek.x)"
   ]
  },
  {
   "cell_type": "markdown",
   "id": "89e462bd-5ce6-4b93-b2e1-4a04049f42e7",
   "metadata": {
    "tags": []
   },
   "source": [
    "#### REFERENCE COUNT    \n",
    "\n",
    "Asosiasi dalam binding hanya bermakna satu arah, yaitu nama newakili objek. Satu nama hanya diasosiasikan dengan satu objek saja, tetapi satu objek dapat terasosiasi dengan beberapa nama/alias.     \n",
    "Nama memiliki pointer ke objek, sedangkan objek memiliki reference-counter, berisi seberapa banyaknya nama yang masih diasosiasikan. Jika reference-counter menjadi nol artinya tidak ada lagi binding yang aktif, objek tersebut tidak dapat dipergunakan lagi, tidak dapat diakses, maka objek segera dijadwal untuk dihapus/didaur ulang.    \n",
    "Cell berikut memperlihatkan reference count, menggunakan suatu fungsi yang mungkin tidak stabil. Angka ref count yang dihasilkan tidak selalu sama dengan tipe data lainnya, mungkin dipengaruhi cache sistem atau hal lainnya, tetapi sesuai dengan tujuan kita, konsisten memperlihatkan hubungan antara perubahannya dengan jumlah nama yang merujuk ke objek itu."
   ]
  },
  {
   "cell_type": "markdown",
   "id": "1891d75f-0365-4397-9c54-3b709b2c633a",
   "metadata": {},
   "source": [
    "<pre>\n",
    ">>> import ctypes\n",
    ">>> my_x = [123,456,789]\n",
    ">>> id_my_x = id(my_x)\n",
    ">>> ctypes.c_long.from_address(id_my_x).value\n",
    "1\n",
    ">>> my_y = my_x; ctypes.c_long.from_address(id_my_x).value\n",
    "2\n",
    ">>> my_z = my_y; ctypes.c_long.from_address(id_my_x).value\n",
    "3\n",
    ">>> del  my_z; ctypes.c_long.from_address(id_my_x).value\n",
    "2\n",
    ">>> del  my_y; ctypes.c_long.from_address(id_my_x).value\n",
    "1\n",
    ">>> del  my_x; ctypes.c_long.from_address(id_my_x).value\n",
    "0\n",
    ">>> \n",
    "\n",
    "</pre>"
   ]
  },
  {
   "cell_type": "code",
   "execution_count": 7,
   "id": "5ae344d2-36db-43ef-af2a-6c2645d4c86a",
   "metadata": {},
   "outputs": [
    {
     "name": "stdout",
     "output_type": "stream",
     "text": [
      "1\n",
      "2\n",
      "3\n",
      "2\n",
      "1\n",
      "0\n"
     ]
    }
   ],
   "source": [
    "import ctypes\n",
    "mytuple = 123, 456, 789\n",
    "addr = id(mytuple); print(ctypes.c_long.from_address(addr).value)\n",
    "alias = mytuple; print(ctypes.c_long.from_address(addr).value)\n",
    "more = mytuple; print(ctypes.c_long.from_address(addr).value)\n",
    "more = None; print(ctypes.c_long.from_address(addr).value)\n",
    "alias = None; print(ctypes.c_long.from_address(addr).value)\n",
    "mytuple = None; print(ctypes.c_long.from_address(addr).value)"
   ]
  },
  {
   "cell_type": "markdown",
   "id": "192e1648-e727-4571-bb5e-ff860dd1b4be",
   "metadata": {},
   "source": [
    " "
   ]
  },
  {
   "cell_type": "markdown",
   "id": "bd623e5f-4cc3-4a8c-9534-ebf23485a31b",
   "metadata": {},
   "source": [
    "#### CLONING DAN ALIASING"
   ]
  },
  {
   "cell_type": "markdown",
   "id": "e970709c-b99e-4b84-9a9b-4b91c8976f6b",
   "metadata": {},
   "source": [
    "Susunan objek data mutable, sebenarnya berupa objek container yang berisi referens objek objek elemen. Disebut mutable karena tanpa mengubah binding objek container, kita dapat menukar objek objek elemennya.     \n",
    "List, contohnya adalah suatu objek mutable. Jika kita mendefinisikan dua kali list dengan elemen-elemen yang sama, apakah list-lst tersebut adalah sebenarnya satu objek yang sama atau dua objek berbeda yang berdiri sendiri-sendiri?"
   ]
  },
  {
   "cell_type": "code",
   "execution_count": 8,
   "id": "40f42e37-ac78-4738-ab9b-5b6c59c902a9",
   "metadata": {},
   "outputs": [
    {
     "name": "stdout",
     "output_type": "stream",
     "text": [
      "fruits == bebuahan = True\n",
      "fruits is bebuahan = False\n"
     ]
    }
   ],
   "source": [
    "fruits = ['pepaya', 'mangga', 'pisang', 'jambu']\n",
    "bebuahan = ['pepaya', 'mangga', 'pisang', 'jambu']\n",
    "print(f'{fruits == bebuahan = }') # apakah elemennya sama?\n",
    "print(f'{fruits is bebuahan = }') # apakah containernya sama?"
   ]
  },
  {
   "cell_type": "markdown",
   "id": "cc27068b-4bac-42b1-9d9b-1245a2c07e5f",
   "metadata": {},
   "source": [
    "Dari kode di atas kita tahu bahwa kedua list tersebut berbeda, sendiri-sendiri, hanya kebetulan isinya saat ini sama. Jika salah satu list ditukar elemennya, tentu saja tidak akan memperngaruhi list yang lainnya. Ini yang disebut *cloning*.     \n",
    "Kita dapat meng-cloning list dengan menggunakan sintaks *slice [awal:akhir:langkah]* dari awal sampai terakhirnya yaitu [:].    \n",
    "Indeks awal dimulai dari nol, dan jika tidak ditulis artinya nol.    \n",
    "Indeks akhir artinya sampai tapi tidak termasuk posisi akhir; jika tidak ditulis berarti termasuk sampai posisi terakhirnya.    \n",
    "Langkah jika tidak ditulis berarti 1; jika -1 berarti mundur."
   ]
  },
  {
   "cell_type": "code",
   "execution_count": 9,
   "id": "76a92703-1872-49b1-8624-05e7da9997d2",
   "metadata": {},
   "outputs": [
    {
     "name": "stdout",
     "output_type": "stream",
     "text": [
      "['mangga', 'pisang', 'jambu'] ['mangga', 'pisang', 'jambu']\n",
      "fruits is bebuahan = False\n"
     ]
    }
   ],
   "source": [
    "fruits = ['pepaya', 'mangga', 'pisang', 'jambu']\n",
    "fruits = fruits[1:]\n",
    "bebuahan = fruits[:]\n",
    "print(fruits, bebuahan)\n",
    "print(f'{fruits is bebuahan = }')"
   ]
  },
  {
   "cell_type": "markdown",
   "id": "e91c117e-dac4-4d5e-b844-49b107403cb8",
   "metadata": {},
   "source": [
    "Jadi cloning adalah meng-copy objek-objek elemen ke dalam objek container baru dan tidak mengganggu objek yang aslinya.    \n",
    "Tetapi jika hanya melibatkan objek container, maka yang terjadi adalah memdefinisilan nama berbeda atau alias untuk satu objek itu. Ini disebut *aliasing*. Perubahan mutasi akan tercermin pada kedua nama itu karena sebenarnya objek yang dirujuk satu objek yang sama."
   ]
  },
  {
   "cell_type": "code",
   "execution_count": 10,
   "id": "e031f832-0d76-40b5-9e0d-b072f712f2cc",
   "metadata": {},
   "outputs": [
    {
     "name": "stdout",
     "output_type": "stream",
     "text": [
      "fruits is bebuahan = True\n",
      "bebuahan=['mangga', 'pisang', 'jambu', 'pepaya']\n"
     ]
    }
   ],
   "source": [
    "bebuahan = fruits\n",
    "print(f'{fruits is bebuahan = }')\n",
    "fruits.append('pepaya')\n",
    "print(f'{bebuahan=}')"
   ]
  },
  {
   "cell_type": "markdown",
   "id": "dec4d031-3025-4261-a448-e9287968ad1d",
   "metadata": {},
   "source": [
    "#### METODA"
   ]
  },
  {
   "cell_type": "markdown",
   "id": "0eeeaf15-2310-4868-a2ac-ea2d9e41a5b7",
   "metadata": {},
   "source": [
    "Jika fungsi adalah suatu objek yang berdiri sendiri, maka metoda adalah 'fungsi' yang menempel pada suatu objek data. Cara memanggilnya seperti memanggil fungsi biasa tetapi diawali prefiks nama objek dan titik. Setiap tipe/kelas data memiliki metoda metodanya sendiri yang sesuai. "
   ]
  },
  {
   "cell_type": "code",
   "execution_count": 11,
   "id": "fba6c908-8181-4639-96f6-606e68a55017",
   "metadata": {},
   "outputs": [
    {
     "name": "stdout",
     "output_type": "stream",
     "text": [
      "<class 'tuple'> :\n",
      "count index\n",
      "~-~-~-~-~-~-~-~-~-~-~-~-~-~-~-~-~-~-~-~-\n",
      "<class 'list'> :\n",
      "append clear copy count extend index insert pop remove reverse sort\n",
      "~-~-~-~-~-~-~-~-~-~-~-~-~-~-~-~-~-~-~-~-\n",
      "<class 'dict'> :\n",
      "clear copy fromkeys get items keys pop popitem setdefault update values\n",
      "~-~-~-~-~-~-~-~-~-~-~-~-~-~-~-~-~-~-~-~-\n",
      "<class 'set'> :\n",
      "add clear copy difference discard intersection isdisjoint issubset issuperset pop remove union update\n",
      "~-~-~-~-~-~-~-~-~-~-~-~-~-~-~-~-~-~-~-~-\n",
      "<class 'str'> :\n",
      "capitalize casefold center count encode endswith expandtabs find format index isalnum isalpha isascii isdecimal isdigit isidentifier islower isnumeric isprintable isspace istitle isupper join ljust lower lstrip maketrans partition removeprefix removesuffix replace rfind rindex rjust rpartition rsplit rstrip split splitlines startswith strip swapcase title translate upper zfill\n",
      "~-~-~-~-~-~-~-~-~-~-~-~-~-~-~-~-~-~-~-~-\n",
      "<class 'array.array'> :\n",
      "append byteswap count extend frombytes fromfile fromlist fromunicode index insert itemsize pop remove reverse tobytes tofile tolist tounicode typecode\n",
      "~-~-~-~-~-~-~-~-~-~-~-~-~-~-~-~-~-~-~-~-\n",
      "<class 'collections.deque'> :\n",
      "append appendleft clear copy count extend extendleft index insert maxlen pop popleft remove reverse rotate\n",
      "~-~-~-~-~-~-~-~-~-~-~-~-~-~-~-~-~-~-~-~-\n",
      "<class 'bytes'> :\n",
      "capitalize center count decode endswith expandtabs find fromhex hex index isalnum isalpha isascii isdigit islower isspace istitle isupper join ljust lower lstrip maketrans partition removeprefix removesuffix replace rfind rindex rjust rpartition rsplit rstrip split splitlines startswith strip swapcase title translate upper zfill\n",
      "~-~-~-~-~-~-~-~-~-~-~-~-~-~-~-~-~-~-~-~-\n",
      "<class 'bytearray'> :\n",
      "append capitalize center clear copy count decode endswith expandtabs extend find fromhex hex index insert isalnum isalpha isascii isdigit islower isspace istitle isupper join ljust lower lstrip maketrans partition pop remove removeprefix removesuffix replace reverse rfind rindex rjust rpartition rsplit rstrip split splitlines startswith strip swapcase title translate upper zfill\n",
      "~-~-~-~-~-~-~-~-~-~-~-~-~-~-~-~-~-~-~-~-\n",
      "<class 'frozenset'> :\n",
      "copy difference intersection isdisjoint issubset issuperset union\n",
      "~-~-~-~-~-~-~-~-~-~-~-~-~-~-~-~-~-~-~-~-\n",
      "<class 'int'> :\n",
      "conjugate denominator imag numerator real\n",
      "~-~-~-~-~-~-~-~-~-~-~-~-~-~-~-~-~-~-~-~-\n",
      "<class 'bool'> :\n",
      "conjugate denominator imag numerator real\n",
      "~-~-~-~-~-~-~-~-~-~-~-~-~-~-~-~-~-~-~-~-\n",
      "<class 'float'> :\n",
      "conjugate fromhex hex imag real\n",
      "~-~-~-~-~-~-~-~-~-~-~-~-~-~-~-~-~-~-~-~-\n",
      "<class 'complex'> :\n",
      "conjugate imag real\n",
      "~-~-~-~-~-~-~-~-~-~-~-~-~-~-~-~-~-~-~-~-\n"
     ]
    }
   ],
   "source": [
    "from array import array\n",
    "from collections import deque\n",
    "\n",
    "for cls in (tuple, list, dict, set, str, array, deque,\n",
    "            bytes, bytearray, frozenset, int, bool, float, complex):\n",
    "    metoda = [k for k in dir(cls) if '_' not in k]  # list comprehension\n",
    "    print(cls,':')\n",
    "    print(*metoda)\n",
    "    print('~-'*20)\n"
   ]
  },
  {
   "cell_type": "code",
   "execution_count": 12,
   "id": "412eabf2-35d9-4b38-8f39-5a98a77e3586",
   "metadata": {},
   "outputs": [
    {
     "name": "stdout",
     "output_type": "stream",
     "text": [
      "text\n",
      "teks\n"
     ]
    }
   ],
   "source": [
    "t = 'teks'\n",
    "print(t.replace('ks','xt'))\n",
    "print(t)"
   ]
  },
  {
   "cell_type": "markdown",
   "id": "3219888b-3c41-4611-bb0d-ae50826a76b8",
   "metadata": {},
   "source": [
    "Pada objek yang immutable memanggil metodanya selalu mengembalikan suatu objek baru dan tidak memutasi objek asal; sedangkan pada objek mutable banyak metodanya memutasi objek asal."
   ]
  },
  {
   "cell_type": "code",
   "execution_count": 13,
   "id": "72b36e8b-3168-4e85-93c6-ed50f3a1a08e",
   "metadata": {},
   "outputs": [
    {
     "name": "stdout",
     "output_type": "stream",
     "text": [
      "['pepaya', 'mangga', 'pisang']\n",
      "['pepaya', 'mangga', 'pisang', 'jambu']\n",
      "['jambu', 'mangga', 'pepaya', 'pisang']\n",
      "['jambu', 'mangga', 'pepaya'] pisang\n"
     ]
    }
   ],
   "source": [
    "L = ['pepaya', 'mangga', 'pisang']; print(L)\n",
    "L.append('jambu'); print(L)                   # mutasi objek asal\n",
    "L.sort(); print(L)                            # mutasi objek asal\n",
    "i = L.pop(); print(L,i)                       # mutasi objek asal dan juga returning objek baru"
   ]
  },
  {
   "cell_type": "markdown",
   "id": "4d5d2e20-d2f2-4cd2-890a-f89245105091",
   "metadata": {},
   "source": [
    "#### SCOPE"
   ]
  },
  {
   "cell_type": "markdown",
   "id": "3888fdb4-a52a-4b2b-ad68-969f5a6ca505",
   "metadata": {},
   "source": [
    "Secara konvensional pemrograman terstruktur memiliki blok-blok yang memisahkan variabel dalam environment terpisah yang disebut scope, sementara fungsi-fungsi bersifat global dapat dipanggil dari mana saja.     \n",
    "Implementasi Python agak berbeda yaitu dengan konsep *nama*, menerapkan *namespace environment* terpisah antar blok, yaitu blok struktur fungsi, dan blok modul.    \n",
    "Pada tingkat terluar ada scope modul built-in yang istimewa dapat diakses dari mana saja.\n",
    "Setingkat dibawahnya adalah scope global, environment utama dimana kita bekerja.\n",
    "Di dalam scope global ada scope fungsi, dan di dalam fungsi ada scope fungsi dalam fungsi, environment lokal atau non lokal (enclosing) untuk fungsi yang memiliki sub-fungsi.    \n",
    "Prinsip pemisahan environment ialah kode dalam scope tertentu memiliki namespace sendiri dan juga bisa membaca/memanggil namespace scope diluarnya, tetapi tidak bisa membaca namespace scope yang lebih dalam.\n",
    "Jika suatu nama tidak ada dalam namespace aktif, maka otomatis akan mencari namespace di luarnya secara berurutan sampai menemukan nama yang diminta, yaitu LEGB, local, enclosing, global, builtin.     \n",
    "Tetapi semua binding hanya bisa dilakukan dengan nama pada scope yang sedang aktif dimana kode sedang dijalankan, yaitu pada current namespace.    \n",
    "Aturan *binding in current scope* ini bisa dikecualikan dengan menggunakan deklarasi *global*, atau *nonlocal*.    \n",
    "Kode berikut menampilkan cara kerja scope dan disertai fungsi builtin *dir()* untuk menampilkan isi *current namespace*. "
   ]
  },
  {
   "cell_type": "code",
   "execution_count": 14,
   "id": "b74cf42a-a9f8-48f7-a5b0-9bfaccb5f90f",
   "metadata": {},
   "outputs": [
    {
     "name": "stdout",
     "output_type": "stream",
     "text": [
      "\"print\" in dir(__builtins__) = True\n",
      "~-~-~-~-~-~-~-~-~-~-~-~-~-~-~-~-~-~-~-~-~-~-~-~-~-~-~-~-~-~-\n",
      "scope_global = 'global'\n",
      "namespace_global = ['In', 'L', 'Out', '_', '_2', '_3', '__', '___', '__builtin__', '__builtins__', '__doc__', '__loader__', '__name__', '__package__', '__spec__', '_dh', '_i', '_i1', '_i10', '_i11', '_i12', '_i13', '_i14', '_i2', '_i3', '_i4', '_i5', '_i6', '_i7', '_i8', '_i9', '_ih', '_ii', '_iii', '_oh', 'addr', 'alias', 'angka', 'array', 'bebuahan', 'cls', 'ctypes', 'deque', 'exit', 'fruits', 'fun_lev1', 'fungsiku', 'get_ipython', 'i', 'kelas_ku', 'metoda', 'more', 'mytuple', 'objek', 'print', 'quit', 'salam', 'scope_global', 'sys', 't', 'ver', 'xyz']\n",
      "~-~-~-~-~-~-~-~-~-~-~-~-~-~-~-~-~-~-~-~-~-~-~-~-~-~-~-~-~-~-\n",
      "scope_enclosing = 'enclosing'\n",
      "namespace_enclosing = ['abcd', 'fun_lev2', 'scope_enclosing']\n",
      "~-~-~-~-~-~-~-~-~-~-~-~-~-~-~-~-~-~-~-~-~-~-~-~-~-~-~-~-~-~-\n",
      "scope_lokal = 'lokal'\n",
      "namespace_lokal= ['efgh', 'scope_lokal']\n",
      "~-~-~-~-~-~-~-~-~-~-~-~-~-~-~-~-~-~-~-~-~-~-~-~-~-~-~-~-~-~-\n"
     ]
    }
   ],
   "source": [
    "# fungsi print dari modul built-in dapat dipanggil dari mana saja\n",
    "# nama 'scope' dibaca sesuai current scope\n",
    "\n",
    "def fun_lev1():\n",
    "    def fun_lev2():\n",
    "        scope_lokal = 'lokal'; print(f'{scope_lokal = }')\n",
    "        efgh = 'efgh'\n",
    "        print(f'namespace_lokal= {dir()}')\n",
    "        print('~-'*30)\n",
    "    scope_enclosing = 'enclosing'; print(f'{scope_enclosing = }')\n",
    "    abcd = 'abcd' \n",
    "    print(f'namespace_enclosing = {dir()}')\n",
    "    print('~-'*30)\n",
    "    fun_lev2()\n",
    "\n",
    "print(f'{\"print\" in dir(__builtins__) = }')\n",
    "print('~-'*30)\n",
    "\n",
    "scope_global = 'global'\n",
    "print(f'{scope_global = }')\n",
    "\n",
    "xyz = 'xyz'\n",
    "print(f'namespace_global = {dir()}')\n",
    "print('~-'*30)\n",
    "fun_lev1()"
   ]
  },
  {
   "cell_type": "code",
   "execution_count": 15,
   "id": "9424b858-a837-4ec6-9e16-834a85c194fa",
   "metadata": {},
   "outputs": [
    {
     "name": "stdout",
     "output_type": "stream",
     "text": [
      "membaca dari fungsi main, data='<global>'\n",
      "namespace di fungsi main: dir()=['enclosing', 'inner_fun']\n",
      "membaca dari inner function, data='<global>'\n",
      "namespace di fungsi inner_fun: dir()=['lokal']\n"
     ]
    }
   ],
   "source": [
    "# membaca nama dari scope lebih luar\n",
    "data = \"<global>\"\n",
    "def main():   \n",
    "    def inner_fun():       \n",
    "        print(f'membaca dari inner function, {data=}')\n",
    "        lokal = True\n",
    "        print(f'namespace di fungsi inner_fun: {dir()=}')\n",
    "        \n",
    "    print(f'membaca dari fungsi main, {data=}')\n",
    "    enclosing = True\n",
    "    print(f'namespace di fungsi main: {dir()=}')\n",
    "    inner_fun()\n",
    "    \n",
    "main()"
   ]
  },
  {
   "cell_type": "markdown",
   "id": "b78e18be-55a3-4870-9cf6-4da77574f825",
   "metadata": {},
   "source": [
    "Dalam kondisi normal, kita tidak boleh melakukan binding terhadap nama di luar current scope, karena semua binding akan otomatis dilakukan dalam current scope; kecuali dipaksa dengan deklarasi `global` atau `nonlocal` pada awal definisi fungsi."
   ]
  },
  {
   "cell_type": "code",
   "execution_count": 16,
   "id": "6ade1a94-3598-43f7-b2e4-8e933db60c2c",
   "metadata": {},
   "outputs": [
    {
     "name": "stdout",
     "output_type": "stream",
     "text": [
      "42\n"
     ]
    }
   ],
   "source": [
    "utama = None\n",
    "def main():\n",
    "    global utama\n",
    "    sub_pertama = None\n",
    "    utama = 2\n",
    "    def subfungsi(arg):\n",
    "        nonlocal sub_pertama\n",
    "        lokal = 4\n",
    "        sub_pertama = lokal * arg\n",
    "    \n",
    "    subfungsi(10)\n",
    "    utama = utama + sub_pertama\n",
    "    \n",
    "main()\n",
    "print(utama) "
   ]
  },
  {
   "cell_type": "markdown",
   "id": "350f0556-9ed4-4bb6-9cec-c087dad559a0",
   "metadata": {},
   "source": [
    "##### MUTASI BUKAN BINDING"
   ]
  },
  {
   "cell_type": "markdown",
   "id": "40653f2a-d033-4752-bf99-ffce0a971edd",
   "metadata": {},
   "source": [
    "Jika kita menggunakan objek data mutable, maka mutasi objek itu memakai aturan membaca nama di luar scope saja, karena bukan merupakan binding terhadap objek container.     \n",
    "Pada cell berikut kita akan menampilkan beberapa aksi:    \n",
    "* copy identifier fungsi `print` (dari modul built-in) menjadi `show`\n",
    "* menutup identifier `print` pada current namespace\n",
    "* memanggil identifier fungsi `id` dari modul built in\n",
    "* mendefinisikan ulang fungsi `id` pada current namespace\n",
    "* membaca objek data mutable / list bernama `status` pada scope global dari beberapa scope lebih dalam\n",
    "* memutasi objek `status` dari berbagai scope\n",
    "* membuang perubahan definisi pada current namespace (`show, print, id`)"
   ]
  },
  {
   "cell_type": "code",
   "execution_count": 17,
   "id": "992d0425-4205-4a57-aecf-2a1323901f87",
   "metadata": {},
   "outputs": [
    {
     "name": "stdout",
     "output_type": "stream",
     "text": [
      "show = <built-in function print>\n",
      "__builtin__.id = <built-in function id>\n",
      "<function id at 0x7f14bc969bd0> identifier id from global scope\n",
      "object status at 0x7f149af2c0c0 containing [0]\n",
      "object status at 0x7f149af2c0c0 containing [3, 'main', 'fungsi', 'inner']\n",
      "~-~-~-~-~-~-~-~-~-~-~-~-~-~-~-~-~-~-~-~-~-~-~-~-~-~-~-~-~-~-~-~-~-~-~-~-~-~-~-~-\n"
     ]
    }
   ],
   "source": [
    "show = print\n",
    "print = None\n",
    "show(f'{show = }')\n",
    "show(f'{__builtin__.id = }')\n",
    "def id(obj):\n",
    "    \"\"\"menutup akses fungsi builtin id() dengan \n",
    "    fungsi id() yang baru yang ditambahi prefiks fungsi hex()\"\"\"\n",
    "    return hex(__builtin__.id(obj))\n",
    "\n",
    "show(id, 'identifier id from global scope')\n",
    "\n",
    "def main():\n",
    "    show(f'object status at {id(status)} containing {status}' )\n",
    "    status.append('main') # mutasi objek container, id objek container tidak berubah\n",
    "    status[0] = 1         # binding objek elemen, id objek container tidak berubah\n",
    "    def fungsi():\n",
    "        status.append('fungsi')\n",
    "        status[0] += 1\n",
    "        def inner():\n",
    "            status.append('inner')\n",
    "            status[0] += 1\n",
    "        inner()    \n",
    "    fungsi()\n",
    "\n",
    "status = [0,]\n",
    "main()\n",
    "show(f'object status at {id(status)} containing {status}' )\n",
    "del show, print, id\n",
    "print('~-'*40)\n"
   ]
  },
  {
   "cell_type": "markdown",
   "id": "6ff56366-599c-4b65-adc6-3df9bbfbcda6",
   "metadata": {},
   "source": [
    "#### PASSING by BINDING"
   ]
  },
  {
   "cell_type": "markdown",
   "id": "ae486f80-e26c-4fa0-86ce-dce883020d56",
   "metadata": {},
   "source": [
    "Jika kita memanggil suatu fungsi dengan mengoper (*passing*) suatu objek argumen, maka setelah kembali apakah objek asalnya berubah atau tidak?    \n",
    "Passing by binding Python ialah berupa aliasing (*pass by reference*) apabila objeknya mutable sehingga mutasi mengubah objek asal, tapi apabila objeknya immutable, berupa beberapa binding lokal (efeknya seperti *pass by value*)  yang tidak mempengaruhi objek asal. "
   ]
  },
  {
   "cell_type": "code",
   "execution_count": 18,
   "id": "94e2604e-80c4-4d5f-9a43-c74e3ac45c10",
   "metadata": {},
   "outputs": [
    {
     "name": "stdout",
     "output_type": "stream",
     "text": [
      "[123, 456, 'def'] [123, 456, 'def']\n",
      "[123, 456, 'def'] [123, 456, 'def']\n",
      "123 new object\n",
      "123 new object\n"
     ]
    }
   ],
   "source": [
    "def f(obj):\n",
    "    try:\n",
    "        obj[2] = 'def'\n",
    "    except Exception:\n",
    "        print('not supported')\n",
    "    else:\n",
    "        return obj\n",
    "\n",
    "def g(obj):\n",
    "    obj = 'new object'\n",
    "    return obj\n",
    "\n",
    "mutable = [123,456,'abc']\n",
    "v = f(mutable)\n",
    "print(mutable,v)\n",
    "# prosesnya pass by reference\n",
    "mutable = [123,456,'abc']\n",
    "obj = mutable    # aliasing\n",
    "obj[2] = 'def'   # mutasi \n",
    "v = obj\n",
    "print(mutable,v)\n",
    "\n",
    "\n",
    "basic = 123\n",
    "print(basic,g(basic)) \n",
    "# prosesnya pass by value\n",
    "basic = 123\n",
    "obj = basic        # aliasing immutable\n",
    "obj = 'new object' # binding dengan objek lain\n",
    "print(basic,obj)"
   ]
  },
  {
   "cell_type": "markdown",
   "id": "67862204-f4f6-4454-be53-2770284de15b",
   "metadata": {},
   "source": [
    "__------------------------0O0-------------------------__"
   ]
  }
 ],
 "metadata": {
  "kernelspec": {
   "display_name": "Python 3 (ipykernel)",
   "language": "python",
   "name": "python3"
  },
  "language_info": {
   "codemirror_mode": {
    "name": "ipython",
    "version": 3
   },
   "file_extension": ".py",
   "mimetype": "text/x-python",
   "name": "python",
   "nbconvert_exporter": "python",
   "pygments_lexer": "ipython3",
   "version": "3.10.4"
  }
 },
 "nbformat": 4,
 "nbformat_minor": 5
}
