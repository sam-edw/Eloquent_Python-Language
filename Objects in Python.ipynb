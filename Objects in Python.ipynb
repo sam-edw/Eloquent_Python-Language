{
 "cells": [
  {
   "cell_type": "markdown",
   "id": "53b8be9d-72a2-4a38-b736-2db69ff1b53d",
   "metadata": {},
   "source": [
    "### **OBJEK PYTHON**"
   ]
  },
  {
   "cell_type": "markdown",
   "id": "5a50239b-c6f5-4cc9-89d1-566cbd61edeb",
   "metadata": {},
   "source": [
    "Semua entitas dalam Python adalah objek; semua data dan fungsi sekalipun adalah objek atau instans dari kelas tipe tertentu."
   ]
  },
  {
   "cell_type": "markdown",
   "id": "6b12d2fb-9289-4fa2-9a3a-c8a1c8a081ce",
   "metadata": {},
   "source": [
    "Hirarki tipe/kelas standar pada Python 3:\n",
    "- `None` : class **NoneType**\n",
    "- `Numbers`\n",
    "    * Integral: `Integer`: class **int**, `Booleans`: class **bool**\n",
    "    * Real: class **float**\n",
    "    * Complex: class **complex**\n",
    "- `Sequences`\n",
    "    * Immutable: `Strings`: class **str**, `Tuples`: class **tuple**, `Bytes`: class **bytes**\n",
    "    * Mutable: `Lists`: class **list**, `Byte Arrays`: class **bytearray**\n",
    "- `Set types` : `Sets`: class **set**, `Frozen sets`: class **frozenset**\n",
    "-  `Mappings` : `Dictionaries`: class **dict**\n",
    "-  `Callable`: **Functions, Methods, Classes**\n",
    "-  `Modules` "
   ]
  },
  {
   "cell_type": "markdown",
   "id": "34fa2ff0-0a32-48fe-8711-d6c77019b09e",
   "metadata": {
    "tags": []
   },
   "source": [
    "Objek disusun otomatis oleh manager saat diperlukan, dan dihapus otomatis oleh manager saat tidak dipergunakan lagi. Tanda bahwa objek sedang digunakan ialah apabila ada nama pengenal yang merujuk pada objek tersebut. Objek diakses dengan menggunakan nama pengenal (*identifier*). Objek literal tanpa nama pengenal tidak lekang, segera akan dihapus oleh manager.    \n",
    "Kode berikut memperlihatkan objek fungsi print dan objek literal string tanpa nama."
   ]
  },
  {
   "cell_type": "code",
   "execution_count": 1,
   "id": "7ed68fdd-83f3-478d-8acc-838d5c557ac6",
   "metadata": {
    "tags": []
   },
   "outputs": [
    {
     "name": "stdout",
     "output_type": "stream",
     "text": [
      "hola mundo\n",
      "\"hola mundo\" = 'hola mundo'\n",
      "print = <built-in function print>\n"
     ]
    }
   ],
   "source": [
    "print(\"hola mundo\")\n",
    "\n",
    "print(f'{\"hola mundo\" = }')\n",
    "print(f'{print = }')"
   ]
  },
  {
   "cell_type": "markdown",
   "id": "d82cd426-2822-41c9-b923-4b7acd8fd62d",
   "metadata": {},
   "source": [
    "Print adalah suatu identifier, nama pengenal suatu objek fungsi bawaan untuk menampilkan sesuatu, bukan perintah bawaan (reserved keyword). Tanpa kurung, print adalah referensi objek fungsi; dengan kurung print() berarti menjalankan fungsi itu. Penyebutan objek dengan suatu nama pengenal (identifier) disebut assignment. "
   ]
  },
  {
   "cell_type": "code",
   "execution_count": 2,
   "id": "24efcb36-02f8-4f0b-af28-9c61f1513023",
   "metadata": {
    "tags": []
   },
   "outputs": [
    {
     "name": "stdout",
     "output_type": "stream",
     "text": [
      "t='hola', cetak=<built-in function print>\n"
     ]
    }
   ],
   "source": [
    "t = 'hola'      # assignment objek string literal ke suatu nama pengenal\n",
    "cetak = print   # objek fungsi yang dirujuk print, dirujuk juga oleh cetak\n",
    "cetak(f'{t=}, {cetak=}')"
   ]
  },
  {
   "cell_type": "markdown",
   "id": "2fe730c9-2c98-48e4-9079-ae23853f7690",
   "metadata": {
    "tags": []
   },
   "source": [
    "Dalam cell di atas, suatu objek string literal diberi nama pengenal *t*. Objek fungsi bawaan bernama *print* diberi alias *cetak*.    \n",
    "Objek data memiliki nilai dan metoda, tidak seperti data primitif yang hanya berisi nilai. Objek t, instans dari kelas string 'str', tentu saja memiliki semua metoda dari kelas str.    \n",
    "Metoda dari objek dapat ditampilkan dengan fungsi dir(objek). Metoda dari objek yang immutable selalu menghasilkan objek yang baru, tidak mengubah objek asalnya."
   ]
  },
  {
   "cell_type": "code",
   "execution_count": 3,
   "id": "50a54973-aeeb-4ba6-a3c4-735f055ab305",
   "metadata": {
    "tags": []
   },
   "outputs": [
    {
     "name": "stdout",
     "output_type": "stream",
     "text": [
      "['__add__', '__class__', '__contains__', '__delattr__', '__dir__', '__doc__', '__eq__', '__format__', '__ge__', '__getattribute__', '__getitem__', '__getnewargs__', '__gt__', '__hash__', '__init__', '__init_subclass__', '__iter__', '__le__', '__len__', '__lt__', '__mod__', '__mul__', '__ne__', '__new__', '__reduce__', '__reduce_ex__', '__repr__', '__rmod__', '__rmul__', '__setattr__', '__sizeof__', '__str__', '__subclasshook__', 'capitalize', 'casefold', 'center', 'count', 'encode', 'endswith', 'expandtabs', 'find', 'format', 'format_map', 'index', 'isalnum', 'isalpha', 'isascii', 'isdecimal', 'isdigit', 'isidentifier', 'islower', 'isnumeric', 'isprintable', 'isspace', 'istitle', 'isupper', 'join', 'ljust', 'lower', 'lstrip', 'maketrans', 'partition', 'removeprefix', 'removesuffix', 'replace', 'rfind', 'rindex', 'rjust', 'rpartition', 'rsplit', 'rstrip', 'split', 'splitlines', 'startswith', 'strip', 'swapcase', 'title', 'translate', 'upper', 'zfill'] \n",
      "\n",
      "t.upper() = 'HOLA' tetapi asalnya tetap t = 'hola'\n"
     ]
    }
   ],
   "source": [
    "cetak(dir(t),'\\n')\n",
    "cetak(f'{t.upper() = } tetapi asalnya tetap {t = }')"
   ]
  },
  {
   "cell_type": "markdown",
   "id": "24fb3d93-2a73-4e58-92ed-a452b3d63b92",
   "metadata": {},
   "source": [
    "Objek menduduki suatu alamat memori selama objek tersebut masih digunakan, belum dihapus oleh manager. Alokasi memori, alamat dan luas memori yang digunakan objek secara otomatis dilakukan oleh manager, tidak bisa sesukanya ditentukan dari kode.    \n",
    "Kita dapat mengetahui alamat objek dengan fungsi `id` karena identitas objek diimplementasikan sebagai alamat objek pada implementasi C-python. Walaupun ditulis dari bahasa C, Python menggunakan konsep yang berbeda dengan C, sebagai bahasa yang lebih tinggi (higher level language)."
   ]
  },
  {
   "cell_type": "code",
   "execution_count": 4,
   "id": "6363d1a8-7e8e-43c9-85f2-08fcad354dc6",
   "metadata": {
    "tags": []
   },
   "outputs": [
    {
     "name": "stdout",
     "output_type": "stream",
     "text": [
      "type(t) = <class 'str'>\n",
      "<built-in function id>\n",
      "alamat objek t: 0x7fe1e31133f0\n",
      "<built-in method __sizeof__ of str object at 0x7fe1e31133f0>\n",
      "besar alokasi t: 53 bytes\n"
     ]
    }
   ],
   "source": [
    "print(f'{type(t) = }')\n",
    "print(id)\n",
    "print(f'alamat objek t: {hex(id(t))}')\n",
    "print(t.__sizeof__)\n",
    "print(f'besar alokasi t: {t.__sizeof__()} bytes')"
   ]
  },
  {
   "cell_type": "markdown",
   "id": "ef009d72-eb02-4487-a666-34b528a4d9a1",
   "metadata": {},
   "source": [
    "Suatu objek dapat memiliki beberapa nama pengenal atau alias, tetapi setiap nama hanya merujuk pada sebuah objek saja. Perhatikan bila suatu objek literal dirujuk suatu nama maka objek tersebut eksis dalam memori, sehingga jika dilakukan assignment literal yang sama untuk nama berbeda, maka kedua nama akan merujuk pada objek yang sama pada alamat yang sama."
   ]
  },
  {
   "cell_type": "code",
   "execution_count": 5,
   "id": "f9ff06de-9199-45ab-992e-9712422877e8",
   "metadata": {},
   "outputs": [
    {
     "name": "stdout",
     "output_type": "stream",
     "text": [
      "0x7fe1e31133f0\n",
      "0x7fe1e31133f0\n"
     ]
    }
   ],
   "source": [
    "def addr(obj):\n",
    "    \"fungsi ini mencetak identitas atau alamat objek argumen\"\n",
    "    print(hex(id(obj)))\n",
    "          \n",
    "alias = 'hola'\n",
    "t = 'hola'\n",
    "addr(alias)\n",
    "addr(t)\n"
   ]
  },
  {
   "cell_type": "markdown",
   "id": "4c766fd3-0480-48fd-a1f8-20808ff1c5b8",
   "metadata": {},
   "source": [
    "Tanpa menggunakan nama pengenal, objek literal hanya bertahan sementara selama ekspresi dievaluasi, setelah itu langsung dihapus manager. Terkecuali beberapa integer kecil literal nampaknya memiliki cache nama di belakang layar. Terlihat pada cell berikut identitas objek literal tanpa nama berbeda-beda walaupun nilainya sama, kecuali beberapa integer kecil."
   ]
  },
  {
   "cell_type": "code",
   "execution_count": 6,
   "id": "fbd0b537-e44a-47af-bc7b-5e378f16088d",
   "metadata": {},
   "outputs": [
    {
     "name": "stdout",
     "output_type": "stream",
     "text": [
      "literal string:\n",
      "0x7fe1e3066670\n",
      "0x7fe1e30664f0\n",
      "0x7fe1e3067e70\n",
      "literal integer:\n",
      "0x7fe1e33234f0\n",
      "0x7fe1e33232d0\n",
      "kecuali integer kecil:\n",
      "0x7fe1e5f360d0\n",
      "0x7fe1e5f360d0\n"
     ]
    }
   ],
   "source": [
    "print('literal string:')\n",
    "addr(\"hola amigo!\")\n",
    "addr(\"hola amigo!\")\n",
    "addr(\"hola amigo!\")\n",
    "print('literal integer:')\n",
    "addr(65537)\n",
    "addr(65537)\n",
    "print('kecuali integer kecil:')\n",
    "addr(256)\n",
    "addr(256)"
   ]
  },
  {
   "cell_type": "markdown",
   "id": "6479a01d-febf-441d-9dae-aff0f61c70a5",
   "metadata": {},
   "source": [
    "Sengaja kita tidak memakai istilah variabel terhadap nama pengenal objek data karena konsep Python berbeda dengan C, Java dimana variabel dan konstanta dikenal. Python menggunakan identifier karena nama adalah sekedar nama yang terdaftar merujuk kepada sebuah objek tertentu. Nama tidak memiliki nilai, alamat, nama hanya memiliki rujukan objek, dan rujukan objek itu dapat diganti dialihkan merujuk ke objek lain pada suatu kalimat assignment. Variabel memiliki alamat dan luas alokasi memori yang tetap sesuai saat dideklarasikan. Isi atau nilai variabel dapat berubah, bervariasi tetapi tipenya tidak diperbolehkan berubah. Konstanta memiliki alamat, tipe, dan nilai yang permanen, konstan.    \n",
    "Keuntungan menggunakan konsep identifier daripada kosep variabel ialah sifatnya yang dinamis, bebas dialihkan ke objek berbeda tanpa perlu memperhatikan tipenya.    \n",
    "Dalam Python objek tidak bisa secara eksplisit diedit nilainya dari kode, melainkan manager membuatkan objek pengganti sesuai ekspresi sisi kanan pada kalimat assignment."
   ]
  },
  {
   "cell_type": "code",
   "execution_count": 7,
   "id": "5aecde18-a8e5-4788-9c90-e2125ef817b7",
   "metadata": {},
   "outputs": [
    {
     "name": "stdout",
     "output_type": "stream",
     "text": [
      "['In', 'Out', '_', '__', '___', '__builtin__', '__builtins__', '__doc__', '__loader__', '__name__', '__package__', '__spec__', '_dh', '_i', '_i1', '_i2', '_i3', '_i4', '_i5', '_i6', '_i7', '_ih', '_ii', '_iii', '_oh', 'addr', 'alias', 'cetak', 'exit', 'get_ipython', 'quit', 't']\n"
     ]
    }
   ],
   "source": [
    "cetak(dir())"
   ]
  },
  {
   "cell_type": "markdown",
   "id": "a6942ce2-ac36-45ae-9713-8c25c810ae81",
   "metadata": {},
   "source": [
    "Nama pengenal yang kita buat *addr, alias, cetak, t*, tercatat semuanya dalam *namespace* scope yang sedang berlaku (*current*), disamping nama-nama lain yang tersedia yang dibuat sistem di belakang layar."
   ]
  },
  {
   "cell_type": "code",
   "execution_count": 8,
   "id": "faad797c-0e9f-476e-8e90-d02445e8c6db",
   "metadata": {},
   "outputs": [
    {
     "name": "stdout",
     "output_type": "stream",
     "text": [
      "id <hola> = 0x7fe1e31133f0\n",
      "id <42>   = 0x7fe1e5f34610\n",
      "id <101>  = 0x7fe1e5f34d70\n",
      "['In', 'Out', '_', '__', '___', '__builtin__', '__builtins__', '__doc__', '__loader__', '__name__', '__package__', '__spec__', '_dh', '_i', '_i1', '_i2', '_i3', '_i4', '_i5', '_i6', '_i7', '_i8', '_ih', '_ii', '_iii', '_oh', 'addr', 'alias', 'cetak', 'exit', 'get_ipython', 'quit']\n",
      "\n",
      "alias = 'hola'\n",
      "0x7fe1e31133f0\n"
     ]
    }
   ],
   "source": [
    "t = 'hola'\n",
    "cetak(f'id <{t}> = {hex(id(t))}')    # alamat objek string 'hola'\n",
    "t = 42                               # t digunakan untuk objek lain, literal integer\n",
    "cetak(f'id <{t}>   = {hex(id(t))}')  # alamat objek integer 42\n",
    "t = 101                              # t digunakan untuk objek yang baru lagi, bukan diedit nilainya\n",
    "cetak(f'id <{t}>  = {hex(id(t))}')   # alamat objek integer 101\n",
    "del t    # menghapus nama t\n",
    "cetak(dir()) # perhatikan bahwa nama t telah dihapus dari daftar namespace, tidak terdaftar lagi \n",
    "\n",
    "cetak(f'\\n{alias = }')\n",
    "addr(alias) # alamat objek string 'hola'"
   ]
  },
  {
   "cell_type": "markdown",
   "id": "192e1648-e727-4571-bb5e-ff860dd1b4be",
   "metadata": {},
   "source": [
    "Jadi *basically* objek Python atau yang disebut PyObject tidak dapat diedit nilainya atau immutable. Agar memperoleh nilai yang berbeda, maka harus dibuat objek baru berisi nilai yang diinginkan lalu reference/rujukan objek baru tersebut ditempelkan (assigned) ke nama pengenal.    \n",
    "Bagaimana dengan objek Python yang mutable? PyVarObject sebenarnya adalah suatu objek container yang berisi references\n",
    "ke beberapa PyObject elemennya. Proses `mengedit mutable object` sebenarnya hanya mengganti reference/rujukan objek elemen ke PyObject yang lain."
   ]
  },
  {
   "cell_type": "code",
   "execution_count": 9,
   "id": "1df4655a-ef03-4f86-aae2-3715f0d2fe83",
   "metadata": {},
   "outputs": [
    {
     "name": "stdout",
     "output_type": "stream",
     "text": [
      "['hola amigo', 'halo teman']\n",
      "alamat objek container: 0x7fe1d17011c0\n",
      "objek elemen 0 sama dengan objek t\n",
      "0x7fe1e308eb30\n",
      "0x7fe1e308eb30\n",
      "objek elemen 1 sama dengan objek x\n",
      "0x7fe1e308ec30\n",
      "0x7fe1e308ec30\n",
      "bertukar tempat sebenarnya hanya bertukar pointer, tanpa perpindahan melibatkan PyObject\n",
      "['halo teman', 'hola amigo']\n",
      "alamat objek container: 0x7fe1d17011c0\n",
      "alamat elemen 0: 0x7fe1e308ec30\n",
      "alamat elemen 1: 0x7fe1e308eb30\n"
     ]
    }
   ],
   "source": [
    "t = 'hola amigo'\n",
    "x = 'halo teman'\n",
    "words = [t,x]\n",
    "cetak(words)\n",
    "print('alamat objek container', end= ': ')\n",
    "addr(words)\n",
    "print('objek elemen 0 sama dengan objek t')\n",
    "addr(t)\n",
    "addr(words[0])\n",
    "\n",
    "print('objek elemen 1 sama dengan objek x')\n",
    "addr(x)\n",
    "addr(words[1])\n",
    "\n",
    "print('bertukar tempat sebenarnya hanya bertukar pointer, tanpa perpindahan melibatkan PyObject')\n",
    "words[0], words[1] = words[1], words[0]\n",
    "cetak(words)\n",
    "print('alamat objek container', end= ': ')\n",
    "addr(words)\n",
    "print('alamat elemen 0', end=': ')\n",
    "addr(words[0])\n",
    "print('alamat elemen 1', end=': ')\n",
    "addr(words[1])"
   ]
  },
  {
   "cell_type": "markdown",
   "id": "51d278fb-5e4b-404a-a18a-0a76ed666ece",
   "metadata": {},
   "source": [
    "Cell di atas memperlihatkan proses manipulasi pointer/rujukan objek dalam mutable object."
   ]
  },
  {
   "cell_type": "markdown",
   "id": "bd623e5f-4cc3-4a8c-9534-ebf23485a31b",
   "metadata": {},
   "source": [
    "#### ALIASING ATAU CLONING"
   ]
  },
  {
   "cell_type": "markdown",
   "id": "e970709c-b99e-4b84-9a9b-4b91c8976f6b",
   "metadata": {},
   "source": [
    "Pada objek data mutable, kita perlu sedikit lebih hati hati karena terdapat dua macam objek yaitu objek elemen, dan objek container. Objek-objek yang sama dapat menjadi elemen dari objek containernya yang berbeda, dan ini yang disebut cloning. Atau objek containernya sama dengan nama yang berbeda disebut aliasing."
   ]
  },
  {
   "cell_type": "code",
   "execution_count": 10,
   "id": "40f42e37-ac78-4738-ab9b-5b6c59c902a9",
   "metadata": {},
   "outputs": [
    {
     "name": "stdout",
     "output_type": "stream",
     "text": [
      "fruits == bebuahan = True\n",
      "True True\n",
      "fruits is bebuahan = False\n",
      "0x7fe1d16ff8c0\n",
      "0x7fe1d16ff9c0\n"
     ]
    }
   ],
   "source": [
    "fruits = ['pisang', 'pepaya']\n",
    "bebuahan = ['pisang', 'pepaya']\n",
    "print(f'{fruits == bebuahan = }') # apakah elemennya sama? iya\n",
    "print(fruits[0] is bebuahan[0], fruits[1] is bebuahan[1]) # fungsi is membandingkan id objek\n",
    "\n",
    "print(f'{fruits is bebuahan = }') # apakah containernya sama? nggak\n",
    "addr(fruits)    # manual cek id objeknya\n",
    "addr(bebuahan)  # manual cek id objeknya\n"
   ]
  },
  {
   "cell_type": "markdown",
   "id": "f6f7ee91-a3a2-49e6-8401-ae5775f919fd",
   "metadata": {},
   "source": [
    "**Aliasing** memberikan objek container beserta objek elemen yang identik."
   ]
  },
  {
   "cell_type": "code",
   "execution_count": 11,
   "id": "77a8066a-7b9b-44e4-a7d8-16d33c38e596",
   "metadata": {},
   "outputs": [
    {
     "name": "stdout",
     "output_type": "stream",
     "text": [
      "aliasing: words is sword = True\n",
      "setelah sword diswap elemennya:\n",
      "words == sword = True\n",
      "['halo teman', 'hola amigo'] ['halo teman', 'hola amigo']\n"
     ]
    }
   ],
   "source": [
    "words=[t,x]\n",
    "sword = words # aliasing\n",
    "\n",
    "print(f'aliasing: {words is sword = }')\n",
    "\n",
    "sword[0], sword[1] = sword[1], sword[0]\n",
    "print('setelah sword diswap elemennya:')\n",
    "print(f'{words == sword = }')\n",
    "print(sword,words)"
   ]
  },
  {
   "cell_type": "markdown",
   "id": "c1fe1495-6a4e-4e09-8ca7-9ce4c51f4021",
   "metadata": {},
   "source": [
    "**Cloning** memberikan objek objek elemen yang identik dalam objek container yang berbeda."
   ]
  },
  {
   "cell_type": "code",
   "execution_count": 12,
   "id": "79d1a5d8-ba9f-44af-b658-aebacd33ca16",
   "metadata": {},
   "outputs": [
    {
     "name": "stdout",
     "output_type": "stream",
     "text": [
      "cloning: words == sword = True tetapi words is sword = False \n",
      "setelah sword diswap elemennya:\n",
      "words == sword = False\n",
      "['hola amigo', 'halo teman'] ['halo teman', 'hola amigo']\n"
     ]
    }
   ],
   "source": [
    "words=[t,x]\n",
    "sword=words[:]  # cloning\n",
    "\n",
    "print(f'cloning: {words == sword = } tetapi {words is sword = } ')\n",
    "\n",
    "sword[0], sword[1] = sword[1], sword[0]\n",
    "print('setelah sword diswap elemennya:')\n",
    "print(f'{words == sword = }')\n",
    "print(words, sword)"
   ]
  },
  {
   "cell_type": "markdown",
   "id": "0e9ad76c-58be-42af-8150-c6340eacaf81",
   "metadata": {
    "tags": []
   },
   "source": [
    "#### Reference Count    \n",
    "Nama pengenal memiliki reference ke objek yang di-assigned kepadanya, tetapi objek tidak memiliki rujukan balik ke nama pengenal. Objek hanya memiliki hitungan seberapa banyak nama pengenal yang merujuk kepadanya yang disebut reference count.\n",
    "Jika reference count suatu objek menjadi nol, maka artinya objek tersebut terapung, tidak ada yang menggunakannya lagi, sehingga dapat didaur ulang oleh manager.    \n",
    "Cell berikut memperlihatkan reference count menggunakan suatu fungsi yang mungkin tidak stabil. Angka ref count yang dihasilkan tidak selalu sama dengan tipe data lainnya, mungkin dipengaruhi cache sistem atau hal lainnya, tetapi konsisten memperlihatkan hubungan antara perubahannya dengan jumlah nama pengenal yang merujuk ke objek itu."
   ]
  },
  {
   "cell_type": "markdown",
   "id": "ee36fc0a-9650-4325-8920-76af91884ce7",
   "metadata": {},
   "source": [
    "<pre>\n",
    ">>> import ctypes\n",
    ">>> my_x = [123,456,789]\n",
    ">>> id_my_x = id(my_x)\n",
    ">>> ctypes.c_long.from_address(id_my_x).value\n",
    "1\n",
    ">>> my_y = my_x; ctypes.c_long.from_address(id_my_x).value\n",
    "2\n",
    ">>> my_z = my_y; ctypes.c_long.from_address(id_my_x).value\n",
    "3\n",
    ">>> del  my_z; ctypes.c_long.from_address(id_my_x).value\n",
    "2\n",
    ">>> del  my_y; ctypes.c_long.from_address(id_my_x).value\n",
    "1\n",
    ">>> del  my_x; ctypes.c_long.from_address(id_my_x).value\n",
    "0\n",
    ">>> \n",
    "\n",
    "</pre>"
   ]
  },
  {
   "cell_type": "code",
   "execution_count": 13,
   "id": "5ae344d2-36db-43ef-af2a-6c2645d4c86a",
   "metadata": {},
   "outputs": [
    {
     "name": "stdout",
     "output_type": "stream",
     "text": [
      "1\n",
      "2\n",
      "3\n",
      "2\n",
      "1\n",
      "0\n"
     ]
    }
   ],
   "source": [
    "import ctypes\n",
    "mytuple = 123, 456, 789\n",
    "addr = id(mytuple); print(ctypes.c_long.from_address(addr).value)\n",
    "alias = mytuple; print(ctypes.c_long.from_address(addr).value)\n",
    "more = mytuple; print(ctypes.c_long.from_address(addr).value)\n",
    "more = None; print(ctypes.c_long.from_address(addr).value)\n",
    "alias = None; print(ctypes.c_long.from_address(addr).value)\n",
    "mytuple = None; print(ctypes.c_long.from_address(addr).value)"
   ]
  },
  {
   "cell_type": "markdown",
   "id": "dec4d031-3025-4261-a448-e9287968ad1d",
   "metadata": {},
   "source": [
    "#### Atribut objek, METODA, return or mutate"
   ]
  },
  {
   "cell_type": "markdown",
   "id": "0eeeaf15-2310-4868-a2ac-ea2d9e41a5b7",
   "metadata": {},
   "source": [
    "Jika fungsi adalah suatu objek yang berdiri sendiri, maka metoda adalah 'fungsi' yang menempel pada suatu objek data. Cara memanggilnya seperti memanggil fungsi biasa ditambah prefiks nama objek dan titik. Setiap tipe/kelas data memiliki metoda metodanya sendiri yang sesuai. "
   ]
  },
  {
   "cell_type": "code",
   "execution_count": 24,
   "id": "fba6c908-8181-4639-96f6-606e68a55017",
   "metadata": {},
   "outputs": [
    {
     "name": "stdout",
     "output_type": "stream",
     "text": [
      "<class 'tuple'> :\n",
      "count index\n",
      "~-~-~-~-~-~-~-~-~-~-~-~-~-~-~-~-~-~-~-~-\n",
      "<class 'list'> :\n",
      "append clear copy count extend index insert pop remove reverse sort\n",
      "~-~-~-~-~-~-~-~-~-~-~-~-~-~-~-~-~-~-~-~-\n",
      "<class 'dict'> :\n",
      "clear copy fromkeys get items keys pop popitem setdefault update values\n",
      "~-~-~-~-~-~-~-~-~-~-~-~-~-~-~-~-~-~-~-~-\n",
      "<class 'set'> :\n",
      "add clear copy difference discard intersection isdisjoint issubset issuperset pop remove union update\n",
      "~-~-~-~-~-~-~-~-~-~-~-~-~-~-~-~-~-~-~-~-\n",
      "<class 'str'> :\n",
      "capitalize casefold center count encode endswith expandtabs find format index isalnum isalpha isascii isdecimal isdigit isidentifier islower isnumeric isprintable isspace istitle isupper join ljust lower lstrip maketrans partition removeprefix removesuffix replace rfind rindex rjust rpartition rsplit rstrip split splitlines startswith strip swapcase title translate upper zfill\n",
      "~-~-~-~-~-~-~-~-~-~-~-~-~-~-~-~-~-~-~-~-\n",
      "<class 'array.array'> :\n",
      "append byteswap count extend frombytes fromfile fromlist fromunicode index insert itemsize pop remove reverse tobytes tofile tolist tounicode typecode\n",
      "~-~-~-~-~-~-~-~-~-~-~-~-~-~-~-~-~-~-~-~-\n",
      "<class 'collections.deque'> :\n",
      "append appendleft clear copy count extend extendleft index insert maxlen pop popleft remove reverse rotate\n",
      "~-~-~-~-~-~-~-~-~-~-~-~-~-~-~-~-~-~-~-~-\n",
      "<class 'bytes'> :\n",
      "capitalize center count decode endswith expandtabs find fromhex hex index isalnum isalpha isascii isdigit islower isspace istitle isupper join ljust lower lstrip maketrans partition removeprefix removesuffix replace rfind rindex rjust rpartition rsplit rstrip split splitlines startswith strip swapcase title translate upper zfill\n",
      "~-~-~-~-~-~-~-~-~-~-~-~-~-~-~-~-~-~-~-~-\n",
      "<class 'bytearray'> :\n",
      "append capitalize center clear copy count decode endswith expandtabs extend find fromhex hex index insert isalnum isalpha isascii isdigit islower isspace istitle isupper join ljust lower lstrip maketrans partition pop remove removeprefix removesuffix replace reverse rfind rindex rjust rpartition rsplit rstrip split splitlines startswith strip swapcase title translate upper zfill\n",
      "~-~-~-~-~-~-~-~-~-~-~-~-~-~-~-~-~-~-~-~-\n",
      "<class 'frozenset'> :\n",
      "copy difference intersection isdisjoint issubset issuperset union\n",
      "~-~-~-~-~-~-~-~-~-~-~-~-~-~-~-~-~-~-~-~-\n",
      "<class 'int'> :\n",
      "conjugate denominator imag numerator real\n",
      "~-~-~-~-~-~-~-~-~-~-~-~-~-~-~-~-~-~-~-~-\n",
      "<class 'bool'> :\n",
      "conjugate denominator imag numerator real\n",
      "~-~-~-~-~-~-~-~-~-~-~-~-~-~-~-~-~-~-~-~-\n",
      "<class 'float'> :\n",
      "conjugate fromhex hex imag real\n",
      "~-~-~-~-~-~-~-~-~-~-~-~-~-~-~-~-~-~-~-~-\n",
      "<class 'complex'> :\n",
      "conjugate imag real\n",
      "~-~-~-~-~-~-~-~-~-~-~-~-~-~-~-~-~-~-~-~-\n"
     ]
    }
   ],
   "source": [
    "from array import array\n",
    "from collections import deque\n",
    "\n",
    "for cls in (tuple, list, dict, set, str, array, deque,\n",
    "            bytes, bytearray, frozenset, int, bool, float, complex):\n",
    "    metoda = [k for k in dir(cls) if '_' not in k]  # list comprehension\n",
    "    print(cls,':')\n",
    "    print(*metoda)\n",
    "    print('~-'*20)\n"
   ]
  },
  {
   "cell_type": "code",
   "execution_count": 15,
   "id": "412eabf2-35d9-4b38-8f39-5a98a77e3586",
   "metadata": {},
   "outputs": [
    {
     "name": "stdout",
     "output_type": "stream",
     "text": [
      "text\n",
      "teks\n"
     ]
    }
   ],
   "source": [
    "t = 'teks'\n",
    "print(t.replace('ks','xt'))\n",
    "print(t)"
   ]
  },
  {
   "cell_type": "markdown",
   "id": "3219888b-3c41-4611-bb0d-ae50826a76b8",
   "metadata": {},
   "source": [
    "Pada objek yang immutable memanggil metodanya selalu mengembalikan suatu objek baru dan tidak memutasi objek asal; sedangkan pada objek mutable banyak metodanya memutasi objek asal."
   ]
  },
  {
   "cell_type": "code",
   "execution_count": 16,
   "id": "72b36e8b-3168-4e85-93c6-ed50f3a1a08e",
   "metadata": {},
   "outputs": [
    {
     "name": "stdout",
     "output_type": "stream",
     "text": [
      "['pepaya', 'mangga', 'pisang']\n",
      "['pepaya', 'mangga', 'pisang', 'jambu']\n",
      "['jambu', 'mangga', 'pepaya', 'pisang']\n",
      "['jambu', 'mangga', 'pepaya'] pisang\n"
     ]
    }
   ],
   "source": [
    "L = ['pepaya', 'mangga', 'pisang']; print(L)\n",
    "L.append('jambu'); print(L)                   # mutasi objek asal\n",
    "L.sort(); print(L)                            # mutasi objek asal\n",
    "i = L.pop(); print(L,i)                       # mutasi objek asal dan juga returning objek baru"
   ]
  },
  {
   "cell_type": "markdown",
   "id": "4d5d2e20-d2f2-4cd2-890a-f89245105091",
   "metadata": {},
   "source": [
    "#### Nama Pengenal Objek, Namespace, Scope"
   ]
  },
  {
   "cell_type": "markdown",
   "id": "3888fdb4-a52a-4b2b-ad68-969f5a6ca505",
   "metadata": {},
   "source": [
    "Secara konvensional pemrograman terstruktur memiliki blok-blok yang memisahkan variabel dalam environment terpisah yang disebut scope, tetapi fungsi dapat dipanggil dari mana saja.     \n",
    "Implementasi Python berbeda dengan konsep *nama pengenal*, menerapkan *namespace environment* terpisah antar blok, yaitu blok struktur fungsi, dan blok modul.    \n",
    "Pada tingkat terluar ada scope modul built-in yang istimewa dapat diakses dari mana saja.\n",
    "Setingkat dibawahnya adalah scope global, environment utama dimana kita bekerja.\n",
    "Di dalam scope global ada scope fungsi, dan di dalam fungsi ada scope fungsi dalam fungsi, environment lokal atau non lokal (enclosing) untuk fungsi yang memiliki sub-fungsi.    \n",
    "Prinsip pemisahan environment ialah kode dalam scope tertentu memiliki namespace sendiri lalu bisa membaca/memanggil namespace scope diluarnya, tetapi tidak bisa membaca namespace scope yang lebih dalam.\n",
    "Jika suatu nama pengenal tidak ada dalam namespace aktif, maka otomatis akan mencari namespace di luarnya secara berurutan sampai menemukan nama pengenal yang diminta, yaitu LEGB, local, enclosing, global, builtin. Tetapi semua assignment (mengubah reference nama pengenal) hanya bisa dilakukan pada scope yang sedang aktif dimana kode sedang dijalankan, yaitu pada current namespace.    \n",
    "Aturan assignment in scope ini bisa dikecualikan dengan menggunakan deklarasi *global, nonlocal*.    \n",
    "Fungsi builtin *dir()* menampilkan isi *current namespace*. "
   ]
  },
  {
   "cell_type": "code",
   "execution_count": 17,
   "id": "b74cf42a-a9f8-48f7-a5b0-9bfaccb5f90f",
   "metadata": {},
   "outputs": [
    {
     "name": "stdout",
     "output_type": "stream",
     "text": [
      "\"print\" in dir(__builtins__) = True\n",
      "~-~-~-~-~-~-~-~-~-~-~-~-~-~-~-~-~-~-~-~-~-~-~-~-~-~-~-~-~-~-\n",
      "global\n",
      "dir()=['In', 'L', 'Out', '_', '__', '___', '__builtin__', '__builtins__', '__doc__', '__loader__', '__name__', '__package__', '__spec__', '_dh', '_i', '_i1', '_i10', '_i11', '_i12', '_i13', '_i14', '_i15', '_i16', '_i17', '_i2', '_i3', '_i4', '_i5', '_i6', '_i7', '_i8', '_i9', '_ih', '_ii', '_iii', '_oh', 'addr', 'alias', 'array', 'bebuahan', 'cetak', 'cls', 'ctypes', 'deque', 'exit', 'fruits', 'fun_lev1', 'get_ipython', 'i', 'metoda', 'more', 'mytuple', 'namedtuple', 'quit', 'scope', 'sword', 't', 'words', 'x']\n",
      "~-~-~-~-~-~-~-~-~-~-~-~-~-~-~-~-~-~-~-~-~-~-~-~-~-~-~-~-~-~-\n",
      "enclosing\n",
      "dir()=['enclosing', 'fun_lev2', 'scope']\n",
      "~-~-~-~-~-~-~-~-~-~-~-~-~-~-~-~-~-~-~-~-~-~-~-~-~-~-~-~-~-~-\n",
      "lokal\n",
      "dir()=['lokal', 'scope']\n",
      "~-~-~-~-~-~-~-~-~-~-~-~-~-~-~-~-~-~-~-~-~-~-~-~-~-~-~-~-~-~-\n"
     ]
    }
   ],
   "source": [
    "# fungsi print dari modul built-in dapat dipanggil dari mana saja\n",
    "# nama 'scope' dibaca sesuai current scope\n",
    "\n",
    "def fun_lev1():\n",
    "    def fun_lev2():\n",
    "        scope = 'lokal'; print(scope)\n",
    "        lokal = True\n",
    "        print(f'{dir()=}')\n",
    "        print('~-'*30)\n",
    "    scope = 'enclosing'; print(scope)\n",
    "    enclosing = True\n",
    "    print(f'{dir()=}')\n",
    "    print('~-'*30)\n",
    "    fun_lev2()\n",
    "\n",
    "print(f'{\"print\" in dir(__builtins__) = }')\n",
    "print('~-'*30)\n",
    "scope = 'global'\n",
    "print(scope)\n",
    "print(f'{dir()=}')\n",
    "print('~-'*30)\n",
    "fun_lev1()"
   ]
  },
  {
   "cell_type": "code",
   "execution_count": 18,
   "id": "9424b858-a837-4ec6-9e16-834a85c194fa",
   "metadata": {},
   "outputs": [
    {
     "name": "stdout",
     "output_type": "stream",
     "text": [
      "membaca dari fungsi main, data='<global>'\n",
      "namespace di fungsi main: dir()=['enclosing', 'inner_fun']\n",
      "membaca dari inner function, data='<global>'\n",
      "namespace di fungsi inner_fun: dir()=['lokal']\n"
     ]
    }
   ],
   "source": [
    "# membaca nama dari scope lebih luar\n",
    "data = \"<global>\"\n",
    "def main():   \n",
    "    def inner_fun():       \n",
    "        print(f'membaca dari inner function, {data=}')\n",
    "        lokal = True\n",
    "        print(f'namespace di fungsi inner_fun: {dir()=}')\n",
    "        \n",
    "    print(f'membaca dari fungsi main, {data=}')\n",
    "    enclosing = True\n",
    "    print(f'namespace di fungsi main: {dir()=}')\n",
    "    inner_fun()\n",
    "    \n",
    "main()"
   ]
  },
  {
   "cell_type": "markdown",
   "id": "b78e18be-55a3-4870-9cf6-4da77574f825",
   "metadata": {},
   "source": [
    "Kita tidak boleh melakukan assigment terhadap nama di luar current scope, karena semua assignment akan otomatis dilakukan dalam current scope; kecuali dipaksa dengan deklarasi `global` atau `nonlocal` pada awal definisi fungsi."
   ]
  },
  {
   "cell_type": "code",
   "execution_count": 19,
   "id": "6ade1a94-3598-43f7-b2e4-8e933db60c2c",
   "metadata": {},
   "outputs": [
    {
     "name": "stdout",
     "output_type": "stream",
     "text": [
      "16\n"
     ]
    }
   ],
   "source": [
    "utama = 0\n",
    "def main():\n",
    "    global utama\n",
    "    sub_pertama = 0\n",
    "    utama = 1\n",
    "    def subfungsi(arg):\n",
    "        nonlocal sub_pertama\n",
    "        lokal = 3\n",
    "        sub_pertama = sub_pertama + lokal * arg\n",
    "    \n",
    "    subfungsi(5)\n",
    "    utama = utama + sub_pertama\n",
    "    \n",
    "main()\n",
    "print(utama) "
   ]
  },
  {
   "cell_type": "markdown",
   "id": "40653f2a-d033-4752-bf99-ffce0a971edd",
   "metadata": {},
   "source": [
    "Jika kita menggunakan objek data mutable, maka mutasi terhadap objek tersebut ternyata bukan merupakan assignment sehingga berlaku aturan pembacaan extra scope saja.     \n",
    "Pada cell berikut kita akan menampilkan beberapa aksi:    \n",
    "* copy identifier fungsi `print` (dari modul built-in) menjadi `show`\n",
    "* menutup identifier `print` pada current namespace\n",
    "* memanggil identifier fungsi `id` dari modul built in\n",
    "* mendefinisikan ulang fungsi `id` pada current namespace\n",
    "* membaca objek data mutable / list bernama `status` pada scope global dari beberapa scope lebih dalam\n",
    "* memutasi objek `status` dari berbagai scope\n",
    "* membuang perubahan definisi pada current namespace (`show, print, id`)"
   ]
  },
  {
   "cell_type": "code",
   "execution_count": 3,
   "id": "992d0425-4205-4a57-aecf-2a1323901f87",
   "metadata": {},
   "outputs": [
    {
     "name": "stdout",
     "output_type": "stream",
     "text": [
      "<built-in function print>\n",
      "<built-in function id>\n",
      "<function id at 0x7f97a3a883a0> identifier id from global scope\n",
      "object status at 0x7f97a39f5d00 containing [0]\n",
      "object status at 0x7f97a39f5d00 containing [3, 'main', 'fungsi', 'inner']\n",
      "~-~-~-~-~-~-~-~-~-~-~-~-~-~-~-~-~-~-~-~-~-~-~-~-~-~-~-~-~-~-~-~-~-~-~-~-~-~-~-~-\n"
     ]
    }
   ],
   "source": [
    "show = print\n",
    "print = None\n",
    "show(show)\n",
    "show(__builtin__.id)\n",
    "def id(obj):\n",
    "    \"\"\"menutup akses fungsi builtin id() dengan \n",
    "    fungsi id() yang baru yang ditambahi prefiks fungsi hex()\"\"\"\n",
    "    return hex(__builtin__.id(obj))\n",
    "\n",
    "show(id, 'identifier id from global scope')\n",
    "\n",
    "def main():\n",
    "    show(f'object status at {id(status)} containing {status}' )\n",
    "    status.append('main') # mutasi objek container, id objek container tidak berubah\n",
    "    status[0] = 1         # assignment untuk objek elemen, id objek container tidak berubah\n",
    "    def fungsi():\n",
    "        status.append('fungsi')\n",
    "        status[0] += 1\n",
    "        def inner():\n",
    "            status.append('inner')\n",
    "            status[0] += 1\n",
    "        inner()    \n",
    "    fungsi()\n",
    "\n",
    "status = [0,]\n",
    "main()\n",
    "show(f'object status at {id(status)} containing {status}' )\n",
    "del show, print, id\n",
    "print('~-'*40)\n"
   ]
  },
  {
   "cell_type": "markdown",
   "id": "6ff56366-599c-4b65-adc6-3df9bbfbcda6",
   "metadata": {},
   "source": [
    "#### Passing by assignment"
   ]
  },
  {
   "cell_type": "markdown",
   "id": "ae486f80-e26c-4fa0-86ce-dce883020d56",
   "metadata": {},
   "source": [
    "Jika kita memanggil suatu fungsi dengan mengoper (*passing*) suatu objek argumen, maka setelah kembali apakah objek asalnya berubah atau tidak?    \n",
    "Passing by assignment Python ialah berupa aliasing apabila objeknya mutable sehingga mutasi mengubah objek asal, tapi apabila objeknya immutable, berupa beberapa assigment berturut-turut, yang tidak mempengaruhi objek asal. "
   ]
  },
  {
   "cell_type": "code",
   "execution_count": 25,
   "id": "94e2604e-80c4-4d5f-9a43-c74e3ac45c10",
   "metadata": {},
   "outputs": [
    {
     "name": "stdout",
     "output_type": "stream",
     "text": [
      "[123, 456, 'def'] [123, 456, 'def']\n",
      "[123, 456, 'def'] [123, 456, 'def']\n",
      "123 new object\n",
      "123 new object\n"
     ]
    }
   ],
   "source": [
    "def f(obj):\n",
    "    try:\n",
    "        obj[2] = 'def'\n",
    "    except Exception:\n",
    "        print('not supported')\n",
    "    return obj\n",
    "\n",
    "def g(obj):\n",
    "    obj = 'new object'\n",
    "    return obj\n",
    "\n",
    "mutable = [123,456,'abc']\n",
    "v = f(mutable)\n",
    "print(mutable,v)\n",
    "# passing by assignment berarti prosesnya sama sebagai berikut\n",
    "mutable = [123,456,'abc']\n",
    "obj = mutable\n",
    "obj[2] = 'def'\n",
    "v = obj\n",
    "print(mutable,v)\n",
    "\n",
    "\n",
    "basic = 123\n",
    "print(basic,g(basic)) \n",
    "# prosesnya sama sebagai berikut\n",
    "basic = 123\n",
    "obj = basic\n",
    "obj = 'new object'\n",
    "print(basic,obj)"
   ]
  }
 ],
 "metadata": {
  "kernelspec": {
   "display_name": "Python 3 (ipykernel)",
   "language": "python",
   "name": "python3"
  },
  "language_info": {
   "codemirror_mode": {
    "name": "ipython",
    "version": 3
   },
   "file_extension": ".py",
   "mimetype": "text/x-python",
   "name": "python",
   "nbconvert_exporter": "python",
   "pygments_lexer": "ipython3",
   "version": "3.10.4"
  }
 },
 "nbformat": 4,
 "nbformat_minor": 5
}
