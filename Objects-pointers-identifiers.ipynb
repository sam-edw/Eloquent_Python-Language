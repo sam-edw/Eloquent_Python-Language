{
 "cells": [
  {
   "cell_type": "markdown",
   "id": "ad8958fb-f417-4266-8643-1ecaad0e9008",
   "metadata": {},
   "source": [
    "## Objects, Pointers, Identifiers, Variables in PYTHON"
   ]
  },
  {
   "cell_type": "markdown",
   "id": "f75fb733-6a73-4568-82e7-b993b7246fae",
   "metadata": {},
   "source": [
    "Desain bahasa Python sangat berkaitan dengan objek. Semua struktur data diabstraksi sebagai objek, yang memiliki identitas, tipe, dan nilai. Identitas objek, tipe objek tidak pernah berubah. Objek tidak dapat dihapus secara eksplisit, walaupun bisa menjadi target garbage-collector untuk didaur ulang jika tidak dapat diakses lagi. Nilai beberapa tipe objek dapat diubah (mutable), beberapa lainnya tidak (immutable).\n",
    "Tipe integer, string, tuple tidak dapat diedit nilainya. Tipe list, dictionary dapat diubah isinya.\n",
    "Kalau tipe integer, string tidak dapat diubah bagaimana caranya menulis kode program?    \n",
    "Python hanya mengadopsi lalu memperluas apa yang sudah digunakan oleh bahasa lain, Java misalnya.\n",
    "Dalam Java, String tidak dapat diubah isinya; untuk mendapatkan perubahan maka harus dibuat konstruksi objek baru.    \n",
    "- Java:    \n",
    "    String teks = **new** String(\"berubahlah kau\")    \n",
    "- Python:    \n",
    "    teks = \"ini nilai baru ya\"\n"
   ]
  },
  {
   "cell_type": "code",
   "execution_count": 1,
   "id": "60b54d53-8467-48f0-b8bb-0cd62244b0fe",
   "metadata": {},
   "outputs": [
    {
     "name": "stdout",
     "output_type": "stream",
     "text": [
      "identitas/alamat asal 0x7f11f140e2b0\n",
      "identitas/alamat baru 0x7f11f140f030\n"
     ]
    }
   ],
   "source": [
    "# immutable objects dengan penggantian objek di balik layar\n",
    "teks = \"hello world\"\n",
    "alamat = hex(id(teks))\n",
    "print(f'identitas/alamat asal {alamat}')\n",
    "teks = \"apa kabar?\"\n",
    "print(f'identitas/alamat baru {hex(id(teks))}')"
   ]
  },
  {
   "cell_type": "markdown",
   "id": "4f41dbc3-3580-421f-a0e1-1dc21eeded37",
   "metadata": {},
   "source": [
    "Jika Java masih memakai tipe primitif/warisan int dan tipe objek Integer, maka dalam Python tidak ada lagi tipe warisan, semuanya adalah tipe objek/kelas. "
   ]
  },
  {
   "cell_type": "code",
   "execution_count": 2,
   "id": "c849a353-cf09-4e8e-9dad-6d395268d57b",
   "metadata": {},
   "outputs": [
    {
     "name": "stdout",
     "output_type": "stream",
     "text": [
      "sesuatu nilai string <class 'str'>\n",
      "42 <class 'int'>\n",
      "('string', 42, 'ini tuple') <class 'tuple'>\n"
     ]
    }
   ],
   "source": [
    "# variabel menggunakan pointer untuk merujuk objek\n",
    "teks = \"sesuatu nilai string\"\n",
    "print(teks, type(teks))\n",
    "teks = 42\n",
    "print(teks, type(teks))\n",
    "teks = 'string', 42, 'ini tuple'\n",
    "print(teks, type(teks))"
   ]
  },
  {
   "cell_type": "markdown",
   "id": "b92d25ea-3d2d-4d66-828f-e30615fd8d9a",
   "metadata": {},
   "source": [
    "Identitas objek, tipe objek tidak pernah berubah, dan pada beberapa tipe nilai objek tidak pernah bisa diubah. Pada contoh di atas berarti telah terjadi beberapa kali pergantian objek, tapi dengan nama variabel yang sama?    \n",
    "Kalau nama variabel tetap sama, objek yang diwakili berganti ganti, apanya yang berubah?    \n",
    "Berarti nama variabel bukan diterjemahkan sama dengan alamat lokasi keranjang data? Tepat sekali, nama variabel 'teks' di atas hanyalah sebuah nama yang didaftarkan dalam namespace scope yang berlaku, dan setiap variabel memiliki *pointer* yang berisi identitas objek yang diwakilinya. Pointer inilah yang disesuaikan jika ada kalimat assignment baru."
   ]
  },
  {
   "cell_type": "code",
   "execution_count": 3,
   "id": "f31e9734-1e43-4fe3-a34f-29a11d1ec875",
   "metadata": {},
   "outputs": [
    {
     "name": "stdout",
     "output_type": "stream",
     "text": [
      "['In', 'Out', '_', '__', '___', '__builtin__', '__builtins__', '__doc__', '__loader__', '__name__', '__package__', '__spec__', '_dh', '_i', '_i1', '_i2', '_i3', '_ih', '_ii', '_iii', '_oh', 'alamat', 'exit', 'get_ipython', 'quit', 'teks']\n",
      "['In', 'Out', '_', '__', '___', '__builtin__', '__builtins__', '__doc__', '__loader__', '__name__', '__package__', '__spec__', '_dh', '_i', '_i1', '_i2', '_i3', '_ih', '_ii', '_iii', '_oh', 'alamat', 'exit', 'get_ipython', 'quit']\n",
      "name 'teks' is not defined -> nama \"teks\" tidak terdaftar di scope lokal atau global\n"
     ]
    }
   ],
   "source": [
    "print(dir())\n",
    "try:\n",
    "    del teks\n",
    "    print(dir())\n",
    "    print(teks)\n",
    "except NameError as e:\n",
    "    print(f'{e} -> nama \"{e.name}\" tidak terdaftar di scope lokal atau global')\n",
    "    "
   ]
  },
  {
   "cell_type": "markdown",
   "id": "817fd0e5-d696-4d46-ae60-e26a4232487f",
   "metadata": {},
   "source": [
    "Nama variabel atau pengenal identifier harus terdaftar dulu supaya tidak muncul NameError. Cara mendaftar ialah dengan melakukan kalimat assignment, dan cara menghapus identifier ialah dengan kalimat del.    \n",
    "Berarti objek objek yang tadi dibuat bagaimana, apakah langsung didaur ulang oleh garbage collector?\n",
    "Ya dan tidak.    \n",
    "Tidak terlihat adanya aturan yang ditetapkan dalam spesifikasi implementasi Python (atau belum ketahuan), tetapi dari beberapa eksperimen nampaknya ada cache sementara, dimana beberapa objek integer kecil tidak dihapus sehingga tidak perlu dibuat lagi jika ingin menggunakannya, walaupun cache ini terhapus juga ketika restart Kernel Jupyter. Di lain pihak, untuk tipe string tidak ikut di-cache sehingga memang harus dibuat baru."
   ]
  },
  {
   "cell_type": "code",
   "execution_count": 4,
   "id": "36aeed06-1c5e-4d0d-81c2-a49dc9bc043b",
   "metadata": {},
   "outputs": [
    {
     "name": "stdout",
     "output_type": "stream",
     "text": [
      "objek \"hello world\" lama: 0x7f11f140e2b0 vs yg baru: 0x7f11f14282b0\n",
      "128 0x7f11f42690d0\n",
      "128 0x7f11f42690d0\n"
     ]
    }
   ],
   "source": [
    "teks = \"hello world\"\n",
    "print(f'objek \"{teks}\" lama: {alamat} vs yg baru: {hex(id(teks))}')\n",
    "angka = 128\n",
    "print(angka, hex(id(angka)))\n",
    "del angka\n",
    "angka2 = 128\n",
    "print(angka2, hex(id(angka2)))"
   ]
  },
  {
   "cell_type": "markdown",
   "id": "fbdbb065-f110-4b6d-8c1d-4797085a77b3",
   "metadata": {},
   "source": [
    "Identifier disebut variabel jika digunakan untuk menunjuk objek struktur data.    \n",
    "Menyesuaikan dengan arsitektur **Von Neumann** yaitu bahwa memori kode dan data berada dalam segmen yang sama, maka bisa diartikan bahwa kode function, kode class adalah objek instans juga yang menggunakan identifier.\n",
    "(Arsitektur Harvard memisahkan akses kode dan akses data pada segmen yang berbeda)"
   ]
  },
  {
   "cell_type": "code",
   "execution_count": 5,
   "id": "f26567a6-20de-4487-8a25-593d697b2e45",
   "metadata": {},
   "outputs": [
    {
     "name": "stdout",
     "output_type": "stream",
     "text": [
      "1 84\n",
      "2 hello\n",
      "3 sesuatu atribut\n",
      "=-=-=-=-=-=-=-=-=-\n",
      "1 hello\n",
      "2 sesuatu atribut\n",
      "3 84\n"
     ]
    }
   ],
   "source": [
    "\"\"\" identifiers, pointers, objects \"\"\"\n",
    "\n",
    "namaA = 42 # suatu struktur data integer bernilai 42 ditunjuk pointer bernama namaA\n",
    "def namaB():    # suatu kode fungsi ditunjuk pointer bernama namaB\n",
    "    print(\"hello\")\n",
    "class NamaC:    # pointer bernama NamaC menunjuk suatu kelas dengan properti x\n",
    "    x='sesuatu atribut'\n",
    "\n",
    "for i,nama in enumerate((namaA, namaB, NamaC),1):\n",
    "    match str(type(nama)):           # match mulai ada di python versi 3.10 \n",
    "        case \"<class 'int'>\":\n",
    "            print(i,nama*2)\n",
    "        case \"<class 'function'>\":\n",
    "            print(i, end=' ')\n",
    "            nama()\n",
    "        case \"<class 'type'>\":\n",
    "            print(i,nama.x)\n",
    "\n",
    "print(\"=-\"*9) \n",
    "\"identifiers dikocok pointersnya menunjuk objek lainnya\"\n",
    "namaA, namaB, NamaC = namaB, NamaC, namaA   # pointer identifiers di revisi\n",
    "\n",
    "for i,nama in enumerate((namaA, namaB, NamaC),1):\n",
    "    match str(type(nama)):\n",
    "        case \"<class 'int'>\":\n",
    "            print(i,nama*2)\n",
    "        case \"<class 'function'>\":\n",
    "            print(i, end=' ')\n",
    "            nama()\n",
    "        case \"<class 'type'>\":\n",
    "            print(i,nama.x)\n",
    "            "
   ]
  },
  {
   "cell_type": "markdown",
   "id": "72226580-1e2e-4c9c-b4bb-4b17ff7d7408",
   "metadata": {},
   "source": [
    "Identifier yang sudah didefinisikan mewakili objek, tetapi identifiers bukan merupakan objeknya sendiri. Identifier dapat didefinisikan ulang secara dinamis tanpa masalah karena semua pointers punya format yang sama, dan tipe, alokasi memori objek tidak terkait langsung dengan identifiers."
   ]
  },
  {
   "cell_type": "code",
   "execution_count": 7,
   "id": "7cf01cda-7213-426a-8069-4147be40a0cd",
   "metadata": {},
   "outputs": [
    {
     "name": "stdout",
     "output_type": "stream",
     "text": [
      "<function namaB at 0x7f11f14388b0>\n",
      "<class '__main__.NamaC'>\n",
      "42\n"
     ]
    }
   ],
   "source": [
    "print(namaA)\n",
    "print(namaB)\n",
    "print(NamaC)"
   ]
  },
  {
   "cell_type": "markdown",
   "id": "9ea9dd10-e07b-4c97-b40f-d1e09a0580ff",
   "metadata": {},
   "source": [
    "Oleh karena itu, fungsi Python digolongkan *first-class citizen*, dapat dianggap/diperlakukan seperti variabel, bisa dioper dalam argumen, bisa dikembalikan sebagai nilai return, bisa di-definisikan ulang. Fitur itulah yang digunakan dalam pembuatan closure dan decorator."
   ]
  }
 ],
 "metadata": {
  "kernelspec": {
   "display_name": "Python 3 (ipykernel)",
   "language": "python",
   "name": "python3"
  },
  "language_info": {
   "codemirror_mode": {
    "name": "ipython",
    "version": 3
   },
   "file_extension": ".py",
   "mimetype": "text/x-python",
   "name": "python",
   "nbconvert_exporter": "python",
   "pygments_lexer": "ipython3",
   "version": "3.10.4"
  }
 },
 "nbformat": 4,
 "nbformat_minor": 5
}
